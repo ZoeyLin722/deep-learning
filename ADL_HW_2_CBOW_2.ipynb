{
  "cells": [
    {
      "cell_type": "code",
      "execution_count": 3,
      "id": "1c21bfda",
      "metadata": {
        "colab": {
          "base_uri": "https://localhost:8080/",
          "height": 1000
        },
        "id": "1c21bfda",
        "outputId": "84eddbb0-ceaa-4c4a-8009-2773b052d42b"
      },
      "outputs": [
        {
          "output_type": "stream",
          "name": "stdout",
          "text": [
            "Looking in indexes: https://download.pytorch.org/whl/cu121\n",
            "Collecting torch==2.2.0\n",
            "  Downloading https://download.pytorch.org/whl/cu121/torch-2.2.0%2Bcu121-cp310-cp310-linux_x86_64.whl (757.3 MB)\n",
            "\u001b[2K     \u001b[90m━━━━━━━━━━━━━━━━━━━━━━━━━━━━━━━━━━━━━━━━\u001b[0m \u001b[32m757.3/757.3 MB\u001b[0m \u001b[31m1.8 MB/s\u001b[0m eta \u001b[36m0:00:00\u001b[0m\n",
            "\u001b[?25hCollecting torchvision==0.17.0\n",
            "  Downloading https://download.pytorch.org/whl/cu121/torchvision-0.17.0%2Bcu121-cp310-cp310-linux_x86_64.whl (7.0 MB)\n",
            "\u001b[2K     \u001b[90m━━━━━━━━━━━━━━━━━━━━━━━━━━━━━━━━━━━━━━━━\u001b[0m \u001b[32m7.0/7.0 MB\u001b[0m \u001b[31m25.1 MB/s\u001b[0m eta \u001b[36m0:00:00\u001b[0m\n",
            "\u001b[?25hCollecting torchaudio==2.2.0\n",
            "  Downloading https://download.pytorch.org/whl/cu121/torchaudio-2.2.0%2Bcu121-cp310-cp310-linux_x86_64.whl (3.4 MB)\n",
            "\u001b[2K     \u001b[90m━━━━━━━━━━━━━━━━━━━━━━━━━━━━━━━━━━━━━━━━\u001b[0m \u001b[32m3.4/3.4 MB\u001b[0m \u001b[31m53.0 MB/s\u001b[0m eta \u001b[36m0:00:00\u001b[0m\n",
            "\u001b[?25hCollecting torchtext==0.17.0\n",
            "  Downloading https://download.pytorch.org/whl/torchtext-0.17.0%2Bcpu-cp310-cp310-linux_x86_64.whl (2.0 MB)\n",
            "\u001b[2K     \u001b[90m━━━━━━━━━━━━━━━━━━━━━━━━━━━━━━━━━━━━━━━━\u001b[0m \u001b[32m2.0/2.0 MB\u001b[0m \u001b[31m51.0 MB/s\u001b[0m eta \u001b[36m0:00:00\u001b[0m\n",
            "\u001b[?25hRequirement already satisfied: filelock in /usr/local/lib/python3.10/dist-packages (from torch==2.2.0) (3.16.1)\n",
            "Requirement already satisfied: typing-extensions>=4.8.0 in /usr/local/lib/python3.10/dist-packages (from torch==2.2.0) (4.12.2)\n",
            "Requirement already satisfied: sympy in /usr/local/lib/python3.10/dist-packages (from torch==2.2.0) (1.13.3)\n",
            "Requirement already satisfied: networkx in /usr/local/lib/python3.10/dist-packages (from torch==2.2.0) (3.3)\n",
            "Requirement already satisfied: jinja2 in /usr/local/lib/python3.10/dist-packages (from torch==2.2.0) (3.1.4)\n",
            "Requirement already satisfied: fsspec in /usr/local/lib/python3.10/dist-packages (from torch==2.2.0) (2024.6.1)\n",
            "Collecting nvidia-cuda-nvrtc-cu12==12.1.105 (from torch==2.2.0)\n",
            "  Downloading https://download.pytorch.org/whl/cu121/nvidia_cuda_nvrtc_cu12-12.1.105-py3-none-manylinux1_x86_64.whl (23.7 MB)\n",
            "\u001b[2K     \u001b[90m━━━━━━━━━━━━━━━━━━━━━━━━━━━━━━━━━━━━━━━━\u001b[0m \u001b[32m23.7/23.7 MB\u001b[0m \u001b[31m27.1 MB/s\u001b[0m eta \u001b[36m0:00:00\u001b[0m\n",
            "\u001b[?25hCollecting nvidia-cuda-runtime-cu12==12.1.105 (from torch==2.2.0)\n",
            "  Downloading https://download.pytorch.org/whl/cu121/nvidia_cuda_runtime_cu12-12.1.105-py3-none-manylinux1_x86_64.whl (823 kB)\n",
            "\u001b[2K     \u001b[90m━━━━━━━━━━━━━━━━━━━━━━━━━━━━━━━━━━━━━━━━\u001b[0m \u001b[32m823.6/823.6 kB\u001b[0m \u001b[31m37.5 MB/s\u001b[0m eta \u001b[36m0:00:00\u001b[0m\n",
            "\u001b[?25hCollecting nvidia-cuda-cupti-cu12==12.1.105 (from torch==2.2.0)\n",
            "  Downloading https://download.pytorch.org/whl/cu121/nvidia_cuda_cupti_cu12-12.1.105-py3-none-manylinux1_x86_64.whl (14.1 MB)\n",
            "\u001b[2K     \u001b[90m━━━━━━━━━━━━━━━━━━━━━━━━━━━━━━━━━━━━━━━━\u001b[0m \u001b[32m14.1/14.1 MB\u001b[0m \u001b[31m13.8 MB/s\u001b[0m eta \u001b[36m0:00:00\u001b[0m\n",
            "\u001b[?25hCollecting nvidia-cudnn-cu12==8.9.2.26 (from torch==2.2.0)\n",
            "  Downloading https://download.pytorch.org/whl/cu121/nvidia_cudnn_cu12-8.9.2.26-py3-none-manylinux1_x86_64.whl (731.7 MB)\n",
            "\u001b[2K     \u001b[90m━━━━━━━━━━━━━━━━━━━━━━━━━━━━━━━━━━━━━━━━\u001b[0m \u001b[32m731.7/731.7 MB\u001b[0m \u001b[31m2.4 MB/s\u001b[0m eta \u001b[36m0:00:00\u001b[0m\n",
            "\u001b[?25hCollecting nvidia-cublas-cu12==12.1.3.1 (from torch==2.2.0)\n",
            "  Downloading https://download.pytorch.org/whl/cu121/nvidia_cublas_cu12-12.1.3.1-py3-none-manylinux1_x86_64.whl (410.6 MB)\n",
            "\u001b[2K     \u001b[90m━━━━━━━━━━━━━━━━━━━━━━━━━━━━━━━━━━━━━━━━\u001b[0m \u001b[32m410.6/410.6 MB\u001b[0m \u001b[31m4.1 MB/s\u001b[0m eta \u001b[36m0:00:00\u001b[0m\n",
            "\u001b[?25hCollecting nvidia-cufft-cu12==11.0.2.54 (from torch==2.2.0)\n",
            "  Downloading https://download.pytorch.org/whl/cu121/nvidia_cufft_cu12-11.0.2.54-py3-none-manylinux1_x86_64.whl (121.6 MB)\n",
            "\u001b[2K     \u001b[90m━━━━━━━━━━━━━━━━━━━━━━━━━━━━━━━━━━━━━━━━\u001b[0m \u001b[32m121.6/121.6 MB\u001b[0m \u001b[31m7.5 MB/s\u001b[0m eta \u001b[36m0:00:00\u001b[0m\n",
            "\u001b[?25hCollecting nvidia-curand-cu12==10.3.2.106 (from torch==2.2.0)\n",
            "  Downloading https://download.pytorch.org/whl/cu121/nvidia_curand_cu12-10.3.2.106-py3-none-manylinux1_x86_64.whl (56.5 MB)\n",
            "\u001b[2K     \u001b[90m━━━━━━━━━━━━━━━━━━━━━━━━━━━━━━━━━━━━━━━━\u001b[0m \u001b[32m56.5/56.5 MB\u001b[0m \u001b[31m12.5 MB/s\u001b[0m eta \u001b[36m0:00:00\u001b[0m\n",
            "\u001b[?25hCollecting nvidia-cusolver-cu12==11.4.5.107 (from torch==2.2.0)\n",
            "  Downloading https://download.pytorch.org/whl/cu121/nvidia_cusolver_cu12-11.4.5.107-py3-none-manylinux1_x86_64.whl (124.2 MB)\n",
            "\u001b[2K     \u001b[90m━━━━━━━━━━━━━━━━━━━━━━━━━━━━━━━━━━━━━━━━\u001b[0m \u001b[32m124.2/124.2 MB\u001b[0m \u001b[31m9.7 MB/s\u001b[0m eta \u001b[36m0:00:00\u001b[0m\n",
            "\u001b[?25hCollecting nvidia-cusparse-cu12==12.1.0.106 (from torch==2.2.0)\n",
            "  Downloading https://download.pytorch.org/whl/cu121/nvidia_cusparse_cu12-12.1.0.106-py3-none-manylinux1_x86_64.whl (196.0 MB)\n",
            "\u001b[2K     \u001b[90m━━━━━━━━━━━━━━━━━━━━━━━━━━━━━━━━━━━━━━━━\u001b[0m \u001b[32m196.0/196.0 MB\u001b[0m \u001b[31m6.1 MB/s\u001b[0m eta \u001b[36m0:00:00\u001b[0m\n",
            "\u001b[?25hCollecting nvidia-nccl-cu12==2.19.3 (from torch==2.2.0)\n",
            "  Downloading https://download.pytorch.org/whl/cu121/nvidia_nccl_cu12-2.19.3-py3-none-manylinux1_x86_64.whl (166.0 MB)\n",
            "\u001b[2K     \u001b[90m━━━━━━━━━━━━━━━━━━━━━━━━━━━━━━━━━━━━━━━━\u001b[0m \u001b[32m166.0/166.0 MB\u001b[0m \u001b[31m6.8 MB/s\u001b[0m eta \u001b[36m0:00:00\u001b[0m\n",
            "\u001b[?25hCollecting nvidia-nvtx-cu12==12.1.105 (from torch==2.2.0)\n",
            "  Downloading https://download.pytorch.org/whl/cu121/nvidia_nvtx_cu12-12.1.105-py3-none-manylinux1_x86_64.whl (99 kB)\n",
            "\u001b[2K     \u001b[90m━━━━━━━━━━━━━━━━━━━━━━━━━━━━━━━━━━━━━━━━\u001b[0m \u001b[32m99.1/99.1 kB\u001b[0m \u001b[31m8.3 MB/s\u001b[0m eta \u001b[36m0:00:00\u001b[0m\n",
            "\u001b[?25hCollecting triton==2.2.0 (from torch==2.2.0)\n",
            "  Downloading https://download.pytorch.org/whl/triton-2.2.0-cp310-cp310-manylinux_2_17_x86_64.manylinux2014_x86_64.whl (167.9 MB)\n",
            "\u001b[2K     \u001b[90m━━━━━━━━━━━━━━━━━━━━━━━━━━━━━━━━━━━━━━━━\u001b[0m \u001b[32m167.9/167.9 MB\u001b[0m \u001b[31m6.4 MB/s\u001b[0m eta \u001b[36m0:00:00\u001b[0m\n",
            "\u001b[?25hRequirement already satisfied: numpy in /usr/local/lib/python3.10/dist-packages (from torchvision==0.17.0) (1.26.4)\n",
            "Requirement already satisfied: requests in /usr/local/lib/python3.10/dist-packages (from torchvision==0.17.0) (2.32.3)\n",
            "Requirement already satisfied: pillow!=8.3.*,>=5.3.0 in /usr/local/lib/python3.10/dist-packages (from torchvision==0.17.0) (10.4.0)\n",
            "Requirement already satisfied: tqdm in /usr/local/lib/python3.10/dist-packages (from torchtext==0.17.0) (4.66.5)\n",
            "Collecting torchdata==0.7.1 (from torchtext==0.17.0)\n",
            "  Downloading https://download.pytorch.org/whl/torchdata-0.7.1-cp310-cp310-manylinux_2_17_x86_64.manylinux2014_x86_64.whl (4.7 MB)\n",
            "\u001b[2K     \u001b[90m━━━━━━━━━━━━━━━━━━━━━━━━━━━━━━━━━━━━━━━━\u001b[0m \u001b[32m4.7/4.7 MB\u001b[0m \u001b[31m45.6 MB/s\u001b[0m eta \u001b[36m0:00:00\u001b[0m\n",
            "\u001b[?25hRequirement already satisfied: nvidia-nvjitlink-cu12 in /usr/local/lib/python3.10/dist-packages (from nvidia-cusolver-cu12==11.4.5.107->torch==2.2.0) (12.6.68)\n",
            "Requirement already satisfied: urllib3>=1.25 in /usr/local/lib/python3.10/dist-packages (from torchdata==0.7.1->torchtext==0.17.0) (2.2.3)\n",
            "Requirement already satisfied: MarkupSafe>=2.0 in /usr/local/lib/python3.10/dist-packages (from jinja2->torch==2.2.0) (2.1.5)\n",
            "Requirement already satisfied: charset-normalizer<4,>=2 in /usr/local/lib/python3.10/dist-packages (from requests->torchvision==0.17.0) (3.3.2)\n",
            "Requirement already satisfied: idna<4,>=2.5 in /usr/local/lib/python3.10/dist-packages (from requests->torchvision==0.17.0) (3.10)\n",
            "Requirement already satisfied: certifi>=2017.4.17 in /usr/local/lib/python3.10/dist-packages (from requests->torchvision==0.17.0) (2024.8.30)\n",
            "Requirement already satisfied: mpmath<1.4,>=1.1.0 in /usr/local/lib/python3.10/dist-packages (from sympy->torch==2.2.0) (1.3.0)\n",
            "Installing collected packages: triton, nvidia-nvtx-cu12, nvidia-nccl-cu12, nvidia-cusparse-cu12, nvidia-curand-cu12, nvidia-cufft-cu12, nvidia-cuda-runtime-cu12, nvidia-cuda-nvrtc-cu12, nvidia-cuda-cupti-cu12, nvidia-cublas-cu12, nvidia-cusolver-cu12, nvidia-cudnn-cu12, torch, torchvision, torchdata, torchaudio, torchtext\n",
            "  Attempting uninstall: nvidia-nccl-cu12\n",
            "    Found existing installation: nvidia-nccl-cu12 2.23.4\n",
            "    Uninstalling nvidia-nccl-cu12-2.23.4:\n",
            "      Successfully uninstalled nvidia-nccl-cu12-2.23.4\n",
            "  Attempting uninstall: nvidia-cusparse-cu12\n",
            "    Found existing installation: nvidia-cusparse-cu12 12.5.3.3\n",
            "    Uninstalling nvidia-cusparse-cu12-12.5.3.3:\n",
            "      Successfully uninstalled nvidia-cusparse-cu12-12.5.3.3\n",
            "  Attempting uninstall: nvidia-cufft-cu12\n",
            "    Found existing installation: nvidia-cufft-cu12 11.2.6.59\n",
            "    Uninstalling nvidia-cufft-cu12-11.2.6.59:\n",
            "      Successfully uninstalled nvidia-cufft-cu12-11.2.6.59\n",
            "  Attempting uninstall: nvidia-cuda-runtime-cu12\n",
            "    Found existing installation: nvidia-cuda-runtime-cu12 12.6.68\n",
            "    Uninstalling nvidia-cuda-runtime-cu12-12.6.68:\n",
            "      Successfully uninstalled nvidia-cuda-runtime-cu12-12.6.68\n",
            "  Attempting uninstall: nvidia-cuda-cupti-cu12\n",
            "    Found existing installation: nvidia-cuda-cupti-cu12 12.6.68\n",
            "    Uninstalling nvidia-cuda-cupti-cu12-12.6.68:\n",
            "      Successfully uninstalled nvidia-cuda-cupti-cu12-12.6.68\n",
            "  Attempting uninstall: nvidia-cublas-cu12\n",
            "    Found existing installation: nvidia-cublas-cu12 12.6.1.4\n",
            "    Uninstalling nvidia-cublas-cu12-12.6.1.4:\n",
            "      Successfully uninstalled nvidia-cublas-cu12-12.6.1.4\n",
            "  Attempting uninstall: nvidia-cusolver-cu12\n",
            "    Found existing installation: nvidia-cusolver-cu12 11.6.4.69\n",
            "    Uninstalling nvidia-cusolver-cu12-11.6.4.69:\n",
            "      Successfully uninstalled nvidia-cusolver-cu12-11.6.4.69\n",
            "  Attempting uninstall: nvidia-cudnn-cu12\n",
            "    Found existing installation: nvidia-cudnn-cu12 9.4.0.58\n",
            "    Uninstalling nvidia-cudnn-cu12-9.4.0.58:\n",
            "      Successfully uninstalled nvidia-cudnn-cu12-9.4.0.58\n",
            "  Attempting uninstall: torch\n",
            "    Found existing installation: torch 2.4.1+cu121\n",
            "    Uninstalling torch-2.4.1+cu121:\n",
            "      Successfully uninstalled torch-2.4.1+cu121\n",
            "  Attempting uninstall: torchvision\n",
            "    Found existing installation: torchvision 0.19.1+cu121\n",
            "    Uninstalling torchvision-0.19.1+cu121:\n",
            "      Successfully uninstalled torchvision-0.19.1+cu121\n",
            "  Attempting uninstall: torchaudio\n",
            "    Found existing installation: torchaudio 2.4.1+cu121\n",
            "    Uninstalling torchaudio-2.4.1+cu121:\n",
            "      Successfully uninstalled torchaudio-2.4.1+cu121\n",
            "Successfully installed nvidia-cublas-cu12-12.1.3.1 nvidia-cuda-cupti-cu12-12.1.105 nvidia-cuda-nvrtc-cu12-12.1.105 nvidia-cuda-runtime-cu12-12.1.105 nvidia-cudnn-cu12-8.9.2.26 nvidia-cufft-cu12-11.0.2.54 nvidia-curand-cu12-10.3.2.106 nvidia-cusolver-cu12-11.4.5.107 nvidia-cusparse-cu12-12.1.0.106 nvidia-nccl-cu12-2.19.3 nvidia-nvtx-cu12-12.1.105 torch-2.2.0+cu121 torchaudio-2.2.0+cu121 torchdata-0.7.1 torchtext-0.17.0+cpu torchvision-0.17.0+cu121 triton-2.2.0\n"
          ]
        },
        {
          "output_type": "display_data",
          "data": {
            "application/vnd.colab-display-data+json": {
              "pip_warning": {
                "packages": [
                  "torch",
                  "torchgen"
                ]
              },
              "id": "3ed90e39de434b8982a6087a96703dc6"
            }
          },
          "metadata": {}
        },
        {
          "output_type": "stream",
          "name": "stdout",
          "text": [
            "Requirement already satisfied: torchdata in /usr/local/lib/python3.10/dist-packages (0.7.1)\n",
            "Requirement already satisfied: urllib3>=1.25 in /usr/local/lib/python3.10/dist-packages (from torchdata) (2.2.3)\n",
            "Requirement already satisfied: requests in /usr/local/lib/python3.10/dist-packages (from torchdata) (2.32.3)\n",
            "Requirement already satisfied: torch>=2 in /usr/local/lib/python3.10/dist-packages (from torchdata) (2.2.0+cu121)\n",
            "Requirement already satisfied: filelock in /usr/local/lib/python3.10/dist-packages (from torch>=2->torchdata) (3.16.1)\n",
            "Requirement already satisfied: typing-extensions>=4.8.0 in /usr/local/lib/python3.10/dist-packages (from torch>=2->torchdata) (4.12.2)\n",
            "Requirement already satisfied: sympy in /usr/local/lib/python3.10/dist-packages (from torch>=2->torchdata) (1.13.3)\n",
            "Requirement already satisfied: networkx in /usr/local/lib/python3.10/dist-packages (from torch>=2->torchdata) (3.3)\n",
            "Requirement already satisfied: jinja2 in /usr/local/lib/python3.10/dist-packages (from torch>=2->torchdata) (3.1.4)\n",
            "Requirement already satisfied: fsspec in /usr/local/lib/python3.10/dist-packages (from torch>=2->torchdata) (2024.6.1)\n",
            "Requirement already satisfied: nvidia-cuda-nvrtc-cu12==12.1.105 in /usr/local/lib/python3.10/dist-packages (from torch>=2->torchdata) (12.1.105)\n",
            "Requirement already satisfied: nvidia-cuda-runtime-cu12==12.1.105 in /usr/local/lib/python3.10/dist-packages (from torch>=2->torchdata) (12.1.105)\n",
            "Requirement already satisfied: nvidia-cuda-cupti-cu12==12.1.105 in /usr/local/lib/python3.10/dist-packages (from torch>=2->torchdata) (12.1.105)\n",
            "Requirement already satisfied: nvidia-cudnn-cu12==8.9.2.26 in /usr/local/lib/python3.10/dist-packages (from torch>=2->torchdata) (8.9.2.26)\n",
            "Requirement already satisfied: nvidia-cublas-cu12==12.1.3.1 in /usr/local/lib/python3.10/dist-packages (from torch>=2->torchdata) (12.1.3.1)\n",
            "Requirement already satisfied: nvidia-cufft-cu12==11.0.2.54 in /usr/local/lib/python3.10/dist-packages (from torch>=2->torchdata) (11.0.2.54)\n",
            "Requirement already satisfied: nvidia-curand-cu12==10.3.2.106 in /usr/local/lib/python3.10/dist-packages (from torch>=2->torchdata) (10.3.2.106)\n",
            "Requirement already satisfied: nvidia-cusolver-cu12==11.4.5.107 in /usr/local/lib/python3.10/dist-packages (from torch>=2->torchdata) (11.4.5.107)\n",
            "Requirement already satisfied: nvidia-cusparse-cu12==12.1.0.106 in /usr/local/lib/python3.10/dist-packages (from torch>=2->torchdata) (12.1.0.106)\n",
            "Requirement already satisfied: nvidia-nccl-cu12==2.19.3 in /usr/local/lib/python3.10/dist-packages (from torch>=2->torchdata) (2.19.3)\n",
            "Requirement already satisfied: nvidia-nvtx-cu12==12.1.105 in /usr/local/lib/python3.10/dist-packages (from torch>=2->torchdata) (12.1.105)\n",
            "Requirement already satisfied: triton==2.2.0 in /usr/local/lib/python3.10/dist-packages (from torch>=2->torchdata) (2.2.0)\n",
            "Requirement already satisfied: nvidia-nvjitlink-cu12 in /usr/local/lib/python3.10/dist-packages (from nvidia-cusolver-cu12==11.4.5.107->torch>=2->torchdata) (12.6.68)\n",
            "Requirement already satisfied: charset-normalizer<4,>=2 in /usr/local/lib/python3.10/dist-packages (from requests->torchdata) (3.3.2)\n",
            "Requirement already satisfied: idna<4,>=2.5 in /usr/local/lib/python3.10/dist-packages (from requests->torchdata) (3.10)\n",
            "Requirement already satisfied: certifi>=2017.4.17 in /usr/local/lib/python3.10/dist-packages (from requests->torchdata) (2024.8.30)\n",
            "Requirement already satisfied: MarkupSafe>=2.0 in /usr/local/lib/python3.10/dist-packages (from jinja2->torch>=2->torchdata) (2.1.5)\n",
            "Requirement already satisfied: mpmath<1.4,>=1.1.0 in /usr/local/lib/python3.10/dist-packages (from sympy->torch>=2->torchdata) (1.3.0)\n"
          ]
        }
      ],
      "source": [
        "# You need to downgrade the colab torch version to make this work\n",
        "!pip install torch==2.2.0 torchvision==0.17.0 torchaudio==2.2.0 torchtext==0.17.0 --index-url https://download.pytorch.org/whl/cu121\n",
        "!pip install torchdata"
      ]
    },
    {
      "cell_type": "code",
      "execution_count": 1,
      "id": "080d50fc",
      "metadata": {
        "id": "080d50fc"
      },
      "outputs": [],
      "source": [
        "import time\n",
        "import torch\n",
        "from torch.utils.data import DataLoader, TensorDataset\n",
        "from torchtext.data.utils import get_tokenizer\n",
        "from torchtext.datasets import DATASETS\n",
        "from torchtext.vocab import build_vocab_from_iterator\n",
        "import torch.nn as nn\n",
        "from tqdm import tqdm\n",
        "import pickle\n",
        "import random\n",
        "import numpy as np\n",
        "from collections import Counter, defaultdict\n",
        "import numpy as np\n",
        "import matplotlib.pyplot as plt\n",
        "from sklearn.decomposition import PCA\n",
        "from gensim.test.utils import datapath, get_tmpfile\n",
        "from gensim.models import KeyedVectors\n",
        "import gensim.downloader\n",
        "from torch import FloatTensor as FT\n",
        "\n",
        "# Get the interactive Tools for Matplotlib\n",
        "%matplotlib notebook\n",
        "%matplotlib inline\n",
        "\n",
        "plt.style.use('ggplot')"
      ]
    },
    {
      "cell_type": "code",
      "execution_count": null,
      "id": "f5419c32",
      "metadata": {
        "id": "f5419c32"
      },
      "outputs": [],
      "source": []
    },
    {
      "cell_type": "markdown",
      "id": "66eb271d",
      "metadata": {
        "id": "66eb271d"
      },
      "source": [
        "### Instructions\n",
        "For this part, fill in the required code and make the notebook work. This wll be very similar to the Skip-Gram model, but a little more difficult. Look for the \"\"\" FILL IN \"\"\" string to guide you."
      ]
    },
    {
      "cell_type": "code",
      "execution_count": 2,
      "id": "31b412ca",
      "metadata": {
        "id": "31b412ca"
      },
      "outputs": [],
      "source": [
        "# Where do I want to run my job. You can do \"cuda\" on linux machines\n",
        "DEVICE = \"mps\" if torch.backends.mps.is_available() else  \"cpu\"\n",
        "DEVICE = \"cuda\" if torch.cuda.is_available() else  \"cpu\"\n",
        "\n",
        "# The batch size in Adam or SGD\n",
        "BATCH_SIZE = 512\n",
        "\n",
        "# Number of epochs\n",
        "NUM_EPOCHS = 10\n",
        "\n",
        "# Predict from 2 words the inner word for CBOW\n",
        "# I.e. I'll have a window like [\"a\", \"b\", \"c\"] of continuous text (each is a word)\n",
        "# We'll predict each of wc = [\"a\", \"c\"] from \"b\" = wc for Skip-Gram\n",
        "# For CBOW, we'll use [\"a\", \"c\"] to predict \"b\" = wo\n",
        "WINDOW = 1\n",
        "\n",
        "# Negative samples.\n",
        "K = 4"
      ]
    },
    {
      "cell_type": "code",
      "execution_count": 3,
      "id": "e3311ae5",
      "metadata": {
        "id": "e3311ae5",
        "colab": {
          "base_uri": "https://localhost:8080/",
          "height": 35
        },
        "outputId": "42fe0289-cf9e-41ce-bfac-6191ac7bc057"
      },
      "outputs": [
        {
          "output_type": "execute_result",
          "data": {
            "text/plain": [
              "'cuda'"
            ],
            "application/vnd.google.colaboratory.intrinsic+json": {
              "type": "string"
            }
          },
          "metadata": {},
          "execution_count": 3
        }
      ],
      "source": [
        "DEVICE"
      ]
    },
    {
      "cell_type": "markdown",
      "id": "3ec9f90a",
      "metadata": {
        "id": "3ec9f90a"
      },
      "source": [
        "The text8 Wikipedia corpus. 100M characters."
      ]
    },
    {
      "cell_type": "code",
      "execution_count": 4,
      "id": "3217b67b",
      "metadata": {
        "id": "3217b67b",
        "outputId": "5e8afe92-9345-4bfd-9e40-641dec1d4a9f",
        "colab": {
          "base_uri": "https://localhost:8080/",
          "height": 74
        }
      },
      "outputs": [
        {
          "output_type": "display_data",
          "data": {
            "text/plain": [
              "<IPython.core.display.HTML object>"
            ],
            "text/html": [
              "\n",
              "     <input type=\"file\" id=\"files-9e526cfb-2790-44fc-ba51-2eee03affebf\" name=\"files[]\" multiple disabled\n",
              "        style=\"border:none\" />\n",
              "     <output id=\"result-9e526cfb-2790-44fc-ba51-2eee03affebf\">\n",
              "      Upload widget is only available when the cell has been executed in the\n",
              "      current browser session. Please rerun this cell to enable.\n",
              "      </output>\n",
              "      <script>// Copyright 2017 Google LLC\n",
              "//\n",
              "// Licensed under the Apache License, Version 2.0 (the \"License\");\n",
              "// you may not use this file except in compliance with the License.\n",
              "// You may obtain a copy of the License at\n",
              "//\n",
              "//      http://www.apache.org/licenses/LICENSE-2.0\n",
              "//\n",
              "// Unless required by applicable law or agreed to in writing, software\n",
              "// distributed under the License is distributed on an \"AS IS\" BASIS,\n",
              "// WITHOUT WARRANTIES OR CONDITIONS OF ANY KIND, either express or implied.\n",
              "// See the License for the specific language governing permissions and\n",
              "// limitations under the License.\n",
              "\n",
              "/**\n",
              " * @fileoverview Helpers for google.colab Python module.\n",
              " */\n",
              "(function(scope) {\n",
              "function span(text, styleAttributes = {}) {\n",
              "  const element = document.createElement('span');\n",
              "  element.textContent = text;\n",
              "  for (const key of Object.keys(styleAttributes)) {\n",
              "    element.style[key] = styleAttributes[key];\n",
              "  }\n",
              "  return element;\n",
              "}\n",
              "\n",
              "// Max number of bytes which will be uploaded at a time.\n",
              "const MAX_PAYLOAD_SIZE = 100 * 1024;\n",
              "\n",
              "function _uploadFiles(inputId, outputId) {\n",
              "  const steps = uploadFilesStep(inputId, outputId);\n",
              "  const outputElement = document.getElementById(outputId);\n",
              "  // Cache steps on the outputElement to make it available for the next call\n",
              "  // to uploadFilesContinue from Python.\n",
              "  outputElement.steps = steps;\n",
              "\n",
              "  return _uploadFilesContinue(outputId);\n",
              "}\n",
              "\n",
              "// This is roughly an async generator (not supported in the browser yet),\n",
              "// where there are multiple asynchronous steps and the Python side is going\n",
              "// to poll for completion of each step.\n",
              "// This uses a Promise to block the python side on completion of each step,\n",
              "// then passes the result of the previous step as the input to the next step.\n",
              "function _uploadFilesContinue(outputId) {\n",
              "  const outputElement = document.getElementById(outputId);\n",
              "  const steps = outputElement.steps;\n",
              "\n",
              "  const next = steps.next(outputElement.lastPromiseValue);\n",
              "  return Promise.resolve(next.value.promise).then((value) => {\n",
              "    // Cache the last promise value to make it available to the next\n",
              "    // step of the generator.\n",
              "    outputElement.lastPromiseValue = value;\n",
              "    return next.value.response;\n",
              "  });\n",
              "}\n",
              "\n",
              "/**\n",
              " * Generator function which is called between each async step of the upload\n",
              " * process.\n",
              " * @param {string} inputId Element ID of the input file picker element.\n",
              " * @param {string} outputId Element ID of the output display.\n",
              " * @return {!Iterable<!Object>} Iterable of next steps.\n",
              " */\n",
              "function* uploadFilesStep(inputId, outputId) {\n",
              "  const inputElement = document.getElementById(inputId);\n",
              "  inputElement.disabled = false;\n",
              "\n",
              "  const outputElement = document.getElementById(outputId);\n",
              "  outputElement.innerHTML = '';\n",
              "\n",
              "  const pickedPromise = new Promise((resolve) => {\n",
              "    inputElement.addEventListener('change', (e) => {\n",
              "      resolve(e.target.files);\n",
              "    });\n",
              "  });\n",
              "\n",
              "  const cancel = document.createElement('button');\n",
              "  inputElement.parentElement.appendChild(cancel);\n",
              "  cancel.textContent = 'Cancel upload';\n",
              "  const cancelPromise = new Promise((resolve) => {\n",
              "    cancel.onclick = () => {\n",
              "      resolve(null);\n",
              "    };\n",
              "  });\n",
              "\n",
              "  // Wait for the user to pick the files.\n",
              "  const files = yield {\n",
              "    promise: Promise.race([pickedPromise, cancelPromise]),\n",
              "    response: {\n",
              "      action: 'starting',\n",
              "    }\n",
              "  };\n",
              "\n",
              "  cancel.remove();\n",
              "\n",
              "  // Disable the input element since further picks are not allowed.\n",
              "  inputElement.disabled = true;\n",
              "\n",
              "  if (!files) {\n",
              "    return {\n",
              "      response: {\n",
              "        action: 'complete',\n",
              "      }\n",
              "    };\n",
              "  }\n",
              "\n",
              "  for (const file of files) {\n",
              "    const li = document.createElement('li');\n",
              "    li.append(span(file.name, {fontWeight: 'bold'}));\n",
              "    li.append(span(\n",
              "        `(${file.type || 'n/a'}) - ${file.size} bytes, ` +\n",
              "        `last modified: ${\n",
              "            file.lastModifiedDate ? file.lastModifiedDate.toLocaleDateString() :\n",
              "                                    'n/a'} - `));\n",
              "    const percent = span('0% done');\n",
              "    li.appendChild(percent);\n",
              "\n",
              "    outputElement.appendChild(li);\n",
              "\n",
              "    const fileDataPromise = new Promise((resolve) => {\n",
              "      const reader = new FileReader();\n",
              "      reader.onload = (e) => {\n",
              "        resolve(e.target.result);\n",
              "      };\n",
              "      reader.readAsArrayBuffer(file);\n",
              "    });\n",
              "    // Wait for the data to be ready.\n",
              "    let fileData = yield {\n",
              "      promise: fileDataPromise,\n",
              "      response: {\n",
              "        action: 'continue',\n",
              "      }\n",
              "    };\n",
              "\n",
              "    // Use a chunked sending to avoid message size limits. See b/62115660.\n",
              "    let position = 0;\n",
              "    do {\n",
              "      const length = Math.min(fileData.byteLength - position, MAX_PAYLOAD_SIZE);\n",
              "      const chunk = new Uint8Array(fileData, position, length);\n",
              "      position += length;\n",
              "\n",
              "      const base64 = btoa(String.fromCharCode.apply(null, chunk));\n",
              "      yield {\n",
              "        response: {\n",
              "          action: 'append',\n",
              "          file: file.name,\n",
              "          data: base64,\n",
              "        },\n",
              "      };\n",
              "\n",
              "      let percentDone = fileData.byteLength === 0 ?\n",
              "          100 :\n",
              "          Math.round((position / fileData.byteLength) * 100);\n",
              "      percent.textContent = `${percentDone}% done`;\n",
              "\n",
              "    } while (position < fileData.byteLength);\n",
              "  }\n",
              "\n",
              "  // All done.\n",
              "  yield {\n",
              "    response: {\n",
              "      action: 'complete',\n",
              "    }\n",
              "  };\n",
              "}\n",
              "\n",
              "scope.google = scope.google || {};\n",
              "scope.google.colab = scope.google.colab || {};\n",
              "scope.google.colab._files = {\n",
              "  _uploadFiles,\n",
              "  _uploadFilesContinue,\n",
              "};\n",
              "})(self);\n",
              "</script> "
            ]
          },
          "metadata": {}
        },
        {
          "output_type": "stream",
          "name": "stdout",
          "text": [
            "Saving text8 to text8\n"
          ]
        }
      ],
      "source": [
        "from google.colab import files\n",
        "\n",
        "f = files.upload()"
      ]
    },
    {
      "cell_type": "code",
      "source": [
        "filename = list(f.keys())[0]\n",
        "text = f[filename].decode('utf-8')\n",
        "\n",
        "print(f\"Length of text: {len(text)} characters\")"
      ],
      "metadata": {
        "colab": {
          "base_uri": "https://localhost:8080/"
        },
        "id": "GmC4txkvYjBg",
        "outputId": "08e70169-744b-4632-9a1f-f2ada256df97"
      },
      "id": "GmC4txkvYjBg",
      "execution_count": 5,
      "outputs": [
        {
          "output_type": "stream",
          "name": "stdout",
          "text": [
            "Length of text: 100000000 characters\n"
          ]
        }
      ]
    },
    {
      "cell_type": "code",
      "execution_count": 6,
      "id": "6c1bf892",
      "metadata": {
        "id": "6c1bf892"
      },
      "outputs": [],
      "source": [
        "punc = '!\"#$%&()*+,-./:;<=>?@[\\\\]^_\\'{|}~\\t\\n'\n",
        "\n",
        "# Can do regular expressions here too\n",
        "for c in punc:\n",
        "    if c in text:\n",
        "        text.replace(c, ' ')"
      ]
    },
    {
      "cell_type": "code",
      "execution_count": 7,
      "id": "0bc19b0c",
      "metadata": {
        "id": "0bc19b0c"
      },
      "outputs": [],
      "source": [
        "# A very crude tokenizer you get for free: lower case and also split on spaces\n",
        "TOKENIZER = get_tokenizer(\"basic_english\")"
      ]
    },
    {
      "cell_type": "code",
      "execution_count": 8,
      "id": "ff8fd598",
      "metadata": {
        "id": "ff8fd598"
      },
      "outputs": [],
      "source": [
        "words = TOKENIZER(text)\n",
        "f = Counter(words)"
      ]
    },
    {
      "cell_type": "code",
      "execution_count": 9,
      "id": "ba7f72f8",
      "metadata": {
        "id": "ba7f72f8",
        "outputId": "e8e6655e-849c-4cde-8e60-44cd47fe3144",
        "colab": {
          "base_uri": "https://localhost:8080/"
        }
      },
      "outputs": [
        {
          "output_type": "execute_result",
          "data": {
            "text/plain": [
              "17005207"
            ]
          },
          "metadata": {},
          "execution_count": 9
        }
      ],
      "source": [
        "len(words)"
      ]
    },
    {
      "cell_type": "code",
      "execution_count": 10,
      "id": "16b736a4",
      "metadata": {
        "id": "16b736a4"
      },
      "outputs": [],
      "source": [
        "# Do a very crude filter on the text which removes all very popular words\n",
        "text = [word for word in words if f[word] > 5]"
      ]
    },
    {
      "cell_type": "code",
      "execution_count": 11,
      "id": "6916a763",
      "metadata": {
        "id": "6916a763",
        "outputId": "4513d571-08b7-4bbb-b7c8-ad4adfa0bcef",
        "colab": {
          "base_uri": "https://localhost:8080/"
        }
      },
      "outputs": [
        {
          "output_type": "execute_result",
          "data": {
            "text/plain": [
              "['anarchism', 'originated', 'as', 'a', 'term']"
            ]
          },
          "metadata": {},
          "execution_count": 11
        }
      ],
      "source": [
        "text[0:5]"
      ]
    },
    {
      "cell_type": "code",
      "execution_count": 12,
      "id": "10ad817a",
      "metadata": {
        "id": "10ad817a"
      },
      "outputs": [],
      "source": [
        "VOCAB = build_vocab_from_iterator([text])"
      ]
    },
    {
      "cell_type": "code",
      "execution_count": 13,
      "id": "a7f69fc9",
      "metadata": {
        "id": "a7f69fc9"
      },
      "outputs": [],
      "source": [
        "# word -> int hash map\n",
        "stoi = VOCAB.get_stoi()\n",
        "# int -> word hash map\n",
        "itos = VOCAB.get_itos()"
      ]
    },
    {
      "cell_type": "code",
      "execution_count": 14,
      "id": "9991f9ab",
      "metadata": {
        "id": "9991f9ab",
        "outputId": "439441d8-e1af-409e-fe13-3b41500f4138",
        "colab": {
          "base_uri": "https://localhost:8080/"
        }
      },
      "outputs": [
        {
          "output_type": "execute_result",
          "data": {
            "text/plain": [
              "11"
            ]
          },
          "metadata": {},
          "execution_count": 14
        }
      ],
      "source": [
        "stoi['as']"
      ]
    },
    {
      "cell_type": "code",
      "execution_count": 15,
      "id": "0f49f5fa",
      "metadata": {
        "id": "0f49f5fa",
        "outputId": "a3e49f59-0a34-4a16-fd3a-34379269bc84",
        "colab": {
          "base_uri": "https://localhost:8080/"
        }
      },
      "outputs": [
        {
          "output_type": "execute_result",
          "data": {
            "text/plain": [
              "63641"
            ]
          },
          "metadata": {},
          "execution_count": 15
        }
      ],
      "source": [
        "# Total number of words\n",
        "len(stoi)"
      ]
    },
    {
      "cell_type": "code",
      "execution_count": 16,
      "id": "6c5c415a",
      "metadata": {
        "id": "6c5c415a"
      },
      "outputs": [],
      "source": [
        "f = Counter(text)\n",
        "# This is the probability that we pick a word in the corpus\n",
        "z = {word: f[word] / len(text) for word in f}"
      ]
    },
    {
      "cell_type": "code",
      "execution_count": 17,
      "id": "1e543e1e",
      "metadata": {
        "id": "1e543e1e"
      },
      "outputs": [],
      "source": [
        "threshold = 1e-5\n",
        "# Probability that word is kept while subsampling\n",
        "# This is explained here and sightly differet from the paper: http://mccormickml.com/2017/01/11/word2vec-tutorial-part-2-negative-sampling/\n",
        "p_keep = {word: (np.sqrt(z[word] / 0.001) + 1)*(0.0001 / z[word]) for word in f}"
      ]
    },
    {
      "cell_type": "code",
      "execution_count": 18,
      "id": "dd22119d",
      "metadata": {
        "id": "dd22119d"
      },
      "outputs": [],
      "source": [
        "# This is in the integer space\n",
        "train_dataset = [word for word in text if random.random() < p_keep[word]]\n",
        "\n",
        "# Rebuild the vocabulary\n",
        "VOCAB = build_vocab_from_iterator([train_dataset])"
      ]
    },
    {
      "cell_type": "code",
      "execution_count": 19,
      "id": "a2d695da",
      "metadata": {
        "id": "a2d695da",
        "outputId": "5c54f4f2-e6d9-43b5-a57a-4c0e5fc0bbc3",
        "colab": {
          "base_uri": "https://localhost:8080/"
        }
      },
      "outputs": [
        {
          "output_type": "execute_result",
          "data": {
            "text/plain": [
              "7846507"
            ]
          },
          "metadata": {},
          "execution_count": 19
        }
      ],
      "source": [
        "len(train_dataset)"
      ]
    },
    {
      "cell_type": "code",
      "execution_count": 20,
      "id": "30d67549",
      "metadata": {
        "id": "30d67549"
      },
      "outputs": [],
      "source": [
        "# word -> int mapping\n",
        "stoi = VOCAB.get_stoi()\n",
        "# int -> word mapping\n",
        "itos = VOCAB.get_itos()"
      ]
    },
    {
      "cell_type": "code",
      "execution_count": 21,
      "id": "b46337b8",
      "metadata": {
        "id": "b46337b8",
        "outputId": "17db6103-4b53-4609-e4c6-99ded5d84fc0",
        "colab": {
          "base_uri": "https://localhost:8080/"
        }
      },
      "outputs": [
        {
          "output_type": "execute_result",
          "data": {
            "text/plain": [
              "63641"
            ]
          },
          "metadata": {},
          "execution_count": 21
        }
      ],
      "source": [
        "# The vocabulary size after we do all the filters\n",
        "len(VOCAB)"
      ]
    },
    {
      "cell_type": "code",
      "execution_count": 22,
      "id": "c9346f36",
      "metadata": {
        "id": "c9346f36"
      },
      "outputs": [],
      "source": [
        "# The probability we draw something for negative sampling\n",
        "f = Counter(train_dataset)\n",
        "p = torch.zeros(len(VOCAB))\n",
        "\n",
        "# Downsample frequent words and upsample less frequent\n",
        "s = sum([np.power(freq, 0.75) for word, freq in f.items()])\n",
        "\n",
        "for word in f:\n",
        "    p[stoi[word]] = np.power(f[word], 0.75) / s"
      ]
    },
    {
      "cell_type": "code",
      "execution_count": 23,
      "id": "dd713c15",
      "metadata": {
        "id": "dd713c15"
      },
      "outputs": [],
      "source": [
        "# Map everything to integers\n",
        "train_dataset = [stoi[word] for word in text]"
      ]
    },
    {
      "cell_type": "code",
      "execution_count": 24,
      "id": "8e96c0c4",
      "metadata": {
        "id": "8e96c0c4"
      },
      "outputs": [],
      "source": [
        "# This just gets the (wc, wo) pairs that are positive - they are seen together!\n",
        "def get_tokenized_dataset(dataset, verbose=False):\n",
        "    x_list = []\n",
        "\n",
        "    for i, token in enumerate(dataset):\n",
        "        m = 1\n",
        "\n",
        "        # Get the left and right tokens\n",
        "        start = max(0, i - m)\n",
        "        left_tokens = dataset[start:i]\n",
        "\n",
        "        end = min(len(dataset), i + m + 1)\n",
        "        right_tokens = dataset[i + 1:end]\n",
        "\n",
        "        # Check these are the same length, and if so use them to add a row of data. This should be a list like\n",
        "        # [a, c, b] where b is the center word\n",
        "        if len(left_tokens) == len(right_tokens):\n",
        "            w_context = left_tokens + right_tokens\n",
        "\n",
        "            wc = w_context\n",
        "            wo = token\n",
        "\n",
        "            x_list.extend(\n",
        "                [wc + [wo]]\n",
        "            )\n",
        "\n",
        "    return x_list"
      ]
    },
    {
      "cell_type": "code",
      "execution_count": 25,
      "id": "3eb82aad",
      "metadata": {
        "id": "3eb82aad"
      },
      "outputs": [],
      "source": [
        "train_x_list = get_tokenized_dataset(train_dataset, verbose=False)"
      ]
    },
    {
      "cell_type": "code",
      "execution_count": 26,
      "id": "8412ee4d",
      "metadata": {
        "id": "8412ee4d"
      },
      "outputs": [],
      "source": [
        "pickle.dump(train_x_list, open('train_x_list.pkl', 'wb'))"
      ]
    },
    {
      "cell_type": "code",
      "execution_count": 27,
      "id": "3fd54caf",
      "metadata": {
        "id": "3fd54caf"
      },
      "outputs": [],
      "source": [
        "train_x_list = pickle.load(open('train_x_list.pkl', 'rb'))"
      ]
    },
    {
      "cell_type": "code",
      "execution_count": 28,
      "id": "576765f3",
      "metadata": {
        "id": "576765f3",
        "outputId": "f215a907-ca75-4c69-e6a1-9bc150b48540",
        "colab": {
          "base_uri": "https://localhost:8080/"
        }
      },
      "outputs": [
        {
          "output_type": "execute_result",
          "data": {
            "text/plain": [
              "[[5233, 11, 3083],\n",
              " [3083, 5, 11],\n",
              " [11, 172, 5],\n",
              " [5, 1, 172],\n",
              " [172, 3133, 1],\n",
              " [1, 49, 3133],\n",
              " [3133, 57, 49],\n",
              " [49, 142, 57],\n",
              " [57, 140, 142],\n",
              " [142, 741, 140]]"
            ]
          },
          "metadata": {},
          "execution_count": 28
        }
      ],
      "source": [
        "# These are (wc, wo) pairs. All are y = +1 by design\n",
        "train_x_list[:10]"
      ]
    },
    {
      "cell_type": "code",
      "execution_count": 29,
      "id": "316df1dc",
      "metadata": {
        "id": "316df1dc"
      },
      "outputs": [],
      "source": [
        "# The number of things of BATCH_SIZE = 512\n",
        "assert(len(train_x_list) // BATCH_SIZE == 32579)"
      ]
    },
    {
      "cell_type": "code",
      "source": [
        "print(f\"Length of train_x_list: {len(train_x_list)}\")\n",
        "print(f\"Length // BATCH_SIZE: {len(train_x_list) // BATCH_SIZE}\")"
      ],
      "metadata": {
        "colab": {
          "base_uri": "https://localhost:8080/"
        },
        "id": "RMo1TJjThAwD",
        "outputId": "8ca68bcb-324a-41e6-8e88-d8b155558108"
      },
      "id": "RMo1TJjThAwD",
      "execution_count": 30,
      "outputs": [
        {
          "output_type": "stream",
          "name": "stdout",
          "text": [
            "Length of train_x_list: 16680597\n",
            "Length // BATCH_SIZE: 32579\n"
          ]
        }
      ]
    },
    {
      "cell_type": "markdown",
      "id": "488c3519",
      "metadata": {
        "id": "488c3519"
      },
      "source": [
        "### Set up the dataloader."
      ]
    },
    {
      "cell_type": "code",
      "execution_count": 31,
      "id": "2e31ae4b",
      "metadata": {
        "id": "2e31ae4b"
      },
      "outputs": [],
      "source": [
        "train_dl = DataLoader(\n",
        "    TensorDataset(\n",
        "        torch.tensor(train_x_list).to(DEVICE),\n",
        "    ),\n",
        "    batch_size=BATCH_SIZE,\n",
        "    shuffle=True\n",
        ")"
      ]
    },
    {
      "cell_type": "code",
      "execution_count": 32,
      "id": "e9c42f50",
      "metadata": {
        "id": "e9c42f50"
      },
      "outputs": [],
      "source": [
        "for xb in train_dl:\n",
        "    assert(xb[0].shape == (BATCH_SIZE, 3))\n",
        "    break"
      ]
    },
    {
      "cell_type": "code",
      "execution_count": 33,
      "id": "8c949153",
      "metadata": {
        "id": "8c949153",
        "colab": {
          "base_uri": "https://localhost:8080/"
        },
        "outputId": "8034955f-b02a-48ff-960d-92c6a945c463"
      },
      "outputs": [
        {
          "output_type": "execute_result",
          "data": {
            "text/plain": [
              "torch.Size([512, 3])"
            ]
          },
          "metadata": {},
          "execution_count": 33
        }
      ],
      "source": [
        "xb[0].shape"
      ]
    },
    {
      "cell_type": "markdown",
      "id": "12d93d22",
      "metadata": {
        "id": "12d93d22"
      },
      "source": [
        "### Words we'll use to asses the quality of the model ..."
      ]
    },
    {
      "cell_type": "code",
      "execution_count": 34,
      "id": "ffada8d0",
      "metadata": {
        "id": "ffada8d0"
      },
      "outputs": [],
      "source": [
        "valid_ids = torch.tensor([\n",
        "    stoi['money'],\n",
        "    stoi['lion'],\n",
        "    stoi['africa'],\n",
        "    stoi['musician'],\n",
        "    stoi['dance'],\n",
        "])"
      ]
    },
    {
      "cell_type": "code",
      "execution_count": null,
      "id": "867d3a88",
      "metadata": {
        "id": "867d3a88"
      },
      "outputs": [],
      "source": []
    },
    {
      "cell_type": "markdown",
      "id": "64096cd8",
      "metadata": {
        "id": "64096cd8"
      },
      "source": [
        "### Get the model."
      ]
    },
    {
      "cell_type": "code",
      "execution_count": 35,
      "id": "dc51c359",
      "metadata": {
        "id": "dc51c359"
      },
      "outputs": [],
      "source": [
        "class CBOWNegativeSampling(nn.Module):\n",
        "    def __init__(self, vocab_size, embed_dim):\n",
        "        super(CBOWNegativeSampling, self).__init__()\n",
        "        self.A = nn.Embedding(vocab_size, embed_dim) # Context vectors - center word\n",
        "        self.B = nn.Embedding(vocab_size, embed_dim) # Output vectors - words around the center word\n",
        "        self.init_weights()\n",
        "\n",
        "    def init_weights(self):\n",
        "        # Is this the best way? Not sure\n",
        "        initrange = 0.5\n",
        "        self.A.weight.data.uniform_(-initrange, initrange)\n",
        "        self.B.weight.data.uniform_(-initrange, initrange)\n",
        "\n",
        "    def forward(self, x):\n",
        "        # N is the batch size\n",
        "        # x is (N, 3)\n",
        "\n",
        "        # Context words are 2m things, m = 1 so w_context is (N, 2) while wc is (N, 1)\n",
        "        w_context, wc = x[:, [0, 1]], x[:, 2]\n",
        "\n",
        "        # Each of these is (N, 2, D) since each context has 2 word\n",
        "        # We want this to be (N, D) and this is what we get\n",
        "\n",
        "        # (N, 2, D)\n",
        "        a = self.A(w_context)\n",
        "\n",
        "        # (N, D)\n",
        "        a_avg = a.mean(dim=1)\n",
        "\n",
        "        # Each of these is (N, D) since each target has 1 word\n",
        "        b = self.B(wc)\n",
        "\n",
        "        # The product between each context and target vector. Look at the Skip-Gram code.\n",
        "        # The logits is now (N, 1) since we sum across the final dimension.\n",
        "        logits = torch.sum(a_avg * b, dim=1, keepdim=True)\n",
        "\n",
        "        return logits"
      ]
    },
    {
      "cell_type": "code",
      "execution_count": null,
      "id": "7ae817c1",
      "metadata": {
        "id": "7ae817c1"
      },
      "outputs": [],
      "source": []
    },
    {
      "cell_type": "code",
      "execution_count": 36,
      "id": "ed9c509d",
      "metadata": {
        "id": "ed9c509d"
      },
      "outputs": [],
      "source": [
        "@torch.no_grad()\n",
        "def validate_embeddings(\n",
        "    model,\n",
        "    valid_ids,\n",
        "    itos\n",
        "):\n",
        "    \"\"\" Validation logic \"\"\"\n",
        "\n",
        "    # We will use context embeddings to get the most similar words\n",
        "    # Other strategies include: using target embeddings, mean embeddings after avaraging context/target\n",
        "    embedding_weights = model.A.weight\n",
        "\n",
        "    normalized_embeddings = embedding_weights.cpu() / np.sqrt(\n",
        "        np.sum(embedding_weights.cpu().numpy()**2, axis=1, keepdims=True)\n",
        "    )\n",
        "\n",
        "    # Get the embeddings corresponding to valid_term_ids\n",
        "    valid_embeddings = normalized_embeddings[valid_ids, :]\n",
        "\n",
        "    # Compute the similarity between valid_term_ids (S) and all the embeddings (V)\n",
        "    # We do S x d (d x V) => S x D and sort by negative similarity\n",
        "    top_k = 10 # Top k items will be displayed\n",
        "    similarity = np.dot(valid_embeddings.cpu().numpy(), normalized_embeddings.cpu().numpy().T)\n",
        "\n",
        "    # Invert similarity matrix to negative\n",
        "    # Ignore the first one because that would be the same word as the probe word\n",
        "    similarity_top_k = np.argsort(-similarity, axis=1)[:, 1: top_k+1]\n",
        "\n",
        "    # Print the output.\n",
        "    for i, word_id in enumerate(valid_ids):\n",
        "        # j >= 1 here since we don't want to include the word itself.\n",
        "        similar_word_str = ', '.join([itos[j] for j in similarity_top_k[i, :] if j >= 1])\n",
        "        print(f\"{itos[word_id]}: {similar_word_str}\")\n",
        "\n",
        "    print('\\n')"
      ]
    },
    {
      "cell_type": "code",
      "execution_count": null,
      "id": "b0c194b8",
      "metadata": {
        "id": "b0c194b8"
      },
      "outputs": [],
      "source": []
    },
    {
      "cell_type": "markdown",
      "id": "3b3c6ed5",
      "metadata": {
        "id": "3b3c6ed5"
      },
      "source": [
        "### Set up the model"
      ]
    },
    {
      "cell_type": "code",
      "execution_count": 37,
      "id": "16da95d1",
      "metadata": {
        "id": "16da95d1"
      },
      "outputs": [],
      "source": [
        "LR = 10.0\n",
        "NUM_EPOCHS = 10\n",
        "EMBED_DIM = 300"
      ]
    },
    {
      "cell_type": "code",
      "execution_count": 38,
      "id": "cef585f4",
      "metadata": {
        "id": "cef585f4"
      },
      "outputs": [],
      "source": [
        "model = CBOWNegativeSampling(len(VOCAB), EMBED_DIM).to(DEVICE)\n",
        "optimizer = torch.optim.SGD(model.parameters(), lr=LR)\n",
        "\n",
        "# The learning rate is lowered every epoch by 1/10\n",
        "# Is this a good idea?\n",
        "scheduler = torch.optim.lr_scheduler.StepLR(optimizer, 1, gamma=0.1)"
      ]
    },
    {
      "cell_type": "code",
      "execution_count": 39,
      "id": "f8a642bf",
      "metadata": {
        "id": "f8a642bf",
        "colab": {
          "base_uri": "https://localhost:8080/"
        },
        "outputId": "ebafc69e-50da-4e58-9961-6d98c57235d6"
      },
      "outputs": [
        {
          "output_type": "execute_result",
          "data": {
            "text/plain": [
              "CBOWNegativeSampling(\n",
              "  (A): Embedding(63641, 300)\n",
              "  (B): Embedding(63641, 300)\n",
              ")"
            ]
          },
          "metadata": {},
          "execution_count": 39
        }
      ],
      "source": [
        "model"
      ]
    },
    {
      "cell_type": "code",
      "execution_count": 40,
      "id": "85773616",
      "metadata": {
        "id": "85773616",
        "colab": {
          "base_uri": "https://localhost:8080/"
        },
        "outputId": "2e47ec00-de35-41ac-db25-d57360a3ed88"
      },
      "outputs": [
        {
          "output_type": "stream",
          "name": "stdout",
          "text": [
            "money: spat, bungalow, posturing, kanton, pis, reflector, disclaimed, ditched, dimitrov, macrovision\n",
            "lion: ottomans, keweenaw, depopulation, lactamase, rosencrantz, taliaferro, differentiable, dim, carbonation, scholarship\n",
            "africa: yves, challengers, acidosis, photometry, baltic, salerno, judgment, contarini, folders, duplicates\n",
            "musician: catarina, racist, mala, coyne, requirements, bloat, optimise, desylva, collider, steaming\n",
            "dance: luria, fatigue, verlaine, schawlow, bacilli, totalitarian, boxer, kinetics, lagash, inevitable\n",
            "\n",
            "\n"
          ]
        }
      ],
      "source": [
        "validate_embeddings(model, valid_ids, itos)"
      ]
    },
    {
      "cell_type": "code",
      "execution_count": null,
      "id": "66075f5e",
      "metadata": {
        "id": "66075f5e"
      },
      "outputs": [],
      "source": []
    },
    {
      "cell_type": "markdown",
      "id": "86476e2a",
      "metadata": {
        "id": "86476e2a"
      },
      "source": [
        "### Train the model"
      ]
    },
    {
      "cell_type": "code",
      "execution_count": 41,
      "id": "24950481",
      "metadata": {
        "id": "24950481"
      },
      "outputs": [],
      "source": [
        "ratios = []\n",
        "\n",
        "def train(dataloader, model, optimizer, epoch):\n",
        "    model.train()\n",
        "    total_acc, total_count, total_loss, total_batches = 0, 0, 0.0, 0.0\n",
        "    log_interval = 500\n",
        "\n",
        "    for idx, x_batch in tqdm(enumerate(dataloader)):\n",
        "\n",
        "        x_batch = x_batch[0]\n",
        "\n",
        "        batch_size = x_batch.shape[0]\n",
        "\n",
        "        # Zero the gradient so they don't accumulate\n",
        "        optimizer.zero_grad()\n",
        "\n",
        "        logits = model(x_batch)\n",
        "\n",
        "        # Get the positive samples loss. Notice we use weights here\n",
        "        positive_loss = torch.nn.BCEWithLogitsLoss()(input=logits, target=torch.ones(batch_size, 1).to(DEVICE).float())\n",
        "\n",
        "        # For each batch, get some negative samples\n",
        "        # We need a total of len(y_batch) * K samples across a batch\n",
        "        # We then reshape this batch\n",
        "        # These are effectively the output words\n",
        "        negative_samples = torch.multinomial(p, batch_size * K, replacement=True)\n",
        "\n",
        "        # Context words are 2m things, m = 1 so w_context is (N, 2) while wc is (N, 1)\n",
        "        w_context, wc = x_batch[:, [0, 1]], x_batch[:, 2]\n",
        "\n",
        "        \"\"\"\n",
        "        if w_context looks like below (batch_size = 3)\n",
        "        [\n",
        "        (a, b),\n",
        "        (c, d),\n",
        "        (e, f)\n",
        "        ] and K = 2 we'd like to get:\n",
        "\n",
        "        [\n",
        "        (a, b),\n",
        "        (a, b),\n",
        "        (c, d),\n",
        "        (c, d),\n",
        "        (e, f),\n",
        "        (e, f)\n",
        "        ]\n",
        "\n",
        "        This will be batch_size * K rows.\n",
        "        \"\"\"\n",
        "\n",
        "        # This should be (N * K, 2)\n",
        "        w_context = torch.concat([\n",
        "            w.repeat(K, 1) for w in torch.tensor(w_context).split(1)\n",
        "        ])\n",
        "\n",
        "        # Remove the last dimension 1\n",
        "        wc = negative_samples.unsqueeze(-1)\n",
        "\n",
        "        # Get the negative samples. This should be (N * K, 3)\n",
        "        # Concatenate the w_context and wc along the column. Make sure everything is on CUDA / MPS or CPU\n",
        "        x_batch_negative = torch.concat([w_context, wc.to(DEVICE)], axis=1)\n",
        "\n",
        "        \"\"\"\n",
        "        Note the way we formulated the targets: they are all 0 since these are negative samples.\n",
        "        We do the BCEWithLogitsLoss by hand basically here.\n",
        "        Notice we sum across the negative samples, per positive word.\n",
        "\n",
        "        This is literally the equation in the lecture notes.\n",
        "        \"\"\"\n",
        "\n",
        "        # (N, K, D) -> (N, D) -> (N)\n",
        "        # Look at the Skip-Gram notebook\n",
        "        negative_loss = model(x_batch_negative).neg().sigmoid().log().reshape(\n",
        "            batch_size, K\n",
        "        ).sum(1).mean().neg().to(DEVICE)\n",
        "\n",
        "        loss = (positive_loss + negative_loss).mean()\n",
        "\n",
        "        # Get the gradients via back propagation\n",
        "        loss.backward()\n",
        "\n",
        "        # Clip the gradients? Generally a good idea\n",
        "        torch.nn.utils.clip_grad_norm_(model.parameters(), 0.1)\n",
        "\n",
        "\n",
        "        # Do an optimization step. Update the parameters A and B\n",
        "        optimizer.step()\n",
        "\n",
        "        # Get the new loss\n",
        "        total_loss += loss.item()\n",
        "\n",
        "        # Update the batch count\n",
        "        total_batches += 1\n",
        "\n",
        "        if idx % log_interval == 0:\n",
        "            print(\n",
        "                \"| epoch {:3d} | {:5d}/{:5d} batches \"\n",
        "                \"| loss {:8.3f} \".format(\n",
        "                    epoch,\n",
        "                    idx,\n",
        "                    len(dataloader),\n",
        "                    total_loss / total_batches\n",
        "                )\n",
        "            )\n",
        "            validate_embeddings(model, valid_ids, itos)\n",
        "            total_loss, total_batches = 0.0, 0.0"
      ]
    },
    {
      "cell_type": "markdown",
      "id": "0764d675",
      "metadata": {
        "id": "0764d675"
      },
      "source": [
        "### Some results from the run look like below:\n",
        "\n",
        "Somewhere inside of 2 iterations you should get sensible associattions.\n",
        "Paste here a screenshot of the closest vectors."
      ]
    },
    {
      "cell_type": "code",
      "execution_count": 42,
      "id": "a9e02c09",
      "metadata": {
        "id": "a9e02c09",
        "outputId": "794ad7cb-08bf-40ce-9655-37568bcf6e45",
        "colab": {
          "base_uri": "https://localhost:8080/"
        }
      },
      "outputs": [
        {
          "output_type": "stream",
          "name": "stderr",
          "text": [
            "\r0it [00:00, ?it/s]<ipython-input-41-48e7691c9c92>:53: UserWarning: To copy construct from a tensor, it is recommended to use sourceTensor.clone().detach() or sourceTensor.clone().detach().requires_grad_(True), rather than torch.tensor(sourceTensor).\n",
            "  w.repeat(K, 1) for w in torch.tensor(w_context).split(1)\n"
          ]
        },
        {
          "output_type": "stream",
          "name": "stdout",
          "text": [
            "| epoch   1 |     0/32580 batches | loss    4.081 \n"
          ]
        },
        {
          "output_type": "stream",
          "name": "stderr",
          "text": [
            "\r1it [00:03,  3.12s/it]"
          ]
        },
        {
          "output_type": "stream",
          "name": "stdout",
          "text": [
            "money: spat, bungalow, posturing, kanton, pis, reflector, disclaimed, ditched, dimitrov, macrovision\n",
            "lion: ottomans, keweenaw, depopulation, lactamase, rosencrantz, taliaferro, differentiable, dim, carbonation, scholarship\n",
            "africa: yves, challengers, acidosis, photometry, baltic, salerno, judgment, contarini, folders, duplicates\n",
            "musician: catarina, racist, mala, coyne, requirements, bloat, optimise, desylva, collider, steaming\n",
            "dance: luria, fatigue, verlaine, schawlow, bacilli, totalitarian, boxer, kinetics, lagash, inevitable\n",
            "\n",
            "\n"
          ]
        },
        {
          "output_type": "stream",
          "name": "stderr",
          "text": [
            "497it [00:14, 35.42it/s]"
          ]
        },
        {
          "output_type": "stream",
          "name": "stdout",
          "text": [
            "| epoch   1 |   500/32580 batches | loss    3.722 \n"
          ]
        },
        {
          "output_type": "stream",
          "name": "stderr",
          "text": [
            "505it [00:15, 20.67it/s]"
          ]
        },
        {
          "output_type": "stream",
          "name": "stdout",
          "text": [
            "money: spat, bungalow, posturing, kanton, pis, reflector, dae, macrovision, dimitrov, disclaimed\n",
            "lion: ottomans, keweenaw, depopulation, lactamase, rosencrantz, differentiable, dim, taliaferro, carbonation, scholarship\n",
            "africa: yves, challengers, photometry, acidosis, salerno, baltic, contarini, judgment, folders, motorbikes\n",
            "musician: racist, catarina, mala, coyne, requirements, bloat, optimise, desylva, steaming, collider\n",
            "dance: fatigue, luria, verlaine, schawlow, bacilli, totalitarian, lagash, kinetics, boxer, inevitable\n",
            "\n",
            "\n"
          ]
        },
        {
          "output_type": "stream",
          "name": "stderr",
          "text": [
            "995it [00:25, 50.91it/s]"
          ]
        },
        {
          "output_type": "stream",
          "name": "stdout",
          "text": [
            "| epoch   1 |  1000/32580 batches | loss    3.361 \n"
          ]
        },
        {
          "output_type": "stream",
          "name": "stderr",
          "text": [
            "1006it [00:26, 33.54it/s]"
          ]
        },
        {
          "output_type": "stream",
          "name": "stdout",
          "text": [
            "money: spat, posturing, bungalow, pis, kanton, reflector, dae, disclaimed, seto, dimitrov\n",
            "lion: ottomans, keweenaw, depopulation, rosencrantz, lactamase, dim, differentiable, taliaferro, carbonation, senators\n",
            "africa: yves, challengers, photometry, acidosis, salerno, baltic, contarini, judgment, duplicates, shel\n",
            "musician: racist, catarina, mala, coyne, requirements, bloat, optimise, desylva, collider, steaming\n",
            "dance: luria, fatigue, verlaine, bacilli, schawlow, totalitarian, lagash, boxer, inevitable, kinetics\n",
            "\n",
            "\n"
          ]
        },
        {
          "output_type": "stream",
          "name": "stderr",
          "text": [
            "1497it [00:38, 49.82it/s]"
          ]
        },
        {
          "output_type": "stream",
          "name": "stdout",
          "text": [
            "| epoch   1 |  1500/32580 batches | loss    3.028 \n"
          ]
        },
        {
          "output_type": "stream",
          "name": "stderr",
          "text": [
            "1507it [00:38, 32.74it/s]"
          ]
        },
        {
          "output_type": "stream",
          "name": "stdout",
          "text": [
            "money: spat, posturing, bungalow, pis, dae, kanton, disclaimed, seto, reflector, tyrone\n",
            "lion: ottomans, keweenaw, depopulation, rosencrantz, lactamase, dim, taliaferro, differentiable, senators, carbonation\n",
            "africa: yves, salerno, photometry, acidosis, challengers, contarini, judgment, baltic, folders, motorbikes\n",
            "musician: racist, catarina, mala, coyne, requirements, bloat, optimise, desylva, collider, hanoverians\n",
            "dance: luria, fatigue, verlaine, bacilli, schawlow, totalitarian, lagash, stipulating, kinetics, chi\n",
            "\n",
            "\n"
          ]
        },
        {
          "output_type": "stream",
          "name": "stderr",
          "text": [
            "2000it [00:49, 34.93it/s]"
          ]
        },
        {
          "output_type": "stream",
          "name": "stdout",
          "text": [
            "| epoch   1 |  2000/32580 batches | loss    2.796 \n"
          ]
        },
        {
          "output_type": "stream",
          "name": "stderr",
          "text": [
            "\r2004it [00:50, 16.91it/s]"
          ]
        },
        {
          "output_type": "stream",
          "name": "stdout",
          "text": [
            "money: posturing, spat, bungalow, pis, dae, seto, tyrone, kanton, complain, guadalupe\n",
            "lion: ottomans, keweenaw, depopulation, lactamase, rosencrantz, dim, taliaferro, differentiable, however, senators\n",
            "africa: yves, salerno, acidosis, photometry, challengers, judgment, contarini, motorbikes, extinction, basten\n",
            "musician: racist, mala, catarina, coyne, requirements, bloat, optimise, desylva, collider, hanoverians\n",
            "dance: luria, fatigue, verlaine, bacilli, totalitarian, schawlow, chi, kinetics, lagash, combinatory\n",
            "\n",
            "\n"
          ]
        },
        {
          "output_type": "stream",
          "name": "stderr",
          "text": [
            "2496it [01:01, 48.57it/s]"
          ]
        },
        {
          "output_type": "stream",
          "name": "stdout",
          "text": [
            "| epoch   1 |  2500/32580 batches | loss    2.619 \n"
          ]
        },
        {
          "output_type": "stream",
          "name": "stderr",
          "text": [
            "2505it [01:01, 31.27it/s]"
          ]
        },
        {
          "output_type": "stream",
          "name": "stdout",
          "text": [
            "money: posturing, spat, bungalow, pis, dae, seto, complain, tyrone, guadalupe, windows\n",
            "lion: ottomans, keweenaw, depopulation, lactamase, dim, differentiable, taliaferro, rosencrantz, however, senators\n",
            "africa: yves, salerno, photometry, acidosis, challengers, judgment, contarini, extinction, huts, motorbikes\n",
            "musician: racist, mala, catarina, coyne, bloat, requirements, optimise, collider, desylva, steaming\n",
            "dance: fatigue, luria, verlaine, bacilli, kinetics, totalitarian, inevitable, lagash, chi, stipulating\n",
            "\n",
            "\n"
          ]
        },
        {
          "output_type": "stream",
          "name": "stderr",
          "text": [
            "2999it [01:14, 49.74it/s]"
          ]
        },
        {
          "output_type": "stream",
          "name": "stdout",
          "text": [
            "| epoch   1 |  3000/32580 batches | loss    2.489 \n"
          ]
        },
        {
          "output_type": "stream",
          "name": "stderr",
          "text": [
            "3009it [01:14, 32.90it/s]"
          ]
        },
        {
          "output_type": "stream",
          "name": "stdout",
          "text": [
            "money: posturing, spat, bungalow, has, pis, when, seto, windows, tyrone, dae\n",
            "lion: ottomans, keweenaw, depopulation, dim, differentiable, lactamase, rosencrantz, taliaferro, senators, scholarship\n",
            "africa: yves, salerno, acidosis, photometry, judgment, challengers, huts, dissociated, extinction, bros\n",
            "musician: racist, mala, catarina, bloat, coyne, requirements, optimise, steaming, collider, hanoverians\n",
            "dance: verlaine, fatigue, luria, bacilli, giving, inevitable, combinatory, chi, totalitarian, lagash\n",
            "\n",
            "\n"
          ]
        },
        {
          "output_type": "stream",
          "name": "stderr",
          "text": [
            "3500it [01:24, 40.75it/s]"
          ]
        },
        {
          "output_type": "stream",
          "name": "stdout",
          "text": [
            "| epoch   1 |  3500/32580 batches | loss    2.376 \n"
          ]
        },
        {
          "output_type": "stream",
          "name": "stderr",
          "text": [
            "\r3505it [01:25, 21.08it/s]"
          ]
        },
        {
          "output_type": "stream",
          "name": "stdout",
          "text": [
            "money: posturing, has, when, five, like, three, two, windows, tyrone, zero\n",
            "lion: ottomans, keweenaw, depopulation, differentiable, dim, lactamase, rosencrantz, taliaferro, behavior, douglass\n",
            "africa: yves, salerno, acidosis, modern, judgment, photometry, huts, dissociated, challengers, bros\n",
            "musician: racist, mala, catarina, bloat, coyne, requirements, optimise, steaming, collider, hanoverians\n",
            "dance: verlaine, fatigue, luria, giving, bacilli, combinatory, inevitable, chi, totalitarian, kinetics\n",
            "\n",
            "\n"
          ]
        },
        {
          "output_type": "stream",
          "name": "stderr",
          "text": [
            "3999it [01:36, 50.94it/s]"
          ]
        },
        {
          "output_type": "stream",
          "name": "stdout",
          "text": [
            "| epoch   1 |  4000/32580 batches | loss    2.292 \n"
          ]
        },
        {
          "output_type": "stream",
          "name": "stderr",
          "text": [
            "\r4005it [01:37, 30.58it/s]"
          ]
        },
        {
          "output_type": "stream",
          "name": "stdout",
          "text": [
            "money: five, has, when, two, three, like, zero, one, eight, during\n",
            "lion: ottomans, keweenaw, depopulation, rosencrantz, dim, taliaferro, differentiable, behavior, lactamase, douglass\n",
            "africa: modern, salerno, series, yves, acidosis, judgment, huts, dissociated, photometry, leaders\n",
            "musician: racist, mala, catarina, bloat, requirements, coyne, collider, optimise, steaming, hanoverians\n",
            "dance: verlaine, giving, fatigue, luria, combinatory, bacilli, chi, inevitable, stipulating, totalitarian\n",
            "\n",
            "\n"
          ]
        },
        {
          "output_type": "stream",
          "name": "stderr",
          "text": [
            "4499it [01:48, 36.26it/s]"
          ]
        },
        {
          "output_type": "stream",
          "name": "stdout",
          "text": [
            "| epoch   1 |  4500/32580 batches | loss    2.213 \n"
          ]
        },
        {
          "output_type": "stream",
          "name": "stderr",
          "text": [
            "4507it [01:49, 20.32it/s]"
          ]
        },
        {
          "output_type": "stream",
          "name": "stdout",
          "text": [
            "money: five, has, three, when, two, one, zero, six, eight, during\n",
            "lion: ottomans, keweenaw, depopulation, behavior, dim, rosencrantz, taliaferro, differentiable, lactamase, senators\n",
            "africa: series, modern, three, also, well, them, huts, salerno, which, third\n",
            "musician: racist, mala, catarina, bloat, requirements, coyne, collider, steaming, spouse, hanoverians\n",
            "dance: giving, verlaine, fatigue, luria, bacilli, inevitable, combinatory, stipulating, chi, totalitarian\n",
            "\n",
            "\n"
          ]
        },
        {
          "output_type": "stream",
          "name": "stderr",
          "text": [
            "5000it [01:59, 50.22it/s]"
          ]
        },
        {
          "output_type": "stream",
          "name": "stdout",
          "text": [
            "| epoch   1 |  5000/32580 batches | loss    2.157 \n"
          ]
        },
        {
          "output_type": "stream",
          "name": "stderr",
          "text": [
            "\r5006it [02:00, 30.45it/s]"
          ]
        },
        {
          "output_type": "stream",
          "name": "stdout",
          "text": [
            "money: five, has, three, when, six, g, zero, two, state, see\n",
            "lion: ottomans, keweenaw, depopulation, behavior, dim, differentiable, taliaferro, rosencrantz, however, senators\n",
            "africa: series, modern, three, well, them, third, being, real, five, also\n",
            "musician: racist, mala, catarina, bloat, requirements, coyne, collider, moroccans, spouse, steaming\n",
            "dance: giving, verlaine, new, fatigue, luria, bacilli, inevitable, combinatory, almost, stipulating\n",
            "\n",
            "\n"
          ]
        },
        {
          "output_type": "stream",
          "name": "stderr",
          "text": [
            "5499it [02:12, 50.32it/s]"
          ]
        },
        {
          "output_type": "stream",
          "name": "stdout",
          "text": [
            "| epoch   1 |  5500/32580 batches | loss    2.107 \n"
          ]
        },
        {
          "output_type": "stream",
          "name": "stderr",
          "text": [
            "\r5505it [02:12, 30.35it/s]"
          ]
        },
        {
          "output_type": "stream",
          "name": "stdout",
          "text": [
            "money: five, three, see, has, six, two, one, state, when, four\n",
            "lion: ottomans, keweenaw, behavior, depopulation, dim, differentiable, taliaferro, rosencrantz, however, senators\n",
            "africa: series, modern, three, them, well, also, real, being, five, eight\n",
            "musician: racist, mala, catarina, bloat, requirements, coyne, collider, spouse, exit, moroccans\n",
            "dance: giving, new, verlaine, almost, luria, fatigue, combinatory, forms, bacilli, inevitable\n",
            "\n",
            "\n"
          ]
        },
        {
          "output_type": "stream",
          "name": "stderr",
          "text": [
            "6000it [02:23, 36.52it/s]"
          ]
        },
        {
          "output_type": "stream",
          "name": "stdout",
          "text": [
            "| epoch   1 |  6000/32580 batches | loss    2.052 \n"
          ]
        },
        {
          "output_type": "stream",
          "name": "stderr",
          "text": [
            "\r6004it [02:23, 17.30it/s]"
          ]
        },
        {
          "output_type": "stream",
          "name": "stdout",
          "text": [
            "money: three, five, six, see, four, zero, two, eight, g, one\n",
            "lion: ottomans, keweenaw, behavior, depopulation, dim, differentiable, taliaferro, however, rosencrantz, senators\n",
            "africa: series, modern, them, three, well, eight, him, real, seven, which\n",
            "musician: racist, mala, catarina, bloat, requirements, history, coyne, exit, collider, spouse\n",
            "dance: giving, new, almost, verlaine, person, forms, without, became, those, british\n",
            "\n",
            "\n"
          ]
        },
        {
          "output_type": "stream",
          "name": "stderr",
          "text": [
            "6497it [02:34, 50.71it/s]"
          ]
        },
        {
          "output_type": "stream",
          "name": "stdout",
          "text": [
            "| epoch   1 |  6500/32580 batches | loss    2.014 \n"
          ]
        },
        {
          "output_type": "stream",
          "name": "stderr",
          "text": [
            "6508it [02:35, 33.53it/s]"
          ]
        },
        {
          "output_type": "stream",
          "name": "stdout",
          "text": [
            "money: five, six, three, zero, eight, g, two, state, four, has\n",
            "lion: ottomans, keweenaw, behavior, depopulation, dim, taliaferro, differentiable, rosencrantz, senators, douglass\n",
            "africa: series, modern, them, three, well, eight, seven, him, which, real\n",
            "musician: racist, mala, history, catarina, bloat, requirements, all, best, foibles, red\n",
            "dance: new, giving, almost, british, without, those, person, forms, became, death\n",
            "\n",
            "\n"
          ]
        },
        {
          "output_type": "stream",
          "name": "stderr",
          "text": [
            "6996it [02:47, 46.67it/s]"
          ]
        },
        {
          "output_type": "stream",
          "name": "stdout",
          "text": [
            "| epoch   1 |  7000/32580 batches | loss    1.977 \n"
          ]
        },
        {
          "output_type": "stream",
          "name": "stderr",
          "text": [
            "7006it [02:47, 32.08it/s]"
          ]
        },
        {
          "output_type": "stream",
          "name": "stdout",
          "text": [
            "money: five, six, zero, three, four, two, one, g, state, during\n",
            "lion: ottomans, behavior, keweenaw, dim, depopulation, taliaferro, differentiable, rosencrantz, former, gay\n",
            "africa: series, them, modern, three, well, seven, him, four, which, eight\n",
            "musician: racist, history, mala, catarina, all, requirements, red, bloat, d, best\n",
            "dance: new, giving, british, those, almost, without, person, forms, became, and\n",
            "\n",
            "\n"
          ]
        },
        {
          "output_type": "stream",
          "name": "stderr",
          "text": [
            "7499it [02:57, 39.18it/s]"
          ]
        },
        {
          "output_type": "stream",
          "name": "stdout",
          "text": [
            "| epoch   1 |  7500/32580 batches | loss    1.946 \n"
          ]
        },
        {
          "output_type": "stream",
          "name": "stderr",
          "text": [
            "7507it [02:58, 24.25it/s]"
          ]
        },
        {
          "output_type": "stream",
          "name": "stdout",
          "text": [
            "money: five, three, four, six, zero, g, like, state, seven, use\n",
            "lion: ottomans, behavior, keweenaw, dim, depopulation, taliaferro, former, differentiable, local, gay\n",
            "africa: series, them, three, seven, modern, well, him, eight, people, four\n",
            "musician: racist, history, mala, all, red, d, catarina, best, black, their\n",
            "dance: new, giving, british, almost, those, without, person, forms, death, and\n",
            "\n",
            "\n"
          ]
        },
        {
          "output_type": "stream",
          "name": "stderr",
          "text": [
            "7999it [03:10, 50.20it/s]"
          ]
        },
        {
          "output_type": "stream",
          "name": "stdout",
          "text": [
            "| epoch   1 |  8000/32580 batches | loss    1.915 \n"
          ]
        },
        {
          "output_type": "stream",
          "name": "stderr",
          "text": [
            "\r8005it [03:10, 30.24it/s]"
          ]
        },
        {
          "output_type": "stream",
          "name": "stdout",
          "text": [
            "money: five, three, four, six, zero, use, g, state, seven, eight\n",
            "lion: ottomans, behavior, keweenaw, dim, former, depopulation, taliaferro, differentiable, world, local\n",
            "africa: series, them, three, seven, modern, well, four, him, zero, people\n",
            "musician: history, racist, red, all, black, d, best, number, its, up\n",
            "dance: new, giving, british, those, almost, person, became, forms, death, without\n",
            "\n",
            "\n"
          ]
        },
        {
          "output_type": "stream",
          "name": "stderr",
          "text": [
            "8497it [03:22, 35.67it/s]"
          ]
        },
        {
          "output_type": "stream",
          "name": "stdout",
          "text": [
            "| epoch   1 |  8500/32580 batches | loss    1.889 \n"
          ]
        },
        {
          "output_type": "stream",
          "name": "stderr",
          "text": [
            "8504it [03:22, 19.11it/s]"
          ]
        },
        {
          "output_type": "stream",
          "name": "stdout",
          "text": [
            "money: four, three, five, six, seven, use, zero, eight, part, state\n",
            "lion: ottomans, behavior, keweenaw, former, dim, local, depopulation, differentiable, taliaferro, mainly\n",
            "africa: series, seven, them, well, modern, three, him, four, eight, form\n",
            "musician: history, red, racist, black, number, all, best, its, up, d\n",
            "dance: new, british, giving, those, almost, forms, person, death, without, became\n",
            "\n",
            "\n"
          ]
        },
        {
          "output_type": "stream",
          "name": "stderr",
          "text": [
            "8997it [03:32, 50.99it/s]"
          ]
        },
        {
          "output_type": "stream",
          "name": "stdout",
          "text": [
            "| epoch   1 |  9000/32580 batches | loss    1.857 \n"
          ]
        },
        {
          "output_type": "stream",
          "name": "stderr",
          "text": [
            "9008it [03:33, 33.70it/s]"
          ]
        },
        {
          "output_type": "stream",
          "name": "stdout",
          "text": [
            "money: four, three, five, seven, six, state, use, zero, eight, part\n",
            "lion: ottomans, behavior, former, keweenaw, dim, local, mainly, world, depopulation, differentiable\n",
            "africa: series, seven, them, four, three, well, him, modern, six, about\n",
            "musician: history, number, black, red, all, best, up, its, racist, d\n",
            "dance: new, british, giving, those, almost, forms, death, person, name, government\n",
            "\n",
            "\n"
          ]
        },
        {
          "output_type": "stream",
          "name": "stderr",
          "text": [
            "9500it [03:45, 49.53it/s]"
          ]
        },
        {
          "output_type": "stream",
          "name": "stdout",
          "text": [
            "| epoch   1 |  9500/32580 batches | loss    1.837 \n"
          ]
        },
        {
          "output_type": "stream",
          "name": "stderr",
          "text": [
            "\r9505it [03:45, 29.77it/s]"
          ]
        },
        {
          "output_type": "stream",
          "name": "stdout",
          "text": [
            "money: three, four, five, six, seven, use, eight, state, part, zero\n",
            "lion: ottomans, behavior, former, keweenaw, dim, mainly, depopulation, history, gay, world\n",
            "africa: series, three, seven, four, them, him, well, u, six, modern\n",
            "musician: history, number, black, all, red, best, its, game, d, london\n",
            "dance: new, giving, british, almost, person, those, forms, and, name, became\n",
            "\n",
            "\n"
          ]
        },
        {
          "output_type": "stream",
          "name": "stderr",
          "text": [
            "9999it [03:56, 35.85it/s]"
          ]
        },
        {
          "output_type": "stream",
          "name": "stdout",
          "text": [
            "| epoch   1 | 10000/32580 batches | loss    1.813 \n"
          ]
        },
        {
          "output_type": "stream",
          "name": "stderr",
          "text": [
            "10007it [03:57, 20.18it/s]"
          ]
        },
        {
          "output_type": "stream",
          "name": "stdout",
          "text": [
            "money: three, five, four, six, seven, eight, use, part, person, state\n",
            "lion: behavior, ottomans, former, keweenaw, mainly, history, world, dim, local, gay\n",
            "africa: series, three, seven, four, them, u, well, him, part, eight\n",
            "musician: history, number, black, best, all, game, red, london, series, name\n",
            "dance: new, giving, british, person, almost, forms, name, those, nine, became\n",
            "\n",
            "\n"
          ]
        },
        {
          "output_type": "stream",
          "name": "stderr",
          "text": [
            "10496it [04:08, 50.76it/s]"
          ]
        },
        {
          "output_type": "stream",
          "name": "stdout",
          "text": [
            "| epoch   1 | 10500/32580 batches | loss    1.796 \n"
          ]
        },
        {
          "output_type": "stream",
          "name": "stderr",
          "text": [
            "10507it [04:08, 33.71it/s]"
          ]
        },
        {
          "output_type": "stream",
          "name": "stdout",
          "text": [
            "money: six, five, four, three, eight, seven, use, state, part, person\n",
            "lion: behavior, former, ottomans, mainly, world, local, keweenaw, gay, history, dim\n",
            "africa: series, seven, three, u, six, four, part, him, eight, west\n",
            "musician: history, number, black, best, game, all, name, red, d, london\n",
            "dance: new, giving, person, name, almost, british, nine, largest, forms, early\n",
            "\n",
            "\n"
          ]
        },
        {
          "output_type": "stream",
          "name": "stderr",
          "text": [
            "10999it [04:20, 48.79it/s]"
          ]
        },
        {
          "output_type": "stream",
          "name": "stdout",
          "text": [
            "| epoch   1 | 11000/32580 batches | loss    1.777 \n"
          ]
        },
        {
          "output_type": "stream",
          "name": "stderr",
          "text": [
            "11009it [04:21, 32.31it/s]"
          ]
        },
        {
          "output_type": "stream",
          "name": "stdout",
          "text": [
            "money: five, three, six, four, eight, seven, use, man, person, part\n",
            "lion: behavior, former, ottomans, mainly, world, north, life, keweenaw, gay, history\n",
            "africa: series, seven, three, u, part, west, six, four, end, them\n",
            "musician: history, number, best, black, game, name, d, red, largest, series\n",
            "dance: new, person, giving, british, name, largest, almost, those, nine, death\n",
            "\n",
            "\n"
          ]
        },
        {
          "output_type": "stream",
          "name": "stderr",
          "text": [
            "11497it [04:31, 39.32it/s]"
          ]
        },
        {
          "output_type": "stream",
          "name": "stdout",
          "text": [
            "| epoch   1 | 11500/32580 batches | loss    1.759 \n"
          ]
        },
        {
          "output_type": "stream",
          "name": "stderr",
          "text": [
            "11505it [04:31, 22.91it/s]"
          ]
        },
        {
          "output_type": "stream",
          "name": "stdout",
          "text": [
            "money: four, three, five, eight, seven, six, person, use, part, man\n",
            "lion: behavior, former, ottomans, mainly, gay, local, north, keweenaw, world, history\n",
            "africa: series, seven, u, west, part, three, end, six, four, nine\n",
            "musician: history, number, black, best, game, name, red, d, largest, series\n",
            "dance: new, person, giving, name, british, almost, largest, nine, death, then\n",
            "\n",
            "\n"
          ]
        },
        {
          "output_type": "stream",
          "name": "stderr",
          "text": [
            "11996it [04:43, 49.97it/s]"
          ]
        },
        {
          "output_type": "stream",
          "name": "stdout",
          "text": [
            "| epoch   1 | 12000/32580 batches | loss    1.739 \n"
          ]
        },
        {
          "output_type": "stream",
          "name": "stderr",
          "text": [
            "12007it [04:44, 33.80it/s]"
          ]
        },
        {
          "output_type": "stream",
          "name": "stdout",
          "text": [
            "money: eight, five, four, three, person, man, seven, use, six, part\n",
            "lion: behavior, former, ottomans, mainly, gay, local, world, life, north, keweenaw\n",
            "africa: series, seven, end, west, u, three, six, part, eight, well\n",
            "musician: history, number, black, game, best, name, red, d, largest, civil\n",
            "dance: new, person, giving, largest, almost, order, british, name, death, those\n",
            "\n",
            "\n"
          ]
        },
        {
          "output_type": "stream",
          "name": "stderr",
          "text": [
            "12499it [04:55, 35.48it/s]"
          ]
        },
        {
          "output_type": "stream",
          "name": "stdout",
          "text": [
            "| epoch   1 | 12500/32580 batches | loss    1.730 \n"
          ]
        },
        {
          "output_type": "stream",
          "name": "stderr",
          "text": [
            "\r12503it [04:56, 17.66it/s]"
          ]
        },
        {
          "output_type": "stream",
          "name": "stdout",
          "text": [
            "money: four, man, person, six, three, five, eight, seven, use, part\n",
            "lion: behavior, former, ottomans, mainly, history, local, world, gay, types, life\n",
            "africa: series, end, seven, three, west, four, u, part, eight, six\n",
            "musician: history, number, black, game, best, name, d, red, series, u\n",
            "dance: new, person, giving, order, largest, nine, forms, early, almost, death\n",
            "\n",
            "\n"
          ]
        },
        {
          "output_type": "stream",
          "name": "stderr",
          "text": [
            "12998it [05:06, 49.75it/s]"
          ]
        },
        {
          "output_type": "stream",
          "name": "stdout",
          "text": [
            "| epoch   1 | 13000/32580 batches | loss    1.707 \n"
          ]
        },
        {
          "output_type": "stream",
          "name": "stderr",
          "text": [
            "13008it [05:06, 33.49it/s]"
          ]
        },
        {
          "output_type": "stream",
          "name": "stdout",
          "text": [
            "money: four, five, man, eight, three, person, use, seven, part, six\n",
            "lion: behavior, former, ottomans, mainly, local, world, gay, history, north, types\n",
            "africa: series, west, end, seven, three, eight, four, u, part, america\n",
            "musician: history, number, black, best, game, name, red, series, u, english\n",
            "dance: new, giving, order, person, nine, forms, largest, death, end, name\n",
            "\n",
            "\n"
          ]
        },
        {
          "output_type": "stream",
          "name": "stderr",
          "text": [
            "13498it [05:19, 50.00it/s]"
          ]
        },
        {
          "output_type": "stream",
          "name": "stdout",
          "text": [
            "| epoch   1 | 13500/32580 batches | loss    1.693 \n"
          ]
        },
        {
          "output_type": "stream",
          "name": "stderr",
          "text": [
            "13509it [05:19, 33.74it/s]"
          ]
        },
        {
          "output_type": "stream",
          "name": "stdout",
          "text": [
            "money: four, five, man, eight, person, seven, six, three, part, nine\n",
            "lion: behavior, former, ottomans, mainly, local, world, history, gay, north, battle\n",
            "africa: series, end, seven, west, three, america, u, eight, part, four\n",
            "musician: history, number, black, game, best, red, series, u, name, actor\n",
            "dance: new, giving, order, person, largest, forms, death, nine, end, state\n",
            "\n",
            "\n"
          ]
        },
        {
          "output_type": "stream",
          "name": "stderr",
          "text": [
            "14000it [05:30, 35.14it/s]"
          ]
        },
        {
          "output_type": "stream",
          "name": "stdout",
          "text": [
            "| epoch   1 | 14000/32580 batches | loss    1.685 \n"
          ]
        },
        {
          "output_type": "stream",
          "name": "stderr",
          "text": [
            "\r14004it [05:30, 16.95it/s]"
          ]
        },
        {
          "output_type": "stream",
          "name": "stdout",
          "text": [
            "money: eight, five, man, four, seven, six, person, three, nine, fact\n",
            "lion: behavior, former, ottomans, mainly, local, history, world, north, gay, provided\n",
            "africa: end, west, series, seven, eight, three, part, america, u, nine\n",
            "musician: history, number, black, game, best, actor, and, u, series, minister\n",
            "dance: new, giving, order, largest, person, death, nine, forms, british, early\n",
            "\n",
            "\n"
          ]
        },
        {
          "output_type": "stream",
          "name": "stderr",
          "text": [
            "14495it [05:41, 49.77it/s]"
          ]
        },
        {
          "output_type": "stream",
          "name": "stdout",
          "text": [
            "| epoch   1 | 14500/32580 batches | loss    1.672 \n"
          ]
        },
        {
          "output_type": "stream",
          "name": "stderr",
          "text": [
            "14505it [05:42, 31.62it/s]"
          ]
        },
        {
          "output_type": "stream",
          "name": "stdout",
          "text": [
            "money: eight, man, seven, four, person, five, six, fact, nine, three\n",
            "lion: behavior, former, ottomans, mainly, history, north, world, local, battle, provided\n",
            "africa: seven, end, west, eight, series, three, america, u, part, six\n",
            "musician: history, number, black, actor, u, best, game, civil, minister, series\n",
            "dance: giving, new, order, largest, person, death, forms, nine, british, lack\n",
            "\n",
            "\n"
          ]
        },
        {
          "output_type": "stream",
          "name": "stderr",
          "text": [
            "14998it [05:54, 48.68it/s]"
          ]
        },
        {
          "output_type": "stream",
          "name": "stdout",
          "text": [
            "| epoch   1 | 15000/32580 batches | loss    1.657 \n"
          ]
        },
        {
          "output_type": "stream",
          "name": "stderr",
          "text": [
            "15008it [05:54, 33.10it/s]"
          ]
        },
        {
          "output_type": "stream",
          "name": "stdout",
          "text": [
            "money: five, eight, four, man, nine, person, six, seven, fact, three\n",
            "lion: behavior, former, mainly, ottomans, north, world, provided, battle, history, local\n",
            "africa: end, west, eight, series, seven, america, u, part, three, nine\n",
            "musician: history, number, actor, black, u, best, game, series, civil, minister\n",
            "dance: giving, order, new, largest, death, person, nine, forms, british, early\n",
            "\n",
            "\n"
          ]
        },
        {
          "output_type": "stream",
          "name": "stderr",
          "text": [
            "15500it [06:05, 40.18it/s]"
          ]
        },
        {
          "output_type": "stream",
          "name": "stdout",
          "text": [
            "| epoch   1 | 15500/32580 batches | loss    1.647 \n"
          ]
        },
        {
          "output_type": "stream",
          "name": "stderr",
          "text": [
            "\r15505it [06:05, 21.81it/s]"
          ]
        },
        {
          "output_type": "stream",
          "name": "stdout",
          "text": [
            "money: five, man, four, eight, person, nine, seven, six, fact, part\n",
            "lion: behavior, former, world, mainly, north, battle, history, provided, ottomans, relations\n",
            "africa: end, west, america, series, seven, eight, u, part, nine, five\n",
            "musician: history, actor, number, u, black, best, end, game, civil, introduction\n",
            "dance: giving, new, order, largest, person, death, forms, nine, end, addition\n",
            "\n",
            "\n"
          ]
        },
        {
          "output_type": "stream",
          "name": "stderr",
          "text": [
            "15996it [06:17, 50.00it/s]"
          ]
        },
        {
          "output_type": "stream",
          "name": "stdout",
          "text": [
            "| epoch   1 | 16000/32580 batches | loss    1.632 \n"
          ]
        },
        {
          "output_type": "stream",
          "name": "stderr",
          "text": [
            "16007it [06:17, 33.41it/s]"
          ]
        },
        {
          "output_type": "stream",
          "name": "stdout",
          "text": [
            "money: four, five, man, person, fact, eight, nine, six, seven, three\n",
            "lion: behavior, former, mainly, battle, world, north, provided, history, ottomans, relations\n",
            "africa: end, west, america, series, seven, part, u, eight, five, zero\n",
            "musician: history, actor, u, number, black, introduction, civil, end, series, game\n",
            "dance: new, order, giving, largest, person, death, forms, end, early, music\n",
            "\n",
            "\n"
          ]
        },
        {
          "output_type": "stream",
          "name": "stderr",
          "text": [
            "16497it [06:29, 35.76it/s]"
          ]
        },
        {
          "output_type": "stream",
          "name": "stdout",
          "text": [
            "| epoch   1 | 16500/32580 batches | loss    1.621 \n"
          ]
        },
        {
          "output_type": "stream",
          "name": "stderr",
          "text": [
            "16504it [06:29, 18.74it/s]"
          ]
        },
        {
          "output_type": "stream",
          "name": "stdout",
          "text": [
            "money: four, eight, fact, person, man, five, nine, six, seven, three\n",
            "lion: behavior, former, battle, mainly, north, provided, world, relations, history, lives\n",
            "africa: end, west, america, seven, series, eight, part, u, nine, five\n",
            "musician: history, actor, u, black, number, introduction, civil, actress, end, game\n",
            "dance: new, giving, largest, order, person, death, early, end, forms, music\n",
            "\n",
            "\n"
          ]
        },
        {
          "output_type": "stream",
          "name": "stderr",
          "text": [
            "16998it [06:40, 49.85it/s]"
          ]
        },
        {
          "output_type": "stream",
          "name": "stdout",
          "text": [
            "| epoch   1 | 17000/32580 batches | loss    1.614 \n"
          ]
        },
        {
          "output_type": "stream",
          "name": "stderr",
          "text": [
            "17008it [06:40, 32.65it/s]"
          ]
        },
        {
          "output_type": "stream",
          "name": "stdout",
          "text": [
            "money: five, four, fact, eight, person, seven, six, man, nine, able\n",
            "lion: behavior, former, battle, provided, north, world, mainly, history, lives, relations\n",
            "africa: west, end, america, seven, series, eight, five, part, nine, u\n",
            "musician: actor, history, u, actress, black, number, introduction, civil, end, minister\n",
            "dance: largest, giving, new, order, person, death, early, music, forms, end\n",
            "\n",
            "\n"
          ]
        },
        {
          "output_type": "stream",
          "name": "stderr",
          "text": [
            "17499it [06:52, 49.31it/s]"
          ]
        },
        {
          "output_type": "stream",
          "name": "stdout",
          "text": [
            "| epoch   1 | 17500/32580 batches | loss    1.609 \n"
          ]
        },
        {
          "output_type": "stream",
          "name": "stderr",
          "text": [
            "17509it [06:53, 33.02it/s]"
          ]
        },
        {
          "output_type": "stream",
          "name": "stdout",
          "text": [
            "money: eight, fact, person, five, man, four, nine, six, able, seven\n",
            "lion: behavior, former, battle, mainly, provided, history, north, world, lives, relations\n",
            "africa: end, america, west, eight, seven, series, nine, zero, part, five\n",
            "musician: actor, history, u, actress, black, introduction, number, civil, game, end\n",
            "dance: largest, order, giving, new, death, person, addition, early, music, end\n",
            "\n",
            "\n"
          ]
        },
        {
          "output_type": "stream",
          "name": "stderr",
          "text": [
            "17998it [07:03, 36.20it/s]"
          ]
        },
        {
          "output_type": "stream",
          "name": "stdout",
          "text": [
            "| epoch   1 | 18000/32580 batches | loss    1.591 \n"
          ]
        },
        {
          "output_type": "stream",
          "name": "stderr",
          "text": [
            "18006it [07:04, 20.33it/s]"
          ]
        },
        {
          "output_type": "stream",
          "name": "stdout",
          "text": [
            "money: fact, five, man, eight, person, four, able, nine, found, seven\n",
            "lion: behavior, former, battle, mainly, world, provided, history, relations, lives, north\n",
            "africa: america, end, west, seven, nine, eight, zero, series, five, part\n",
            "musician: actor, history, actress, u, black, introduction, minister, civil, number, end\n",
            "dance: largest, order, giving, new, person, death, music, addition, lack, early\n",
            "\n",
            "\n"
          ]
        },
        {
          "output_type": "stream",
          "name": "stderr",
          "text": [
            "18499it [07:15, 49.06it/s]"
          ]
        },
        {
          "output_type": "stream",
          "name": "stdout",
          "text": [
            "| epoch   1 | 18500/32580 batches | loss    1.586 \n"
          ]
        },
        {
          "output_type": "stream",
          "name": "stderr",
          "text": [
            "18510it [07:16, 33.86it/s]"
          ]
        },
        {
          "output_type": "stream",
          "name": "stdout",
          "text": [
            "money: man, fact, person, eight, able, five, nine, six, found, use\n",
            "lion: behavior, former, battle, mainly, provided, lives, world, relations, north, history\n",
            "africa: america, end, west, eight, seven, nine, zero, series, part, four\n",
            "musician: actor, history, actress, u, black, introduction, minister, nine, civil, end\n",
            "dance: largest, order, giving, new, person, music, death, lack, addition, end\n",
            "\n",
            "\n"
          ]
        },
        {
          "output_type": "stream",
          "name": "stderr",
          "text": [
            "18999it [07:31, 50.24it/s]"
          ]
        },
        {
          "output_type": "stream",
          "name": "stdout",
          "text": [
            "| epoch   1 | 19000/32580 batches | loss    1.575 \n"
          ]
        },
        {
          "output_type": "stream",
          "name": "stderr",
          "text": [
            "\r19005it [07:31, 30.44it/s]"
          ]
        },
        {
          "output_type": "stream",
          "name": "stdout",
          "text": [
            "money: fact, man, eight, person, able, five, seven, nine, six, four\n",
            "lion: behavior, former, battle, mainly, provided, world, lives, relations, north, history\n",
            "africa: america, end, west, eight, seven, zero, nine, four, part, series\n",
            "musician: actor, actress, history, u, introduction, black, nine, civil, minister, refer\n",
            "dance: order, largest, giving, person, new, lack, music, death, addition, early\n",
            "\n",
            "\n"
          ]
        },
        {
          "output_type": "stream",
          "name": "stderr",
          "text": [
            "19500it [07:43, 36.21it/s]"
          ]
        },
        {
          "output_type": "stream",
          "name": "stdout",
          "text": [
            "| epoch   1 | 19500/32580 batches | loss    1.567 \n"
          ]
        },
        {
          "output_type": "stream",
          "name": "stderr",
          "text": [
            "\r19504it [07:43, 17.04it/s]"
          ]
        },
        {
          "output_type": "stream",
          "name": "stdout",
          "text": [
            "money: fact, eight, man, able, person, seven, five, nine, six, found\n",
            "lion: behavior, former, mainly, battle, provided, world, history, lives, relations, north\n",
            "africa: america, end, west, eight, seven, nine, zero, four, part, five\n",
            "musician: actor, actress, history, u, introduction, black, civil, minister, nine, variety\n",
            "dance: order, largest, giving, new, lack, music, person, end, addition, forms\n",
            "\n",
            "\n"
          ]
        },
        {
          "output_type": "stream",
          "name": "stderr",
          "text": [
            "19999it [07:54, 50.68it/s]"
          ]
        },
        {
          "output_type": "stream",
          "name": "stdout",
          "text": [
            "| epoch   1 | 20000/32580 batches | loss    1.562 \n"
          ]
        },
        {
          "output_type": "stream",
          "name": "stderr",
          "text": [
            "\r20005it [07:54, 30.52it/s]"
          ]
        },
        {
          "output_type": "stream",
          "name": "stdout",
          "text": [
            "money: fact, able, eight, man, person, five, found, nine, four, six\n",
            "lion: behavior, former, mainly, battle, world, history, provided, lives, relations, north\n",
            "africa: america, end, west, eight, nine, zero, seven, four, five, europe\n",
            "musician: actor, actress, history, u, introduction, black, civil, minister, nine, variety\n",
            "dance: order, largest, music, new, giving, lack, addition, person, kingdom, forms\n",
            "\n",
            "\n"
          ]
        },
        {
          "output_type": "stream",
          "name": "stderr",
          "text": [
            "20497it [08:06, 50.36it/s]"
          ]
        },
        {
          "output_type": "stream",
          "name": "stdout",
          "text": [
            "| epoch   1 | 20500/32580 batches | loss    1.551 \n"
          ]
        },
        {
          "output_type": "stream",
          "name": "stderr",
          "text": [
            "20508it [08:07, 33.75it/s]"
          ]
        },
        {
          "output_type": "stream",
          "name": "stdout",
          "text": [
            "money: fact, eight, able, five, man, four, person, nine, six, found\n",
            "lion: behavior, former, mainly, provided, battle, history, world, lives, north, relations\n",
            "africa: america, end, eight, west, nine, seven, five, zero, europe, four\n",
            "musician: actor, actress, history, u, introduction, civil, black, nine, minister, variety\n",
            "dance: order, largest, new, lack, giving, music, addition, early, kingdom, nature\n",
            "\n",
            "\n"
          ]
        },
        {
          "output_type": "stream",
          "name": "stderr",
          "text": [
            "21000it [08:18, 35.16it/s]"
          ]
        },
        {
          "output_type": "stream",
          "name": "stdout",
          "text": [
            "| epoch   1 | 21000/32580 batches | loss    1.545 \n"
          ]
        },
        {
          "output_type": "stream",
          "name": "stderr",
          "text": [
            "\r21004it [08:18, 17.22it/s]"
          ]
        },
        {
          "output_type": "stream",
          "name": "stdout",
          "text": [
            "money: fact, able, four, man, five, eight, person, seven, six, nine\n",
            "lion: behavior, former, history, mainly, provided, world, lives, battle, relations, north\n",
            "africa: america, end, west, seven, nine, eight, five, europe, zero, part\n",
            "musician: actor, actress, history, u, nine, civil, introduction, black, variety, minister\n",
            "dance: order, largest, new, giving, lack, addition, music, forms, kingdom, nature\n",
            "\n",
            "\n"
          ]
        },
        {
          "output_type": "stream",
          "name": "stderr",
          "text": [
            "21499it [08:29, 49.89it/s]"
          ]
        },
        {
          "output_type": "stream",
          "name": "stdout",
          "text": [
            "| epoch   1 | 21500/32580 batches | loss    1.539 \n"
          ]
        },
        {
          "output_type": "stream",
          "name": "stderr",
          "text": [
            "21509it [08:30, 33.21it/s]"
          ]
        },
        {
          "output_type": "stream",
          "name": "stdout",
          "text": [
            "money: fact, able, man, eight, person, five, three, nine, seven, four\n",
            "lion: behavior, former, world, lives, history, mainly, battle, provided, relations, spain\n",
            "africa: america, end, west, nine, eight, five, europe, seven, zero, part\n",
            "musician: actor, actress, u, introduction, history, civil, nine, singer, able, black\n",
            "dance: order, largest, giving, new, lack, addition, music, forms, one, kingdom\n",
            "\n",
            "\n"
          ]
        },
        {
          "output_type": "stream",
          "name": "stderr",
          "text": [
            "21999it [08:42, 46.58it/s]"
          ]
        },
        {
          "output_type": "stream",
          "name": "stdout",
          "text": [
            "| epoch   1 | 22000/32580 batches | loss    1.528 \n"
          ]
        },
        {
          "output_type": "stream",
          "name": "stderr",
          "text": [
            "22009it [08:42, 32.03it/s]"
          ]
        },
        {
          "output_type": "stream",
          "name": "stdout",
          "text": [
            "money: able, fact, eight, five, man, person, four, found, six, nine\n",
            "lion: behavior, former, world, history, lives, battle, mainly, provided, spain, north\n",
            "africa: america, end, west, nine, europe, eight, five, seven, zero, u\n",
            "musician: actor, actress, u, history, introduction, civil, singer, nine, able, author\n",
            "dance: order, largest, new, lack, giving, music, addition, early, kingdom, forms\n",
            "\n",
            "\n"
          ]
        },
        {
          "output_type": "stream",
          "name": "stderr",
          "text": [
            "22499it [08:52, 40.12it/s]"
          ]
        },
        {
          "output_type": "stream",
          "name": "stdout",
          "text": [
            "| epoch   1 | 22500/32580 batches | loss    1.519 \n"
          ]
        },
        {
          "output_type": "stream",
          "name": "stderr",
          "text": [
            "\r22504it [08:53, 20.46it/s]"
          ]
        },
        {
          "output_type": "stream",
          "name": "stdout",
          "text": [
            "money: fact, able, eight, man, five, four, nine, person, six, found\n",
            "lion: behavior, former, battle, world, provided, mainly, lives, history, spain, relations\n",
            "africa: america, end, west, nine, eight, europe, seven, zero, part, five\n",
            "musician: actor, actress, singer, u, introduction, nine, author, civil, history, variety\n",
            "dance: order, largest, lack, addition, new, giving, music, nature, forms, kingdom\n",
            "\n",
            "\n"
          ]
        },
        {
          "output_type": "stream",
          "name": "stderr",
          "text": [
            "22995it [09:05, 50.64it/s]"
          ]
        },
        {
          "output_type": "stream",
          "name": "stdout",
          "text": [
            "| epoch   1 | 23000/32580 batches | loss    1.521 \n"
          ]
        },
        {
          "output_type": "stream",
          "name": "stderr",
          "text": [
            "23006it [09:05, 33.11it/s]"
          ]
        },
        {
          "output_type": "stream",
          "name": "stdout",
          "text": [
            "money: fact, able, eight, nine, five, man, person, found, possible, used\n",
            "lion: behavior, former, battle, mainly, provided, lives, history, world, relations, north\n",
            "africa: america, end, west, europe, nine, eight, seven, part, four, addition\n",
            "musician: actor, actress, singer, u, introduction, author, history, nine, variety, able\n",
            "dance: largest, order, lack, addition, new, music, nature, giving, kingdom, forms\n",
            "\n",
            "\n"
          ]
        },
        {
          "output_type": "stream",
          "name": "stderr",
          "text": [
            "23500it [09:17, 35.08it/s]"
          ]
        },
        {
          "output_type": "stream",
          "name": "stdout",
          "text": [
            "| epoch   1 | 23500/32580 batches | loss    1.513 \n"
          ]
        },
        {
          "output_type": "stream",
          "name": "stderr",
          "text": [
            "\r23504it [09:17, 16.71it/s]"
          ]
        },
        {
          "output_type": "stream",
          "name": "stdout",
          "text": [
            "money: fact, able, eight, nine, four, man, five, person, used, possible\n",
            "lion: behavior, former, battle, history, lives, provided, mainly, world, relations, spain\n",
            "africa: america, west, end, europe, eight, nine, seven, part, addition, zero\n",
            "musician: actor, actress, singer, introduction, u, variety, author, nine, writer, able\n",
            "dance: largest, order, lack, addition, music, new, giving, kingdom, forms, early\n",
            "\n",
            "\n"
          ]
        },
        {
          "output_type": "stream",
          "name": "stderr",
          "text": [
            "24000it [09:28, 50.33it/s]"
          ]
        },
        {
          "output_type": "stream",
          "name": "stdout",
          "text": [
            "| epoch   1 | 24000/32580 batches | loss    1.507 \n"
          ]
        },
        {
          "output_type": "stream",
          "name": "stderr",
          "text": [
            "\r24006it [09:28, 30.08it/s]"
          ]
        },
        {
          "output_type": "stream",
          "name": "stdout",
          "text": [
            "money: able, fact, nine, used, eight, man, four, person, six, work\n",
            "lion: behavior, former, battle, provided, history, lives, mainly, relations, world, spain\n",
            "africa: america, west, end, europe, nine, eight, part, zero, addition, five\n",
            "musician: actor, actress, singer, author, introduction, u, nine, variety, able, writer\n",
            "dance: largest, order, lack, music, addition, one, giving, new, forms, kingdom\n",
            "\n",
            "\n"
          ]
        },
        {
          "output_type": "stream",
          "name": "stderr",
          "text": [
            "24500it [09:40, 50.54it/s]"
          ]
        },
        {
          "output_type": "stream",
          "name": "stdout",
          "text": [
            "| epoch   1 | 24500/32580 batches | loss    1.498 \n"
          ]
        },
        {
          "output_type": "stream",
          "name": "stderr",
          "text": [
            "\r24506it [09:41, 29.68it/s]"
          ]
        },
        {
          "output_type": "stream",
          "name": "stdout",
          "text": [
            "money: able, fact, nine, eight, man, four, it, used, six, person\n",
            "lion: behavior, former, battle, provided, lives, mainly, history, spain, world, relations\n",
            "africa: america, west, end, europe, nine, eight, part, zero, five, addition\n",
            "musician: actor, actress, singer, introduction, variety, nine, author, able, writer, refer\n",
            "dance: largest, order, music, lack, addition, forms, giving, one, science, early\n",
            "\n",
            "\n"
          ]
        },
        {
          "output_type": "stream",
          "name": "stderr",
          "text": [
            "24999it [09:52, 36.16it/s]"
          ]
        },
        {
          "output_type": "stream",
          "name": "stdout",
          "text": [
            "| epoch   1 | 25000/32580 batches | loss    1.491 \n"
          ]
        },
        {
          "output_type": "stream",
          "name": "stderr",
          "text": [
            "25007it [09:52, 20.49it/s]"
          ]
        },
        {
          "output_type": "stream",
          "name": "stdout",
          "text": [
            "money: able, fact, nine, man, used, four, five, found, eight, end\n",
            "lion: behavior, former, battle, provided, lives, mainly, spain, history, north, relations\n",
            "africa: america, end, west, europe, nine, part, five, addition, eight, zero\n",
            "musician: actor, actress, singer, nine, author, introduction, variety, writer, refer, able\n",
            "dance: largest, order, music, lack, addition, forms, giving, new, kingdom, science\n",
            "\n",
            "\n"
          ]
        },
        {
          "output_type": "stream",
          "name": "stderr",
          "text": [
            "25495it [10:03, 51.13it/s]"
          ]
        },
        {
          "output_type": "stream",
          "name": "stdout",
          "text": [
            "| epoch   1 | 25500/32580 batches | loss    1.491 \n"
          ]
        },
        {
          "output_type": "stream",
          "name": "stderr",
          "text": [
            "25506it [10:04, 33.71it/s]"
          ]
        },
        {
          "output_type": "stream",
          "name": "stdout",
          "text": [
            "money: able, fact, nine, man, used, five, end, it, found, eight\n",
            "lion: behavior, former, battle, provided, lives, spain, mainly, practice, north, world\n",
            "africa: america, end, west, nine, europe, part, zero, addition, eight, seven\n",
            "musician: actor, actress, singer, nine, introduction, author, variety, writer, able, refer\n",
            "dance: largest, music, order, addition, lack, new, forms, giving, science, kingdom\n",
            "\n",
            "\n"
          ]
        },
        {
          "output_type": "stream",
          "name": "stderr",
          "text": [
            "25998it [10:16, 47.87it/s]"
          ]
        },
        {
          "output_type": "stream",
          "name": "stdout",
          "text": [
            "| epoch   1 | 26000/32580 batches | loss    1.483 \n"
          ]
        },
        {
          "output_type": "stream",
          "name": "stderr",
          "text": [
            "26008it [10:16, 31.81it/s]"
          ]
        },
        {
          "output_type": "stream",
          "name": "stdout",
          "text": [
            "money: able, fact, used, man, nine, end, so, five, four, found\n",
            "lion: behavior, former, battle, lives, provided, spain, world, mainly, history, relations\n",
            "africa: america, end, west, nine, europe, part, addition, eight, germany, four\n",
            "musician: actor, actress, singer, author, nine, variety, introduction, writer, able, refer\n",
            "dance: largest, music, order, lack, addition, forms, kingdom, new, giving, nature\n",
            "\n",
            "\n"
          ]
        },
        {
          "output_type": "stream",
          "name": "stderr",
          "text": [
            "26500it [10:26, 40.33it/s]"
          ]
        },
        {
          "output_type": "stream",
          "name": "stdout",
          "text": [
            "| epoch   1 | 26500/32580 batches | loss    1.476 \n"
          ]
        },
        {
          "output_type": "stream",
          "name": "stderr",
          "text": [
            "\r26505it [10:27, 21.82it/s]"
          ]
        },
        {
          "output_type": "stream",
          "name": "stdout",
          "text": [
            "money: able, fact, man, used, nine, eight, so, end, found, three\n",
            "lion: behavior, former, lives, battle, provided, history, spain, mainly, world, seen\n",
            "africa: america, end, europe, west, nine, part, eight, addition, germany, east\n",
            "musician: actor, actress, singer, author, variety, writer, introduction, nine, able, refer\n",
            "dance: largest, music, order, lack, addition, forms, one, kingdom, science, nature\n",
            "\n",
            "\n"
          ]
        },
        {
          "output_type": "stream",
          "name": "stderr",
          "text": [
            "26996it [10:39, 49.60it/s]"
          ]
        },
        {
          "output_type": "stream",
          "name": "stdout",
          "text": [
            "| epoch   1 | 27000/32580 batches | loss    1.473 \n"
          ]
        },
        {
          "output_type": "stream",
          "name": "stderr",
          "text": [
            "27005it [10:39, 32.01it/s]"
          ]
        },
        {
          "output_type": "stream",
          "name": "stdout",
          "text": [
            "money: able, fact, used, man, nine, eight, found, end, four, forced\n",
            "lion: behavior, former, lives, battle, provided, spain, history, mainly, seen, world\n",
            "africa: america, end, europe, west, nine, eight, part, addition, germany, east\n",
            "musician: actor, actress, singer, author, nine, writer, variety, introduction, able, refer\n",
            "dance: largest, music, order, addition, lack, new, forms, kingdom, science, one\n",
            "\n",
            "\n"
          ]
        },
        {
          "output_type": "stream",
          "name": "stderr",
          "text": [
            "27500it [10:51, 36.11it/s]"
          ]
        },
        {
          "output_type": "stream",
          "name": "stdout",
          "text": [
            "| epoch   1 | 27500/32580 batches | loss    1.464 \n"
          ]
        },
        {
          "output_type": "stream",
          "name": "stderr",
          "text": [
            "\r27504it [10:51, 17.20it/s]"
          ]
        },
        {
          "output_type": "stream",
          "name": "stdout",
          "text": [
            "money: able, fact, man, used, nine, eight, so, found, forced, end\n",
            "lion: behavior, former, battle, lives, spain, provided, history, seen, mainly, world\n",
            "africa: america, end, europe, west, nine, germany, eight, addition, india, east\n",
            "musician: actor, actress, singer, author, nine, variety, writer, able, introduction, refer\n",
            "dance: largest, music, addition, order, lack, new, forms, science, kingdom, culture\n",
            "\n",
            "\n"
          ]
        },
        {
          "output_type": "stream",
          "name": "stderr",
          "text": [
            "27995it [11:02, 50.26it/s]"
          ]
        },
        {
          "output_type": "stream",
          "name": "stdout",
          "text": [
            "| epoch   1 | 28000/32580 batches | loss    1.462 \n"
          ]
        },
        {
          "output_type": "stream",
          "name": "stderr",
          "text": [
            "28006it [11:02, 33.56it/s]"
          ]
        },
        {
          "output_type": "stream",
          "name": "stdout",
          "text": [
            "money: able, fact, man, used, nine, forced, so, eight, end, work\n",
            "lion: behavior, former, battle, lives, spain, provided, seen, mainly, africa, world\n",
            "africa: america, end, europe, west, nine, eight, germany, addition, india, part\n",
            "musician: actor, actress, singer, author, nine, writer, variety, able, introduction, refer\n",
            "dance: music, largest, order, addition, lack, new, forms, science, one, kingdom\n",
            "\n",
            "\n"
          ]
        },
        {
          "output_type": "stream",
          "name": "stderr",
          "text": [
            "28500it [11:14, 50.53it/s]"
          ]
        },
        {
          "output_type": "stream",
          "name": "stdout",
          "text": [
            "| epoch   1 | 28500/32580 batches | loss    1.454 \n"
          ]
        },
        {
          "output_type": "stream",
          "name": "stderr",
          "text": [
            "\r28506it [11:15, 30.15it/s]"
          ]
        },
        {
          "output_type": "stream",
          "name": "stdout",
          "text": [
            "money: able, fact, man, used, nine, forced, it, much, eight, work\n",
            "lion: behavior, former, battle, lives, spain, provided, seen, history, mainly, charge\n",
            "africa: america, end, europe, west, nine, india, addition, eight, east, germany\n",
            "musician: actor, actress, singer, nine, author, writer, variety, able, introduction, refer\n",
            "dance: music, largest, order, addition, new, lack, forms, science, kingdom, nature\n",
            "\n",
            "\n"
          ]
        },
        {
          "output_type": "stream",
          "name": "stderr",
          "text": [
            "29000it [11:25, 35.32it/s]"
          ]
        },
        {
          "output_type": "stream",
          "name": "stdout",
          "text": [
            "| epoch   1 | 29000/32580 batches | loss    1.448 \n"
          ]
        },
        {
          "output_type": "stream",
          "name": "stderr",
          "text": [
            "\r29004it [11:26, 16.90it/s]"
          ]
        },
        {
          "output_type": "stream",
          "name": "stdout",
          "text": [
            "money: able, fact, man, nine, forced, eight, used, much, three, found\n",
            "lion: behavior, former, lives, spain, battle, provided, seen, history, charge, africa\n",
            "africa: america, end, europe, west, nine, eight, addition, india, east, germany\n",
            "musician: actor, actress, singer, author, nine, writer, variety, introduction, able, refer\n",
            "dance: music, largest, lack, addition, order, new, forms, science, kingdom, culture\n",
            "\n",
            "\n"
          ]
        },
        {
          "output_type": "stream",
          "name": "stderr",
          "text": [
            "29500it [11:37, 50.46it/s]"
          ]
        },
        {
          "output_type": "stream",
          "name": "stdout",
          "text": [
            "| epoch   1 | 29500/32580 batches | loss    1.445 \n"
          ]
        },
        {
          "output_type": "stream",
          "name": "stderr",
          "text": [
            "\r29506it [11:37, 30.02it/s]"
          ]
        },
        {
          "output_type": "stream",
          "name": "stdout",
          "text": [
            "money: able, fact, man, forced, nine, much, five, used, well, taken\n",
            "lion: behavior, former, lives, spain, battle, provided, seen, africa, history, world\n",
            "africa: america, end, europe, west, nine, india, addition, east, part, eight\n",
            "musician: actor, actress, singer, author, writer, nine, variety, able, introduction, refer\n",
            "dance: music, largest, lack, order, addition, forms, new, culture, kingdom, science\n",
            "\n",
            "\n"
          ]
        },
        {
          "output_type": "stream",
          "name": "stderr",
          "text": [
            "29999it [11:50, 48.05it/s]"
          ]
        },
        {
          "output_type": "stream",
          "name": "stdout",
          "text": [
            "| epoch   1 | 30000/32580 batches | loss    1.443 \n"
          ]
        },
        {
          "output_type": "stream",
          "name": "stderr",
          "text": [
            "30009it [11:50, 32.04it/s]"
          ]
        },
        {
          "output_type": "stream",
          "name": "stdout",
          "text": [
            "money: able, fact, man, forced, nine, much, used, so, five, well\n",
            "lion: behavior, former, lives, spain, battle, provided, world, africa, seen, mainly\n",
            "africa: america, end, europe, west, nine, india, east, zero, addition, eight\n",
            "musician: actor, actress, singer, author, writer, nine, variety, introduction, able, refer\n",
            "dance: music, largest, lack, addition, order, forms, science, kingdom, culture, early\n",
            "\n",
            "\n"
          ]
        },
        {
          "output_type": "stream",
          "name": "stderr",
          "text": [
            "30497it [12:00, 40.28it/s]"
          ]
        },
        {
          "output_type": "stream",
          "name": "stdout",
          "text": [
            "| epoch   1 | 30500/32580 batches | loss    1.440 \n"
          ]
        },
        {
          "output_type": "stream",
          "name": "stderr",
          "text": [
            "30506it [12:01, 23.78it/s]"
          ]
        },
        {
          "output_type": "stream",
          "name": "stdout",
          "text": [
            "money: able, fact, man, forced, much, well, used, five, nine, so\n",
            "lion: behavior, former, lives, spain, battle, provided, world, africa, seen, charge\n",
            "africa: america, end, europe, west, nine, india, east, eight, addition, zero\n",
            "musician: actor, actress, singer, writer, author, nine, variety, able, introduction, minister\n",
            "dance: music, largest, lack, forms, addition, order, science, new, culture, kingdom\n",
            "\n",
            "\n"
          ]
        },
        {
          "output_type": "stream",
          "name": "stderr",
          "text": [
            "31000it [12:16, 50.58it/s]"
          ]
        },
        {
          "output_type": "stream",
          "name": "stdout",
          "text": [
            "| epoch   1 | 31000/32580 batches | loss    1.435 \n"
          ]
        },
        {
          "output_type": "stream",
          "name": "stderr",
          "text": [
            "\r31006it [12:16, 30.43it/s]"
          ]
        },
        {
          "output_type": "stream",
          "name": "stdout",
          "text": [
            "money: able, man, fact, forced, much, it, nine, so, used, well\n",
            "lion: behavior, former, lives, battle, spain, provided, seen, africa, world, charge\n",
            "africa: america, europe, end, west, nine, india, east, addition, seven, germany\n",
            "musician: actor, actress, singer, writer, author, nine, variety, minister, able, introduction\n",
            "dance: music, largest, forms, lack, addition, order, science, new, culture, early\n",
            "\n",
            "\n"
          ]
        },
        {
          "output_type": "stream",
          "name": "stderr",
          "text": [
            "31499it [12:28, 49.75it/s]"
          ]
        },
        {
          "output_type": "stream",
          "name": "stdout",
          "text": [
            "| epoch   1 | 31500/32580 batches | loss    1.429 \n"
          ]
        },
        {
          "output_type": "stream",
          "name": "stderr",
          "text": [
            "31509it [12:29, 32.81it/s]"
          ]
        },
        {
          "output_type": "stream",
          "name": "stdout",
          "text": [
            "money: able, man, forced, fact, much, nine, it, used, make, well\n",
            "lion: behavior, former, lives, battle, spain, provided, seen, africa, however, charge\n",
            "africa: america, europe, end, west, india, nine, east, germany, addition, seven\n",
            "musician: actor, actress, singer, writer, author, nine, variety, minister, introduction, able\n",
            "dance: music, largest, forms, lack, addition, order, science, culture, early, new\n",
            "\n",
            "\n"
          ]
        },
        {
          "output_type": "stream",
          "name": "stderr",
          "text": [
            "31998it [12:39, 38.90it/s]"
          ]
        },
        {
          "output_type": "stream",
          "name": "stdout",
          "text": [
            "| epoch   1 | 32000/32580 batches | loss    1.424 \n"
          ]
        },
        {
          "output_type": "stream",
          "name": "stderr",
          "text": [
            "32006it [12:40, 21.96it/s]"
          ]
        },
        {
          "output_type": "stream",
          "name": "stdout",
          "text": [
            "money: able, man, forced, fact, so, it, much, used, nine, taken\n",
            "lion: behavior, former, lives, battle, spain, provided, africa, seen, world, charge\n",
            "africa: america, europe, west, end, india, nine, germany, east, addition, eight\n",
            "musician: actor, actress, singer, writer, author, nine, variety, introduction, minister, able\n",
            "dance: music, largest, lack, addition, forms, order, science, culture, society, early\n",
            "\n",
            "\n"
          ]
        },
        {
          "output_type": "stream",
          "name": "stderr",
          "text": [
            "32499it [12:51, 50.75it/s]"
          ]
        },
        {
          "output_type": "stream",
          "name": "stdout",
          "text": [
            "| epoch   1 | 32500/32580 batches | loss    1.419 \n"
          ]
        },
        {
          "output_type": "stream",
          "name": "stderr",
          "text": [
            "\r32505it [12:52, 30.64it/s]"
          ]
        },
        {
          "output_type": "stream",
          "name": "stdout",
          "text": [
            "money: able, man, forced, fact, nine, much, so, used, taken, well\n",
            "lion: behavior, former, lives, battle, spain, africa, provided, seen, addition, charge\n",
            "africa: america, europe, west, end, india, nine, east, germany, seven, addition\n",
            "musician: actor, actress, singer, writer, author, nine, variety, introduction, minister, able\n",
            "dance: music, largest, lack, addition, forms, order, science, early, culture, new\n",
            "\n",
            "\n"
          ]
        },
        {
          "output_type": "stream",
          "name": "stderr",
          "text": [
            "32580it [12:55, 42.00it/s]\n",
            "0it [00:00, ?it/s]"
          ]
        },
        {
          "output_type": "stream",
          "name": "stdout",
          "text": [
            "| epoch   2 |     0/32580 batches | loss    1.463 \n"
          ]
        },
        {
          "output_type": "stream",
          "name": "stderr",
          "text": [
            "4it [00:03,  1.72it/s]"
          ]
        },
        {
          "output_type": "stream",
          "name": "stdout",
          "text": [
            "money: able, forced, man, fact, nine, much, used, taken, well, so\n",
            "lion: behavior, former, lives, battle, spain, provided, africa, however, seen, addition\n",
            "africa: america, europe, west, end, india, nine, seven, east, germany, addition\n",
            "musician: actor, actress, singer, writer, author, nine, variety, introduction, minister, able\n",
            "dance: music, largest, addition, lack, forms, order, science, early, culture, country\n",
            "\n",
            "\n"
          ]
        },
        {
          "output_type": "stream",
          "name": "stderr",
          "text": [
            "496it [00:14, 50.11it/s]"
          ]
        },
        {
          "output_type": "stream",
          "name": "stdout",
          "text": [
            "| epoch   2 |   500/32580 batches | loss    1.375 \n"
          ]
        },
        {
          "output_type": "stream",
          "name": "stderr",
          "text": [
            "507it [00:15, 33.70it/s]"
          ]
        },
        {
          "output_type": "stream",
          "name": "stdout",
          "text": [
            "money: able, forced, man, fact, much, nine, used, taken, well, so\n",
            "lion: behavior, former, lives, battle, spain, provided, africa, seen, however, addition\n",
            "africa: america, europe, west, end, india, nine, seven, east, germany, addition\n",
            "musician: actor, actress, singer, writer, author, nine, variety, introduction, minister, able\n",
            "dance: music, largest, addition, lack, forms, order, science, early, culture, country\n",
            "\n",
            "\n"
          ]
        },
        {
          "output_type": "stream",
          "name": "stderr",
          "text": [
            "1000it [00:27, 35.31it/s]"
          ]
        },
        {
          "output_type": "stream",
          "name": "stdout",
          "text": [
            "| epoch   2 |  1000/32580 batches | loss    1.373 \n"
          ]
        },
        {
          "output_type": "stream",
          "name": "stderr",
          "text": [
            "\r1004it [00:27, 16.84it/s]"
          ]
        },
        {
          "output_type": "stream",
          "name": "stdout",
          "text": [
            "money: able, forced, man, fact, nine, much, used, so, well, taken\n",
            "lion: behavior, former, lives, battle, spain, provided, africa, seen, addition, however\n",
            "africa: america, europe, west, end, india, nine, east, seven, germany, addition\n",
            "musician: actor, actress, singer, writer, author, nine, variety, introduction, minister, able\n",
            "dance: music, largest, addition, lack, forms, order, science, early, culture, country\n",
            "\n",
            "\n"
          ]
        },
        {
          "output_type": "stream",
          "name": "stderr",
          "text": [
            "1498it [00:37, 50.69it/s]"
          ]
        },
        {
          "output_type": "stream",
          "name": "stdout",
          "text": [
            "| epoch   2 |  1500/32580 batches | loss    1.371 \n"
          ]
        },
        {
          "output_type": "stream",
          "name": "stderr",
          "text": [
            "\r1504it [00:38, 29.12it/s]"
          ]
        },
        {
          "output_type": "stream",
          "name": "stdout",
          "text": [
            "money: able, forced, man, fact, nine, much, used, well, so, taken\n",
            "lion: behavior, former, lives, battle, spain, provided, africa, seen, addition, however\n",
            "africa: america, europe, west, end, india, nine, east, seven, germany, addition\n",
            "musician: actor, actress, singer, writer, author, nine, variety, minister, introduction, able\n",
            "dance: music, largest, addition, lack, forms, order, science, early, culture, country\n",
            "\n",
            "\n"
          ]
        },
        {
          "output_type": "stream",
          "name": "stderr",
          "text": [
            "1998it [00:50, 50.80it/s]"
          ]
        },
        {
          "output_type": "stream",
          "name": "stdout",
          "text": [
            "| epoch   2 |  2000/32580 batches | loss    1.371 \n"
          ]
        },
        {
          "output_type": "stream",
          "name": "stderr",
          "text": [
            "2009it [00:50, 33.91it/s]"
          ]
        },
        {
          "output_type": "stream",
          "name": "stdout",
          "text": [
            "money: able, forced, man, fact, nine, much, used, well, so, taken\n",
            "lion: behavior, former, lives, battle, spain, provided, africa, seen, addition, however\n",
            "africa: america, europe, west, end, india, nine, east, germany, seven, addition\n",
            "musician: actor, actress, singer, writer, author, nine, variety, introduction, minister, able\n",
            "dance: music, largest, addition, lack, forms, order, science, early, culture, country\n",
            "\n",
            "\n"
          ]
        },
        {
          "output_type": "stream",
          "name": "stderr",
          "text": [
            "2499it [01:01, 35.15it/s]"
          ]
        },
        {
          "output_type": "stream",
          "name": "stdout",
          "text": [
            "| epoch   2 |  2500/32580 batches | loss    1.368 \n"
          ]
        },
        {
          "output_type": "stream",
          "name": "stderr",
          "text": [
            "2507it [01:02, 21.04it/s]"
          ]
        },
        {
          "output_type": "stream",
          "name": "stdout",
          "text": [
            "money: able, forced, man, fact, nine, much, used, so, taken, well\n",
            "lion: behavior, former, lives, battle, spain, provided, africa, seen, however, addition\n",
            "africa: america, europe, west, end, india, nine, east, germany, seven, addition\n",
            "musician: actor, actress, singer, writer, author, nine, variety, minister, introduction, able\n",
            "dance: music, largest, addition, lack, forms, order, science, early, culture, country\n",
            "\n",
            "\n"
          ]
        },
        {
          "output_type": "stream",
          "name": "stderr",
          "text": [
            "2999it [01:13, 50.50it/s]"
          ]
        },
        {
          "output_type": "stream",
          "name": "stdout",
          "text": [
            "| epoch   2 |  3000/32580 batches | loss    1.369 \n"
          ]
        },
        {
          "output_type": "stream",
          "name": "stderr",
          "text": [
            "\r3005it [01:13, 30.09it/s]"
          ]
        },
        {
          "output_type": "stream",
          "name": "stdout",
          "text": [
            "money: able, forced, man, fact, nine, much, used, so, taken, well\n",
            "lion: behavior, former, lives, battle, spain, provided, africa, seen, addition, however\n",
            "africa: america, europe, west, end, india, nine, east, germany, seven, addition\n",
            "musician: actor, actress, singer, writer, author, nine, variety, minister, introduction, able\n",
            "dance: music, largest, addition, lack, forms, order, science, early, culture, country\n",
            "\n",
            "\n"
          ]
        },
        {
          "output_type": "stream",
          "name": "stderr",
          "text": [
            "3496it [01:25, 50.42it/s]"
          ]
        },
        {
          "output_type": "stream",
          "name": "stdout",
          "text": [
            "| epoch   2 |  3500/32580 batches | loss    1.371 \n"
          ]
        },
        {
          "output_type": "stream",
          "name": "stderr",
          "text": [
            "3507it [01:26, 33.58it/s]"
          ]
        },
        {
          "output_type": "stream",
          "name": "stdout",
          "text": [
            "money: able, forced, man, fact, nine, much, used, so, well, taken\n",
            "lion: behavior, former, lives, battle, spain, provided, africa, seen, addition, however\n",
            "africa: america, europe, west, end, india, nine, east, germany, seven, addition\n",
            "musician: actor, actress, singer, writer, author, nine, variety, minister, introduction, able\n",
            "dance: music, largest, addition, lack, forms, order, science, early, culture, country\n",
            "\n",
            "\n"
          ]
        },
        {
          "output_type": "stream",
          "name": "stderr",
          "text": [
            "4000it [01:36, 37.34it/s]"
          ]
        },
        {
          "output_type": "stream",
          "name": "stdout",
          "text": [
            "| epoch   2 |  4000/32580 batches | loss    1.368 \n"
          ]
        },
        {
          "output_type": "stream",
          "name": "stderr",
          "text": [
            "\r4004it [01:36, 17.82it/s]"
          ]
        },
        {
          "output_type": "stream",
          "name": "stdout",
          "text": [
            "money: able, forced, man, fact, much, nine, used, so, well, taken\n",
            "lion: behavior, former, lives, battle, spain, provided, africa, seen, addition, however\n",
            "africa: america, europe, west, end, india, nine, east, germany, seven, addition\n",
            "musician: actor, actress, singer, writer, author, nine, variety, introduction, minister, able\n",
            "dance: music, largest, addition, lack, forms, order, science, culture, early, country\n",
            "\n",
            "\n"
          ]
        },
        {
          "output_type": "stream",
          "name": "stderr",
          "text": [
            "4496it [01:48, 50.27it/s]"
          ]
        },
        {
          "output_type": "stream",
          "name": "stdout",
          "text": [
            "| epoch   2 |  4500/32580 batches | loss    1.369 \n"
          ]
        },
        {
          "output_type": "stream",
          "name": "stderr",
          "text": [
            "4507it [01:48, 33.69it/s]"
          ]
        },
        {
          "output_type": "stream",
          "name": "stdout",
          "text": [
            "money: able, forced, man, fact, much, nine, used, so, taken, well\n",
            "lion: behavior, former, lives, battle, spain, provided, africa, seen, addition, however\n",
            "africa: america, europe, west, end, india, nine, east, germany, seven, addition\n",
            "musician: actor, actress, singer, writer, author, nine, variety, introduction, minister, able\n",
            "dance: music, largest, addition, lack, forms, order, science, early, culture, country\n",
            "\n",
            "\n"
          ]
        },
        {
          "output_type": "stream",
          "name": "stderr",
          "text": [
            "4997it [02:00, 35.56it/s]"
          ]
        },
        {
          "output_type": "stream",
          "name": "stdout",
          "text": [
            "| epoch   2 |  5000/32580 batches | loss    1.366 \n"
          ]
        },
        {
          "output_type": "stream",
          "name": "stderr",
          "text": [
            "5005it [02:01, 21.28it/s]"
          ]
        },
        {
          "output_type": "stream",
          "name": "stdout",
          "text": [
            "money: able, forced, man, fact, much, nine, used, so, it, taken\n",
            "lion: behavior, former, lives, battle, spain, provided, africa, seen, addition, however\n",
            "africa: america, europe, west, end, india, nine, east, germany, seven, addition\n",
            "musician: actor, actress, singer, writer, author, nine, variety, introduction, minister, able\n",
            "dance: music, largest, addition, lack, forms, order, science, early, culture, country\n",
            "\n",
            "\n"
          ]
        },
        {
          "output_type": "stream",
          "name": "stderr",
          "text": [
            "5498it [02:11, 49.31it/s]"
          ]
        },
        {
          "output_type": "stream",
          "name": "stdout",
          "text": [
            "| epoch   2 |  5500/32580 batches | loss    1.363 \n"
          ]
        },
        {
          "output_type": "stream",
          "name": "stderr",
          "text": [
            "5507it [02:12, 26.41it/s]"
          ]
        },
        {
          "output_type": "stream",
          "name": "stdout",
          "text": [
            "money: able, forced, man, fact, much, nine, used, so, well, taken\n",
            "lion: behavior, former, lives, battle, spain, provided, africa, seen, however, addition\n",
            "africa: america, europe, west, end, india, nine, east, germany, seven, eight\n",
            "musician: actor, actress, singer, writer, author, nine, variety, introduction, minister, able\n",
            "dance: music, largest, addition, lack, forms, order, science, early, culture, country\n",
            "\n",
            "\n"
          ]
        },
        {
          "output_type": "stream",
          "name": "stderr",
          "text": [
            "6000it [02:24, 50.02it/s]"
          ]
        },
        {
          "output_type": "stream",
          "name": "stdout",
          "text": [
            "| epoch   2 |  6000/32580 batches | loss    1.366 \n"
          ]
        },
        {
          "output_type": "stream",
          "name": "stderr",
          "text": [
            "\r6006it [02:24, 30.13it/s]"
          ]
        },
        {
          "output_type": "stream",
          "name": "stdout",
          "text": [
            "money: able, forced, man, fact, much, nine, it, used, well, so\n",
            "lion: behavior, former, lives, battle, spain, provided, seen, africa, however, addition\n",
            "africa: america, europe, west, end, india, nine, east, germany, seven, eight\n",
            "musician: actor, actress, singer, writer, author, nine, variety, introduction, minister, able\n",
            "dance: music, largest, addition, lack, forms, order, science, early, culture, country\n",
            "\n",
            "\n"
          ]
        },
        {
          "output_type": "stream",
          "name": "stderr",
          "text": [
            "6498it [02:35, 35.05it/s]"
          ]
        },
        {
          "output_type": "stream",
          "name": "stdout",
          "text": [
            "| epoch   2 |  6500/32580 batches | loss    1.360 \n"
          ]
        },
        {
          "output_type": "stream",
          "name": "stderr",
          "text": [
            "6506it [02:36, 20.11it/s]"
          ]
        },
        {
          "output_type": "stream",
          "name": "stdout",
          "text": [
            "money: able, forced, man, fact, much, nine, it, used, well, so\n",
            "lion: behavior, former, lives, battle, spain, provided, africa, seen, however, addition\n",
            "africa: america, europe, west, end, india, nine, east, germany, seven, eight\n",
            "musician: actor, actress, singer, writer, author, nine, variety, introduction, minister, able\n",
            "dance: music, largest, addition, lack, forms, order, science, early, culture, country\n",
            "\n",
            "\n"
          ]
        },
        {
          "output_type": "stream",
          "name": "stderr",
          "text": [
            "6997it [02:46, 49.99it/s]"
          ]
        },
        {
          "output_type": "stream",
          "name": "stdout",
          "text": [
            "| epoch   2 |  7000/32580 batches | loss    1.361 \n"
          ]
        },
        {
          "output_type": "stream",
          "name": "stderr",
          "text": [
            "7007it [02:47, 32.23it/s]"
          ]
        },
        {
          "output_type": "stream",
          "name": "stdout",
          "text": [
            "money: able, forced, man, fact, much, nine, used, it, well, so\n",
            "lion: behavior, former, lives, battle, spain, provided, africa, seen, however, addition\n",
            "africa: america, europe, west, end, india, nine, east, germany, seven, addition\n",
            "musician: actor, actress, singer, writer, author, nine, variety, introduction, minister, able\n",
            "dance: music, largest, addition, lack, forms, order, science, early, culture, country\n",
            "\n",
            "\n"
          ]
        },
        {
          "output_type": "stream",
          "name": "stderr",
          "text": [
            "7496it [02:59, 50.62it/s]"
          ]
        },
        {
          "output_type": "stream",
          "name": "stdout",
          "text": [
            "| epoch   2 |  7500/32580 batches | loss    1.360 \n"
          ]
        },
        {
          "output_type": "stream",
          "name": "stderr",
          "text": [
            "7507it [02:59, 33.00it/s]"
          ]
        },
        {
          "output_type": "stream",
          "name": "stdout",
          "text": [
            "money: able, forced, man, fact, much, used, nine, well, it, so\n",
            "lion: behavior, former, lives, battle, spain, provided, africa, seen, however, addition\n",
            "africa: america, europe, west, end, india, nine, east, germany, seven, addition\n",
            "musician: actor, actress, singer, writer, author, nine, variety, introduction, minister, able\n",
            "dance: music, largest, addition, lack, forms, order, science, early, culture, country\n",
            "\n",
            "\n"
          ]
        },
        {
          "output_type": "stream",
          "name": "stderr",
          "text": [
            "8000it [03:10, 35.43it/s]"
          ]
        },
        {
          "output_type": "stream",
          "name": "stdout",
          "text": [
            "| epoch   2 |  8000/32580 batches | loss    1.363 \n"
          ]
        },
        {
          "output_type": "stream",
          "name": "stderr",
          "text": [
            "\r8004it [03:11, 17.42it/s]"
          ]
        },
        {
          "output_type": "stream",
          "name": "stdout",
          "text": [
            "money: able, forced, man, fact, much, nine, used, well, it, so\n",
            "lion: behavior, former, lives, battle, spain, provided, africa, seen, however, addition\n",
            "africa: america, europe, west, end, india, nine, east, germany, seven, addition\n",
            "musician: actor, actress, singer, writer, author, nine, variety, introduction, minister, able\n",
            "dance: music, largest, addition, lack, forms, order, science, early, culture, country\n",
            "\n",
            "\n"
          ]
        },
        {
          "output_type": "stream",
          "name": "stderr",
          "text": [
            "8497it [03:22, 50.66it/s]"
          ]
        },
        {
          "output_type": "stream",
          "name": "stdout",
          "text": [
            "| epoch   2 |  8500/32580 batches | loss    1.365 \n"
          ]
        },
        {
          "output_type": "stream",
          "name": "stderr",
          "text": [
            "8508it [03:22, 32.71it/s]"
          ]
        },
        {
          "output_type": "stream",
          "name": "stdout",
          "text": [
            "money: able, forced, man, fact, much, nine, well, used, it, so\n",
            "lion: behavior, former, lives, battle, spain, provided, africa, seen, however, addition\n",
            "africa: america, europe, west, end, india, nine, east, germany, seven, addition\n",
            "musician: actor, actress, singer, writer, author, nine, variety, introduction, minister, able\n",
            "dance: music, largest, addition, lack, forms, order, science, early, culture, one\n",
            "\n",
            "\n"
          ]
        },
        {
          "output_type": "stream",
          "name": "stderr",
          "text": [
            "8995it [03:34, 48.90it/s]"
          ]
        },
        {
          "output_type": "stream",
          "name": "stdout",
          "text": [
            "| epoch   2 |  9000/32580 batches | loss    1.362 \n"
          ]
        },
        {
          "output_type": "stream",
          "name": "stderr",
          "text": [
            "9005it [03:35, 31.70it/s]"
          ]
        },
        {
          "output_type": "stream",
          "name": "stdout",
          "text": [
            "money: able, forced, man, fact, much, nine, well, used, it, so\n",
            "lion: behavior, former, lives, battle, spain, africa, provided, seen, however, addition\n",
            "africa: america, europe, west, end, india, nine, east, germany, seven, addition\n",
            "musician: actor, actress, singer, writer, author, nine, variety, introduction, minister, able\n",
            "dance: music, largest, addition, lack, forms, order, science, early, culture, country\n",
            "\n",
            "\n"
          ]
        },
        {
          "output_type": "stream",
          "name": "stderr",
          "text": [
            "9500it [03:45, 39.35it/s]"
          ]
        },
        {
          "output_type": "stream",
          "name": "stdout",
          "text": [
            "| epoch   2 |  9500/32580 batches | loss    1.358 \n"
          ]
        },
        {
          "output_type": "stream",
          "name": "stderr",
          "text": [
            "\r9504it [03:46, 20.29it/s]"
          ]
        },
        {
          "output_type": "stream",
          "name": "stdout",
          "text": [
            "money: able, forced, man, fact, much, nine, well, used, so, it\n",
            "lion: behavior, former, lives, battle, spain, africa, provided, seen, addition, however\n",
            "africa: america, europe, west, india, end, nine, east, germany, seven, addition\n",
            "musician: actor, actress, singer, writer, author, nine, variety, introduction, minister, able\n",
            "dance: music, largest, addition, lack, order, forms, science, early, culture, one\n",
            "\n",
            "\n"
          ]
        },
        {
          "output_type": "stream",
          "name": "stderr",
          "text": [
            "10000it [03:58, 50.51it/s]"
          ]
        },
        {
          "output_type": "stream",
          "name": "stdout",
          "text": [
            "| epoch   2 | 10000/32580 batches | loss    1.358 \n"
          ]
        },
        {
          "output_type": "stream",
          "name": "stderr",
          "text": [
            "\r10006it [03:58, 30.13it/s]"
          ]
        },
        {
          "output_type": "stream",
          "name": "stdout",
          "text": [
            "money: able, forced, man, fact, much, nine, well, so, used, it\n",
            "lion: behavior, former, lives, battle, spain, africa, provided, seen, addition, however\n",
            "africa: america, europe, west, india, end, nine, east, germany, seven, addition\n",
            "musician: actor, actress, singer, writer, author, nine, variety, introduction, minister, able\n",
            "dance: music, largest, addition, lack, forms, order, science, early, culture, one\n",
            "\n",
            "\n"
          ]
        },
        {
          "output_type": "stream",
          "name": "stderr",
          "text": [
            "10499it [04:10, 36.68it/s]"
          ]
        },
        {
          "output_type": "stream",
          "name": "stdout",
          "text": [
            "| epoch   2 | 10500/32580 batches | loss    1.362 \n"
          ]
        },
        {
          "output_type": "stream",
          "name": "stderr",
          "text": [
            "10507it [04:10, 20.40it/s]"
          ]
        },
        {
          "output_type": "stream",
          "name": "stdout",
          "text": [
            "money: able, forced, man, fact, much, nine, well, used, so, make\n",
            "lion: behavior, former, lives, battle, spain, africa, provided, seen, addition, however\n",
            "africa: america, europe, west, india, end, nine, east, germany, seven, addition\n",
            "musician: actor, actress, singer, writer, author, nine, variety, introduction, minister, able\n",
            "dance: music, largest, addition, lack, forms, order, science, early, culture, one\n",
            "\n",
            "\n"
          ]
        },
        {
          "output_type": "stream",
          "name": "stderr",
          "text": [
            "10998it [04:20, 50.46it/s]"
          ]
        },
        {
          "output_type": "stream",
          "name": "stdout",
          "text": [
            "| epoch   2 | 11000/32580 batches | loss    1.358 \n"
          ]
        },
        {
          "output_type": "stream",
          "name": "stderr",
          "text": [
            "11009it [04:21, 34.10it/s]"
          ]
        },
        {
          "output_type": "stream",
          "name": "stdout",
          "text": [
            "money: able, forced, man, fact, much, nine, well, so, used, it\n",
            "lion: behavior, former, lives, battle, spain, africa, seen, provided, addition, however\n",
            "africa: america, europe, west, india, end, nine, east, germany, seven, addition\n",
            "musician: actor, actress, singer, writer, author, nine, variety, introduction, minister, able\n",
            "dance: music, largest, addition, lack, forms, order, science, early, culture, one\n",
            "\n",
            "\n"
          ]
        },
        {
          "output_type": "stream",
          "name": "stderr",
          "text": [
            "11500it [04:33, 50.67it/s]"
          ]
        },
        {
          "output_type": "stream",
          "name": "stdout",
          "text": [
            "| epoch   2 | 11500/32580 batches | loss    1.360 \n"
          ]
        },
        {
          "output_type": "stream",
          "name": "stderr",
          "text": [
            "\r11506it [04:33, 30.27it/s]"
          ]
        },
        {
          "output_type": "stream",
          "name": "stdout",
          "text": [
            "money: able, forced, man, fact, much, nine, it, well, used, so\n",
            "lion: behavior, former, lives, battle, spain, africa, provided, seen, addition, charge\n",
            "africa: america, europe, west, india, end, nine, east, germany, seven, addition\n",
            "musician: actor, actress, singer, writer, author, nine, variety, introduction, minister, able\n",
            "dance: music, largest, addition, lack, order, forms, science, culture, early, one\n",
            "\n",
            "\n"
          ]
        },
        {
          "output_type": "stream",
          "name": "stderr",
          "text": [
            "11997it [04:44, 36.06it/s]"
          ]
        },
        {
          "output_type": "stream",
          "name": "stdout",
          "text": [
            "| epoch   2 | 12000/32580 batches | loss    1.356 \n"
          ]
        },
        {
          "output_type": "stream",
          "name": "stderr",
          "text": [
            "12004it [04:45, 19.03it/s]"
          ]
        },
        {
          "output_type": "stream",
          "name": "stdout",
          "text": [
            "money: able, forced, man, fact, much, nine, well, it, so, used\n",
            "lion: behavior, former, lives, battle, spain, africa, provided, seen, addition, world\n",
            "africa: america, europe, west, india, end, nine, east, germany, seven, addition\n",
            "musician: actor, actress, singer, writer, author, nine, variety, introduction, able, minister\n",
            "dance: music, largest, addition, lack, order, forms, science, early, culture, one\n",
            "\n",
            "\n"
          ]
        },
        {
          "output_type": "stream",
          "name": "stderr",
          "text": [
            "12498it [04:56, 49.53it/s]"
          ]
        },
        {
          "output_type": "stream",
          "name": "stdout",
          "text": [
            "| epoch   2 | 12500/32580 batches | loss    1.358 \n"
          ]
        },
        {
          "output_type": "stream",
          "name": "stderr",
          "text": [
            "12508it [04:56, 32.72it/s]"
          ]
        },
        {
          "output_type": "stream",
          "name": "stdout",
          "text": [
            "money: able, forced, man, fact, much, nine, well, it, so, used\n",
            "lion: behavior, former, lives, battle, spain, africa, provided, seen, addition, charge\n",
            "africa: america, europe, west, india, end, nine, east, germany, seven, addition\n",
            "musician: actor, actress, singer, writer, author, nine, variety, introduction, able, minister\n",
            "dance: music, largest, addition, lack, forms, order, science, early, culture, country\n",
            "\n",
            "\n"
          ]
        },
        {
          "output_type": "stream",
          "name": "stderr",
          "text": [
            "12998it [05:09, 50.16it/s]"
          ]
        },
        {
          "output_type": "stream",
          "name": "stdout",
          "text": [
            "| epoch   2 | 13000/32580 batches | loss    1.359 \n"
          ]
        },
        {
          "output_type": "stream",
          "name": "stderr",
          "text": [
            "13010it [05:09, 34.47it/s]"
          ]
        },
        {
          "output_type": "stream",
          "name": "stdout",
          "text": [
            "money: able, forced, man, fact, much, nine, well, it, used, make\n",
            "lion: behavior, former, lives, battle, spain, africa, provided, seen, addition, charge\n",
            "africa: america, europe, west, india, end, nine, east, germany, addition, seven\n",
            "musician: actor, actress, singer, writer, author, nine, variety, introduction, able, minister\n",
            "dance: music, largest, addition, lack, order, forms, science, culture, early, one\n",
            "\n",
            "\n"
          ]
        },
        {
          "output_type": "stream",
          "name": "stderr",
          "text": [
            "13498it [05:19, 37.71it/s]"
          ]
        },
        {
          "output_type": "stream",
          "name": "stdout",
          "text": [
            "| epoch   2 | 13500/32580 batches | loss    1.358 \n"
          ]
        },
        {
          "output_type": "stream",
          "name": "stderr",
          "text": [
            "13506it [05:20, 21.72it/s]"
          ]
        },
        {
          "output_type": "stream",
          "name": "stdout",
          "text": [
            "money: able, forced, fact, man, much, nine, well, it, used, so\n",
            "lion: behavior, former, lives, battle, spain, africa, provided, seen, addition, charge\n",
            "africa: america, europe, west, india, end, nine, germany, east, addition, seven\n",
            "musician: actor, actress, singer, writer, author, nine, variety, introduction, able, minister\n",
            "dance: music, largest, addition, lack, order, forms, science, one, early, culture\n",
            "\n",
            "\n"
          ]
        },
        {
          "output_type": "stream",
          "name": "stderr",
          "text": [
            "13999it [05:32, 49.81it/s]"
          ]
        },
        {
          "output_type": "stream",
          "name": "stdout",
          "text": [
            "| epoch   2 | 14000/32580 batches | loss    1.354 \n"
          ]
        },
        {
          "output_type": "stream",
          "name": "stderr",
          "text": [
            "14009it [05:32, 33.05it/s]"
          ]
        },
        {
          "output_type": "stream",
          "name": "stdout",
          "text": [
            "money: able, forced, fact, man, much, nine, well, it, so, used\n",
            "lion: behavior, former, lives, battle, spain, africa, provided, seen, addition, charge\n",
            "africa: america, europe, west, india, end, nine, east, germany, addition, eight\n",
            "musician: actor, actress, singer, writer, author, nine, variety, introduction, able, minister\n",
            "dance: music, largest, addition, lack, order, forms, science, early, culture, one\n",
            "\n",
            "\n"
          ]
        },
        {
          "output_type": "stream",
          "name": "stderr",
          "text": [
            "14498it [05:44, 35.58it/s]"
          ]
        },
        {
          "output_type": "stream",
          "name": "stdout",
          "text": [
            "| epoch   2 | 14500/32580 batches | loss    1.355 \n"
          ]
        },
        {
          "output_type": "stream",
          "name": "stderr",
          "text": [
            "14506it [05:45, 19.56it/s]"
          ]
        },
        {
          "output_type": "stream",
          "name": "stdout",
          "text": [
            "money: able, forced, man, fact, much, it, well, nine, so, used\n",
            "lion: behavior, former, lives, battle, spain, africa, provided, seen, addition, charge\n",
            "africa: america, europe, west, india, end, nine, east, germany, addition, eight\n",
            "musician: actor, actress, singer, writer, author, nine, variety, introduction, able, minister\n",
            "dance: music, largest, addition, lack, order, forms, science, one, early, culture\n",
            "\n",
            "\n"
          ]
        },
        {
          "output_type": "stream",
          "name": "stderr",
          "text": [
            "15000it [05:55, 49.73it/s]"
          ]
        },
        {
          "output_type": "stream",
          "name": "stdout",
          "text": [
            "| epoch   2 | 15000/32580 batches | loss    1.355 \n"
          ]
        },
        {
          "output_type": "stream",
          "name": "stderr",
          "text": [
            "\r15005it [05:55, 28.06it/s]"
          ]
        },
        {
          "output_type": "stream",
          "name": "stdout",
          "text": [
            "money: able, forced, fact, man, much, it, well, nine, used, so\n",
            "lion: behavior, former, lives, battle, spain, africa, provided, seen, addition, charge\n",
            "africa: america, europe, west, india, end, nine, east, germany, eight, addition\n",
            "musician: actor, actress, singer, writer, author, nine, variety, introduction, able, minister\n",
            "dance: music, largest, addition, lack, order, forms, science, early, culture, one\n",
            "\n",
            "\n"
          ]
        },
        {
          "output_type": "stream",
          "name": "stderr",
          "text": [
            "15497it [06:07, 50.33it/s]"
          ]
        },
        {
          "output_type": "stream",
          "name": "stdout",
          "text": [
            "| epoch   2 | 15500/32580 batches | loss    1.355 \n"
          ]
        },
        {
          "output_type": "stream",
          "name": "stderr",
          "text": [
            "15508it [06:08, 33.39it/s]"
          ]
        },
        {
          "output_type": "stream",
          "name": "stdout",
          "text": [
            "money: able, forced, fact, man, much, it, well, nine, so, used\n",
            "lion: behavior, former, lives, battle, spain, africa, provided, seen, addition, charge\n",
            "africa: america, europe, west, india, end, nine, east, germany, seven, eight\n",
            "musician: actor, actress, singer, writer, author, nine, variety, introduction, able, minister\n",
            "dance: music, largest, addition, lack, forms, order, science, one, early, culture\n",
            "\n",
            "\n"
          ]
        },
        {
          "output_type": "stream",
          "name": "stderr",
          "text": [
            "16000it [06:19, 35.50it/s]"
          ]
        },
        {
          "output_type": "stream",
          "name": "stdout",
          "text": [
            "| epoch   2 | 16000/32580 batches | loss    1.354 \n"
          ]
        },
        {
          "output_type": "stream",
          "name": "stderr",
          "text": [
            "\r16004it [06:19, 16.78it/s]"
          ]
        },
        {
          "output_type": "stream",
          "name": "stdout",
          "text": [
            "money: able, forced, fact, man, much, it, well, nine, so, used\n",
            "lion: behavior, former, lives, battle, spain, africa, provided, seen, addition, however\n",
            "africa: america, europe, west, india, end, nine, east, germany, seven, addition\n",
            "musician: actor, actress, singer, writer, author, nine, variety, introduction, able, minister\n",
            "dance: music, largest, addition, lack, order, forms, science, one, early, culture\n",
            "\n",
            "\n"
          ]
        },
        {
          "output_type": "stream",
          "name": "stderr",
          "text": [
            "16497it [06:30, 50.19it/s]"
          ]
        },
        {
          "output_type": "stream",
          "name": "stdout",
          "text": [
            "| epoch   2 | 16500/32580 batches | loss    1.352 \n"
          ]
        },
        {
          "output_type": "stream",
          "name": "stderr",
          "text": [
            "16508it [06:31, 32.83it/s]"
          ]
        },
        {
          "output_type": "stream",
          "name": "stdout",
          "text": [
            "money: able, forced, fact, man, much, well, it, so, nine, make\n",
            "lion: behavior, former, lives, battle, spain, africa, provided, seen, addition, however\n",
            "africa: america, europe, west, india, end, nine, east, germany, addition, seven\n",
            "musician: actor, actress, singer, writer, author, nine, variety, introduction, able, minister\n",
            "dance: music, largest, addition, lack, order, forms, science, culture, early, one\n",
            "\n",
            "\n"
          ]
        },
        {
          "output_type": "stream",
          "name": "stderr",
          "text": [
            "16997it [06:43, 50.62it/s]"
          ]
        },
        {
          "output_type": "stream",
          "name": "stdout",
          "text": [
            "| epoch   2 | 17000/32580 batches | loss    1.352 \n"
          ]
        },
        {
          "output_type": "stream",
          "name": "stderr",
          "text": [
            "17008it [06:43, 32.63it/s]"
          ]
        },
        {
          "output_type": "stream",
          "name": "stdout",
          "text": [
            "money: able, forced, fact, man, much, it, well, so, nine, make\n",
            "lion: behavior, former, lives, battle, spain, africa, provided, seen, addition, charge\n",
            "africa: america, europe, west, india, end, nine, east, germany, addition, seven\n",
            "musician: actor, actress, singer, writer, author, nine, variety, introduction, able, minister\n",
            "dance: music, largest, addition, lack, order, forms, science, one, early, culture\n",
            "\n",
            "\n"
          ]
        },
        {
          "output_type": "stream",
          "name": "stderr",
          "text": [
            "17500it [06:54, 36.40it/s]"
          ]
        },
        {
          "output_type": "stream",
          "name": "stdout",
          "text": [
            "| epoch   2 | 17500/32580 batches | loss    1.353 \n"
          ]
        },
        {
          "output_type": "stream",
          "name": "stderr",
          "text": [
            "\r17504it [06:54, 16.91it/s]"
          ]
        },
        {
          "output_type": "stream",
          "name": "stdout",
          "text": [
            "money: able, forced, fact, man, much, it, well, so, make, taken\n",
            "lion: behavior, former, lives, battle, spain, africa, provided, seen, addition, charge\n",
            "africa: america, europe, west, india, end, nine, east, germany, seven, addition\n",
            "musician: actor, actress, singer, writer, author, nine, variety, introduction, able, minister\n",
            "dance: music, largest, addition, lack, order, forms, science, early, culture, one\n",
            "\n",
            "\n"
          ]
        },
        {
          "output_type": "stream",
          "name": "stderr",
          "text": [
            "18000it [07:06, 48.56it/s]"
          ]
        },
        {
          "output_type": "stream",
          "name": "stdout",
          "text": [
            "| epoch   2 | 18000/32580 batches | loss    1.353 \n"
          ]
        },
        {
          "output_type": "stream",
          "name": "stderr",
          "text": [
            "\r18005it [07:06, 28.91it/s]"
          ]
        },
        {
          "output_type": "stream",
          "name": "stdout",
          "text": [
            "money: able, forced, fact, man, much, it, well, nine, so, make\n",
            "lion: behavior, former, lives, battle, spain, africa, provided, seen, addition, charge\n",
            "africa: america, europe, west, india, end, nine, east, germany, addition, seven\n",
            "musician: actor, actress, singer, writer, author, nine, variety, introduction, able, minister\n",
            "dance: music, largest, addition, lack, order, forms, science, one, early, culture\n",
            "\n",
            "\n"
          ]
        },
        {
          "output_type": "stream",
          "name": "stderr",
          "text": [
            "18495it [07:18, 37.53it/s]"
          ]
        },
        {
          "output_type": "stream",
          "name": "stdout",
          "text": [
            "| epoch   2 | 18500/32580 batches | loss    1.350 \n"
          ]
        },
        {
          "output_type": "stream",
          "name": "stderr",
          "text": [
            "18505it [07:19, 28.52it/s]"
          ]
        },
        {
          "output_type": "stream",
          "name": "stdout",
          "text": [
            "money: able, forced, fact, man, much, it, well, so, nine, make\n",
            "lion: behavior, former, lives, battle, spain, africa, provided, seen, addition, charge\n",
            "africa: america, europe, west, india, end, nine, east, germany, addition, seven\n",
            "musician: actor, actress, singer, writer, author, nine, variety, introduction, able, minister\n",
            "dance: music, largest, addition, lack, order, forms, science, culture, early, one\n",
            "\n",
            "\n"
          ]
        },
        {
          "output_type": "stream",
          "name": "stderr",
          "text": [
            "19000it [07:29, 41.79it/s]"
          ]
        },
        {
          "output_type": "stream",
          "name": "stdout",
          "text": [
            "| epoch   2 | 19000/32580 batches | loss    1.352 \n"
          ]
        },
        {
          "output_type": "stream",
          "name": "stderr",
          "text": [
            "\r19005it [07:29, 21.74it/s]"
          ]
        },
        {
          "output_type": "stream",
          "name": "stdout",
          "text": [
            "money: able, forced, fact, man, much, it, well, so, nine, make\n",
            "lion: behavior, former, lives, battle, spain, africa, provided, seen, addition, charge\n",
            "africa: america, europe, west, india, end, nine, east, germany, addition, seven\n",
            "musician: actor, actress, singer, writer, author, nine, variety, introduction, able, minister\n",
            "dance: music, largest, lack, addition, order, forms, science, culture, early, one\n",
            "\n",
            "\n"
          ]
        },
        {
          "output_type": "stream",
          "name": "stderr",
          "text": [
            "19498it [07:42, 49.67it/s]"
          ]
        },
        {
          "output_type": "stream",
          "name": "stdout",
          "text": [
            "| epoch   2 | 19500/32580 batches | loss    1.357 \n"
          ]
        },
        {
          "output_type": "stream",
          "name": "stderr",
          "text": [
            "19508it [07:42, 33.44it/s]"
          ]
        },
        {
          "output_type": "stream",
          "name": "stdout",
          "text": [
            "money: able, forced, fact, man, much, it, well, so, nine, make\n",
            "lion: behavior, former, lives, battle, spain, africa, provided, seen, addition, charge\n",
            "africa: america, europe, west, india, end, nine, east, germany, addition, france\n",
            "musician: actor, actress, singer, writer, author, nine, variety, introduction, able, minister\n",
            "dance: music, largest, lack, addition, order, forms, science, one, culture, early\n",
            "\n",
            "\n"
          ]
        },
        {
          "output_type": "stream",
          "name": "stderr",
          "text": [
            "20000it [07:53, 34.83it/s]"
          ]
        },
        {
          "output_type": "stream",
          "name": "stdout",
          "text": [
            "| epoch   2 | 20000/32580 batches | loss    1.347 \n"
          ]
        },
        {
          "output_type": "stream",
          "name": "stderr",
          "text": [
            "20008it [07:54, 21.34it/s]"
          ]
        },
        {
          "output_type": "stream",
          "name": "stdout",
          "text": [
            "money: able, forced, fact, man, much, it, well, so, nine, taken\n",
            "lion: behavior, former, lives, battle, spain, africa, provided, seen, addition, charge\n",
            "africa: america, europe, west, india, end, nine, east, germany, addition, seven\n",
            "musician: actor, actress, singer, writer, author, nine, variety, introduction, able, minister\n",
            "dance: music, largest, lack, addition, order, forms, science, one, culture, early\n",
            "\n",
            "\n"
          ]
        },
        {
          "output_type": "stream",
          "name": "stderr",
          "text": [
            "20497it [08:04, 49.58it/s]"
          ]
        },
        {
          "output_type": "stream",
          "name": "stdout",
          "text": [
            "| epoch   2 | 20500/32580 batches | loss    1.349 \n"
          ]
        },
        {
          "output_type": "stream",
          "name": "stderr",
          "text": [
            "20507it [08:05, 32.74it/s]"
          ]
        },
        {
          "output_type": "stream",
          "name": "stdout",
          "text": [
            "money: able, forced, fact, man, much, it, well, so, nine, make\n",
            "lion: behavior, former, lives, battle, spain, africa, provided, seen, addition, charge\n",
            "africa: america, europe, west, india, end, nine, east, germany, addition, france\n",
            "musician: actor, actress, singer, writer, author, nine, variety, introduction, able, minister\n",
            "dance: music, largest, lack, addition, order, forms, science, one, culture, early\n",
            "\n",
            "\n"
          ]
        },
        {
          "output_type": "stream",
          "name": "stderr",
          "text": [
            "20996it [08:17, 49.26it/s]"
          ]
        },
        {
          "output_type": "stream",
          "name": "stdout",
          "text": [
            "| epoch   2 | 21000/32580 batches | loss    1.348 \n"
          ]
        },
        {
          "output_type": "stream",
          "name": "stderr",
          "text": [
            "21006it [08:18, 32.25it/s]"
          ]
        },
        {
          "output_type": "stream",
          "name": "stdout",
          "text": [
            "money: able, forced, fact, much, man, it, well, so, nine, taken\n",
            "lion: behavior, former, lives, battle, spain, africa, provided, seen, addition, charge\n",
            "africa: america, europe, west, india, end, nine, east, germany, addition, eight\n",
            "musician: actor, actress, singer, writer, author, nine, variety, introduction, able, minister\n",
            "dance: music, largest, lack, addition, order, forms, one, science, culture, early\n",
            "\n",
            "\n"
          ]
        },
        {
          "output_type": "stream",
          "name": "stderr",
          "text": [
            "21498it [08:28, 37.86it/s]"
          ]
        },
        {
          "output_type": "stream",
          "name": "stdout",
          "text": [
            "| epoch   2 | 21500/32580 batches | loss    1.351 \n"
          ]
        },
        {
          "output_type": "stream",
          "name": "stderr",
          "text": [
            "21506it [08:29, 20.63it/s]"
          ]
        },
        {
          "output_type": "stream",
          "name": "stdout",
          "text": [
            "money: able, forced, fact, much, man, it, well, so, nine, taken\n",
            "lion: behavior, former, lives, battle, africa, spain, provided, seen, addition, charge\n",
            "africa: america, europe, west, india, end, nine, germany, east, addition, eight\n",
            "musician: actor, actress, singer, writer, author, nine, variety, introduction, able, minister\n",
            "dance: music, largest, lack, addition, order, forms, science, one, culture, early\n",
            "\n",
            "\n"
          ]
        },
        {
          "output_type": "stream",
          "name": "stderr",
          "text": [
            "21999it [08:43, 50.38it/s]"
          ]
        },
        {
          "output_type": "stream",
          "name": "stdout",
          "text": [
            "| epoch   2 | 22000/32580 batches | loss    1.351 \n"
          ]
        },
        {
          "output_type": "stream",
          "name": "stderr",
          "text": [
            "\r22005it [08:44, 29.58it/s]"
          ]
        },
        {
          "output_type": "stream",
          "name": "stdout",
          "text": [
            "money: able, forced, much, fact, man, it, well, so, nine, make\n",
            "lion: behavior, former, lives, battle, africa, spain, provided, seen, addition, charge\n",
            "africa: america, europe, west, india, end, nine, germany, east, addition, france\n",
            "musician: actor, actress, singer, writer, author, nine, variety, introduction, able, minister\n",
            "dance: music, largest, lack, addition, order, forms, science, one, culture, early\n",
            "\n",
            "\n"
          ]
        },
        {
          "output_type": "stream",
          "name": "stderr",
          "text": [
            "22497it [08:56, 50.65it/s]"
          ]
        },
        {
          "output_type": "stream",
          "name": "stdout",
          "text": [
            "| epoch   2 | 22500/32580 batches | loss    1.348 \n"
          ]
        },
        {
          "output_type": "stream",
          "name": "stderr",
          "text": [
            "22508it [08:56, 33.41it/s]"
          ]
        },
        {
          "output_type": "stream",
          "name": "stdout",
          "text": [
            "money: able, forced, fact, much, man, it, well, so, nine, make\n",
            "lion: behavior, former, lives, battle, africa, spain, provided, seen, addition, charge\n",
            "africa: america, europe, west, india, end, nine, germany, east, addition, france\n",
            "musician: actor, actress, singer, writer, author, nine, variety, introduction, able, minister\n",
            "dance: music, largest, lack, addition, order, forms, science, one, culture, early\n",
            "\n",
            "\n"
          ]
        },
        {
          "output_type": "stream",
          "name": "stderr",
          "text": [
            "22999it [09:07, 35.59it/s]"
          ]
        },
        {
          "output_type": "stream",
          "name": "stdout",
          "text": [
            "| epoch   2 | 23000/32580 batches | loss    1.353 \n"
          ]
        },
        {
          "output_type": "stream",
          "name": "stderr",
          "text": [
            "23007it [09:08, 20.40it/s]"
          ]
        },
        {
          "output_type": "stream",
          "name": "stdout",
          "text": [
            "money: able, forced, fact, much, man, it, well, so, nine, taken\n",
            "lion: behavior, former, lives, battle, africa, spain, provided, seen, addition, charge\n",
            "africa: america, europe, west, india, end, nine, germany, east, addition, eight\n",
            "musician: actor, actress, singer, writer, author, nine, variety, introduction, able, minister\n",
            "dance: music, largest, lack, addition, order, forms, science, one, culture, early\n",
            "\n",
            "\n"
          ]
        },
        {
          "output_type": "stream",
          "name": "stderr",
          "text": [
            "23498it [09:19, 48.81it/s]"
          ]
        },
        {
          "output_type": "stream",
          "name": "stdout",
          "text": [
            "| epoch   2 | 23500/32580 batches | loss    1.351 \n"
          ]
        },
        {
          "output_type": "stream",
          "name": "stderr",
          "text": [
            "23508it [09:19, 32.26it/s]"
          ]
        },
        {
          "output_type": "stream",
          "name": "stdout",
          "text": [
            "money: able, forced, much, fact, man, it, well, so, taken, them\n",
            "lion: behavior, former, lives, battle, africa, spain, provided, seen, addition, charge\n",
            "africa: america, europe, west, india, end, nine, germany, east, addition, france\n",
            "musician: actor, actress, singer, writer, author, nine, variety, introduction, able, minister\n",
            "dance: music, largest, lack, addition, order, forms, science, culture, one, early\n",
            "\n",
            "\n"
          ]
        },
        {
          "output_type": "stream",
          "name": "stderr",
          "text": [
            "24000it [09:32, 48.71it/s]"
          ]
        },
        {
          "output_type": "stream",
          "name": "stdout",
          "text": [
            "| epoch   2 | 24000/32580 batches | loss    1.346 \n"
          ]
        },
        {
          "output_type": "stream",
          "name": "stderr",
          "text": [
            "24010it [09:32, 32.52it/s]"
          ]
        },
        {
          "output_type": "stream",
          "name": "stdout",
          "text": [
            "money: able, forced, much, fact, it, man, well, so, taken, them\n",
            "lion: behavior, former, lives, battle, africa, spain, provided, seen, addition, charge\n",
            "africa: america, europe, west, india, end, germany, nine, east, addition, france\n",
            "musician: actor, actress, singer, writer, author, nine, variety, introduction, able, minister\n",
            "dance: music, largest, lack, addition, order, forms, science, one, culture, early\n",
            "\n",
            "\n"
          ]
        },
        {
          "output_type": "stream",
          "name": "stderr",
          "text": [
            "24499it [09:42, 39.48it/s]"
          ]
        },
        {
          "output_type": "stream",
          "name": "stdout",
          "text": [
            "| epoch   2 | 24500/32580 batches | loss    1.348 \n"
          ]
        },
        {
          "output_type": "stream",
          "name": "stderr",
          "text": [
            "\r24503it [09:43, 20.71it/s]"
          ]
        },
        {
          "output_type": "stream",
          "name": "stdout",
          "text": [
            "money: able, forced, fact, much, it, man, well, so, taken, nine\n",
            "lion: behavior, former, lives, battle, africa, spain, provided, seen, addition, charge\n",
            "africa: america, europe, west, india, end, germany, nine, east, addition, france\n",
            "musician: actor, actress, singer, writer, author, nine, variety, introduction, able, minister\n",
            "dance: music, largest, lack, addition, order, forms, one, science, culture, early\n",
            "\n",
            "\n"
          ]
        },
        {
          "output_type": "stream",
          "name": "stderr",
          "text": [
            "24996it [09:55, 48.66it/s]"
          ]
        },
        {
          "output_type": "stream",
          "name": "stdout",
          "text": [
            "| epoch   2 | 25000/32580 batches | loss    1.350 \n"
          ]
        },
        {
          "output_type": "stream",
          "name": "stderr",
          "text": [
            "25006it [09:55, 31.99it/s]"
          ]
        },
        {
          "output_type": "stream",
          "name": "stdout",
          "text": [
            "money: able, forced, fact, much, it, man, well, so, taken, them\n",
            "lion: behavior, former, lives, battle, africa, spain, provided, seen, addition, charge\n",
            "africa: america, europe, west, india, end, germany, nine, east, addition, seven\n",
            "musician: actor, actress, singer, writer, author, nine, variety, introduction, able, minister\n",
            "dance: music, largest, lack, addition, forms, order, science, culture, early, one\n",
            "\n",
            "\n"
          ]
        },
        {
          "output_type": "stream",
          "name": "stderr",
          "text": [
            "25498it [10:07, 34.31it/s]"
          ]
        },
        {
          "output_type": "stream",
          "name": "stdout",
          "text": [
            "| epoch   2 | 25500/32580 batches | loss    1.344 \n"
          ]
        },
        {
          "output_type": "stream",
          "name": "stderr",
          "text": [
            "25505it [10:08, 19.09it/s]"
          ]
        },
        {
          "output_type": "stream",
          "name": "stdout",
          "text": [
            "money: able, forced, it, much, fact, man, well, so, taken, make\n",
            "lion: behavior, former, lives, battle, africa, spain, provided, seen, addition, charge\n",
            "africa: america, europe, west, india, end, germany, nine, east, addition, seven\n",
            "musician: actor, actress, singer, writer, author, nine, variety, introduction, able, minister\n",
            "dance: music, largest, lack, addition, forms, order, science, culture, early, one\n",
            "\n",
            "\n"
          ]
        },
        {
          "output_type": "stream",
          "name": "stderr",
          "text": [
            "26000it [10:18, 50.66it/s]"
          ]
        },
        {
          "output_type": "stream",
          "name": "stdout",
          "text": [
            "| epoch   2 | 26000/32580 batches | loss    1.344 \n"
          ]
        },
        {
          "output_type": "stream",
          "name": "stderr",
          "text": [
            "\r26006it [10:18, 27.50it/s]"
          ]
        },
        {
          "output_type": "stream",
          "name": "stdout",
          "text": [
            "money: able, forced, much, it, fact, man, well, so, taken, make\n",
            "lion: behavior, former, lives, battle, africa, spain, provided, seen, addition, charge\n",
            "africa: america, europe, west, india, end, germany, nine, east, addition, france\n",
            "musician: actor, actress, singer, writer, author, nine, variety, introduction, able, poet\n",
            "dance: music, largest, lack, addition, forms, order, science, one, culture, early\n",
            "\n",
            "\n"
          ]
        },
        {
          "output_type": "stream",
          "name": "stderr",
          "text": [
            "26499it [10:30, 49.84it/s]"
          ]
        },
        {
          "output_type": "stream",
          "name": "stdout",
          "text": [
            "| epoch   2 | 26500/32580 batches | loss    1.349 \n"
          ]
        },
        {
          "output_type": "stream",
          "name": "stderr",
          "text": [
            "26510it [10:31, 33.30it/s]"
          ]
        },
        {
          "output_type": "stream",
          "name": "stdout",
          "text": [
            "money: able, forced, much, fact, it, man, well, so, taken, make\n",
            "lion: behavior, former, lives, battle, africa, spain, provided, seen, addition, charge\n",
            "africa: america, europe, west, india, end, germany, nine, east, addition, france\n",
            "musician: actor, actress, singer, writer, author, nine, variety, introduction, able, poet\n",
            "dance: music, largest, lack, addition, forms, order, science, culture, early, one\n",
            "\n",
            "\n"
          ]
        },
        {
          "output_type": "stream",
          "name": "stderr",
          "text": [
            "26998it [10:42, 35.48it/s]"
          ]
        },
        {
          "output_type": "stream",
          "name": "stdout",
          "text": [
            "| epoch   2 | 27000/32580 batches | loss    1.349 \n"
          ]
        },
        {
          "output_type": "stream",
          "name": "stderr",
          "text": [
            "27006it [10:43, 20.15it/s]"
          ]
        },
        {
          "output_type": "stream",
          "name": "stdout",
          "text": [
            "money: able, forced, much, fact, it, man, so, well, taken, make\n",
            "lion: behavior, former, lives, battle, africa, spain, provided, seen, addition, charge\n",
            "africa: america, europe, west, india, end, germany, east, nine, addition, seven\n",
            "musician: actor, actress, singer, writer, author, nine, variety, introduction, able, poet\n",
            "dance: music, largest, lack, addition, forms, order, science, culture, early, one\n",
            "\n",
            "\n"
          ]
        },
        {
          "output_type": "stream",
          "name": "stderr",
          "text": [
            "27500it [10:54, 48.99it/s]"
          ]
        },
        {
          "output_type": "stream",
          "name": "stdout",
          "text": [
            "| epoch   2 | 27500/32580 batches | loss    1.343 \n"
          ]
        },
        {
          "output_type": "stream",
          "name": "stderr",
          "text": [
            "\r27505it [10:54, 28.32it/s]"
          ]
        },
        {
          "output_type": "stream",
          "name": "stdout",
          "text": [
            "money: able, forced, much, it, fact, man, so, well, taken, make\n",
            "lion: behavior, former, lives, battle, africa, spain, provided, seen, addition, charge\n",
            "africa: america, europe, west, india, end, germany, east, nine, addition, france\n",
            "musician: actor, actress, singer, writer, author, nine, variety, introduction, able, poet\n",
            "dance: music, largest, lack, addition, forms, order, science, culture, early, one\n",
            "\n",
            "\n"
          ]
        },
        {
          "output_type": "stream",
          "name": "stderr",
          "text": [
            "27997it [11:06, 49.34it/s]"
          ]
        },
        {
          "output_type": "stream",
          "name": "stdout",
          "text": [
            "| epoch   2 | 28000/32580 batches | loss    1.343 \n"
          ]
        },
        {
          "output_type": "stream",
          "name": "stderr",
          "text": [
            "28007it [11:07, 32.82it/s]"
          ]
        },
        {
          "output_type": "stream",
          "name": "stdout",
          "text": [
            "money: able, forced, much, it, fact, man, well, so, taken, nine\n",
            "lion: behavior, former, lives, battle, africa, spain, provided, seen, addition, charge\n",
            "africa: america, europe, west, india, end, germany, east, nine, addition, france\n",
            "musician: actor, actress, singer, writer, author, nine, variety, introduction, able, poet\n",
            "dance: music, largest, lack, addition, forms, order, science, culture, early, one\n",
            "\n",
            "\n"
          ]
        },
        {
          "output_type": "stream",
          "name": "stderr",
          "text": [
            "28499it [11:17, 34.84it/s]"
          ]
        },
        {
          "output_type": "stream",
          "name": "stdout",
          "text": [
            "| epoch   2 | 28500/32580 batches | loss    1.342 \n"
          ]
        },
        {
          "output_type": "stream",
          "name": "stderr",
          "text": [
            "\r28503it [11:18, 16.78it/s]"
          ]
        },
        {
          "output_type": "stream",
          "name": "stdout",
          "text": [
            "money: able, forced, much, it, fact, man, so, well, taken, nine\n",
            "lion: behavior, former, lives, battle, africa, spain, seen, provided, addition, charge\n",
            "africa: america, europe, west, india, end, germany, east, nine, addition, france\n",
            "musician: actor, actress, singer, writer, author, nine, variety, introduction, able, poet\n",
            "dance: music, largest, lack, addition, forms, order, culture, science, early, one\n",
            "\n",
            "\n"
          ]
        },
        {
          "output_type": "stream",
          "name": "stderr",
          "text": [
            "28999it [11:30, 49.39it/s]"
          ]
        },
        {
          "output_type": "stream",
          "name": "stdout",
          "text": [
            "| epoch   2 | 29000/32580 batches | loss    1.345 \n"
          ]
        },
        {
          "output_type": "stream",
          "name": "stderr",
          "text": [
            "29009it [11:30, 31.81it/s]"
          ]
        },
        {
          "output_type": "stream",
          "name": "stdout",
          "text": [
            "money: able, forced, much, it, fact, man, so, well, taken, make\n",
            "lion: behavior, former, lives, battle, africa, spain, seen, provided, addition, charge\n",
            "africa: america, europe, west, india, end, germany, east, nine, addition, france\n",
            "musician: actor, actress, singer, writer, author, nine, variety, introduction, poet, able\n",
            "dance: music, largest, lack, addition, forms, order, culture, science, one, early\n",
            "\n",
            "\n"
          ]
        },
        {
          "output_type": "stream",
          "name": "stderr",
          "text": [
            "29498it [11:43, 40.11it/s]"
          ]
        },
        {
          "output_type": "stream",
          "name": "stdout",
          "text": [
            "| epoch   2 | 29500/32580 batches | loss    1.341 \n"
          ]
        },
        {
          "output_type": "stream",
          "name": "stderr",
          "text": [
            "29508it [11:43, 29.12it/s]"
          ]
        },
        {
          "output_type": "stream",
          "name": "stdout",
          "text": [
            "money: able, forced, much, it, fact, man, so, well, taken, make\n",
            "lion: behavior, former, lives, battle, africa, spain, seen, provided, addition, charge\n",
            "africa: america, europe, west, india, end, germany, east, nine, addition, france\n",
            "musician: actor, actress, singer, writer, author, nine, variety, poet, introduction, able\n",
            "dance: music, largest, lack, addition, forms, order, science, culture, one, early\n",
            "\n",
            "\n"
          ]
        },
        {
          "output_type": "stream",
          "name": "stderr",
          "text": [
            "29996it [11:53, 41.64it/s]"
          ]
        },
        {
          "output_type": "stream",
          "name": "stdout",
          "text": [
            "| epoch   2 | 30000/32580 batches | loss    1.344 \n"
          ]
        },
        {
          "output_type": "stream",
          "name": "stderr",
          "text": [
            "30005it [11:53, 24.30it/s]"
          ]
        },
        {
          "output_type": "stream",
          "name": "stdout",
          "text": [
            "money: able, forced, much, it, fact, man, so, well, taken, make\n",
            "lion: behavior, former, lives, battle, africa, spain, seen, provided, addition, charge\n",
            "africa: america, europe, west, india, end, germany, east, nine, addition, france\n",
            "musician: actor, actress, singer, writer, author, nine, variety, poet, introduction, able\n",
            "dance: music, largest, lack, addition, order, forms, science, culture, one, early\n",
            "\n",
            "\n"
          ]
        },
        {
          "output_type": "stream",
          "name": "stderr",
          "text": [
            "30499it [12:06, 49.21it/s]"
          ]
        },
        {
          "output_type": "stream",
          "name": "stdout",
          "text": [
            "| epoch   2 | 30500/32580 batches | loss    1.342 \n"
          ]
        },
        {
          "output_type": "stream",
          "name": "stderr",
          "text": [
            "30509it [12:06, 32.75it/s]"
          ]
        },
        {
          "output_type": "stream",
          "name": "stdout",
          "text": [
            "money: able, forced, much, it, fact, man, so, well, taken, make\n",
            "lion: behavior, former, lives, battle, africa, spain, seen, provided, addition, charge\n",
            "africa: america, europe, india, west, end, germany, east, nine, addition, france\n",
            "musician: actor, actress, singer, writer, author, nine, variety, poet, able, introduction\n",
            "dance: music, largest, lack, addition, order, forms, science, culture, one, early\n",
            "\n",
            "\n"
          ]
        },
        {
          "output_type": "stream",
          "name": "stderr",
          "text": [
            "30997it [12:17, 36.43it/s]"
          ]
        },
        {
          "output_type": "stream",
          "name": "stdout",
          "text": [
            "| epoch   2 | 31000/32580 batches | loss    1.340 \n"
          ]
        },
        {
          "output_type": "stream",
          "name": "stderr",
          "text": [
            "31004it [12:18, 19.57it/s]"
          ]
        },
        {
          "output_type": "stream",
          "name": "stdout",
          "text": [
            "money: able, forced, much, it, fact, man, so, well, taken, make\n",
            "lion: behavior, former, lives, battle, africa, spain, seen, provided, addition, charge\n",
            "africa: america, europe, india, west, end, germany, east, nine, addition, france\n",
            "musician: actor, actress, singer, writer, author, nine, variety, poet, able, introduction\n",
            "dance: music, largest, lack, addition, order, forms, science, culture, one, early\n",
            "\n",
            "\n"
          ]
        },
        {
          "output_type": "stream",
          "name": "stderr",
          "text": [
            "31495it [12:29, 50.00it/s]"
          ]
        },
        {
          "output_type": "stream",
          "name": "stdout",
          "text": [
            "| epoch   2 | 31500/32580 batches | loss    1.344 \n"
          ]
        },
        {
          "output_type": "stream",
          "name": "stderr",
          "text": [
            "31506it [12:29, 33.50it/s]"
          ]
        },
        {
          "output_type": "stream",
          "name": "stdout",
          "text": [
            "money: able, forced, much, it, fact, man, so, well, taken, make\n",
            "lion: behavior, former, lives, battle, africa, spain, seen, provided, addition, charge\n",
            "africa: america, europe, india, west, end, germany, east, nine, addition, france\n",
            "musician: actor, actress, singer, writer, author, nine, variety, poet, introduction, able\n",
            "dance: music, largest, lack, addition, forms, order, science, culture, one, early\n",
            "\n",
            "\n"
          ]
        },
        {
          "output_type": "stream",
          "name": "stderr",
          "text": [
            "31996it [12:41, 49.13it/s]"
          ]
        },
        {
          "output_type": "stream",
          "name": "stdout",
          "text": [
            "| epoch   2 | 32000/32580 batches | loss    1.341 \n"
          ]
        },
        {
          "output_type": "stream",
          "name": "stderr",
          "text": [
            "32005it [12:42, 31.77it/s]"
          ]
        },
        {
          "output_type": "stream",
          "name": "stdout",
          "text": [
            "money: able, forced, much, it, fact, man, well, so, taken, nine\n",
            "lion: behavior, former, lives, battle, africa, spain, seen, provided, addition, charge\n",
            "africa: america, europe, west, india, end, germany, east, nine, addition, france\n",
            "musician: actor, actress, singer, writer, author, nine, variety, poet, introduction, able\n",
            "dance: music, largest, lack, addition, forms, order, science, culture, one, early\n",
            "\n",
            "\n"
          ]
        },
        {
          "output_type": "stream",
          "name": "stderr",
          "text": [
            "32499it [12:52, 35.93it/s]"
          ]
        },
        {
          "output_type": "stream",
          "name": "stdout",
          "text": [
            "| epoch   2 | 32500/32580 batches | loss    1.337 \n"
          ]
        },
        {
          "output_type": "stream",
          "name": "stderr",
          "text": [
            "32507it [12:53, 20.08it/s]"
          ]
        },
        {
          "output_type": "stream",
          "name": "stdout",
          "text": [
            "money: able, forced, much, it, fact, man, well, so, nine, taken\n",
            "lion: behavior, former, lives, battle, africa, spain, seen, provided, addition, charge\n",
            "africa: america, europe, west, india, end, germany, nine, east, addition, france\n",
            "musician: actor, actress, singer, writer, author, nine, variety, poet, introduction, able\n",
            "dance: music, largest, addition, lack, order, forms, science, culture, one, jazz\n",
            "\n",
            "\n"
          ]
        },
        {
          "output_type": "stream",
          "name": "stderr",
          "text": [
            "32580it [12:58, 41.84it/s]\n",
            "0it [00:00, ?it/s]"
          ]
        },
        {
          "output_type": "stream",
          "name": "stdout",
          "text": [
            "| epoch   3 |     0/32580 batches | loss    1.363 \n"
          ]
        },
        {
          "output_type": "stream",
          "name": "stderr",
          "text": [
            "3it [00:02,  1.73it/s]"
          ]
        },
        {
          "output_type": "stream",
          "name": "stdout",
          "text": [
            "money: able, forced, much, it, fact, man, well, so, nine, taken\n",
            "lion: behavior, former, lives, battle, africa, spain, seen, provided, addition, charge\n",
            "africa: america, europe, india, west, end, germany, nine, east, addition, france\n",
            "musician: actor, actress, singer, writer, author, nine, variety, poet, introduction, able\n",
            "dance: music, largest, addition, lack, forms, order, science, culture, one, early\n",
            "\n",
            "\n"
          ]
        },
        {
          "output_type": "stream",
          "name": "stderr",
          "text": [
            "500it [00:13, 35.68it/s]"
          ]
        },
        {
          "output_type": "stream",
          "name": "stdout",
          "text": [
            "| epoch   3 |   500/32580 batches | loss    1.333 \n"
          ]
        },
        {
          "output_type": "stream",
          "name": "stderr",
          "text": [
            "\r504it [00:13, 18.33it/s]"
          ]
        },
        {
          "output_type": "stream",
          "name": "stdout",
          "text": [
            "money: able, forced, much, it, fact, man, well, so, nine, taken\n",
            "lion: behavior, former, lives, battle, africa, spain, seen, provided, addition, charge\n",
            "africa: america, europe, india, west, end, germany, nine, east, addition, france\n",
            "musician: actor, actress, singer, writer, author, nine, variety, poet, introduction, able\n",
            "dance: music, largest, addition, lack, forms, order, science, culture, one, early\n",
            "\n",
            "\n"
          ]
        },
        {
          "output_type": "stream",
          "name": "stderr",
          "text": [
            "997it [00:24, 49.43it/s]"
          ]
        },
        {
          "output_type": "stream",
          "name": "stdout",
          "text": [
            "| epoch   3 |  1000/32580 batches | loss    1.339 \n"
          ]
        },
        {
          "output_type": "stream",
          "name": "stderr",
          "text": [
            "1007it [00:25, 31.61it/s]"
          ]
        },
        {
          "output_type": "stream",
          "name": "stdout",
          "text": [
            "money: able, forced, much, it, fact, man, well, so, nine, taken\n",
            "lion: behavior, former, lives, battle, africa, spain, seen, provided, addition, charge\n",
            "africa: america, europe, india, west, end, germany, nine, east, addition, france\n",
            "musician: actor, actress, singer, writer, author, nine, variety, poet, introduction, able\n",
            "dance: music, largest, addition, lack, forms, order, science, culture, one, early\n",
            "\n",
            "\n"
          ]
        },
        {
          "output_type": "stream",
          "name": "stderr",
          "text": [
            "1496it [00:37, 41.44it/s]"
          ]
        },
        {
          "output_type": "stream",
          "name": "stdout",
          "text": [
            "| epoch   3 |  1500/32580 batches | loss    1.334 \n"
          ]
        },
        {
          "output_type": "stream",
          "name": "stderr",
          "text": [
            "1505it [00:37, 28.12it/s]"
          ]
        },
        {
          "output_type": "stream",
          "name": "stdout",
          "text": [
            "money: able, forced, much, it, fact, man, well, so, nine, taken\n",
            "lion: behavior, former, lives, battle, africa, spain, seen, provided, addition, charge\n",
            "africa: america, europe, india, west, end, germany, nine, east, addition, france\n",
            "musician: actor, actress, singer, writer, author, nine, variety, poet, introduction, able\n",
            "dance: music, largest, addition, lack, forms, order, science, culture, one, early\n",
            "\n",
            "\n"
          ]
        },
        {
          "output_type": "stream",
          "name": "stderr",
          "text": [
            "1998it [00:48, 39.58it/s]"
          ]
        },
        {
          "output_type": "stream",
          "name": "stdout",
          "text": [
            "| epoch   3 |  2000/32580 batches | loss    1.332 \n"
          ]
        },
        {
          "output_type": "stream",
          "name": "stderr",
          "text": [
            "2006it [00:48, 23.53it/s]"
          ]
        },
        {
          "output_type": "stream",
          "name": "stdout",
          "text": [
            "money: able, forced, much, it, fact, man, well, so, nine, taken\n",
            "lion: behavior, former, lives, battle, africa, spain, seen, provided, addition, charge\n",
            "africa: america, europe, india, west, end, germany, nine, east, addition, france\n",
            "musician: actor, actress, singer, writer, author, nine, variety, poet, introduction, able\n",
            "dance: music, largest, addition, lack, forms, order, science, culture, one, early\n",
            "\n",
            "\n"
          ]
        },
        {
          "output_type": "stream",
          "name": "stderr",
          "text": [
            "2499it [01:00, 50.10it/s]"
          ]
        },
        {
          "output_type": "stream",
          "name": "stdout",
          "text": [
            "| epoch   3 |  2500/32580 batches | loss    1.331 \n"
          ]
        },
        {
          "output_type": "stream",
          "name": "stderr",
          "text": [
            "\r2505it [01:01, 29.44it/s]"
          ]
        },
        {
          "output_type": "stream",
          "name": "stdout",
          "text": [
            "money: able, forced, much, it, fact, man, well, so, nine, taken\n",
            "lion: behavior, former, lives, battle, africa, spain, seen, provided, addition, charge\n",
            "africa: america, europe, india, west, end, germany, nine, east, addition, france\n",
            "musician: actor, actress, singer, writer, author, nine, variety, poet, introduction, able\n",
            "dance: music, largest, addition, lack, forms, order, science, culture, one, early\n",
            "\n",
            "\n"
          ]
        },
        {
          "output_type": "stream",
          "name": "stderr",
          "text": [
            "3000it [01:12, 36.26it/s]"
          ]
        },
        {
          "output_type": "stream",
          "name": "stdout",
          "text": [
            "| epoch   3 |  3000/32580 batches | loss    1.335 \n"
          ]
        },
        {
          "output_type": "stream",
          "name": "stderr",
          "text": [
            "\r3004it [01:13, 17.19it/s]"
          ]
        },
        {
          "output_type": "stream",
          "name": "stdout",
          "text": [
            "money: able, forced, much, it, fact, man, well, so, nine, taken\n",
            "lion: behavior, former, lives, battle, africa, spain, seen, provided, addition, charge\n",
            "africa: america, europe, india, west, end, germany, nine, east, addition, france\n",
            "musician: actor, actress, singer, writer, author, nine, variety, poet, introduction, able\n",
            "dance: music, largest, addition, lack, forms, order, science, culture, one, early\n",
            "\n",
            "\n"
          ]
        },
        {
          "output_type": "stream",
          "name": "stderr",
          "text": [
            "3499it [01:23, 48.48it/s]"
          ]
        },
        {
          "output_type": "stream",
          "name": "stdout",
          "text": [
            "| epoch   3 |  3500/32580 batches | loss    1.334 \n"
          ]
        },
        {
          "output_type": "stream",
          "name": "stderr",
          "text": [
            "3510it [01:24, 32.87it/s]"
          ]
        },
        {
          "output_type": "stream",
          "name": "stdout",
          "text": [
            "money: able, forced, much, it, fact, man, well, so, nine, taken\n",
            "lion: behavior, former, lives, battle, africa, spain, seen, provided, addition, charge\n",
            "africa: america, europe, india, west, end, germany, nine, east, addition, france\n",
            "musician: actor, actress, singer, writer, author, nine, variety, poet, introduction, able\n",
            "dance: music, largest, addition, lack, forms, order, science, culture, one, early\n",
            "\n",
            "\n"
          ]
        },
        {
          "output_type": "stream",
          "name": "stderr",
          "text": [
            "3995it [01:36, 49.72it/s]"
          ]
        },
        {
          "output_type": "stream",
          "name": "stdout",
          "text": [
            "| epoch   3 |  4000/32580 batches | loss    1.334 \n"
          ]
        },
        {
          "output_type": "stream",
          "name": "stderr",
          "text": [
            "4005it [01:36, 32.31it/s]"
          ]
        },
        {
          "output_type": "stream",
          "name": "stdout",
          "text": [
            "money: able, forced, much, it, fact, man, well, so, nine, taken\n",
            "lion: behavior, former, lives, battle, africa, spain, seen, provided, addition, charge\n",
            "africa: america, europe, india, west, end, germany, nine, east, addition, france\n",
            "musician: actor, actress, singer, writer, author, nine, variety, poet, introduction, able\n",
            "dance: music, largest, addition, lack, forms, order, science, culture, one, early\n",
            "\n",
            "\n"
          ]
        },
        {
          "output_type": "stream",
          "name": "stderr",
          "text": [
            "4500it [01:47, 34.94it/s]"
          ]
        },
        {
          "output_type": "stream",
          "name": "stdout",
          "text": [
            "| epoch   3 |  4500/32580 batches | loss    1.329 \n"
          ]
        },
        {
          "output_type": "stream",
          "name": "stderr",
          "text": [
            "\r4504it [01:48, 16.78it/s]"
          ]
        },
        {
          "output_type": "stream",
          "name": "stdout",
          "text": [
            "money: able, forced, much, it, fact, man, well, so, nine, taken\n",
            "lion: behavior, former, lives, battle, africa, spain, seen, provided, addition, charge\n",
            "africa: america, europe, india, west, end, germany, nine, east, addition, france\n",
            "musician: actor, actress, singer, writer, author, nine, variety, poet, introduction, able\n",
            "dance: music, largest, addition, lack, forms, order, science, culture, one, early\n",
            "\n",
            "\n"
          ]
        },
        {
          "output_type": "stream",
          "name": "stderr",
          "text": [
            "4997it [01:59, 50.22it/s]"
          ]
        },
        {
          "output_type": "stream",
          "name": "stdout",
          "text": [
            "| epoch   3 |  5000/32580 batches | loss    1.335 \n"
          ]
        },
        {
          "output_type": "stream",
          "name": "stderr",
          "text": [
            "5008it [01:59, 33.29it/s]"
          ]
        },
        {
          "output_type": "stream",
          "name": "stdout",
          "text": [
            "money: able, forced, much, it, fact, man, well, so, taken, nine\n",
            "lion: behavior, former, lives, battle, africa, spain, seen, provided, addition, charge\n",
            "africa: america, europe, india, west, end, germany, east, nine, addition, france\n",
            "musician: actor, actress, singer, writer, author, nine, variety, poet, introduction, able\n",
            "dance: music, largest, addition, lack, forms, order, science, culture, one, early\n",
            "\n",
            "\n"
          ]
        },
        {
          "output_type": "stream",
          "name": "stderr",
          "text": [
            "5498it [02:12, 48.18it/s]"
          ]
        },
        {
          "output_type": "stream",
          "name": "stdout",
          "text": [
            "| epoch   3 |  5500/32580 batches | loss    1.333 \n"
          ]
        },
        {
          "output_type": "stream",
          "name": "stderr",
          "text": [
            "5508it [02:12, 31.98it/s]"
          ]
        },
        {
          "output_type": "stream",
          "name": "stdout",
          "text": [
            "money: able, forced, much, it, fact, man, well, so, taken, nine\n",
            "lion: behavior, former, lives, battle, africa, spain, seen, provided, addition, charge\n",
            "africa: america, europe, india, west, end, germany, east, nine, addition, france\n",
            "musician: actor, actress, singer, writer, author, nine, variety, poet, introduction, able\n",
            "dance: music, largest, addition, lack, forms, order, science, culture, one, early\n",
            "\n",
            "\n"
          ]
        },
        {
          "output_type": "stream",
          "name": "stderr",
          "text": [
            "5998it [02:22, 39.98it/s]"
          ]
        },
        {
          "output_type": "stream",
          "name": "stdout",
          "text": [
            "| epoch   3 |  6000/32580 batches | loss    1.336 \n"
          ]
        },
        {
          "output_type": "stream",
          "name": "stderr",
          "text": [
            "6007it [02:23, 24.08it/s]"
          ]
        },
        {
          "output_type": "stream",
          "name": "stdout",
          "text": [
            "money: able, forced, much, it, fact, man, well, so, taken, nine\n",
            "lion: behavior, former, lives, battle, africa, spain, seen, provided, addition, charge\n",
            "africa: america, europe, india, west, end, germany, east, nine, addition, france\n",
            "musician: actor, actress, singer, writer, author, nine, variety, poet, introduction, able\n",
            "dance: music, largest, addition, lack, forms, order, science, culture, one, early\n",
            "\n",
            "\n"
          ]
        },
        {
          "output_type": "stream",
          "name": "stderr",
          "text": [
            "6500it [02:35, 49.93it/s]"
          ]
        },
        {
          "output_type": "stream",
          "name": "stdout",
          "text": [
            "| epoch   3 |  6500/32580 batches | loss    1.332 \n"
          ]
        },
        {
          "output_type": "stream",
          "name": "stderr",
          "text": [
            "\r6505it [02:35, 29.19it/s]"
          ]
        },
        {
          "output_type": "stream",
          "name": "stdout",
          "text": [
            "money: able, forced, much, it, fact, man, well, so, taken, nine\n",
            "lion: behavior, former, lives, battle, africa, spain, seen, provided, addition, charge\n",
            "africa: america, europe, india, west, end, germany, east, nine, addition, france\n",
            "musician: actor, actress, singer, writer, author, nine, variety, poet, introduction, able\n",
            "dance: music, largest, addition, lack, forms, order, science, culture, one, early\n",
            "\n",
            "\n"
          ]
        },
        {
          "output_type": "stream",
          "name": "stderr",
          "text": [
            "6999it [02:47, 36.19it/s]"
          ]
        },
        {
          "output_type": "stream",
          "name": "stdout",
          "text": [
            "| epoch   3 |  7000/32580 batches | loss    1.338 \n"
          ]
        },
        {
          "output_type": "stream",
          "name": "stderr",
          "text": [
            "7007it [02:48, 20.32it/s]"
          ]
        },
        {
          "output_type": "stream",
          "name": "stdout",
          "text": [
            "money: able, forced, much, it, fact, man, well, so, taken, nine\n",
            "lion: behavior, former, lives, battle, africa, spain, seen, provided, addition, charge\n",
            "africa: america, europe, india, west, end, germany, east, nine, addition, france\n",
            "musician: actor, actress, singer, writer, author, nine, variety, poet, introduction, able\n",
            "dance: music, largest, addition, lack, forms, order, science, culture, one, early\n",
            "\n",
            "\n"
          ]
        },
        {
          "output_type": "stream",
          "name": "stderr",
          "text": [
            "7500it [03:02, 36.29it/s]"
          ]
        },
        {
          "output_type": "stream",
          "name": "stdout",
          "text": [
            "| epoch   3 |  7500/32580 batches | loss    1.334 \n"
          ]
        },
        {
          "output_type": "stream",
          "name": "stderr",
          "text": [
            "\r7504it [03:02, 17.41it/s]"
          ]
        },
        {
          "output_type": "stream",
          "name": "stdout",
          "text": [
            "money: able, forced, much, it, fact, man, well, so, taken, nine\n",
            "lion: behavior, former, lives, battle, africa, spain, seen, provided, addition, charge\n",
            "africa: america, europe, india, west, end, germany, east, nine, addition, france\n",
            "musician: actor, actress, singer, writer, author, nine, variety, poet, introduction, able\n",
            "dance: music, largest, addition, lack, forms, order, science, culture, one, early\n",
            "\n",
            "\n"
          ]
        },
        {
          "output_type": "stream",
          "name": "stderr",
          "text": [
            "7997it [03:14, 49.33it/s]"
          ]
        },
        {
          "output_type": "stream",
          "name": "stdout",
          "text": [
            "| epoch   3 |  8000/32580 batches | loss    1.332 \n"
          ]
        },
        {
          "output_type": "stream",
          "name": "stderr",
          "text": [
            "8007it [03:14, 32.39it/s]"
          ]
        },
        {
          "output_type": "stream",
          "name": "stdout",
          "text": [
            "money: able, forced, much, it, fact, man, well, so, taken, nine\n",
            "lion: behavior, former, lives, battle, africa, spain, seen, provided, addition, charge\n",
            "africa: america, europe, india, west, end, germany, east, nine, addition, france\n",
            "musician: actor, actress, singer, writer, author, nine, variety, poet, introduction, able\n",
            "dance: music, largest, addition, lack, forms, order, science, culture, one, early\n",
            "\n",
            "\n"
          ]
        },
        {
          "output_type": "stream",
          "name": "stderr",
          "text": [
            "8498it [03:27, 43.18it/s]"
          ]
        },
        {
          "output_type": "stream",
          "name": "stdout",
          "text": [
            "| epoch   3 |  8500/32580 batches | loss    1.335 \n"
          ]
        },
        {
          "output_type": "stream",
          "name": "stderr",
          "text": [
            "8508it [03:27, 30.04it/s]"
          ]
        },
        {
          "output_type": "stream",
          "name": "stdout",
          "text": [
            "money: able, forced, much, it, fact, man, well, so, taken, nine\n",
            "lion: behavior, former, lives, battle, africa, spain, seen, provided, addition, charge\n",
            "africa: america, europe, india, west, end, germany, east, nine, addition, france\n",
            "musician: actor, actress, singer, writer, author, nine, variety, poet, introduction, able\n",
            "dance: music, largest, addition, lack, forms, order, science, culture, one, early\n",
            "\n",
            "\n"
          ]
        },
        {
          "output_type": "stream",
          "name": "stderr",
          "text": [
            "8999it [03:37, 40.86it/s]"
          ]
        },
        {
          "output_type": "stream",
          "name": "stdout",
          "text": [
            "| epoch   3 |  9000/32580 batches | loss    1.335 \n"
          ]
        },
        {
          "output_type": "stream",
          "name": "stderr",
          "text": [
            "\r9004it [03:38, 23.05it/s]"
          ]
        },
        {
          "output_type": "stream",
          "name": "stdout",
          "text": [
            "money: able, forced, much, it, fact, man, well, so, taken, nine\n",
            "lion: behavior, former, lives, battle, africa, spain, seen, provided, addition, charge\n",
            "africa: america, europe, india, west, end, germany, east, nine, addition, france\n",
            "musician: actor, actress, singer, writer, author, nine, variety, poet, introduction, able\n",
            "dance: music, largest, addition, lack, forms, order, science, culture, one, early\n",
            "\n",
            "\n"
          ]
        },
        {
          "output_type": "stream",
          "name": "stderr",
          "text": [
            "9500it [03:50, 47.38it/s]"
          ]
        },
        {
          "output_type": "stream",
          "name": "stdout",
          "text": [
            "| epoch   3 |  9500/32580 batches | loss    1.336 \n"
          ]
        },
        {
          "output_type": "stream",
          "name": "stderr",
          "text": [
            "\r9505it [03:50, 27.60it/s]"
          ]
        },
        {
          "output_type": "stream",
          "name": "stdout",
          "text": [
            "money: able, forced, much, it, fact, man, well, so, taken, nine\n",
            "lion: behavior, former, lives, battle, africa, spain, seen, provided, addition, charge\n",
            "africa: america, europe, india, west, end, germany, east, nine, addition, france\n",
            "musician: actor, actress, singer, writer, author, nine, variety, poet, introduction, able\n",
            "dance: music, largest, addition, lack, forms, order, science, culture, one, jazz\n",
            "\n",
            "\n"
          ]
        },
        {
          "output_type": "stream",
          "name": "stderr",
          "text": [
            "9998it [04:02, 35.39it/s]"
          ]
        },
        {
          "output_type": "stream",
          "name": "stdout",
          "text": [
            "| epoch   3 | 10000/32580 batches | loss    1.338 \n"
          ]
        },
        {
          "output_type": "stream",
          "name": "stderr",
          "text": [
            "10006it [04:03, 19.85it/s]"
          ]
        },
        {
          "output_type": "stream",
          "name": "stdout",
          "text": [
            "money: able, forced, much, it, fact, man, well, so, taken, nine\n",
            "lion: behavior, former, lives, battle, africa, spain, seen, provided, addition, charge\n",
            "africa: america, europe, india, west, end, germany, east, nine, addition, france\n",
            "musician: actor, actress, singer, writer, author, nine, variety, poet, introduction, able\n",
            "dance: music, largest, addition, lack, forms, order, science, culture, one, jazz\n",
            "\n",
            "\n"
          ]
        },
        {
          "output_type": "stream",
          "name": "stderr",
          "text": [
            "10496it [04:13, 50.10it/s]"
          ]
        },
        {
          "output_type": "stream",
          "name": "stdout",
          "text": [
            "| epoch   3 | 10500/32580 batches | loss    1.335 \n"
          ]
        },
        {
          "output_type": "stream",
          "name": "stderr",
          "text": [
            "10507it [04:14, 33.33it/s]"
          ]
        },
        {
          "output_type": "stream",
          "name": "stdout",
          "text": [
            "money: able, forced, much, it, fact, man, well, so, taken, nine\n",
            "lion: behavior, former, lives, battle, africa, spain, seen, provided, addition, charge\n",
            "africa: america, europe, india, west, end, germany, east, nine, addition, france\n",
            "musician: actor, actress, singer, writer, author, nine, variety, poet, introduction, able\n",
            "dance: music, largest, addition, lack, forms, order, science, culture, one, jazz\n",
            "\n",
            "\n"
          ]
        },
        {
          "output_type": "stream",
          "name": "stderr",
          "text": [
            "11000it [04:26, 49.72it/s]"
          ]
        },
        {
          "output_type": "stream",
          "name": "stdout",
          "text": [
            "| epoch   3 | 11000/32580 batches | loss    1.335 \n"
          ]
        },
        {
          "output_type": "stream",
          "name": "stderr",
          "text": [
            "11010it [04:27, 31.22it/s]"
          ]
        },
        {
          "output_type": "stream",
          "name": "stdout",
          "text": [
            "money: able, forced, much, it, fact, man, well, so, taken, nine\n",
            "lion: behavior, former, lives, battle, africa, spain, seen, provided, addition, charge\n",
            "africa: america, europe, india, west, end, germany, east, nine, addition, france\n",
            "musician: actor, actress, singer, writer, author, nine, variety, poet, introduction, able\n",
            "dance: music, largest, addition, lack, forms, order, science, culture, one, jazz\n",
            "\n",
            "\n"
          ]
        },
        {
          "output_type": "stream",
          "name": "stderr",
          "text": [
            "11500it [04:38, 34.41it/s]"
          ]
        },
        {
          "output_type": "stream",
          "name": "stdout",
          "text": [
            "| epoch   3 | 11500/32580 batches | loss    1.339 \n"
          ]
        },
        {
          "output_type": "stream",
          "name": "stderr",
          "text": [
            "\r11504it [04:38, 16.75it/s]"
          ]
        },
        {
          "output_type": "stream",
          "name": "stdout",
          "text": [
            "money: able, forced, much, it, fact, man, well, so, taken, nine\n",
            "lion: behavior, former, lives, battle, africa, spain, seen, provided, addition, charge\n",
            "africa: america, europe, india, west, end, germany, east, nine, addition, france\n",
            "musician: actor, actress, singer, writer, author, nine, variety, poet, introduction, able\n",
            "dance: music, largest, addition, lack, forms, order, science, culture, one, jazz\n",
            "\n",
            "\n"
          ]
        },
        {
          "output_type": "stream",
          "name": "stderr",
          "text": [
            "11996it [04:49, 49.41it/s]"
          ]
        },
        {
          "output_type": "stream",
          "name": "stdout",
          "text": [
            "| epoch   3 | 12000/32580 batches | loss    1.330 \n"
          ]
        },
        {
          "output_type": "stream",
          "name": "stderr",
          "text": [
            "12005it [04:50, 32.00it/s]"
          ]
        },
        {
          "output_type": "stream",
          "name": "stdout",
          "text": [
            "money: able, forced, much, it, fact, man, well, so, taken, nine\n",
            "lion: behavior, former, lives, battle, africa, spain, seen, provided, addition, charge\n",
            "africa: america, europe, india, west, end, germany, east, nine, addition, france\n",
            "musician: actor, actress, singer, writer, author, nine, variety, poet, introduction, able\n",
            "dance: music, largest, addition, lack, forms, order, science, culture, one, jazz\n",
            "\n",
            "\n"
          ]
        },
        {
          "output_type": "stream",
          "name": "stderr",
          "text": [
            "12496it [05:02, 44.05it/s]"
          ]
        },
        {
          "output_type": "stream",
          "name": "stdout",
          "text": [
            "| epoch   3 | 12500/32580 batches | loss    1.338 \n"
          ]
        },
        {
          "output_type": "stream",
          "name": "stderr",
          "text": [
            "12506it [05:03, 29.42it/s]"
          ]
        },
        {
          "output_type": "stream",
          "name": "stdout",
          "text": [
            "money: able, forced, much, it, fact, man, well, so, taken, them\n",
            "lion: behavior, former, lives, battle, africa, spain, seen, provided, addition, charge\n",
            "africa: america, europe, india, west, end, germany, east, nine, addition, france\n",
            "musician: actor, actress, singer, writer, author, nine, variety, poet, introduction, able\n",
            "dance: music, largest, addition, lack, forms, order, science, culture, one, jazz\n",
            "\n",
            "\n"
          ]
        },
        {
          "output_type": "stream",
          "name": "stderr",
          "text": [
            "12999it [05:13, 40.75it/s]"
          ]
        },
        {
          "output_type": "stream",
          "name": "stdout",
          "text": [
            "| epoch   3 | 13000/32580 batches | loss    1.333 \n"
          ]
        },
        {
          "output_type": "stream",
          "name": "stderr",
          "text": [
            "\r13004it [05:14, 21.24it/s]"
          ]
        },
        {
          "output_type": "stream",
          "name": "stdout",
          "text": [
            "money: able, forced, much, it, fact, man, well, so, taken, them\n",
            "lion: behavior, former, lives, battle, africa, spain, seen, provided, addition, charge\n",
            "africa: america, europe, india, west, end, germany, east, nine, addition, france\n",
            "musician: actor, actress, singer, writer, author, nine, variety, poet, introduction, able\n",
            "dance: music, largest, addition, lack, forms, order, science, culture, one, jazz\n",
            "\n",
            "\n"
          ]
        },
        {
          "output_type": "stream",
          "name": "stderr",
          "text": [
            "13499it [05:26, 49.28it/s]"
          ]
        },
        {
          "output_type": "stream",
          "name": "stdout",
          "text": [
            "| epoch   3 | 13500/32580 batches | loss    1.332 \n"
          ]
        },
        {
          "output_type": "stream",
          "name": "stderr",
          "text": [
            "13509it [05:26, 31.49it/s]"
          ]
        },
        {
          "output_type": "stream",
          "name": "stdout",
          "text": [
            "money: able, forced, much, it, fact, man, well, so, taken, them\n",
            "lion: behavior, former, lives, battle, africa, spain, seen, provided, addition, charge\n",
            "africa: america, europe, india, west, end, germany, east, nine, addition, france\n",
            "musician: actor, actress, singer, writer, author, nine, variety, poet, introduction, able\n",
            "dance: music, largest, addition, lack, forms, order, science, culture, one, jazz\n",
            "\n",
            "\n"
          ]
        },
        {
          "output_type": "stream",
          "name": "stderr",
          "text": [
            "13998it [05:38, 33.55it/s]"
          ]
        },
        {
          "output_type": "stream",
          "name": "stdout",
          "text": [
            "| epoch   3 | 14000/32580 batches | loss    1.331 \n"
          ]
        },
        {
          "output_type": "stream",
          "name": "stderr",
          "text": [
            "14005it [05:38, 18.63it/s]"
          ]
        },
        {
          "output_type": "stream",
          "name": "stdout",
          "text": [
            "money: able, forced, much, it, fact, man, well, so, taken, them\n",
            "lion: behavior, former, lives, battle, africa, spain, seen, provided, addition, charge\n",
            "africa: america, europe, india, west, end, germany, east, nine, addition, france\n",
            "musician: actor, actress, singer, writer, author, nine, variety, poet, introduction, able\n",
            "dance: music, largest, addition, lack, forms, order, science, culture, one, jazz\n",
            "\n",
            "\n"
          ]
        },
        {
          "output_type": "stream",
          "name": "stderr",
          "text": [
            "14497it [05:49, 48.84it/s]"
          ]
        },
        {
          "output_type": "stream",
          "name": "stdout",
          "text": [
            "| epoch   3 | 14500/32580 batches | loss    1.331 \n"
          ]
        },
        {
          "output_type": "stream",
          "name": "stderr",
          "text": [
            "14507it [05:49, 31.96it/s]"
          ]
        },
        {
          "output_type": "stream",
          "name": "stdout",
          "text": [
            "money: able, forced, much, it, fact, man, well, so, taken, them\n",
            "lion: behavior, former, lives, battle, africa, spain, seen, provided, addition, charge\n",
            "africa: america, europe, india, west, end, germany, east, nine, addition, france\n",
            "musician: actor, actress, singer, writer, author, nine, variety, poet, introduction, able\n",
            "dance: music, largest, addition, lack, forms, order, science, culture, one, jazz\n",
            "\n",
            "\n"
          ]
        },
        {
          "output_type": "stream",
          "name": "stderr",
          "text": [
            "14998it [06:02, 49.15it/s]"
          ]
        },
        {
          "output_type": "stream",
          "name": "stdout",
          "text": [
            "| epoch   3 | 15000/32580 batches | loss    1.338 \n"
          ]
        },
        {
          "output_type": "stream",
          "name": "stderr",
          "text": [
            "15008it [06:02, 31.39it/s]"
          ]
        },
        {
          "output_type": "stream",
          "name": "stdout",
          "text": [
            "money: able, forced, much, it, fact, man, well, so, taken, them\n",
            "lion: behavior, former, lives, battle, africa, spain, seen, provided, addition, charge\n",
            "africa: america, europe, india, west, end, germany, east, nine, france, addition\n",
            "musician: actor, actress, singer, writer, author, nine, variety, poet, introduction, able\n",
            "dance: music, largest, addition, lack, forms, order, science, culture, one, jazz\n",
            "\n",
            "\n"
          ]
        },
        {
          "output_type": "stream",
          "name": "stderr",
          "text": [
            "15498it [06:14, 34.68it/s]"
          ]
        },
        {
          "output_type": "stream",
          "name": "stdout",
          "text": [
            "| epoch   3 | 15500/32580 batches | loss    1.332 \n"
          ]
        },
        {
          "output_type": "stream",
          "name": "stderr",
          "text": [
            "15506it [06:14, 19.55it/s]"
          ]
        },
        {
          "output_type": "stream",
          "name": "stdout",
          "text": [
            "money: able, forced, much, it, fact, man, well, so, taken, them\n",
            "lion: behavior, former, lives, battle, africa, spain, seen, provided, addition, charge\n",
            "africa: america, europe, india, west, end, germany, east, nine, france, addition\n",
            "musician: actor, actress, singer, writer, author, nine, variety, poet, introduction, able\n",
            "dance: music, largest, addition, lack, forms, order, science, culture, one, jazz\n",
            "\n",
            "\n"
          ]
        },
        {
          "output_type": "stream",
          "name": "stderr",
          "text": [
            "15996it [06:25, 48.33it/s]"
          ]
        },
        {
          "output_type": "stream",
          "name": "stdout",
          "text": [
            "| epoch   3 | 16000/32580 batches | loss    1.335 \n"
          ]
        },
        {
          "output_type": "stream",
          "name": "stderr",
          "text": [
            "16005it [06:26, 30.04it/s]"
          ]
        },
        {
          "output_type": "stream",
          "name": "stdout",
          "text": [
            "money: able, forced, much, it, fact, man, well, so, taken, them\n",
            "lion: behavior, former, lives, battle, africa, spain, seen, provided, addition, charge\n",
            "africa: america, europe, india, west, end, germany, east, nine, france, addition\n",
            "musician: actor, actress, singer, writer, author, nine, variety, poet, introduction, able\n",
            "dance: music, largest, addition, lack, forms, order, science, culture, one, jazz\n",
            "\n",
            "\n"
          ]
        },
        {
          "output_type": "stream",
          "name": "stderr",
          "text": [
            "16496it [06:38, 47.54it/s]"
          ]
        },
        {
          "output_type": "stream",
          "name": "stdout",
          "text": [
            "| epoch   3 | 16500/32580 batches | loss    1.329 \n"
          ]
        },
        {
          "output_type": "stream",
          "name": "stderr",
          "text": [
            "16505it [06:39, 30.70it/s]"
          ]
        },
        {
          "output_type": "stream",
          "name": "stdout",
          "text": [
            "money: able, forced, much, it, fact, man, well, so, taken, them\n",
            "lion: behavior, former, lives, battle, africa, spain, seen, provided, addition, charge\n",
            "africa: america, europe, india, west, end, germany, east, nine, france, addition\n",
            "musician: actor, actress, singer, writer, author, nine, variety, poet, introduction, able\n",
            "dance: music, largest, addition, lack, forms, order, science, culture, one, jazz\n",
            "\n",
            "\n"
          ]
        },
        {
          "output_type": "stream",
          "name": "stderr",
          "text": [
            "16997it [06:49, 37.57it/s]"
          ]
        },
        {
          "output_type": "stream",
          "name": "stdout",
          "text": [
            "| epoch   3 | 17000/32580 batches | loss    1.334 \n"
          ]
        },
        {
          "output_type": "stream",
          "name": "stderr",
          "text": [
            "17004it [06:50, 20.21it/s]"
          ]
        },
        {
          "output_type": "stream",
          "name": "stdout",
          "text": [
            "money: able, forced, much, it, fact, man, well, so, taken, them\n",
            "lion: behavior, former, lives, battle, africa, spain, seen, provided, addition, charge\n",
            "africa: america, europe, india, west, end, germany, east, nine, france, addition\n",
            "musician: actor, actress, singer, writer, author, nine, variety, poet, introduction, able\n",
            "dance: music, largest, addition, lack, forms, order, science, culture, one, jazz\n",
            "\n",
            "\n"
          ]
        },
        {
          "output_type": "stream",
          "name": "stderr",
          "text": [
            "17497it [07:02, 48.93it/s]"
          ]
        },
        {
          "output_type": "stream",
          "name": "stdout",
          "text": [
            "| epoch   3 | 17500/32580 batches | loss    1.330 \n"
          ]
        },
        {
          "output_type": "stream",
          "name": "stderr",
          "text": [
            "17506it [07:02, 30.10it/s]"
          ]
        },
        {
          "output_type": "stream",
          "name": "stdout",
          "text": [
            "money: able, forced, much, it, fact, man, well, so, taken, them\n",
            "lion: behavior, former, lives, battle, africa, spain, seen, provided, addition, charge\n",
            "africa: america, europe, india, west, end, germany, east, nine, france, addition\n",
            "musician: actor, actress, singer, writer, author, nine, variety, poet, introduction, able\n",
            "dance: music, largest, addition, lack, forms, order, science, culture, one, jazz\n",
            "\n",
            "\n"
          ]
        },
        {
          "output_type": "stream",
          "name": "stderr",
          "text": [
            "17999it [07:15, 33.11it/s]"
          ]
        },
        {
          "output_type": "stream",
          "name": "stdout",
          "text": [
            "| epoch   3 | 18000/32580 batches | loss    1.330 \n"
          ]
        },
        {
          "output_type": "stream",
          "name": "stderr",
          "text": [
            "18008it [07:15, 25.07it/s]"
          ]
        },
        {
          "output_type": "stream",
          "name": "stdout",
          "text": [
            "money: able, forced, much, it, fact, man, well, so, taken, them\n",
            "lion: behavior, former, lives, battle, africa, spain, seen, provided, addition, charge\n",
            "africa: america, europe, india, west, end, germany, east, nine, france, addition\n",
            "musician: actor, actress, singer, writer, author, nine, variety, poet, introduction, able\n",
            "dance: music, largest, addition, lack, forms, order, science, culture, one, jazz\n",
            "\n",
            "\n"
          ]
        },
        {
          "output_type": "stream",
          "name": "stderr",
          "text": [
            "18500it [07:25, 41.55it/s]"
          ]
        },
        {
          "output_type": "stream",
          "name": "stdout",
          "text": [
            "| epoch   3 | 18500/32580 batches | loss    1.333 \n"
          ]
        },
        {
          "output_type": "stream",
          "name": "stderr",
          "text": [
            "\r18505it [07:26, 22.76it/s]"
          ]
        },
        {
          "output_type": "stream",
          "name": "stdout",
          "text": [
            "money: able, forced, much, it, fact, man, well, so, taken, them\n",
            "lion: behavior, former, lives, battle, africa, spain, seen, provided, addition, charge\n",
            "africa: america, europe, india, west, end, germany, east, nine, france, addition\n",
            "musician: actor, actress, singer, writer, author, nine, variety, poet, introduction, able\n",
            "dance: music, largest, addition, lack, forms, order, science, culture, one, jazz\n",
            "\n",
            "\n"
          ]
        },
        {
          "output_type": "stream",
          "name": "stderr",
          "text": [
            "18998it [07:38, 49.78it/s]"
          ]
        },
        {
          "output_type": "stream",
          "name": "stdout",
          "text": [
            "| epoch   3 | 19000/32580 batches | loss    1.334 \n"
          ]
        },
        {
          "output_type": "stream",
          "name": "stderr",
          "text": [
            "19007it [07:38, 30.25it/s]"
          ]
        },
        {
          "output_type": "stream",
          "name": "stdout",
          "text": [
            "money: able, forced, much, it, fact, man, well, so, taken, them\n",
            "lion: behavior, former, lives, battle, africa, spain, seen, provided, addition, charge\n",
            "africa: america, europe, india, west, end, germany, east, nine, france, addition\n",
            "musician: actor, actress, singer, writer, author, nine, variety, poet, introduction, able\n",
            "dance: music, largest, addition, lack, forms, order, science, culture, one, jazz\n",
            "\n",
            "\n"
          ]
        },
        {
          "output_type": "stream",
          "name": "stderr",
          "text": [
            "19497it [07:50, 36.26it/s]"
          ]
        },
        {
          "output_type": "stream",
          "name": "stdout",
          "text": [
            "| epoch   3 | 19500/32580 batches | loss    1.334 \n"
          ]
        },
        {
          "output_type": "stream",
          "name": "stderr",
          "text": [
            "19504it [07:51, 19.28it/s]"
          ]
        },
        {
          "output_type": "stream",
          "name": "stdout",
          "text": [
            "money: able, forced, much, it, fact, man, well, so, taken, them\n",
            "lion: behavior, former, lives, battle, africa, spain, seen, provided, addition, charge\n",
            "africa: america, europe, india, west, end, germany, east, nine, france, addition\n",
            "musician: actor, actress, singer, writer, author, nine, variety, poet, introduction, able\n",
            "dance: music, largest, addition, lack, forms, order, science, culture, one, jazz\n",
            "\n",
            "\n"
          ]
        },
        {
          "output_type": "stream",
          "name": "stderr",
          "text": [
            "19998it [08:01, 49.75it/s]"
          ]
        },
        {
          "output_type": "stream",
          "name": "stdout",
          "text": [
            "| epoch   3 | 20000/32580 batches | loss    1.329 \n"
          ]
        },
        {
          "output_type": "stream",
          "name": "stderr",
          "text": [
            "20008it [08:02, 32.18it/s]"
          ]
        },
        {
          "output_type": "stream",
          "name": "stdout",
          "text": [
            "money: able, forced, much, it, fact, man, well, so, taken, them\n",
            "lion: behavior, former, lives, battle, africa, spain, seen, provided, addition, charge\n",
            "africa: america, europe, india, west, end, germany, east, nine, france, addition\n",
            "musician: actor, actress, singer, writer, author, nine, variety, poet, introduction, able\n",
            "dance: music, largest, addition, lack, forms, order, science, culture, one, jazz\n",
            "\n",
            "\n"
          ]
        },
        {
          "output_type": "stream",
          "name": "stderr",
          "text": [
            "20495it [08:17, 50.90it/s]"
          ]
        },
        {
          "output_type": "stream",
          "name": "stdout",
          "text": [
            "| epoch   3 | 20500/32580 batches | loss    1.331 \n"
          ]
        },
        {
          "output_type": "stream",
          "name": "stderr",
          "text": [
            "20506it [08:18, 32.09it/s]"
          ]
        },
        {
          "output_type": "stream",
          "name": "stdout",
          "text": [
            "money: able, forced, much, it, fact, man, well, so, taken, them\n",
            "lion: behavior, former, lives, battle, africa, spain, seen, provided, addition, charge\n",
            "africa: america, europe, india, west, end, germany, east, nine, france, addition\n",
            "musician: actor, actress, singer, writer, author, nine, variety, poet, introduction, able\n",
            "dance: music, largest, addition, lack, forms, order, science, culture, one, jazz\n",
            "\n",
            "\n"
          ]
        },
        {
          "output_type": "stream",
          "name": "stderr",
          "text": [
            "21000it [08:30, 35.26it/s]"
          ]
        },
        {
          "output_type": "stream",
          "name": "stdout",
          "text": [
            "| epoch   3 | 21000/32580 batches | loss    1.331 \n"
          ]
        },
        {
          "output_type": "stream",
          "name": "stderr",
          "text": [
            "\r21004it [08:30, 16.60it/s]"
          ]
        },
        {
          "output_type": "stream",
          "name": "stdout",
          "text": [
            "money: able, forced, much, it, fact, man, well, so, taken, them\n",
            "lion: behavior, former, lives, battle, africa, spain, seen, provided, addition, charge\n",
            "africa: america, europe, india, west, end, germany, east, nine, france, addition\n",
            "musician: actor, actress, singer, writer, author, nine, variety, poet, introduction, able\n",
            "dance: music, largest, addition, lack, forms, order, science, culture, one, jazz\n",
            "\n",
            "\n"
          ]
        },
        {
          "output_type": "stream",
          "name": "stderr",
          "text": [
            "21500it [08:41, 48.65it/s]"
          ]
        },
        {
          "output_type": "stream",
          "name": "stdout",
          "text": [
            "| epoch   3 | 21500/32580 batches | loss    1.332 \n"
          ]
        },
        {
          "output_type": "stream",
          "name": "stderr",
          "text": [
            "\r21505it [08:41, 27.06it/s]"
          ]
        },
        {
          "output_type": "stream",
          "name": "stdout",
          "text": [
            "money: able, forced, much, it, fact, man, well, so, taken, them\n",
            "lion: behavior, former, lives, battle, africa, spain, seen, provided, addition, charge\n",
            "africa: america, europe, india, west, end, germany, east, nine, france, addition\n",
            "musician: actor, actress, singer, writer, author, nine, variety, poet, introduction, able\n",
            "dance: music, largest, addition, lack, forms, order, science, culture, one, jazz\n",
            "\n",
            "\n"
          ]
        },
        {
          "output_type": "stream",
          "name": "stderr",
          "text": [
            "21997it [08:54, 49.08it/s]"
          ]
        },
        {
          "output_type": "stream",
          "name": "stdout",
          "text": [
            "| epoch   3 | 22000/32580 batches | loss    1.334 \n"
          ]
        },
        {
          "output_type": "stream",
          "name": "stderr",
          "text": [
            "22007it [08:54, 32.68it/s]"
          ]
        },
        {
          "output_type": "stream",
          "name": "stdout",
          "text": [
            "money: able, forced, much, it, fact, man, well, so, taken, them\n",
            "lion: behavior, former, lives, battle, africa, spain, seen, provided, addition, charge\n",
            "africa: america, europe, india, west, end, germany, east, nine, france, addition\n",
            "musician: actor, actress, singer, writer, author, nine, variety, poet, introduction, able\n",
            "dance: music, largest, addition, lack, forms, order, science, culture, one, jazz\n",
            "\n",
            "\n"
          ]
        },
        {
          "output_type": "stream",
          "name": "stderr",
          "text": [
            "22498it [09:05, 35.82it/s]"
          ]
        },
        {
          "output_type": "stream",
          "name": "stdout",
          "text": [
            "| epoch   3 | 22500/32580 batches | loss    1.328 \n"
          ]
        },
        {
          "output_type": "stream",
          "name": "stderr",
          "text": [
            "22506it [09:06, 19.91it/s]"
          ]
        },
        {
          "output_type": "stream",
          "name": "stdout",
          "text": [
            "money: able, forced, much, it, fact, man, well, so, taken, them\n",
            "lion: behavior, former, lives, battle, africa, spain, seen, provided, addition, charge\n",
            "africa: america, europe, india, west, end, germany, east, nine, france, addition\n",
            "musician: actor, actress, singer, writer, author, nine, variety, poet, introduction, able\n",
            "dance: music, largest, addition, lack, forms, order, science, culture, one, jazz\n",
            "\n",
            "\n"
          ]
        },
        {
          "output_type": "stream",
          "name": "stderr",
          "text": [
            "22999it [09:17, 50.11it/s]"
          ]
        },
        {
          "output_type": "stream",
          "name": "stdout",
          "text": [
            "| epoch   3 | 23000/32580 batches | loss    1.333 \n"
          ]
        },
        {
          "output_type": "stream",
          "name": "stderr",
          "text": [
            "\r23005it [09:17, 29.38it/s]"
          ]
        },
        {
          "output_type": "stream",
          "name": "stdout",
          "text": [
            "money: able, forced, much, it, fact, man, well, so, taken, them\n",
            "lion: behavior, former, lives, battle, africa, spain, seen, provided, addition, charge\n",
            "africa: america, europe, india, west, end, germany, east, nine, france, addition\n",
            "musician: actor, actress, singer, writer, author, nine, variety, poet, introduction, able\n",
            "dance: music, largest, addition, lack, forms, order, science, culture, one, jazz\n",
            "\n",
            "\n"
          ]
        },
        {
          "output_type": "stream",
          "name": "stderr",
          "text": [
            "23497it [09:30, 48.84it/s]"
          ]
        },
        {
          "output_type": "stream",
          "name": "stdout",
          "text": [
            "| epoch   3 | 23500/32580 batches | loss    1.334 \n"
          ]
        },
        {
          "output_type": "stream",
          "name": "stderr",
          "text": [
            "23507it [09:30, 32.32it/s]"
          ]
        },
        {
          "output_type": "stream",
          "name": "stdout",
          "text": [
            "money: able, forced, much, it, fact, man, well, so, taken, them\n",
            "lion: behavior, former, lives, battle, africa, spain, seen, provided, addition, charge\n",
            "africa: america, europe, india, west, end, germany, east, nine, france, addition\n",
            "musician: actor, actress, singer, writer, author, nine, variety, poet, introduction, able\n",
            "dance: music, largest, addition, lack, forms, order, science, culture, one, jazz\n",
            "\n",
            "\n"
          ]
        },
        {
          "output_type": "stream",
          "name": "stderr",
          "text": [
            "23998it [09:40, 37.66it/s]"
          ]
        },
        {
          "output_type": "stream",
          "name": "stdout",
          "text": [
            "| epoch   3 | 24000/32580 batches | loss    1.333 \n"
          ]
        },
        {
          "output_type": "stream",
          "name": "stderr",
          "text": [
            "24006it [09:41, 20.75it/s]"
          ]
        },
        {
          "output_type": "stream",
          "name": "stdout",
          "text": [
            "money: able, forced, much, it, fact, man, well, so, taken, them\n",
            "lion: behavior, former, lives, battle, africa, spain, seen, provided, addition, charge\n",
            "africa: america, europe, india, west, end, germany, east, nine, france, addition\n",
            "musician: actor, actress, singer, writer, author, nine, variety, poet, introduction, able\n",
            "dance: music, largest, addition, lack, forms, order, science, culture, one, jazz\n",
            "\n",
            "\n"
          ]
        },
        {
          "output_type": "stream",
          "name": "stderr",
          "text": [
            "24497it [09:53, 49.81it/s]"
          ]
        },
        {
          "output_type": "stream",
          "name": "stdout",
          "text": [
            "| epoch   3 | 24500/32580 batches | loss    1.336 \n"
          ]
        },
        {
          "output_type": "stream",
          "name": "stderr",
          "text": [
            "24506it [09:53, 31.43it/s]"
          ]
        },
        {
          "output_type": "stream",
          "name": "stdout",
          "text": [
            "money: able, forced, much, it, fact, man, well, so, taken, them\n",
            "lion: behavior, former, lives, battle, africa, spain, seen, provided, addition, charge\n",
            "africa: america, europe, india, west, end, germany, east, nine, france, addition\n",
            "musician: actor, actress, singer, writer, author, nine, variety, poet, introduction, able\n",
            "dance: music, largest, addition, lack, forms, order, science, culture, one, jazz\n",
            "\n",
            "\n"
          ]
        },
        {
          "output_type": "stream",
          "name": "stderr",
          "text": [
            "24997it [10:05, 34.78it/s]"
          ]
        },
        {
          "output_type": "stream",
          "name": "stdout",
          "text": [
            "| epoch   3 | 25000/32580 batches | loss    1.333 \n"
          ]
        },
        {
          "output_type": "stream",
          "name": "stderr",
          "text": [
            "25004it [10:06, 18.93it/s]"
          ]
        },
        {
          "output_type": "stream",
          "name": "stdout",
          "text": [
            "money: able, forced, much, it, fact, man, well, so, taken, them\n",
            "lion: behavior, former, lives, battle, africa, spain, seen, provided, addition, charge\n",
            "africa: america, europe, india, west, end, germany, east, nine, addition, france\n",
            "musician: actor, actress, singer, writer, author, nine, variety, poet, introduction, able\n",
            "dance: music, largest, addition, lack, forms, order, science, culture, one, jazz\n",
            "\n",
            "\n"
          ]
        },
        {
          "output_type": "stream",
          "name": "stderr",
          "text": [
            "25497it [10:16, 49.59it/s]"
          ]
        },
        {
          "output_type": "stream",
          "name": "stdout",
          "text": [
            "| epoch   3 | 25500/32580 batches | loss    1.338 \n"
          ]
        },
        {
          "output_type": "stream",
          "name": "stderr",
          "text": [
            "25506it [10:17, 26.11it/s]"
          ]
        },
        {
          "output_type": "stream",
          "name": "stdout",
          "text": [
            "money: able, forced, much, it, fact, man, well, so, taken, them\n",
            "lion: behavior, former, lives, battle, africa, spain, seen, provided, addition, charge\n",
            "africa: america, europe, india, west, end, germany, east, nine, addition, france\n",
            "musician: actor, actress, singer, writer, author, nine, variety, poet, introduction, able\n",
            "dance: music, largest, addition, lack, forms, order, science, culture, one, jazz\n",
            "\n",
            "\n"
          ]
        },
        {
          "output_type": "stream",
          "name": "stderr",
          "text": [
            "25999it [10:29, 49.43it/s]"
          ]
        },
        {
          "output_type": "stream",
          "name": "stdout",
          "text": [
            "| epoch   3 | 26000/32580 batches | loss    1.335 \n"
          ]
        },
        {
          "output_type": "stream",
          "name": "stderr",
          "text": [
            "26009it [10:29, 32.63it/s]"
          ]
        },
        {
          "output_type": "stream",
          "name": "stdout",
          "text": [
            "money: able, forced, much, it, fact, man, well, so, taken, them\n",
            "lion: behavior, former, lives, battle, africa, spain, seen, provided, addition, charge\n",
            "africa: america, europe, india, west, end, germany, east, nine, addition, france\n",
            "musician: actor, actress, singer, writer, author, nine, variety, poet, introduction, able\n",
            "dance: music, largest, addition, lack, forms, order, science, culture, one, jazz\n",
            "\n",
            "\n"
          ]
        },
        {
          "output_type": "stream",
          "name": "stderr",
          "text": [
            "26497it [10:41, 35.46it/s]"
          ]
        },
        {
          "output_type": "stream",
          "name": "stdout",
          "text": [
            "| epoch   3 | 26500/32580 batches | loss    1.335 \n"
          ]
        },
        {
          "output_type": "stream",
          "name": "stderr",
          "text": [
            "26504it [10:41, 20.51it/s]"
          ]
        },
        {
          "output_type": "stream",
          "name": "stdout",
          "text": [
            "money: able, forced, much, it, fact, man, well, so, taken, them\n",
            "lion: behavior, former, lives, battle, africa, spain, seen, provided, addition, charge\n",
            "africa: america, europe, india, west, end, germany, east, nine, addition, france\n",
            "musician: actor, actress, singer, writer, author, nine, variety, poet, introduction, able\n",
            "dance: music, largest, addition, lack, forms, order, science, culture, one, jazz\n",
            "\n",
            "\n"
          ]
        },
        {
          "output_type": "stream",
          "name": "stderr",
          "text": [
            "26999it [10:52, 49.24it/s]"
          ]
        },
        {
          "output_type": "stream",
          "name": "stdout",
          "text": [
            "| epoch   3 | 27000/32580 batches | loss    1.331 \n"
          ]
        },
        {
          "output_type": "stream",
          "name": "stderr",
          "text": [
            "27009it [10:53, 32.49it/s]"
          ]
        },
        {
          "output_type": "stream",
          "name": "stdout",
          "text": [
            "money: able, forced, much, it, fact, man, well, so, taken, them\n",
            "lion: behavior, former, lives, battle, africa, spain, seen, provided, addition, charge\n",
            "africa: america, europe, india, west, end, germany, east, nine, france, addition\n",
            "musician: actor, actress, singer, writer, author, nine, variety, poet, introduction, able\n",
            "dance: music, largest, addition, lack, forms, order, science, culture, one, jazz\n",
            "\n",
            "\n"
          ]
        },
        {
          "output_type": "stream",
          "name": "stderr",
          "text": [
            "27497it [11:05, 49.98it/s]"
          ]
        },
        {
          "output_type": "stream",
          "name": "stdout",
          "text": [
            "| epoch   3 | 27500/32580 batches | loss    1.338 \n"
          ]
        },
        {
          "output_type": "stream",
          "name": "stderr",
          "text": [
            "27506it [11:05, 29.46it/s]"
          ]
        },
        {
          "output_type": "stream",
          "name": "stdout",
          "text": [
            "money: able, forced, much, it, fact, man, well, so, taken, them\n",
            "lion: behavior, former, lives, battle, africa, spain, seen, provided, addition, charge\n",
            "africa: america, europe, india, west, end, germany, east, nine, france, addition\n",
            "musician: actor, actress, singer, writer, author, nine, variety, poet, introduction, able\n",
            "dance: music, largest, addition, lack, forms, order, science, culture, one, jazz\n",
            "\n",
            "\n"
          ]
        },
        {
          "output_type": "stream",
          "name": "stderr",
          "text": [
            "28000it [11:16, 35.92it/s]"
          ]
        },
        {
          "output_type": "stream",
          "name": "stdout",
          "text": [
            "| epoch   3 | 28000/32580 batches | loss    1.335 \n"
          ]
        },
        {
          "output_type": "stream",
          "name": "stderr",
          "text": [
            "\r28004it [11:17, 17.11it/s]"
          ]
        },
        {
          "output_type": "stream",
          "name": "stdout",
          "text": [
            "money: able, forced, much, it, fact, man, well, so, taken, them\n",
            "lion: behavior, former, lives, battle, africa, spain, seen, provided, addition, charge\n",
            "africa: america, europe, india, west, end, germany, east, nine, france, addition\n",
            "musician: actor, actress, singer, writer, author, nine, variety, poet, introduction, able\n",
            "dance: music, largest, addition, lack, forms, order, science, culture, one, jazz\n",
            "\n",
            "\n"
          ]
        },
        {
          "output_type": "stream",
          "name": "stderr",
          "text": [
            "28496it [11:28, 49.56it/s]"
          ]
        },
        {
          "output_type": "stream",
          "name": "stdout",
          "text": [
            "| epoch   3 | 28500/32580 batches | loss    1.335 \n"
          ]
        },
        {
          "output_type": "stream",
          "name": "stderr",
          "text": [
            "28506it [11:29, 32.33it/s]"
          ]
        },
        {
          "output_type": "stream",
          "name": "stdout",
          "text": [
            "money: able, forced, much, it, fact, man, well, so, taken, them\n",
            "lion: behavior, former, lives, battle, africa, spain, seen, provided, addition, charge\n",
            "africa: america, europe, india, west, end, germany, east, nine, france, addition\n",
            "musician: actor, actress, singer, writer, author, nine, variety, poet, introduction, able\n",
            "dance: music, largest, addition, lack, forms, order, science, culture, one, jazz\n",
            "\n",
            "\n"
          ]
        },
        {
          "output_type": "stream",
          "name": "stderr",
          "text": [
            "28997it [11:41, 35.36it/s]"
          ]
        },
        {
          "output_type": "stream",
          "name": "stdout",
          "text": [
            "| epoch   3 | 29000/32580 batches | loss    1.329 \n"
          ]
        },
        {
          "output_type": "stream",
          "name": "stderr",
          "text": [
            "29005it [11:41, 24.00it/s]"
          ]
        },
        {
          "output_type": "stream",
          "name": "stdout",
          "text": [
            "money: able, forced, much, it, fact, man, well, so, taken, them\n",
            "lion: behavior, former, lives, battle, africa, spain, seen, provided, addition, charge\n",
            "africa: america, europe, india, west, end, germany, east, nine, france, addition\n",
            "musician: actor, actress, singer, writer, author, nine, variety, poet, introduction, able\n",
            "dance: music, largest, addition, lack, forms, order, science, culture, one, jazz\n",
            "\n",
            "\n"
          ]
        },
        {
          "output_type": "stream",
          "name": "stderr",
          "text": [
            "29500it [11:52, 40.62it/s]"
          ]
        },
        {
          "output_type": "stream",
          "name": "stdout",
          "text": [
            "| epoch   3 | 29500/32580 batches | loss    1.330 \n"
          ]
        },
        {
          "output_type": "stream",
          "name": "stderr",
          "text": [
            "\r29505it [11:52, 21.52it/s]"
          ]
        },
        {
          "output_type": "stream",
          "name": "stdout",
          "text": [
            "money: able, forced, much, it, fact, man, well, so, taken, them\n",
            "lion: behavior, former, lives, battle, africa, spain, seen, provided, addition, charge\n",
            "africa: america, europe, india, west, end, germany, east, nine, france, addition\n",
            "musician: actor, actress, singer, writer, author, nine, variety, poet, introduction, able\n",
            "dance: music, largest, addition, lack, forms, order, science, culture, one, jazz\n",
            "\n",
            "\n"
          ]
        },
        {
          "output_type": "stream",
          "name": "stderr",
          "text": [
            "29999it [12:04, 50.00it/s]"
          ]
        },
        {
          "output_type": "stream",
          "name": "stdout",
          "text": [
            "| epoch   3 | 30000/32580 batches | loss    1.335 \n"
          ]
        },
        {
          "output_type": "stream",
          "name": "stderr",
          "text": [
            "30009it [12:05, 32.44it/s]"
          ]
        },
        {
          "output_type": "stream",
          "name": "stdout",
          "text": [
            "money: able, forced, much, it, fact, man, well, so, taken, them\n",
            "lion: behavior, former, lives, battle, africa, spain, seen, provided, addition, charge\n",
            "africa: america, europe, india, west, end, germany, east, nine, france, addition\n",
            "musician: actor, actress, singer, writer, author, nine, variety, poet, introduction, able\n",
            "dance: music, largest, addition, lack, forms, order, science, culture, one, jazz\n",
            "\n",
            "\n"
          ]
        },
        {
          "output_type": "stream",
          "name": "stderr",
          "text": [
            "30499it [12:16, 36.60it/s]"
          ]
        },
        {
          "output_type": "stream",
          "name": "stdout",
          "text": [
            "| epoch   3 | 30500/32580 batches | loss    1.333 \n"
          ]
        },
        {
          "output_type": "stream",
          "name": "stderr",
          "text": [
            "30507it [12:17, 20.39it/s]"
          ]
        },
        {
          "output_type": "stream",
          "name": "stdout",
          "text": [
            "money: able, forced, much, it, fact, man, well, so, taken, them\n",
            "lion: behavior, former, lives, battle, africa, spain, seen, provided, addition, charge\n",
            "africa: america, europe, india, west, end, germany, east, nine, france, addition\n",
            "musician: actor, actress, singer, writer, author, nine, variety, poet, introduction, able\n",
            "dance: music, largest, addition, lack, forms, order, science, culture, one, jazz\n",
            "\n",
            "\n"
          ]
        },
        {
          "output_type": "stream",
          "name": "stderr",
          "text": [
            "30997it [12:28, 48.82it/s]"
          ]
        },
        {
          "output_type": "stream",
          "name": "stdout",
          "text": [
            "| epoch   3 | 31000/32580 batches | loss    1.332 \n"
          ]
        },
        {
          "output_type": "stream",
          "name": "stderr",
          "text": [
            "31006it [12:28, 29.75it/s]"
          ]
        },
        {
          "output_type": "stream",
          "name": "stdout",
          "text": [
            "money: able, forced, much, it, fact, man, well, so, taken, them\n",
            "lion: behavior, former, lives, battle, africa, spain, seen, provided, addition, charge\n",
            "africa: america, europe, india, west, end, germany, east, nine, france, addition\n",
            "musician: actor, actress, singer, writer, author, nine, variety, poet, introduction, able\n",
            "dance: music, largest, addition, lack, forms, order, science, culture, one, jazz\n",
            "\n",
            "\n"
          ]
        },
        {
          "output_type": "stream",
          "name": "stderr",
          "text": [
            "31498it [12:41, 48.80it/s]"
          ]
        },
        {
          "output_type": "stream",
          "name": "stdout",
          "text": [
            "| epoch   3 | 31500/32580 batches | loss    1.328 \n"
          ]
        },
        {
          "output_type": "stream",
          "name": "stderr",
          "text": [
            "31508it [12:41, 32.35it/s]"
          ]
        },
        {
          "output_type": "stream",
          "name": "stdout",
          "text": [
            "money: able, forced, much, it, fact, man, well, so, taken, them\n",
            "lion: behavior, former, lives, battle, africa, spain, seen, provided, addition, charge\n",
            "africa: america, europe, india, west, end, germany, east, nine, france, addition\n",
            "musician: actor, actress, singer, writer, author, nine, variety, poet, introduction, able\n",
            "dance: music, largest, addition, lack, forms, order, science, culture, one, jazz\n",
            "\n",
            "\n"
          ]
        },
        {
          "output_type": "stream",
          "name": "stderr",
          "text": [
            "31997it [12:52, 35.95it/s]"
          ]
        },
        {
          "output_type": "stream",
          "name": "stdout",
          "text": [
            "| epoch   3 | 32000/32580 batches | loss    1.335 \n"
          ]
        },
        {
          "output_type": "stream",
          "name": "stderr",
          "text": [
            "32004it [12:52, 19.49it/s]"
          ]
        },
        {
          "output_type": "stream",
          "name": "stdout",
          "text": [
            "money: able, forced, much, it, fact, man, well, so, taken, them\n",
            "lion: behavior, former, lives, battle, africa, spain, seen, provided, addition, charge\n",
            "africa: america, europe, india, west, end, germany, east, nine, france, addition\n",
            "musician: actor, actress, singer, writer, author, nine, variety, poet, introduction, able\n",
            "dance: music, largest, addition, lack, forms, order, science, culture, one, jazz\n",
            "\n",
            "\n"
          ]
        },
        {
          "output_type": "stream",
          "name": "stderr",
          "text": [
            "32496it [13:04, 49.26it/s]"
          ]
        },
        {
          "output_type": "stream",
          "name": "stdout",
          "text": [
            "| epoch   3 | 32500/32580 batches | loss    1.331 \n"
          ]
        },
        {
          "output_type": "stream",
          "name": "stderr",
          "text": [
            "32505it [13:04, 31.02it/s]"
          ]
        },
        {
          "output_type": "stream",
          "name": "stdout",
          "text": [
            "money: able, forced, much, it, fact, man, well, so, taken, them\n",
            "lion: behavior, former, lives, battle, africa, spain, seen, provided, addition, charge\n",
            "africa: america, europe, india, west, end, germany, east, nine, france, addition\n",
            "musician: actor, actress, singer, writer, author, nine, variety, poet, introduction, able\n",
            "dance: music, largest, addition, lack, forms, order, science, culture, one, jazz\n",
            "\n",
            "\n"
          ]
        },
        {
          "output_type": "stream",
          "name": "stderr",
          "text": [
            "32580it [13:08, 41.32it/s]\n",
            "0it [00:00, ?it/s]"
          ]
        },
        {
          "output_type": "stream",
          "name": "stdout",
          "text": [
            "| epoch   4 |     0/32580 batches | loss    1.410 \n"
          ]
        },
        {
          "output_type": "stream",
          "name": "stderr",
          "text": [
            "5it [00:03,  1.93it/s]"
          ]
        },
        {
          "output_type": "stream",
          "name": "stdout",
          "text": [
            "money: able, forced, much, it, fact, man, well, so, taken, them\n",
            "lion: behavior, former, lives, battle, africa, spain, seen, provided, addition, charge\n",
            "africa: america, europe, india, west, end, germany, east, nine, france, addition\n",
            "musician: actor, actress, singer, writer, author, nine, variety, poet, introduction, able\n",
            "dance: music, largest, addition, lack, forms, order, science, culture, one, jazz\n",
            "\n",
            "\n"
          ]
        },
        {
          "output_type": "stream",
          "name": "stderr",
          "text": [
            "495it [00:14, 48.86it/s]"
          ]
        },
        {
          "output_type": "stream",
          "name": "stdout",
          "text": [
            "| epoch   4 |   500/32580 batches | loss    1.332 \n"
          ]
        },
        {
          "output_type": "stream",
          "name": "stderr",
          "text": [
            "506it [00:15, 31.82it/s]"
          ]
        },
        {
          "output_type": "stream",
          "name": "stdout",
          "text": [
            "money: able, forced, much, it, fact, man, well, so, taken, them\n",
            "lion: behavior, former, lives, battle, africa, spain, seen, provided, addition, charge\n",
            "africa: america, europe, india, west, end, germany, east, nine, france, addition\n",
            "musician: actor, actress, singer, writer, author, nine, variety, poet, introduction, able\n",
            "dance: music, largest, addition, lack, forms, order, science, culture, one, jazz\n",
            "\n",
            "\n"
          ]
        },
        {
          "output_type": "stream",
          "name": "stderr",
          "text": [
            "1000it [00:27, 39.25it/s]"
          ]
        },
        {
          "output_type": "stream",
          "name": "stdout",
          "text": [
            "| epoch   4 |  1000/32580 batches | loss    1.328 \n"
          ]
        },
        {
          "output_type": "stream",
          "name": "stderr",
          "text": [
            "1009it [00:28, 28.15it/s]"
          ]
        },
        {
          "output_type": "stream",
          "name": "stdout",
          "text": [
            "money: able, forced, much, it, fact, man, well, so, taken, them\n",
            "lion: behavior, former, lives, battle, africa, spain, seen, provided, addition, charge\n",
            "africa: america, europe, india, west, end, germany, east, nine, france, addition\n",
            "musician: actor, actress, singer, writer, author, nine, variety, poet, introduction, able\n",
            "dance: music, largest, addition, lack, forms, order, science, culture, one, jazz\n",
            "\n",
            "\n"
          ]
        },
        {
          "output_type": "stream",
          "name": "stderr",
          "text": [
            "1500it [00:38, 40.92it/s]"
          ]
        },
        {
          "output_type": "stream",
          "name": "stdout",
          "text": [
            "| epoch   4 |  1500/32580 batches | loss    1.326 \n"
          ]
        },
        {
          "output_type": "stream",
          "name": "stderr",
          "text": [
            "\r1505it [00:38, 21.57it/s]"
          ]
        },
        {
          "output_type": "stream",
          "name": "stdout",
          "text": [
            "money: able, forced, much, it, fact, man, well, so, taken, them\n",
            "lion: behavior, former, lives, battle, africa, spain, seen, provided, addition, charge\n",
            "africa: america, europe, india, west, end, germany, east, nine, france, addition\n",
            "musician: actor, actress, singer, writer, author, nine, variety, poet, introduction, able\n",
            "dance: music, largest, addition, lack, forms, order, science, culture, one, jazz\n",
            "\n",
            "\n"
          ]
        },
        {
          "output_type": "stream",
          "name": "stderr",
          "text": [
            "1996it [00:51, 49.72it/s]"
          ]
        },
        {
          "output_type": "stream",
          "name": "stdout",
          "text": [
            "| epoch   4 |  2000/32580 batches | loss    1.330 \n"
          ]
        },
        {
          "output_type": "stream",
          "name": "stderr",
          "text": [
            "2005it [00:51, 30.98it/s]"
          ]
        },
        {
          "output_type": "stream",
          "name": "stdout",
          "text": [
            "money: able, forced, much, it, fact, man, well, so, taken, them\n",
            "lion: behavior, former, lives, battle, africa, spain, seen, provided, addition, charge\n",
            "africa: america, europe, india, west, end, germany, east, nine, france, addition\n",
            "musician: actor, actress, singer, writer, author, nine, variety, poet, introduction, able\n",
            "dance: music, largest, addition, lack, forms, order, science, culture, one, jazz\n",
            "\n",
            "\n"
          ]
        },
        {
          "output_type": "stream",
          "name": "stderr",
          "text": [
            "2497it [01:03, 36.09it/s]"
          ]
        },
        {
          "output_type": "stream",
          "name": "stdout",
          "text": [
            "| epoch   4 |  2500/32580 batches | loss    1.332 \n"
          ]
        },
        {
          "output_type": "stream",
          "name": "stderr",
          "text": [
            "2505it [01:03, 21.08it/s]"
          ]
        },
        {
          "output_type": "stream",
          "name": "stdout",
          "text": [
            "money: able, forced, much, it, fact, man, well, so, taken, them\n",
            "lion: behavior, former, lives, battle, africa, spain, seen, provided, addition, charge\n",
            "africa: america, europe, india, west, end, germany, east, nine, france, addition\n",
            "musician: actor, actress, singer, writer, author, nine, variety, poet, introduction, able\n",
            "dance: music, largest, addition, lack, forms, order, science, culture, one, jazz\n",
            "\n",
            "\n"
          ]
        },
        {
          "output_type": "stream",
          "name": "stderr",
          "text": [
            "2996it [01:14, 49.31it/s]"
          ]
        },
        {
          "output_type": "stream",
          "name": "stdout",
          "text": [
            "| epoch   4 |  3000/32580 batches | loss    1.334 \n"
          ]
        },
        {
          "output_type": "stream",
          "name": "stderr",
          "text": [
            "3005it [01:14, 31.50it/s]"
          ]
        },
        {
          "output_type": "stream",
          "name": "stdout",
          "text": [
            "money: able, forced, much, it, fact, man, well, so, taken, them\n",
            "lion: behavior, former, lives, battle, africa, spain, seen, provided, addition, charge\n",
            "africa: america, europe, india, west, end, germany, east, nine, france, addition\n",
            "musician: actor, actress, singer, writer, author, nine, variety, poet, introduction, able\n",
            "dance: music, largest, addition, lack, forms, order, science, culture, one, jazz\n",
            "\n",
            "\n"
          ]
        },
        {
          "output_type": "stream",
          "name": "stderr",
          "text": [
            "3497it [01:27, 49.85it/s]"
          ]
        },
        {
          "output_type": "stream",
          "name": "stdout",
          "text": [
            "| epoch   4 |  3500/32580 batches | loss    1.332 \n"
          ]
        },
        {
          "output_type": "stream",
          "name": "stderr",
          "text": [
            "3507it [01:27, 32.00it/s]"
          ]
        },
        {
          "output_type": "stream",
          "name": "stdout",
          "text": [
            "money: able, forced, much, it, fact, man, well, so, taken, them\n",
            "lion: behavior, former, lives, battle, africa, spain, seen, provided, addition, charge\n",
            "africa: america, europe, india, west, end, germany, east, nine, france, addition\n",
            "musician: actor, actress, singer, writer, author, nine, variety, poet, introduction, able\n",
            "dance: music, largest, addition, lack, forms, order, science, culture, one, jazz\n",
            "\n",
            "\n"
          ]
        },
        {
          "output_type": "stream",
          "name": "stderr",
          "text": [
            "3999it [01:38, 35.01it/s]"
          ]
        },
        {
          "output_type": "stream",
          "name": "stdout",
          "text": [
            "| epoch   4 |  4000/32580 batches | loss    1.329 \n"
          ]
        },
        {
          "output_type": "stream",
          "name": "stderr",
          "text": [
            "4007it [01:39, 19.65it/s]"
          ]
        },
        {
          "output_type": "stream",
          "name": "stdout",
          "text": [
            "money: able, forced, much, it, fact, man, well, so, taken, them\n",
            "lion: behavior, former, lives, battle, africa, spain, seen, provided, addition, charge\n",
            "africa: america, europe, india, west, end, germany, east, nine, france, addition\n",
            "musician: actor, actress, singer, writer, author, nine, variety, poet, introduction, able\n",
            "dance: music, largest, addition, lack, forms, order, science, culture, one, jazz\n",
            "\n",
            "\n"
          ]
        },
        {
          "output_type": "stream",
          "name": "stderr",
          "text": [
            "4499it [01:50, 49.33it/s]"
          ]
        },
        {
          "output_type": "stream",
          "name": "stdout",
          "text": [
            "| epoch   4 |  4500/32580 batches | loss    1.336 \n"
          ]
        },
        {
          "output_type": "stream",
          "name": "stderr",
          "text": [
            "4509it [01:51, 31.70it/s]"
          ]
        },
        {
          "output_type": "stream",
          "name": "stdout",
          "text": [
            "money: able, forced, much, it, fact, man, well, so, taken, them\n",
            "lion: behavior, former, lives, battle, africa, spain, seen, provided, addition, charge\n",
            "africa: america, europe, india, west, end, germany, east, nine, france, addition\n",
            "musician: actor, actress, singer, writer, author, nine, variety, poet, introduction, able\n",
            "dance: music, largest, addition, lack, forms, order, science, culture, one, jazz\n",
            "\n",
            "\n"
          ]
        },
        {
          "output_type": "stream",
          "name": "stderr",
          "text": [
            "5000it [02:03, 35.76it/s]"
          ]
        },
        {
          "output_type": "stream",
          "name": "stdout",
          "text": [
            "| epoch   4 |  5000/32580 batches | loss    1.335 \n"
          ]
        },
        {
          "output_type": "stream",
          "name": "stderr",
          "text": [
            "5009it [02:03, 25.76it/s]"
          ]
        },
        {
          "output_type": "stream",
          "name": "stdout",
          "text": [
            "money: able, forced, much, it, fact, man, well, so, taken, them\n",
            "lion: behavior, former, lives, battle, africa, spain, seen, provided, addition, charge\n",
            "africa: america, europe, india, west, end, germany, east, nine, france, addition\n",
            "musician: actor, actress, singer, writer, author, nine, variety, poet, introduction, able\n",
            "dance: music, largest, addition, lack, forms, order, science, culture, one, jazz\n",
            "\n",
            "\n"
          ]
        },
        {
          "output_type": "stream",
          "name": "stderr",
          "text": [
            "5500it [02:13, 42.11it/s]"
          ]
        },
        {
          "output_type": "stream",
          "name": "stdout",
          "text": [
            "| epoch   4 |  5500/32580 batches | loss    1.329 \n"
          ]
        },
        {
          "output_type": "stream",
          "name": "stderr",
          "text": [
            "\r5505it [02:14, 22.05it/s]"
          ]
        },
        {
          "output_type": "stream",
          "name": "stdout",
          "text": [
            "money: able, forced, much, it, fact, man, well, so, taken, them\n",
            "lion: behavior, former, lives, battle, africa, spain, seen, provided, addition, charge\n",
            "africa: america, europe, india, west, end, germany, east, nine, france, addition\n",
            "musician: actor, actress, singer, writer, author, nine, variety, poet, introduction, able\n",
            "dance: music, largest, addition, lack, forms, order, science, culture, one, jazz\n",
            "\n",
            "\n"
          ]
        },
        {
          "output_type": "stream",
          "name": "stderr",
          "text": [
            "6000it [02:26, 49.49it/s]"
          ]
        },
        {
          "output_type": "stream",
          "name": "stdout",
          "text": [
            "| epoch   4 |  6000/32580 batches | loss    1.332 \n"
          ]
        },
        {
          "output_type": "stream",
          "name": "stderr",
          "text": [
            "\r6005it [02:27, 28.59it/s]"
          ]
        },
        {
          "output_type": "stream",
          "name": "stdout",
          "text": [
            "money: able, forced, much, it, fact, man, well, so, taken, them\n",
            "lion: behavior, former, lives, battle, africa, spain, seen, provided, addition, charge\n",
            "africa: america, europe, india, west, end, germany, east, nine, france, addition\n",
            "musician: actor, actress, singer, writer, author, nine, variety, poet, introduction, able\n",
            "dance: music, largest, addition, lack, forms, order, science, culture, one, jazz\n",
            "\n",
            "\n"
          ]
        },
        {
          "output_type": "stream",
          "name": "stderr",
          "text": [
            "6498it [02:38, 35.04it/s]"
          ]
        },
        {
          "output_type": "stream",
          "name": "stdout",
          "text": [
            "| epoch   4 |  6500/32580 batches | loss    1.329 \n"
          ]
        },
        {
          "output_type": "stream",
          "name": "stderr",
          "text": [
            "6506it [02:39, 20.04it/s]"
          ]
        },
        {
          "output_type": "stream",
          "name": "stdout",
          "text": [
            "money: able, forced, much, it, fact, man, well, so, taken, them\n",
            "lion: behavior, former, lives, battle, africa, spain, seen, provided, addition, charge\n",
            "africa: america, europe, india, west, end, germany, east, nine, france, addition\n",
            "musician: actor, actress, singer, writer, author, nine, variety, poet, introduction, able\n",
            "dance: music, largest, addition, lack, forms, order, science, culture, one, jazz\n",
            "\n",
            "\n"
          ]
        },
        {
          "output_type": "stream",
          "name": "stderr",
          "text": [
            "6998it [02:49, 50.04it/s]"
          ]
        },
        {
          "output_type": "stream",
          "name": "stdout",
          "text": [
            "| epoch   4 |  7000/32580 batches | loss    1.330 \n"
          ]
        },
        {
          "output_type": "stream",
          "name": "stderr",
          "text": [
            "7010it [02:50, 33.59it/s]"
          ]
        },
        {
          "output_type": "stream",
          "name": "stdout",
          "text": [
            "money: able, forced, much, it, fact, man, well, so, taken, them\n",
            "lion: behavior, former, lives, battle, africa, spain, seen, provided, addition, charge\n",
            "africa: america, europe, india, west, end, germany, east, nine, france, addition\n",
            "musician: actor, actress, singer, writer, author, nine, variety, poet, introduction, able\n",
            "dance: music, largest, addition, lack, forms, order, science, culture, one, jazz\n",
            "\n",
            "\n"
          ]
        },
        {
          "output_type": "stream",
          "name": "stderr",
          "text": [
            "7499it [03:02, 49.47it/s]"
          ]
        },
        {
          "output_type": "stream",
          "name": "stdout",
          "text": [
            "| epoch   4 |  7500/32580 batches | loss    1.330 \n"
          ]
        },
        {
          "output_type": "stream",
          "name": "stderr",
          "text": [
            "7509it [03:03, 31.52it/s]"
          ]
        },
        {
          "output_type": "stream",
          "name": "stdout",
          "text": [
            "money: able, forced, much, it, fact, man, well, so, taken, them\n",
            "lion: behavior, former, lives, battle, africa, spain, seen, provided, addition, charge\n",
            "africa: america, europe, india, west, end, germany, east, nine, france, addition\n",
            "musician: actor, actress, singer, writer, author, nine, variety, poet, introduction, able\n",
            "dance: music, largest, addition, lack, forms, order, science, culture, one, jazz\n",
            "\n",
            "\n"
          ]
        },
        {
          "output_type": "stream",
          "name": "stderr",
          "text": [
            "7998it [03:18, 35.42it/s]"
          ]
        },
        {
          "output_type": "stream",
          "name": "stdout",
          "text": [
            "| epoch   4 |  8000/32580 batches | loss    1.330 \n"
          ]
        },
        {
          "output_type": "stream",
          "name": "stderr",
          "text": [
            "8006it [03:18, 20.13it/s]"
          ]
        },
        {
          "output_type": "stream",
          "name": "stdout",
          "text": [
            "money: able, forced, much, it, fact, man, well, so, taken, them\n",
            "lion: behavior, former, lives, battle, africa, spain, seen, provided, addition, charge\n",
            "africa: america, europe, india, west, end, germany, east, nine, france, addition\n",
            "musician: actor, actress, singer, writer, author, nine, variety, poet, introduction, able\n",
            "dance: music, largest, addition, lack, forms, order, science, culture, one, jazz\n",
            "\n",
            "\n"
          ]
        },
        {
          "output_type": "stream",
          "name": "stderr",
          "text": [
            "8499it [03:29, 49.90it/s]"
          ]
        },
        {
          "output_type": "stream",
          "name": "stdout",
          "text": [
            "| epoch   4 |  8500/32580 batches | loss    1.329 \n"
          ]
        },
        {
          "output_type": "stream",
          "name": "stderr",
          "text": [
            "8509it [03:29, 31.56it/s]"
          ]
        },
        {
          "output_type": "stream",
          "name": "stdout",
          "text": [
            "money: able, forced, much, it, fact, man, well, so, taken, them\n",
            "lion: behavior, former, lives, battle, africa, spain, seen, provided, addition, charge\n",
            "africa: america, europe, india, west, end, germany, east, nine, france, addition\n",
            "musician: actor, actress, singer, writer, author, nine, variety, poet, introduction, able\n",
            "dance: music, largest, addition, lack, forms, order, science, culture, one, jazz\n",
            "\n",
            "\n"
          ]
        },
        {
          "output_type": "stream",
          "name": "stderr",
          "text": [
            "8999it [03:42, 48.62it/s]"
          ]
        },
        {
          "output_type": "stream",
          "name": "stdout",
          "text": [
            "| epoch   4 |  9000/32580 batches | loss    1.337 \n"
          ]
        },
        {
          "output_type": "stream",
          "name": "stderr",
          "text": [
            "9009it [03:42, 31.73it/s]"
          ]
        },
        {
          "output_type": "stream",
          "name": "stdout",
          "text": [
            "money: able, forced, much, it, fact, man, well, so, taken, them\n",
            "lion: behavior, former, lives, battle, africa, spain, seen, provided, addition, charge\n",
            "africa: america, europe, india, west, end, germany, east, nine, france, addition\n",
            "musician: actor, actress, singer, writer, author, nine, variety, poet, introduction, able\n",
            "dance: music, largest, addition, lack, forms, order, science, culture, one, jazz\n",
            "\n",
            "\n"
          ]
        },
        {
          "output_type": "stream",
          "name": "stderr",
          "text": [
            "9497it [03:53, 35.24it/s]"
          ]
        },
        {
          "output_type": "stream",
          "name": "stdout",
          "text": [
            "| epoch   4 |  9500/32580 batches | loss    1.329 \n"
          ]
        },
        {
          "output_type": "stream",
          "name": "stderr",
          "text": [
            "9505it [03:54, 21.01it/s]"
          ]
        },
        {
          "output_type": "stream",
          "name": "stdout",
          "text": [
            "money: able, forced, much, it, fact, man, well, so, taken, them\n",
            "lion: behavior, former, lives, battle, africa, spain, seen, provided, addition, charge\n",
            "africa: america, europe, india, west, end, germany, east, nine, france, addition\n",
            "musician: actor, actress, singer, writer, author, nine, variety, poet, introduction, able\n",
            "dance: music, largest, addition, lack, forms, order, science, culture, one, jazz\n",
            "\n",
            "\n"
          ]
        },
        {
          "output_type": "stream",
          "name": "stderr",
          "text": [
            "9998it [04:05, 49.15it/s]"
          ]
        },
        {
          "output_type": "stream",
          "name": "stdout",
          "text": [
            "| epoch   4 | 10000/32580 batches | loss    1.334 \n"
          ]
        },
        {
          "output_type": "stream",
          "name": "stderr",
          "text": [
            "10008it [04:05, 31.84it/s]"
          ]
        },
        {
          "output_type": "stream",
          "name": "stdout",
          "text": [
            "money: able, forced, much, it, fact, man, well, so, taken, them\n",
            "lion: behavior, former, lives, battle, africa, spain, seen, provided, addition, charge\n",
            "africa: america, europe, india, west, end, germany, east, nine, france, addition\n",
            "musician: actor, actress, singer, writer, author, nine, variety, poet, introduction, able\n",
            "dance: music, largest, addition, lack, forms, order, science, culture, one, jazz\n",
            "\n",
            "\n"
          ]
        },
        {
          "output_type": "stream",
          "name": "stderr",
          "text": [
            "10500it [04:18, 47.67it/s]"
          ]
        },
        {
          "output_type": "stream",
          "name": "stdout",
          "text": [
            "| epoch   4 | 10500/32580 batches | loss    1.328 \n"
          ]
        },
        {
          "output_type": "stream",
          "name": "stderr",
          "text": [
            "\r10505it [04:18, 26.65it/s]"
          ]
        },
        {
          "output_type": "stream",
          "name": "stdout",
          "text": [
            "money: able, forced, much, it, fact, man, well, so, taken, them\n",
            "lion: behavior, former, lives, battle, africa, spain, seen, provided, addition, charge\n",
            "africa: america, europe, india, west, end, germany, east, nine, france, addition\n",
            "musician: actor, actress, singer, writer, author, nine, variety, poet, introduction, able\n",
            "dance: music, largest, addition, lack, forms, order, science, culture, one, jazz\n",
            "\n",
            "\n"
          ]
        },
        {
          "output_type": "stream",
          "name": "stderr",
          "text": [
            "10998it [04:28, 39.73it/s]"
          ]
        },
        {
          "output_type": "stream",
          "name": "stdout",
          "text": [
            "| epoch   4 | 11000/32580 batches | loss    1.334 \n"
          ]
        },
        {
          "output_type": "stream",
          "name": "stderr",
          "text": [
            "11006it [04:29, 22.54it/s]"
          ]
        },
        {
          "output_type": "stream",
          "name": "stdout",
          "text": [
            "money: able, forced, much, it, fact, man, well, so, taken, them\n",
            "lion: behavior, former, lives, battle, africa, spain, seen, provided, addition, charge\n",
            "africa: america, europe, india, west, end, germany, east, nine, france, addition\n",
            "musician: actor, actress, singer, writer, author, nine, variety, poet, introduction, able\n",
            "dance: music, largest, addition, lack, forms, order, science, culture, one, jazz\n",
            "\n",
            "\n"
          ]
        },
        {
          "output_type": "stream",
          "name": "stderr",
          "text": [
            "11497it [04:41, 47.17it/s]"
          ]
        },
        {
          "output_type": "stream",
          "name": "stdout",
          "text": [
            "| epoch   4 | 11500/32580 batches | loss    1.333 \n"
          ]
        },
        {
          "output_type": "stream",
          "name": "stderr",
          "text": [
            "11507it [04:42, 29.98it/s]"
          ]
        },
        {
          "output_type": "stream",
          "name": "stdout",
          "text": [
            "money: able, forced, much, it, fact, man, well, so, taken, them\n",
            "lion: behavior, former, lives, battle, africa, spain, seen, provided, addition, charge\n",
            "africa: america, europe, india, west, end, germany, east, nine, france, addition\n",
            "musician: actor, actress, singer, writer, author, nine, variety, poet, introduction, able\n",
            "dance: music, largest, addition, lack, forms, order, science, culture, one, jazz\n",
            "\n",
            "\n"
          ]
        },
        {
          "output_type": "stream",
          "name": "stderr",
          "text": [
            "11998it [04:54, 35.48it/s]"
          ]
        },
        {
          "output_type": "stream",
          "name": "stdout",
          "text": [
            "| epoch   4 | 12000/32580 batches | loss    1.333 \n"
          ]
        },
        {
          "output_type": "stream",
          "name": "stderr",
          "text": [
            "12006it [04:54, 18.04it/s]"
          ]
        },
        {
          "output_type": "stream",
          "name": "stdout",
          "text": [
            "money: able, forced, much, it, fact, man, well, so, taken, them\n",
            "lion: behavior, former, lives, battle, africa, spain, seen, provided, addition, charge\n",
            "africa: america, europe, india, west, end, germany, east, nine, france, addition\n",
            "musician: actor, actress, singer, writer, author, nine, variety, poet, introduction, able\n",
            "dance: music, largest, addition, lack, forms, order, science, culture, one, jazz\n",
            "\n",
            "\n"
          ]
        },
        {
          "output_type": "stream",
          "name": "stderr",
          "text": [
            "12497it [05:05, 49.86it/s]"
          ]
        },
        {
          "output_type": "stream",
          "name": "stdout",
          "text": [
            "| epoch   4 | 12500/32580 batches | loss    1.334 \n"
          ]
        },
        {
          "output_type": "stream",
          "name": "stderr",
          "text": [
            "12507it [05:05, 31.46it/s]"
          ]
        },
        {
          "output_type": "stream",
          "name": "stdout",
          "text": [
            "money: able, forced, much, it, fact, man, well, so, taken, them\n",
            "lion: behavior, former, lives, battle, africa, spain, seen, provided, addition, charge\n",
            "africa: america, europe, india, west, end, germany, east, nine, france, addition\n",
            "musician: actor, actress, singer, writer, author, nine, variety, poet, introduction, able\n",
            "dance: music, largest, addition, lack, forms, order, science, culture, one, jazz\n",
            "\n",
            "\n"
          ]
        },
        {
          "output_type": "stream",
          "name": "stderr",
          "text": [
            "12998it [05:18, 49.64it/s]"
          ]
        },
        {
          "output_type": "stream",
          "name": "stdout",
          "text": [
            "| epoch   4 | 13000/32580 batches | loss    1.329 \n"
          ]
        },
        {
          "output_type": "stream",
          "name": "stderr",
          "text": [
            "13008it [05:18, 32.32it/s]"
          ]
        },
        {
          "output_type": "stream",
          "name": "stdout",
          "text": [
            "money: able, forced, much, it, fact, man, well, so, taken, them\n",
            "lion: behavior, former, lives, battle, africa, spain, seen, provided, addition, charge\n",
            "africa: america, europe, india, west, end, germany, east, nine, france, addition\n",
            "musician: actor, actress, singer, writer, author, nine, variety, poet, introduction, able\n",
            "dance: music, largest, addition, lack, forms, order, science, culture, one, jazz\n",
            "\n",
            "\n"
          ]
        },
        {
          "output_type": "stream",
          "name": "stderr",
          "text": [
            "13497it [05:29, 34.74it/s]"
          ]
        },
        {
          "output_type": "stream",
          "name": "stdout",
          "text": [
            "| epoch   4 | 13500/32580 batches | loss    1.329 \n"
          ]
        },
        {
          "output_type": "stream",
          "name": "stderr",
          "text": [
            "13504it [05:30, 19.24it/s]"
          ]
        },
        {
          "output_type": "stream",
          "name": "stdout",
          "text": [
            "money: able, forced, much, it, fact, man, well, so, taken, them\n",
            "lion: behavior, former, lives, battle, africa, spain, seen, provided, addition, charge\n",
            "africa: america, europe, india, west, end, germany, east, nine, france, addition\n",
            "musician: actor, actress, singer, writer, author, nine, variety, poet, introduction, able\n",
            "dance: music, largest, addition, lack, forms, order, science, culture, one, jazz\n",
            "\n",
            "\n"
          ]
        },
        {
          "output_type": "stream",
          "name": "stderr",
          "text": [
            "13997it [05:41, 47.78it/s]"
          ]
        },
        {
          "output_type": "stream",
          "name": "stdout",
          "text": [
            "| epoch   4 | 14000/32580 batches | loss    1.335 \n"
          ]
        },
        {
          "output_type": "stream",
          "name": "stderr",
          "text": [
            "14007it [05:42, 30.90it/s]"
          ]
        },
        {
          "output_type": "stream",
          "name": "stdout",
          "text": [
            "money: able, forced, much, it, fact, man, well, so, taken, them\n",
            "lion: behavior, former, lives, battle, africa, spain, seen, provided, addition, charge\n",
            "africa: america, europe, india, west, end, germany, east, nine, france, addition\n",
            "musician: actor, actress, singer, writer, author, nine, variety, poet, introduction, able\n",
            "dance: music, largest, addition, lack, forms, order, science, culture, one, jazz\n",
            "\n",
            "\n"
          ]
        },
        {
          "output_type": "stream",
          "name": "stderr",
          "text": [
            "14497it [05:54, 45.60it/s]"
          ]
        },
        {
          "output_type": "stream",
          "name": "stdout",
          "text": [
            "| epoch   4 | 14500/32580 batches | loss    1.331 \n"
          ]
        },
        {
          "output_type": "stream",
          "name": "stderr",
          "text": [
            "14507it [05:55, 31.02it/s]"
          ]
        },
        {
          "output_type": "stream",
          "name": "stdout",
          "text": [
            "money: able, forced, much, it, fact, man, well, so, taken, them\n",
            "lion: behavior, former, lives, battle, africa, spain, seen, provided, addition, charge\n",
            "africa: america, europe, india, west, end, germany, east, nine, france, addition\n",
            "musician: actor, actress, singer, writer, author, nine, variety, poet, introduction, able\n",
            "dance: music, largest, addition, lack, forms, order, science, culture, one, jazz\n",
            "\n",
            "\n"
          ]
        },
        {
          "output_type": "stream",
          "name": "stderr",
          "text": [
            "14998it [06:05, 37.68it/s]"
          ]
        },
        {
          "output_type": "stream",
          "name": "stdout",
          "text": [
            "| epoch   4 | 15000/32580 batches | loss    1.332 \n"
          ]
        },
        {
          "output_type": "stream",
          "name": "stderr",
          "text": [
            "15006it [06:06, 21.63it/s]"
          ]
        },
        {
          "output_type": "stream",
          "name": "stdout",
          "text": [
            "money: able, forced, much, it, fact, man, well, so, taken, them\n",
            "lion: behavior, former, lives, battle, africa, spain, seen, provided, addition, charge\n",
            "africa: america, europe, india, west, end, germany, east, nine, france, addition\n",
            "musician: actor, actress, singer, writer, author, nine, variety, poet, introduction, able\n",
            "dance: music, largest, addition, lack, forms, order, science, culture, one, jazz\n",
            "\n",
            "\n"
          ]
        },
        {
          "output_type": "stream",
          "name": "stderr",
          "text": [
            "15500it [06:18, 49.17it/s]"
          ]
        },
        {
          "output_type": "stream",
          "name": "stdout",
          "text": [
            "| epoch   4 | 15500/32580 batches | loss    1.328 \n"
          ]
        },
        {
          "output_type": "stream",
          "name": "stderr",
          "text": [
            "15510it [06:18, 31.87it/s]"
          ]
        },
        {
          "output_type": "stream",
          "name": "stdout",
          "text": [
            "money: able, forced, much, it, fact, man, well, so, taken, them\n",
            "lion: behavior, former, lives, battle, africa, spain, seen, provided, addition, charge\n",
            "africa: america, europe, india, west, end, germany, east, nine, france, addition\n",
            "musician: actor, actress, singer, writer, author, nine, variety, poet, introduction, able\n",
            "dance: music, largest, addition, lack, forms, order, science, culture, one, jazz\n",
            "\n",
            "\n"
          ]
        },
        {
          "output_type": "stream",
          "name": "stderr",
          "text": [
            "16000it [06:30, 36.36it/s]"
          ]
        },
        {
          "output_type": "stream",
          "name": "stdout",
          "text": [
            "| epoch   4 | 16000/32580 batches | loss    1.334 \n"
          ]
        },
        {
          "output_type": "stream",
          "name": "stderr",
          "text": [
            "\r16004it [06:30, 17.80it/s]"
          ]
        },
        {
          "output_type": "stream",
          "name": "stdout",
          "text": [
            "money: able, forced, much, it, fact, man, well, so, taken, them\n",
            "lion: behavior, former, lives, battle, africa, spain, seen, provided, addition, charge\n",
            "africa: america, europe, india, west, end, germany, east, nine, france, addition\n",
            "musician: actor, actress, singer, writer, author, nine, variety, poet, introduction, able\n",
            "dance: music, largest, addition, lack, forms, order, science, culture, one, jazz\n",
            "\n",
            "\n"
          ]
        },
        {
          "output_type": "stream",
          "name": "stderr",
          "text": [
            "16498it [06:41, 48.59it/s]"
          ]
        },
        {
          "output_type": "stream",
          "name": "stdout",
          "text": [
            "| epoch   4 | 16500/32580 batches | loss    1.332 \n"
          ]
        },
        {
          "output_type": "stream",
          "name": "stderr",
          "text": [
            "16508it [06:41, 31.79it/s]"
          ]
        },
        {
          "output_type": "stream",
          "name": "stdout",
          "text": [
            "money: able, forced, much, it, fact, man, well, so, taken, them\n",
            "lion: behavior, former, lives, battle, africa, spain, seen, provided, addition, charge\n",
            "africa: america, europe, india, west, end, germany, east, nine, france, addition\n",
            "musician: actor, actress, singer, writer, author, nine, variety, poet, introduction, able\n",
            "dance: music, largest, addition, lack, forms, order, science, culture, one, jazz\n",
            "\n",
            "\n"
          ]
        },
        {
          "output_type": "stream",
          "name": "stderr",
          "text": [
            "16999it [06:54, 48.16it/s]"
          ]
        },
        {
          "output_type": "stream",
          "name": "stdout",
          "text": [
            "| epoch   4 | 17000/32580 batches | loss    1.332 \n"
          ]
        },
        {
          "output_type": "stream",
          "name": "stderr",
          "text": [
            "17009it [06:54, 31.52it/s]"
          ]
        },
        {
          "output_type": "stream",
          "name": "stdout",
          "text": [
            "money: able, forced, much, it, fact, man, well, so, taken, them\n",
            "lion: behavior, former, lives, battle, africa, spain, seen, provided, addition, charge\n",
            "africa: america, europe, india, west, end, germany, east, nine, france, addition\n",
            "musician: actor, actress, singer, writer, author, nine, variety, poet, introduction, able\n",
            "dance: music, largest, addition, lack, forms, order, science, culture, one, jazz\n",
            "\n",
            "\n"
          ]
        },
        {
          "output_type": "stream",
          "name": "stderr",
          "text": [
            "17500it [07:06, 35.75it/s]"
          ]
        },
        {
          "output_type": "stream",
          "name": "stdout",
          "text": [
            "| epoch   4 | 17500/32580 batches | loss    1.333 \n"
          ]
        },
        {
          "output_type": "stream",
          "name": "stderr",
          "text": [
            "\r17504it [07:06, 17.48it/s]"
          ]
        },
        {
          "output_type": "stream",
          "name": "stdout",
          "text": [
            "money: able, forced, much, it, fact, man, well, so, taken, them\n",
            "lion: behavior, former, lives, battle, africa, spain, seen, provided, addition, charge\n",
            "africa: america, europe, india, west, end, germany, east, nine, france, addition\n",
            "musician: actor, actress, singer, writer, author, nine, variety, poet, introduction, able\n",
            "dance: music, largest, addition, lack, forms, order, science, culture, one, jazz\n",
            "\n",
            "\n"
          ]
        },
        {
          "output_type": "stream",
          "name": "stderr",
          "text": [
            "17997it [07:17, 48.67it/s]"
          ]
        },
        {
          "output_type": "stream",
          "name": "stdout",
          "text": [
            "| epoch   4 | 18000/32580 batches | loss    1.329 \n"
          ]
        },
        {
          "output_type": "stream",
          "name": "stderr",
          "text": [
            "18007it [07:18, 31.70it/s]"
          ]
        },
        {
          "output_type": "stream",
          "name": "stdout",
          "text": [
            "money: able, forced, much, it, fact, man, well, so, taken, them\n",
            "lion: behavior, former, lives, battle, africa, spain, seen, provided, addition, charge\n",
            "africa: america, europe, india, west, end, germany, east, nine, france, addition\n",
            "musician: actor, actress, singer, writer, author, nine, variety, poet, introduction, able\n",
            "dance: music, largest, addition, lack, forms, order, science, culture, one, jazz\n",
            "\n",
            "\n"
          ]
        },
        {
          "output_type": "stream",
          "name": "stderr",
          "text": [
            "18496it [07:30, 46.45it/s]"
          ]
        },
        {
          "output_type": "stream",
          "name": "stdout",
          "text": [
            "| epoch   4 | 18500/32580 batches | loss    1.328 \n"
          ]
        },
        {
          "output_type": "stream",
          "name": "stderr",
          "text": [
            "18506it [07:31, 30.98it/s]"
          ]
        },
        {
          "output_type": "stream",
          "name": "stdout",
          "text": [
            "money: able, forced, much, it, fact, man, well, so, taken, them\n",
            "lion: behavior, former, lives, battle, africa, spain, seen, provided, addition, charge\n",
            "africa: america, europe, india, west, end, germany, east, nine, france, addition\n",
            "musician: actor, actress, singer, writer, author, nine, variety, poet, introduction, able\n",
            "dance: music, largest, addition, lack, forms, order, science, culture, one, jazz\n",
            "\n",
            "\n"
          ]
        },
        {
          "output_type": "stream",
          "name": "stderr",
          "text": [
            "18997it [07:41, 39.56it/s]"
          ]
        },
        {
          "output_type": "stream",
          "name": "stdout",
          "text": [
            "| epoch   4 | 19000/32580 batches | loss    1.332 \n"
          ]
        },
        {
          "output_type": "stream",
          "name": "stderr",
          "text": [
            "19005it [07:42, 23.04it/s]"
          ]
        },
        {
          "output_type": "stream",
          "name": "stdout",
          "text": [
            "money: able, forced, much, it, fact, man, well, so, taken, them\n",
            "lion: behavior, former, lives, battle, africa, spain, seen, provided, addition, charge\n",
            "africa: america, europe, india, west, end, germany, east, nine, france, addition\n",
            "musician: actor, actress, singer, writer, author, nine, variety, poet, introduction, able\n",
            "dance: music, largest, addition, lack, forms, order, science, culture, one, jazz\n",
            "\n",
            "\n"
          ]
        },
        {
          "output_type": "stream",
          "name": "stderr",
          "text": [
            "19496it [07:54, 48.78it/s]"
          ]
        },
        {
          "output_type": "stream",
          "name": "stdout",
          "text": [
            "| epoch   4 | 19500/32580 batches | loss    1.328 \n"
          ]
        },
        {
          "output_type": "stream",
          "name": "stderr",
          "text": [
            "19505it [07:54, 29.30it/s]"
          ]
        },
        {
          "output_type": "stream",
          "name": "stdout",
          "text": [
            "money: able, forced, much, it, fact, man, well, so, taken, them\n",
            "lion: behavior, former, lives, battle, africa, spain, seen, provided, addition, charge\n",
            "africa: america, europe, india, west, end, germany, east, nine, france, addition\n",
            "musician: actor, actress, singer, writer, author, nine, variety, poet, introduction, able\n",
            "dance: music, largest, addition, lack, forms, order, science, culture, one, jazz\n",
            "\n",
            "\n"
          ]
        },
        {
          "output_type": "stream",
          "name": "stderr",
          "text": [
            "19997it [08:06, 36.74it/s]"
          ]
        },
        {
          "output_type": "stream",
          "name": "stdout",
          "text": [
            "| epoch   4 | 20000/32580 batches | loss    1.335 \n"
          ]
        },
        {
          "output_type": "stream",
          "name": "stderr",
          "text": [
            "20004it [08:07, 19.36it/s]"
          ]
        },
        {
          "output_type": "stream",
          "name": "stdout",
          "text": [
            "money: able, forced, much, it, fact, man, well, so, taken, them\n",
            "lion: behavior, former, lives, battle, africa, spain, seen, provided, addition, charge\n",
            "africa: america, europe, india, west, end, germany, east, nine, france, addition\n",
            "musician: actor, actress, singer, writer, author, nine, variety, poet, introduction, able\n",
            "dance: music, largest, addition, lack, forms, order, science, culture, one, jazz\n",
            "\n",
            "\n"
          ]
        },
        {
          "output_type": "stream",
          "name": "stderr",
          "text": [
            "20498it [08:17, 48.48it/s]"
          ]
        },
        {
          "output_type": "stream",
          "name": "stdout",
          "text": [
            "| epoch   4 | 20500/32580 batches | loss    1.330 \n"
          ]
        },
        {
          "output_type": "stream",
          "name": "stderr",
          "text": [
            "20508it [08:18, 32.04it/s]"
          ]
        },
        {
          "output_type": "stream",
          "name": "stdout",
          "text": [
            "money: able, forced, much, it, fact, man, well, so, taken, them\n",
            "lion: behavior, former, lives, battle, africa, spain, seen, provided, addition, charge\n",
            "africa: america, europe, india, west, end, germany, east, nine, france, addition\n",
            "musician: actor, actress, singer, writer, author, nine, variety, poet, introduction, able\n",
            "dance: music, largest, addition, lack, forms, order, science, culture, one, jazz\n",
            "\n",
            "\n"
          ]
        },
        {
          "output_type": "stream",
          "name": "stderr",
          "text": [
            "21000it [08:30, 49.37it/s]"
          ]
        },
        {
          "output_type": "stream",
          "name": "stdout",
          "text": [
            "| epoch   4 | 21000/32580 batches | loss    1.334 \n"
          ]
        },
        {
          "output_type": "stream",
          "name": "stderr",
          "text": [
            "\r21005it [08:31, 27.27it/s]"
          ]
        },
        {
          "output_type": "stream",
          "name": "stdout",
          "text": [
            "money: able, forced, much, it, fact, man, well, so, taken, them\n",
            "lion: behavior, former, lives, battle, africa, spain, seen, provided, addition, charge\n",
            "africa: america, europe, india, west, end, germany, east, nine, france, addition\n",
            "musician: actor, actress, singer, writer, author, nine, variety, poet, introduction, able\n",
            "dance: music, largest, addition, lack, forms, order, science, culture, one, jazz\n",
            "\n",
            "\n"
          ]
        },
        {
          "output_type": "stream",
          "name": "stderr",
          "text": [
            "21497it [08:42, 35.17it/s]"
          ]
        },
        {
          "output_type": "stream",
          "name": "stdout",
          "text": [
            "| epoch   4 | 21500/32580 batches | loss    1.334 \n"
          ]
        },
        {
          "output_type": "stream",
          "name": "stderr",
          "text": [
            "21504it [08:42, 19.74it/s]"
          ]
        },
        {
          "output_type": "stream",
          "name": "stdout",
          "text": [
            "money: able, forced, much, it, fact, man, well, so, taken, them\n",
            "lion: behavior, former, lives, battle, africa, spain, seen, provided, addition, charge\n",
            "africa: america, europe, india, west, end, germany, east, nine, france, addition\n",
            "musician: actor, actress, singer, writer, author, nine, variety, poet, introduction, able\n",
            "dance: music, largest, addition, lack, forms, order, science, culture, one, jazz\n",
            "\n",
            "\n"
          ]
        },
        {
          "output_type": "stream",
          "name": "stderr",
          "text": [
            "21997it [08:54, 48.50it/s]"
          ]
        },
        {
          "output_type": "stream",
          "name": "stdout",
          "text": [
            "| epoch   4 | 22000/32580 batches | loss    1.333 \n"
          ]
        },
        {
          "output_type": "stream",
          "name": "stderr",
          "text": [
            "22006it [08:54, 30.47it/s]"
          ]
        },
        {
          "output_type": "stream",
          "name": "stdout",
          "text": [
            "money: able, forced, much, it, fact, man, well, so, taken, them\n",
            "lion: behavior, former, lives, battle, africa, spain, seen, provided, addition, charge\n",
            "africa: america, europe, india, west, end, germany, east, nine, france, addition\n",
            "musician: actor, actress, singer, writer, author, nine, variety, poet, introduction, able\n",
            "dance: music, largest, addition, lack, forms, order, science, culture, one, jazz\n",
            "\n",
            "\n"
          ]
        },
        {
          "output_type": "stream",
          "name": "stderr",
          "text": [
            "22496it [09:07, 46.72it/s]"
          ]
        },
        {
          "output_type": "stream",
          "name": "stdout",
          "text": [
            "| epoch   4 | 22500/32580 batches | loss    1.328 \n"
          ]
        },
        {
          "output_type": "stream",
          "name": "stderr",
          "text": [
            "22505it [09:07, 29.77it/s]"
          ]
        },
        {
          "output_type": "stream",
          "name": "stdout",
          "text": [
            "money: able, forced, much, it, fact, man, well, so, taken, them\n",
            "lion: behavior, former, lives, battle, africa, spain, seen, provided, addition, charge\n",
            "africa: america, europe, india, west, end, germany, east, nine, france, addition\n",
            "musician: actor, actress, singer, writer, author, nine, variety, poet, introduction, able\n",
            "dance: music, largest, addition, lack, forms, order, science, culture, one, jazz\n",
            "\n",
            "\n"
          ]
        },
        {
          "output_type": "stream",
          "name": "stderr",
          "text": [
            "23000it [09:18, 36.64it/s]"
          ]
        },
        {
          "output_type": "stream",
          "name": "stdout",
          "text": [
            "| epoch   4 | 23000/32580 batches | loss    1.328 \n"
          ]
        },
        {
          "output_type": "stream",
          "name": "stderr",
          "text": [
            "\r23004it [09:19, 17.66it/s]"
          ]
        },
        {
          "output_type": "stream",
          "name": "stdout",
          "text": [
            "money: able, forced, much, it, fact, man, well, so, taken, them\n",
            "lion: behavior, former, lives, battle, africa, spain, seen, provided, addition, charge\n",
            "africa: america, europe, india, west, end, germany, east, nine, france, addition\n",
            "musician: actor, actress, singer, writer, author, nine, variety, poet, introduction, able\n",
            "dance: music, largest, addition, lack, forms, order, science, culture, one, jazz\n",
            "\n",
            "\n"
          ]
        },
        {
          "output_type": "stream",
          "name": "stderr",
          "text": [
            "23497it [09:31, 49.37it/s]"
          ]
        },
        {
          "output_type": "stream",
          "name": "stdout",
          "text": [
            "| epoch   4 | 23500/32580 batches | loss    1.329 \n"
          ]
        },
        {
          "output_type": "stream",
          "name": "stderr",
          "text": [
            "23507it [09:31, 31.55it/s]"
          ]
        },
        {
          "output_type": "stream",
          "name": "stdout",
          "text": [
            "money: able, forced, much, it, fact, man, well, so, taken, them\n",
            "lion: behavior, former, lives, battle, africa, spain, seen, provided, addition, charge\n",
            "africa: america, europe, india, west, end, germany, east, nine, france, addition\n",
            "musician: actor, actress, singer, writer, author, nine, variety, poet, introduction, able\n",
            "dance: music, largest, addition, lack, forms, order, science, culture, one, jazz\n",
            "\n",
            "\n"
          ]
        },
        {
          "output_type": "stream",
          "name": "stderr",
          "text": [
            "24000it [09:44, 33.35it/s]"
          ]
        },
        {
          "output_type": "stream",
          "name": "stdout",
          "text": [
            "| epoch   4 | 24000/32580 batches | loss    1.327 \n"
          ]
        },
        {
          "output_type": "stream",
          "name": "stderr",
          "text": [
            "\r24004it [09:44, 16.13it/s]"
          ]
        },
        {
          "output_type": "stream",
          "name": "stdout",
          "text": [
            "money: able, forced, much, it, fact, man, well, so, taken, them\n",
            "lion: behavior, former, lives, battle, africa, spain, seen, provided, addition, charge\n",
            "africa: america, europe, india, west, end, germany, east, nine, france, addition\n",
            "musician: actor, actress, singer, writer, author, nine, variety, poet, introduction, able\n",
            "dance: music, largest, addition, lack, forms, order, science, culture, one, jazz\n",
            "\n",
            "\n"
          ]
        },
        {
          "output_type": "stream",
          "name": "stderr",
          "text": [
            "24499it [09:55, 43.28it/s]"
          ]
        },
        {
          "output_type": "stream",
          "name": "stdout",
          "text": [
            "| epoch   4 | 24500/32580 batches | loss    1.335 \n"
          ]
        },
        {
          "output_type": "stream",
          "name": "stderr",
          "text": [
            "\r24504it [09:55, 21.56it/s]"
          ]
        },
        {
          "output_type": "stream",
          "name": "stdout",
          "text": [
            "money: able, forced, much, it, fact, man, well, so, taken, them\n",
            "lion: behavior, former, lives, battle, africa, spain, seen, provided, addition, charge\n",
            "africa: america, europe, india, west, end, germany, east, nine, france, addition\n",
            "musician: actor, actress, singer, writer, author, nine, variety, poet, introduction, able\n",
            "dance: music, largest, addition, lack, forms, order, science, culture, one, jazz\n",
            "\n",
            "\n"
          ]
        },
        {
          "output_type": "stream",
          "name": "stderr",
          "text": [
            "24996it [10:08, 48.28it/s]"
          ]
        },
        {
          "output_type": "stream",
          "name": "stdout",
          "text": [
            "| epoch   4 | 25000/32580 batches | loss    1.326 \n"
          ]
        },
        {
          "output_type": "stream",
          "name": "stderr",
          "text": [
            "25006it [10:08, 31.06it/s]"
          ]
        },
        {
          "output_type": "stream",
          "name": "stdout",
          "text": [
            "money: able, forced, much, it, fact, man, well, so, taken, them\n",
            "lion: behavior, former, lives, battle, africa, spain, seen, provided, addition, charge\n",
            "africa: america, europe, india, west, end, germany, east, nine, france, addition\n",
            "musician: actor, actress, singer, writer, author, nine, variety, poet, introduction, able\n",
            "dance: music, largest, addition, lack, forms, order, science, culture, one, jazz\n",
            "\n",
            "\n"
          ]
        },
        {
          "output_type": "stream",
          "name": "stderr",
          "text": [
            "25499it [10:20, 34.30it/s]"
          ]
        },
        {
          "output_type": "stream",
          "name": "stdout",
          "text": [
            "| epoch   4 | 25500/32580 batches | loss    1.329 \n"
          ]
        },
        {
          "output_type": "stream",
          "name": "stderr",
          "text": [
            "\r25503it [10:21, 16.97it/s]"
          ]
        },
        {
          "output_type": "stream",
          "name": "stdout",
          "text": [
            "money: able, forced, much, it, fact, man, well, so, taken, them\n",
            "lion: behavior, former, lives, battle, africa, spain, seen, provided, addition, charge\n",
            "africa: america, europe, india, west, end, germany, east, nine, france, addition\n",
            "musician: actor, actress, singer, writer, author, nine, variety, poet, introduction, able\n",
            "dance: music, largest, addition, lack, forms, order, science, culture, one, jazz\n",
            "\n",
            "\n"
          ]
        },
        {
          "output_type": "stream",
          "name": "stderr",
          "text": [
            "25998it [10:32, 47.95it/s]"
          ]
        },
        {
          "output_type": "stream",
          "name": "stdout",
          "text": [
            "| epoch   4 | 26000/32580 batches | loss    1.333 \n"
          ]
        },
        {
          "output_type": "stream",
          "name": "stderr",
          "text": [
            "26008it [10:32, 31.12it/s]"
          ]
        },
        {
          "output_type": "stream",
          "name": "stdout",
          "text": [
            "money: able, forced, much, it, fact, man, well, so, taken, them\n",
            "lion: behavior, former, lives, battle, africa, spain, seen, provided, addition, charge\n",
            "africa: america, europe, india, west, end, germany, east, nine, france, addition\n",
            "musician: actor, actress, singer, writer, author, nine, variety, poet, introduction, able\n",
            "dance: music, largest, addition, lack, forms, order, science, culture, one, jazz\n",
            "\n",
            "\n"
          ]
        },
        {
          "output_type": "stream",
          "name": "stderr",
          "text": [
            "26497it [10:45, 49.06it/s]"
          ]
        },
        {
          "output_type": "stream",
          "name": "stdout",
          "text": [
            "| epoch   4 | 26500/32580 batches | loss    1.332 \n"
          ]
        },
        {
          "output_type": "stream",
          "name": "stderr",
          "text": [
            "26507it [10:45, 30.81it/s]"
          ]
        },
        {
          "output_type": "stream",
          "name": "stdout",
          "text": [
            "money: able, forced, much, it, fact, man, well, so, taken, them\n",
            "lion: behavior, former, lives, battle, africa, spain, seen, provided, addition, charge\n",
            "africa: america, europe, india, west, end, germany, east, nine, france, addition\n",
            "musician: actor, actress, singer, writer, author, nine, variety, poet, introduction, able\n",
            "dance: music, largest, addition, lack, forms, order, science, culture, one, jazz\n",
            "\n",
            "\n"
          ]
        },
        {
          "output_type": "stream",
          "name": "stderr",
          "text": [
            "27000it [10:56, 34.18it/s]"
          ]
        },
        {
          "output_type": "stream",
          "name": "stdout",
          "text": [
            "| epoch   4 | 27000/32580 batches | loss    1.333 \n"
          ]
        },
        {
          "output_type": "stream",
          "name": "stderr",
          "text": [
            "\r27004it [10:57, 16.58it/s]"
          ]
        },
        {
          "output_type": "stream",
          "name": "stdout",
          "text": [
            "money: able, forced, much, it, fact, man, well, so, taken, them\n",
            "lion: behavior, former, lives, battle, africa, spain, seen, provided, addition, charge\n",
            "africa: america, europe, india, west, end, germany, east, nine, france, addition\n",
            "musician: actor, actress, singer, writer, author, nine, variety, poet, introduction, able\n",
            "dance: music, largest, addition, lack, forms, order, science, culture, one, jazz\n",
            "\n",
            "\n"
          ]
        },
        {
          "output_type": "stream",
          "name": "stderr",
          "text": [
            "27497it [11:08, 48.78it/s]"
          ]
        },
        {
          "output_type": "stream",
          "name": "stdout",
          "text": [
            "| epoch   4 | 27500/32580 batches | loss    1.331 \n"
          ]
        },
        {
          "output_type": "stream",
          "name": "stderr",
          "text": [
            "27506it [11:09, 30.25it/s]"
          ]
        },
        {
          "output_type": "stream",
          "name": "stdout",
          "text": [
            "money: able, forced, much, it, fact, man, well, so, taken, them\n",
            "lion: behavior, former, lives, battle, africa, spain, seen, provided, addition, charge\n",
            "africa: america, europe, india, west, end, germany, east, nine, france, addition\n",
            "musician: actor, actress, singer, writer, author, nine, variety, poet, introduction, able\n",
            "dance: music, largest, addition, lack, forms, order, science, culture, one, jazz\n",
            "\n",
            "\n"
          ]
        },
        {
          "output_type": "stream",
          "name": "stderr",
          "text": [
            "27996it [11:21, 47.60it/s]"
          ]
        },
        {
          "output_type": "stream",
          "name": "stdout",
          "text": [
            "| epoch   4 | 28000/32580 batches | loss    1.331 \n"
          ]
        },
        {
          "output_type": "stream",
          "name": "stderr",
          "text": [
            "28005it [11:22, 29.87it/s]"
          ]
        },
        {
          "output_type": "stream",
          "name": "stdout",
          "text": [
            "money: able, forced, much, it, fact, man, well, so, taken, them\n",
            "lion: behavior, former, lives, battle, africa, spain, seen, provided, addition, charge\n",
            "africa: america, europe, india, west, end, germany, east, nine, france, addition\n",
            "musician: actor, actress, singer, writer, author, nine, variety, poet, introduction, able\n",
            "dance: music, largest, addition, lack, forms, order, science, culture, one, jazz\n",
            "\n",
            "\n"
          ]
        },
        {
          "output_type": "stream",
          "name": "stderr",
          "text": [
            "28497it [11:37, 34.40it/s]"
          ]
        },
        {
          "output_type": "stream",
          "name": "stdout",
          "text": [
            "| epoch   4 | 28500/32580 batches | loss    1.331 \n"
          ]
        },
        {
          "output_type": "stream",
          "name": "stderr",
          "text": [
            "28504it [11:38, 18.87it/s]"
          ]
        },
        {
          "output_type": "stream",
          "name": "stdout",
          "text": [
            "money: able, forced, much, it, fact, man, well, so, taken, them\n",
            "lion: behavior, former, lives, battle, africa, spain, seen, provided, addition, charge\n",
            "africa: america, europe, india, west, end, germany, east, nine, france, addition\n",
            "musician: actor, actress, singer, writer, author, nine, variety, poet, introduction, able\n",
            "dance: music, largest, addition, lack, forms, order, science, culture, one, jazz\n",
            "\n",
            "\n"
          ]
        },
        {
          "output_type": "stream",
          "name": "stderr",
          "text": [
            "28999it [11:49, 47.83it/s]"
          ]
        },
        {
          "output_type": "stream",
          "name": "stdout",
          "text": [
            "| epoch   4 | 29000/32580 batches | loss    1.334 \n"
          ]
        },
        {
          "output_type": "stream",
          "name": "stderr",
          "text": [
            "29009it [11:49, 31.06it/s]"
          ]
        },
        {
          "output_type": "stream",
          "name": "stdout",
          "text": [
            "money: able, forced, much, it, fact, man, well, so, taken, them\n",
            "lion: behavior, former, lives, battle, africa, spain, seen, provided, addition, charge\n",
            "africa: america, europe, india, west, end, germany, east, nine, france, addition\n",
            "musician: actor, actress, singer, writer, author, nine, variety, poet, introduction, able\n",
            "dance: music, largest, addition, lack, forms, order, science, culture, one, jazz\n",
            "\n",
            "\n"
          ]
        },
        {
          "output_type": "stream",
          "name": "stderr",
          "text": [
            "29500it [12:02, 48.21it/s]"
          ]
        },
        {
          "output_type": "stream",
          "name": "stdout",
          "text": [
            "| epoch   4 | 29500/32580 batches | loss    1.332 \n"
          ]
        },
        {
          "output_type": "stream",
          "name": "stderr",
          "text": [
            "\r29505it [12:02, 27.90it/s]"
          ]
        },
        {
          "output_type": "stream",
          "name": "stdout",
          "text": [
            "money: able, forced, much, it, fact, man, well, so, taken, them\n",
            "lion: behavior, former, lives, battle, africa, spain, seen, provided, addition, charge\n",
            "africa: america, europe, india, west, end, germany, east, nine, france, addition\n",
            "musician: actor, actress, singer, writer, author, nine, variety, poet, introduction, able\n",
            "dance: music, largest, addition, lack, forms, order, science, culture, one, jazz\n",
            "\n",
            "\n"
          ]
        },
        {
          "output_type": "stream",
          "name": "stderr",
          "text": [
            "30000it [12:13, 33.54it/s]"
          ]
        },
        {
          "output_type": "stream",
          "name": "stdout",
          "text": [
            "| epoch   4 | 30000/32580 batches | loss    1.335 \n"
          ]
        },
        {
          "output_type": "stream",
          "name": "stderr",
          "text": [
            "\r30004it [12:14, 16.74it/s]"
          ]
        },
        {
          "output_type": "stream",
          "name": "stdout",
          "text": [
            "money: able, forced, much, it, fact, man, well, so, taken, them\n",
            "lion: behavior, former, lives, battle, africa, spain, seen, provided, addition, charge\n",
            "africa: america, europe, india, west, end, germany, east, nine, france, addition\n",
            "musician: actor, actress, singer, writer, author, nine, variety, poet, introduction, able\n",
            "dance: music, largest, addition, lack, forms, order, science, culture, one, jazz\n",
            "\n",
            "\n"
          ]
        },
        {
          "output_type": "stream",
          "name": "stderr",
          "text": [
            "30498it [12:25, 48.66it/s]"
          ]
        },
        {
          "output_type": "stream",
          "name": "stdout",
          "text": [
            "| epoch   4 | 30500/32580 batches | loss    1.332 \n"
          ]
        },
        {
          "output_type": "stream",
          "name": "stderr",
          "text": [
            "30508it [12:26, 31.08it/s]"
          ]
        },
        {
          "output_type": "stream",
          "name": "stdout",
          "text": [
            "money: able, forced, much, it, fact, man, well, so, taken, them\n",
            "lion: behavior, former, lives, battle, africa, spain, seen, provided, addition, charge\n",
            "africa: america, europe, india, west, end, germany, east, nine, france, addition\n",
            "musician: actor, actress, singer, writer, author, nine, variety, poet, introduction, able\n",
            "dance: music, largest, addition, lack, forms, order, science, culture, one, jazz\n",
            "\n",
            "\n"
          ]
        },
        {
          "output_type": "stream",
          "name": "stderr",
          "text": [
            "30996it [12:38, 46.67it/s]"
          ]
        },
        {
          "output_type": "stream",
          "name": "stdout",
          "text": [
            "| epoch   4 | 31000/32580 batches | loss    1.330 \n"
          ]
        },
        {
          "output_type": "stream",
          "name": "stderr",
          "text": [
            "31005it [12:39, 29.85it/s]"
          ]
        },
        {
          "output_type": "stream",
          "name": "stdout",
          "text": [
            "money: able, forced, much, it, fact, man, well, so, taken, them\n",
            "lion: behavior, former, lives, battle, africa, spain, seen, provided, addition, charge\n",
            "africa: america, europe, india, west, end, germany, east, nine, france, addition\n",
            "musician: actor, actress, singer, writer, author, nine, variety, poet, introduction, able\n",
            "dance: music, largest, addition, lack, forms, order, science, culture, one, jazz\n",
            "\n",
            "\n"
          ]
        },
        {
          "output_type": "stream",
          "name": "stderr",
          "text": [
            "31498it [12:49, 38.28it/s]"
          ]
        },
        {
          "output_type": "stream",
          "name": "stdout",
          "text": [
            "| epoch   4 | 31500/32580 batches | loss    1.325 \n"
          ]
        },
        {
          "output_type": "stream",
          "name": "stderr",
          "text": [
            "31506it [12:50, 21.52it/s]"
          ]
        },
        {
          "output_type": "stream",
          "name": "stdout",
          "text": [
            "money: able, forced, much, it, fact, man, well, so, taken, them\n",
            "lion: behavior, former, lives, battle, africa, spain, seen, provided, addition, charge\n",
            "africa: america, europe, india, west, end, germany, east, nine, france, addition\n",
            "musician: actor, actress, singer, writer, author, nine, variety, poet, introduction, able\n",
            "dance: music, largest, addition, lack, forms, order, science, culture, one, jazz\n",
            "\n",
            "\n"
          ]
        },
        {
          "output_type": "stream",
          "name": "stderr",
          "text": [
            "31999it [13:02, 48.75it/s]"
          ]
        },
        {
          "output_type": "stream",
          "name": "stdout",
          "text": [
            "| epoch   4 | 32000/32580 batches | loss    1.330 \n"
          ]
        },
        {
          "output_type": "stream",
          "name": "stderr",
          "text": [
            "32009it [13:02, 31.16it/s]"
          ]
        },
        {
          "output_type": "stream",
          "name": "stdout",
          "text": [
            "money: able, forced, much, it, fact, man, well, so, taken, them\n",
            "lion: behavior, former, lives, battle, africa, spain, seen, provided, addition, charge\n",
            "africa: america, europe, india, west, end, germany, east, nine, france, addition\n",
            "musician: actor, actress, singer, writer, author, nine, variety, poet, introduction, able\n",
            "dance: music, largest, addition, lack, forms, order, science, culture, one, jazz\n",
            "\n",
            "\n"
          ]
        },
        {
          "output_type": "stream",
          "name": "stderr",
          "text": [
            "32497it [13:14, 36.44it/s]"
          ]
        },
        {
          "output_type": "stream",
          "name": "stdout",
          "text": [
            "| epoch   4 | 32500/32580 batches | loss    1.332 \n"
          ]
        },
        {
          "output_type": "stream",
          "name": "stderr",
          "text": [
            "32504it [13:15, 19.60it/s]"
          ]
        },
        {
          "output_type": "stream",
          "name": "stdout",
          "text": [
            "money: able, forced, much, it, fact, man, well, so, taken, them\n",
            "lion: behavior, former, lives, battle, africa, spain, seen, provided, addition, charge\n",
            "africa: america, europe, india, west, end, germany, east, nine, france, addition\n",
            "musician: actor, actress, singer, writer, author, nine, variety, poet, introduction, able\n",
            "dance: music, largest, addition, lack, forms, order, science, culture, one, jazz\n",
            "\n",
            "\n"
          ]
        },
        {
          "output_type": "stream",
          "name": "stderr",
          "text": [
            "32580it [13:19, 40.75it/s]\n",
            "0it [00:00, ?it/s]"
          ]
        },
        {
          "output_type": "stream",
          "name": "stdout",
          "text": [
            "| epoch   5 |     0/32580 batches | loss    1.302 \n"
          ]
        },
        {
          "output_type": "stream",
          "name": "stderr",
          "text": [
            "\r1it [00:02,  2.09s/it]"
          ]
        },
        {
          "output_type": "stream",
          "name": "stdout",
          "text": [
            "money: able, forced, much, it, fact, man, well, so, taken, them\n",
            "lion: behavior, former, lives, battle, africa, spain, seen, provided, addition, charge\n",
            "africa: america, europe, india, west, end, germany, east, nine, france, addition\n",
            "musician: actor, actress, singer, writer, author, nine, variety, poet, introduction, able\n",
            "dance: music, largest, addition, lack, forms, order, science, culture, one, jazz\n",
            "\n",
            "\n"
          ]
        },
        {
          "output_type": "stream",
          "name": "stderr",
          "text": [
            "500it [00:14, 33.74it/s]"
          ]
        },
        {
          "output_type": "stream",
          "name": "stdout",
          "text": [
            "| epoch   5 |   500/32580 batches | loss    1.328 \n"
          ]
        },
        {
          "output_type": "stream",
          "name": "stderr",
          "text": [
            "\r504it [00:14, 16.56it/s]"
          ]
        },
        {
          "output_type": "stream",
          "name": "stdout",
          "text": [
            "money: able, forced, much, it, fact, man, well, so, taken, them\n",
            "lion: behavior, former, lives, battle, africa, spain, seen, provided, addition, charge\n",
            "africa: america, europe, india, west, end, germany, east, nine, france, addition\n",
            "musician: actor, actress, singer, writer, author, nine, variety, poet, introduction, able\n",
            "dance: music, largest, addition, lack, forms, order, science, culture, one, jazz\n",
            "\n",
            "\n"
          ]
        },
        {
          "output_type": "stream",
          "name": "stderr",
          "text": [
            "1000it [00:25, 47.50it/s]"
          ]
        },
        {
          "output_type": "stream",
          "name": "stdout",
          "text": [
            "| epoch   5 |  1000/32580 batches | loss    1.326 \n"
          ]
        },
        {
          "output_type": "stream",
          "name": "stderr",
          "text": [
            "\r1005it [00:26, 26.61it/s]"
          ]
        },
        {
          "output_type": "stream",
          "name": "stdout",
          "text": [
            "money: able, forced, much, it, fact, man, well, so, taken, them\n",
            "lion: behavior, former, lives, battle, africa, spain, seen, provided, addition, charge\n",
            "africa: america, europe, india, west, end, germany, east, nine, france, addition\n",
            "musician: actor, actress, singer, writer, author, nine, variety, poet, introduction, able\n",
            "dance: music, largest, addition, lack, forms, order, science, culture, one, jazz\n",
            "\n",
            "\n"
          ]
        },
        {
          "output_type": "stream",
          "name": "stderr",
          "text": [
            "1497it [00:38, 48.34it/s]"
          ]
        },
        {
          "output_type": "stream",
          "name": "stdout",
          "text": [
            "| epoch   5 |  1500/32580 batches | loss    1.337 \n"
          ]
        },
        {
          "output_type": "stream",
          "name": "stderr",
          "text": [
            "1506it [00:39, 29.55it/s]"
          ]
        },
        {
          "output_type": "stream",
          "name": "stdout",
          "text": [
            "money: able, forced, much, it, fact, man, well, so, taken, them\n",
            "lion: behavior, former, lives, battle, africa, spain, seen, provided, addition, charge\n",
            "africa: america, europe, india, west, end, germany, east, nine, france, addition\n",
            "musician: actor, actress, singer, writer, author, nine, variety, poet, introduction, able\n",
            "dance: music, largest, addition, lack, forms, order, science, culture, one, jazz\n",
            "\n",
            "\n"
          ]
        },
        {
          "output_type": "stream",
          "name": "stderr",
          "text": [
            "2000it [00:50, 34.28it/s]"
          ]
        },
        {
          "output_type": "stream",
          "name": "stdout",
          "text": [
            "| epoch   5 |  2000/32580 batches | loss    1.334 \n"
          ]
        },
        {
          "output_type": "stream",
          "name": "stderr",
          "text": [
            "\r2004it [00:50, 17.03it/s]"
          ]
        },
        {
          "output_type": "stream",
          "name": "stdout",
          "text": [
            "money: able, forced, much, it, fact, man, well, so, taken, them\n",
            "lion: behavior, former, lives, battle, africa, spain, seen, provided, addition, charge\n",
            "africa: america, europe, india, west, end, germany, east, nine, france, addition\n",
            "musician: actor, actress, singer, writer, author, nine, variety, poet, introduction, able\n",
            "dance: music, largest, addition, lack, forms, order, science, culture, one, jazz\n",
            "\n",
            "\n"
          ]
        },
        {
          "output_type": "stream",
          "name": "stderr",
          "text": [
            "2496it [01:02, 48.94it/s]"
          ]
        },
        {
          "output_type": "stream",
          "name": "stdout",
          "text": [
            "| epoch   5 |  2500/32580 batches | loss    1.326 \n"
          ]
        },
        {
          "output_type": "stream",
          "name": "stderr",
          "text": [
            "2505it [01:03, 30.67it/s]"
          ]
        },
        {
          "output_type": "stream",
          "name": "stdout",
          "text": [
            "money: able, forced, much, it, fact, man, well, so, taken, them\n",
            "lion: behavior, former, lives, battle, africa, spain, seen, provided, addition, charge\n",
            "africa: america, europe, india, west, end, germany, east, nine, france, addition\n",
            "musician: actor, actress, singer, writer, author, nine, variety, poet, introduction, able\n",
            "dance: music, largest, addition, lack, forms, order, science, culture, one, jazz\n",
            "\n",
            "\n"
          ]
        },
        {
          "output_type": "stream",
          "name": "stderr",
          "text": [
            "2998it [01:15, 42.48it/s]"
          ]
        },
        {
          "output_type": "stream",
          "name": "stdout",
          "text": [
            "| epoch   5 |  3000/32580 batches | loss    1.331 \n"
          ]
        },
        {
          "output_type": "stream",
          "name": "stderr",
          "text": [
            "3008it [01:16, 29.53it/s]"
          ]
        },
        {
          "output_type": "stream",
          "name": "stdout",
          "text": [
            "money: able, forced, much, it, fact, man, well, so, taken, them\n",
            "lion: behavior, former, lives, battle, africa, spain, seen, provided, addition, charge\n",
            "africa: america, europe, india, west, end, germany, east, nine, france, addition\n",
            "musician: actor, actress, singer, writer, author, nine, variety, poet, introduction, able\n",
            "dance: music, largest, addition, lack, forms, order, science, culture, one, jazz\n",
            "\n",
            "\n"
          ]
        },
        {
          "output_type": "stream",
          "name": "stderr",
          "text": [
            "3496it [01:26, 39.23it/s]"
          ]
        },
        {
          "output_type": "stream",
          "name": "stdout",
          "text": [
            "| epoch   5 |  3500/32580 batches | loss    1.331 \n"
          ]
        },
        {
          "output_type": "stream",
          "name": "stderr",
          "text": [
            "3505it [01:27, 22.74it/s]"
          ]
        },
        {
          "output_type": "stream",
          "name": "stdout",
          "text": [
            "money: able, forced, much, it, fact, man, well, so, taken, them\n",
            "lion: behavior, former, lives, battle, africa, spain, seen, provided, addition, charge\n",
            "africa: america, europe, india, west, end, germany, east, nine, france, addition\n",
            "musician: actor, actress, singer, writer, author, nine, variety, poet, introduction, able\n",
            "dance: music, largest, addition, lack, forms, order, science, culture, one, jazz\n",
            "\n",
            "\n"
          ]
        },
        {
          "output_type": "stream",
          "name": "stderr",
          "text": [
            "3998it [01:39, 48.51it/s]"
          ]
        },
        {
          "output_type": "stream",
          "name": "stdout",
          "text": [
            "| epoch   5 |  4000/32580 batches | loss    1.330 \n"
          ]
        },
        {
          "output_type": "stream",
          "name": "stderr",
          "text": [
            "4008it [01:40, 31.66it/s]"
          ]
        },
        {
          "output_type": "stream",
          "name": "stdout",
          "text": [
            "money: able, forced, much, it, fact, man, well, so, taken, them\n",
            "lion: behavior, former, lives, battle, africa, spain, seen, provided, addition, charge\n",
            "africa: america, europe, india, west, end, germany, east, nine, france, addition\n",
            "musician: actor, actress, singer, writer, author, nine, variety, poet, introduction, able\n",
            "dance: music, largest, addition, lack, forms, order, science, culture, one, jazz\n",
            "\n",
            "\n"
          ]
        },
        {
          "output_type": "stream",
          "name": "stderr",
          "text": [
            "4499it [01:52, 35.55it/s]"
          ]
        },
        {
          "output_type": "stream",
          "name": "stdout",
          "text": [
            "| epoch   5 |  4500/32580 batches | loss    1.331 \n"
          ]
        },
        {
          "output_type": "stream",
          "name": "stderr",
          "text": [
            "\r4503it [01:52, 16.98it/s]"
          ]
        },
        {
          "output_type": "stream",
          "name": "stdout",
          "text": [
            "money: able, forced, much, it, fact, man, well, so, taken, them\n",
            "lion: behavior, former, lives, battle, africa, spain, seen, provided, addition, charge\n",
            "africa: america, europe, india, west, end, germany, east, nine, france, addition\n",
            "musician: actor, actress, singer, writer, author, nine, variety, poet, introduction, able\n",
            "dance: music, largest, addition, lack, forms, order, science, culture, one, jazz\n",
            "\n",
            "\n"
          ]
        },
        {
          "output_type": "stream",
          "name": "stderr",
          "text": [
            "4996it [02:03, 48.41it/s]"
          ]
        },
        {
          "output_type": "stream",
          "name": "stdout",
          "text": [
            "| epoch   5 |  5000/32580 batches | loss    1.333 \n"
          ]
        },
        {
          "output_type": "stream",
          "name": "stderr",
          "text": [
            "5005it [02:03, 30.29it/s]"
          ]
        },
        {
          "output_type": "stream",
          "name": "stdout",
          "text": [
            "money: able, forced, much, it, fact, man, well, so, taken, them\n",
            "lion: behavior, former, lives, battle, africa, spain, seen, provided, addition, charge\n",
            "africa: america, europe, india, west, end, germany, east, nine, france, addition\n",
            "musician: actor, actress, singer, writer, author, nine, variety, poet, introduction, able\n",
            "dance: music, largest, addition, lack, forms, order, science, culture, one, jazz\n",
            "\n",
            "\n"
          ]
        },
        {
          "output_type": "stream",
          "name": "stderr",
          "text": [
            "5500it [02:16, 48.65it/s]"
          ]
        },
        {
          "output_type": "stream",
          "name": "stdout",
          "text": [
            "| epoch   5 |  5500/32580 batches | loss    1.333 \n"
          ]
        },
        {
          "output_type": "stream",
          "name": "stderr",
          "text": [
            "5510it [02:17, 30.95it/s]"
          ]
        },
        {
          "output_type": "stream",
          "name": "stdout",
          "text": [
            "money: able, forced, much, it, fact, man, well, so, taken, them\n",
            "lion: behavior, former, lives, battle, africa, spain, seen, provided, addition, charge\n",
            "africa: america, europe, india, west, end, germany, east, nine, france, addition\n",
            "musician: actor, actress, singer, writer, author, nine, variety, poet, introduction, able\n",
            "dance: music, largest, addition, lack, forms, order, science, culture, one, jazz\n",
            "\n",
            "\n"
          ]
        },
        {
          "output_type": "stream",
          "name": "stderr",
          "text": [
            "5997it [02:28, 36.21it/s]"
          ]
        },
        {
          "output_type": "stream",
          "name": "stdout",
          "text": [
            "| epoch   5 |  6000/32580 batches | loss    1.330 \n"
          ]
        },
        {
          "output_type": "stream",
          "name": "stderr",
          "text": [
            "6004it [02:28, 19.43it/s]"
          ]
        },
        {
          "output_type": "stream",
          "name": "stdout",
          "text": [
            "money: able, forced, much, it, fact, man, well, so, taken, them\n",
            "lion: behavior, former, lives, battle, africa, spain, seen, provided, addition, charge\n",
            "africa: america, europe, india, west, end, germany, east, nine, france, addition\n",
            "musician: actor, actress, singer, writer, author, nine, variety, poet, introduction, able\n",
            "dance: music, largest, addition, lack, forms, order, science, culture, one, jazz\n",
            "\n",
            "\n"
          ]
        },
        {
          "output_type": "stream",
          "name": "stderr",
          "text": [
            "6497it [02:40, 48.12it/s]"
          ]
        },
        {
          "output_type": "stream",
          "name": "stdout",
          "text": [
            "| epoch   5 |  6500/32580 batches | loss    1.333 \n"
          ]
        },
        {
          "output_type": "stream",
          "name": "stderr",
          "text": [
            "6507it [02:40, 31.52it/s]"
          ]
        },
        {
          "output_type": "stream",
          "name": "stdout",
          "text": [
            "money: able, forced, much, it, fact, man, well, so, taken, them\n",
            "lion: behavior, former, lives, battle, africa, spain, seen, provided, addition, charge\n",
            "africa: america, europe, india, west, end, germany, east, nine, france, addition\n",
            "musician: actor, actress, singer, writer, author, nine, variety, poet, introduction, able\n",
            "dance: music, largest, addition, lack, forms, order, science, culture, one, jazz\n",
            "\n",
            "\n"
          ]
        },
        {
          "output_type": "stream",
          "name": "stderr",
          "text": [
            "6999it [02:53, 48.65it/s]"
          ]
        },
        {
          "output_type": "stream",
          "name": "stdout",
          "text": [
            "| epoch   5 |  7000/32580 batches | loss    1.332 \n"
          ]
        },
        {
          "output_type": "stream",
          "name": "stderr",
          "text": [
            "\r7004it [02:53, 27.12it/s]"
          ]
        },
        {
          "output_type": "stream",
          "name": "stdout",
          "text": [
            "money: able, forced, much, it, fact, man, well, so, taken, them\n",
            "lion: behavior, former, lives, battle, africa, spain, seen, provided, addition, charge\n",
            "africa: america, europe, india, west, end, germany, east, nine, france, addition\n",
            "musician: actor, actress, singer, writer, author, nine, variety, poet, introduction, able\n",
            "dance: music, largest, addition, lack, forms, order, science, culture, one, jazz\n",
            "\n",
            "\n"
          ]
        },
        {
          "output_type": "stream",
          "name": "stderr",
          "text": [
            "7497it [03:04, 36.57it/s]"
          ]
        },
        {
          "output_type": "stream",
          "name": "stdout",
          "text": [
            "| epoch   5 |  7500/32580 batches | loss    1.331 \n"
          ]
        },
        {
          "output_type": "stream",
          "name": "stderr",
          "text": [
            "7505it [03:05, 22.10it/s]"
          ]
        },
        {
          "output_type": "stream",
          "name": "stdout",
          "text": [
            "money: able, forced, much, it, fact, man, well, so, taken, them\n",
            "lion: behavior, former, lives, battle, africa, spain, seen, provided, addition, charge\n",
            "africa: america, europe, india, west, end, germany, east, nine, france, addition\n",
            "musician: actor, actress, singer, writer, author, nine, variety, poet, introduction, able\n",
            "dance: music, largest, addition, lack, forms, order, science, culture, one, jazz\n",
            "\n",
            "\n"
          ]
        },
        {
          "output_type": "stream",
          "name": "stderr",
          "text": [
            "7999it [03:17, 49.17it/s]"
          ]
        },
        {
          "output_type": "stream",
          "name": "stdout",
          "text": [
            "| epoch   5 |  8000/32580 batches | loss    1.328 \n"
          ]
        },
        {
          "output_type": "stream",
          "name": "stderr",
          "text": [
            "\r8004it [03:17, 26.99it/s]"
          ]
        },
        {
          "output_type": "stream",
          "name": "stdout",
          "text": [
            "money: able, forced, much, it, fact, man, well, so, taken, them\n",
            "lion: behavior, former, lives, battle, africa, spain, seen, provided, addition, charge\n",
            "africa: america, europe, india, west, end, germany, east, nine, france, addition\n",
            "musician: actor, actress, singer, writer, author, nine, variety, poet, introduction, able\n",
            "dance: music, largest, addition, lack, forms, order, science, culture, one, jazz\n",
            "\n",
            "\n"
          ]
        },
        {
          "output_type": "stream",
          "name": "stderr",
          "text": [
            "8500it [03:30, 33.99it/s]"
          ]
        },
        {
          "output_type": "stream",
          "name": "stdout",
          "text": [
            "| epoch   5 |  8500/32580 batches | loss    1.332 \n"
          ]
        },
        {
          "output_type": "stream",
          "name": "stderr",
          "text": [
            "\r8504it [03:30, 16.40it/s]"
          ]
        },
        {
          "output_type": "stream",
          "name": "stdout",
          "text": [
            "money: able, forced, much, it, fact, man, well, so, taken, them\n",
            "lion: behavior, former, lives, battle, africa, spain, seen, provided, addition, charge\n",
            "africa: america, europe, india, west, end, germany, east, nine, france, addition\n",
            "musician: actor, actress, singer, writer, author, nine, variety, poet, introduction, able\n",
            "dance: music, largest, addition, lack, forms, order, science, culture, one, jazz\n",
            "\n",
            "\n"
          ]
        },
        {
          "output_type": "stream",
          "name": "stderr",
          "text": [
            "8999it [03:41, 47.47it/s]"
          ]
        },
        {
          "output_type": "stream",
          "name": "stdout",
          "text": [
            "| epoch   5 |  9000/32580 batches | loss    1.329 \n"
          ]
        },
        {
          "output_type": "stream",
          "name": "stderr",
          "text": [
            "\r9004it [03:41, 23.12it/s]"
          ]
        },
        {
          "output_type": "stream",
          "name": "stdout",
          "text": [
            "money: able, forced, much, it, fact, man, well, so, taken, them\n",
            "lion: behavior, former, lives, battle, africa, spain, seen, provided, addition, charge\n",
            "africa: america, europe, india, west, end, germany, east, nine, france, addition\n",
            "musician: actor, actress, singer, writer, author, nine, variety, poet, introduction, able\n",
            "dance: music, largest, addition, lack, forms, order, science, culture, one, jazz\n",
            "\n",
            "\n"
          ]
        },
        {
          "output_type": "stream",
          "name": "stderr",
          "text": [
            "9497it [03:54, 49.44it/s]"
          ]
        },
        {
          "output_type": "stream",
          "name": "stdout",
          "text": [
            "| epoch   5 |  9500/32580 batches | loss    1.335 \n"
          ]
        },
        {
          "output_type": "stream",
          "name": "stderr",
          "text": [
            "9507it [03:54, 30.84it/s]"
          ]
        },
        {
          "output_type": "stream",
          "name": "stdout",
          "text": [
            "money: able, forced, much, it, fact, man, well, so, taken, them\n",
            "lion: behavior, former, lives, battle, africa, spain, seen, provided, addition, charge\n",
            "africa: america, europe, india, west, end, germany, east, nine, france, addition\n",
            "musician: actor, actress, singer, writer, author, nine, variety, poet, introduction, able\n",
            "dance: music, largest, addition, lack, forms, order, science, culture, one, jazz\n",
            "\n",
            "\n"
          ]
        },
        {
          "output_type": "stream",
          "name": "stderr",
          "text": [
            "9997it [04:05, 36.23it/s]"
          ]
        },
        {
          "output_type": "stream",
          "name": "stdout",
          "text": [
            "| epoch   5 | 10000/32580 batches | loss    1.330 \n"
          ]
        },
        {
          "output_type": "stream",
          "name": "stderr",
          "text": [
            "10004it [04:06, 19.68it/s]"
          ]
        },
        {
          "output_type": "stream",
          "name": "stdout",
          "text": [
            "money: able, forced, much, it, fact, man, well, so, taken, them\n",
            "lion: behavior, former, lives, battle, africa, spain, seen, provided, addition, charge\n",
            "africa: america, europe, india, west, end, germany, east, nine, france, addition\n",
            "musician: actor, actress, singer, writer, author, nine, variety, poet, introduction, able\n",
            "dance: music, largest, addition, lack, forms, order, science, culture, one, jazz\n",
            "\n",
            "\n"
          ]
        },
        {
          "output_type": "stream",
          "name": "stderr",
          "text": [
            "10497it [04:17, 49.21it/s]"
          ]
        },
        {
          "output_type": "stream",
          "name": "stdout",
          "text": [
            "| epoch   5 | 10500/32580 batches | loss    1.329 \n"
          ]
        },
        {
          "output_type": "stream",
          "name": "stderr",
          "text": [
            "10507it [04:18, 30.36it/s]"
          ]
        },
        {
          "output_type": "stream",
          "name": "stdout",
          "text": [
            "money: able, forced, much, it, fact, man, well, so, taken, them\n",
            "lion: behavior, former, lives, battle, africa, spain, seen, provided, addition, charge\n",
            "africa: america, europe, india, west, end, germany, east, nine, france, addition\n",
            "musician: actor, actress, singer, writer, author, nine, variety, poet, introduction, able\n",
            "dance: music, largest, addition, lack, forms, order, science, culture, one, jazz\n",
            "\n",
            "\n"
          ]
        },
        {
          "output_type": "stream",
          "name": "stderr",
          "text": [
            "10996it [04:30, 49.85it/s]"
          ]
        },
        {
          "output_type": "stream",
          "name": "stdout",
          "text": [
            "| epoch   5 | 11000/32580 batches | loss    1.326 \n"
          ]
        },
        {
          "output_type": "stream",
          "name": "stderr",
          "text": [
            "11005it [04:31, 31.02it/s]"
          ]
        },
        {
          "output_type": "stream",
          "name": "stdout",
          "text": [
            "money: able, forced, much, it, fact, man, well, so, taken, them\n",
            "lion: behavior, former, lives, battle, africa, spain, seen, provided, addition, charge\n",
            "africa: america, europe, india, west, end, germany, east, nine, france, addition\n",
            "musician: actor, actress, singer, writer, author, nine, variety, poet, introduction, able\n",
            "dance: music, largest, addition, lack, forms, order, science, culture, one, jazz\n",
            "\n",
            "\n"
          ]
        },
        {
          "output_type": "stream",
          "name": "stderr",
          "text": [
            "11499it [04:41, 36.56it/s]"
          ]
        },
        {
          "output_type": "stream",
          "name": "stdout",
          "text": [
            "| epoch   5 | 11500/32580 batches | loss    1.332 \n"
          ]
        },
        {
          "output_type": "stream",
          "name": "stderr",
          "text": [
            "\r11503it [04:42, 17.34it/s]"
          ]
        },
        {
          "output_type": "stream",
          "name": "stdout",
          "text": [
            "money: able, forced, much, it, fact, man, well, so, taken, them\n",
            "lion: behavior, former, lives, battle, africa, spain, seen, provided, addition, charge\n",
            "africa: america, europe, india, west, end, germany, east, nine, france, addition\n",
            "musician: actor, actress, singer, writer, author, nine, variety, poet, introduction, able\n",
            "dance: music, largest, addition, lack, forms, order, science, culture, one, jazz\n",
            "\n",
            "\n"
          ]
        },
        {
          "output_type": "stream",
          "name": "stderr",
          "text": [
            "11997it [04:54, 48.64it/s]"
          ]
        },
        {
          "output_type": "stream",
          "name": "stdout",
          "text": [
            "| epoch   5 | 12000/32580 batches | loss    1.332 \n"
          ]
        },
        {
          "output_type": "stream",
          "name": "stderr",
          "text": [
            "12007it [04:54, 31.59it/s]"
          ]
        },
        {
          "output_type": "stream",
          "name": "stdout",
          "text": [
            "money: able, forced, much, it, fact, man, well, so, taken, them\n",
            "lion: behavior, former, lives, battle, africa, spain, seen, provided, addition, charge\n",
            "africa: america, europe, india, west, end, germany, east, nine, france, addition\n",
            "musician: actor, actress, singer, writer, author, nine, variety, poet, introduction, able\n",
            "dance: music, largest, addition, lack, forms, order, science, culture, one, jazz\n",
            "\n",
            "\n"
          ]
        },
        {
          "output_type": "stream",
          "name": "stderr",
          "text": [
            "12500it [05:06, 35.98it/s]"
          ]
        },
        {
          "output_type": "stream",
          "name": "stdout",
          "text": [
            "| epoch   5 | 12500/32580 batches | loss    1.335 \n"
          ]
        },
        {
          "output_type": "stream",
          "name": "stderr",
          "text": [
            "\r12504it [05:07, 17.22it/s]"
          ]
        },
        {
          "output_type": "stream",
          "name": "stdout",
          "text": [
            "money: able, forced, much, it, fact, man, well, so, taken, them\n",
            "lion: behavior, former, lives, battle, africa, spain, seen, provided, addition, charge\n",
            "africa: america, europe, india, west, end, germany, east, nine, france, addition\n",
            "musician: actor, actress, singer, writer, author, nine, variety, poet, introduction, able\n",
            "dance: music, largest, addition, lack, forms, order, science, culture, one, jazz\n",
            "\n",
            "\n"
          ]
        },
        {
          "output_type": "stream",
          "name": "stderr",
          "text": [
            "12996it [05:17, 48.96it/s]"
          ]
        },
        {
          "output_type": "stream",
          "name": "stdout",
          "text": [
            "| epoch   5 | 13000/32580 batches | loss    1.331 \n"
          ]
        },
        {
          "output_type": "stream",
          "name": "stderr",
          "text": [
            "13005it [05:17, 28.61it/s]"
          ]
        },
        {
          "output_type": "stream",
          "name": "stdout",
          "text": [
            "money: able, forced, much, it, fact, man, well, so, taken, them\n",
            "lion: behavior, former, lives, battle, africa, spain, seen, provided, addition, charge\n",
            "africa: america, europe, india, west, end, germany, east, nine, france, addition\n",
            "musician: actor, actress, singer, writer, author, nine, variety, poet, introduction, able\n",
            "dance: music, largest, addition, lack, forms, order, science, culture, one, jazz\n",
            "\n",
            "\n"
          ]
        },
        {
          "output_type": "stream",
          "name": "stderr",
          "text": [
            "13498it [05:30, 48.51it/s]"
          ]
        },
        {
          "output_type": "stream",
          "name": "stdout",
          "text": [
            "| epoch   5 | 13500/32580 batches | loss    1.330 \n"
          ]
        },
        {
          "output_type": "stream",
          "name": "stderr",
          "text": [
            "13508it [05:30, 30.70it/s]"
          ]
        },
        {
          "output_type": "stream",
          "name": "stdout",
          "text": [
            "money: able, forced, much, it, fact, man, well, so, taken, them\n",
            "lion: behavior, former, lives, battle, africa, spain, seen, provided, addition, charge\n",
            "africa: america, europe, india, west, end, germany, east, nine, france, addition\n",
            "musician: actor, actress, singer, writer, author, nine, variety, poet, introduction, able\n",
            "dance: music, largest, addition, lack, forms, order, science, culture, one, jazz\n",
            "\n",
            "\n"
          ]
        },
        {
          "output_type": "stream",
          "name": "stderr",
          "text": [
            "13998it [05:42, 35.66it/s]"
          ]
        },
        {
          "output_type": "stream",
          "name": "stdout",
          "text": [
            "| epoch   5 | 14000/32580 batches | loss    1.331 \n"
          ]
        },
        {
          "output_type": "stream",
          "name": "stderr",
          "text": [
            "14005it [05:42, 18.71it/s]"
          ]
        },
        {
          "output_type": "stream",
          "name": "stdout",
          "text": [
            "money: able, forced, much, it, fact, man, well, so, taken, them\n",
            "lion: behavior, former, lives, battle, africa, spain, seen, provided, addition, charge\n",
            "africa: america, europe, india, west, end, germany, east, nine, france, addition\n",
            "musician: actor, actress, singer, writer, author, nine, variety, poet, introduction, able\n",
            "dance: music, largest, addition, lack, forms, order, science, culture, one, jazz\n",
            "\n",
            "\n"
          ]
        },
        {
          "output_type": "stream",
          "name": "stderr",
          "text": [
            "14497it [05:53, 48.99it/s]"
          ]
        },
        {
          "output_type": "stream",
          "name": "stdout",
          "text": [
            "| epoch   5 | 14500/32580 batches | loss    1.332 \n"
          ]
        },
        {
          "output_type": "stream",
          "name": "stderr",
          "text": [
            "14506it [05:54, 30.72it/s]"
          ]
        },
        {
          "output_type": "stream",
          "name": "stdout",
          "text": [
            "money: able, forced, much, it, fact, man, well, so, taken, them\n",
            "lion: behavior, former, lives, battle, africa, spain, seen, provided, addition, charge\n",
            "africa: america, europe, india, west, end, germany, east, nine, france, addition\n",
            "musician: actor, actress, singer, writer, author, nine, variety, poet, introduction, able\n",
            "dance: music, largest, addition, lack, forms, order, science, culture, one, jazz\n",
            "\n",
            "\n"
          ]
        },
        {
          "output_type": "stream",
          "name": "stderr",
          "text": [
            "14996it [06:06, 49.32it/s]"
          ]
        },
        {
          "output_type": "stream",
          "name": "stdout",
          "text": [
            "| epoch   5 | 15000/32580 batches | loss    1.334 \n"
          ]
        },
        {
          "output_type": "stream",
          "name": "stderr",
          "text": [
            "15005it [06:07, 30.19it/s]"
          ]
        },
        {
          "output_type": "stream",
          "name": "stdout",
          "text": [
            "money: able, forced, much, it, fact, man, well, so, taken, them\n",
            "lion: behavior, former, lives, battle, africa, spain, seen, provided, addition, charge\n",
            "africa: america, europe, india, west, end, germany, east, nine, france, addition\n",
            "musician: actor, actress, singer, writer, author, nine, variety, poet, introduction, able\n",
            "dance: music, largest, addition, lack, forms, order, science, culture, one, jazz\n",
            "\n",
            "\n"
          ]
        },
        {
          "output_type": "stream",
          "name": "stderr",
          "text": [
            "15499it [06:17, 38.59it/s]"
          ]
        },
        {
          "output_type": "stream",
          "name": "stdout",
          "text": [
            "| epoch   5 | 15500/32580 batches | loss    1.333 \n"
          ]
        },
        {
          "output_type": "stream",
          "name": "stderr",
          "text": [
            "\r15503it [06:18, 17.97it/s]"
          ]
        },
        {
          "output_type": "stream",
          "name": "stdout",
          "text": [
            "money: able, forced, much, it, fact, man, well, so, taken, them\n",
            "lion: behavior, former, lives, battle, africa, spain, seen, provided, addition, charge\n",
            "africa: america, europe, india, west, end, germany, east, nine, france, addition\n",
            "musician: actor, actress, singer, writer, author, nine, variety, poet, introduction, able\n",
            "dance: music, largest, addition, lack, forms, order, science, culture, one, jazz\n",
            "\n",
            "\n"
          ]
        },
        {
          "output_type": "stream",
          "name": "stderr",
          "text": [
            "15997it [06:30, 48.96it/s]"
          ]
        },
        {
          "output_type": "stream",
          "name": "stdout",
          "text": [
            "| epoch   5 | 16000/32580 batches | loss    1.329 \n"
          ]
        },
        {
          "output_type": "stream",
          "name": "stderr",
          "text": [
            "16007it [06:30, 31.77it/s]"
          ]
        },
        {
          "output_type": "stream",
          "name": "stdout",
          "text": [
            "money: able, forced, much, it, fact, man, well, so, taken, them\n",
            "lion: behavior, former, lives, battle, africa, spain, seen, provided, addition, charge\n",
            "africa: america, europe, india, west, end, germany, east, nine, france, addition\n",
            "musician: actor, actress, singer, writer, author, nine, variety, poet, introduction, able\n",
            "dance: music, largest, addition, lack, forms, order, science, culture, one, jazz\n",
            "\n",
            "\n"
          ]
        },
        {
          "output_type": "stream",
          "name": "stderr",
          "text": [
            "16498it [06:42, 34.35it/s]"
          ]
        },
        {
          "output_type": "stream",
          "name": "stdout",
          "text": [
            "| epoch   5 | 16500/32580 batches | loss    1.334 \n"
          ]
        },
        {
          "output_type": "stream",
          "name": "stderr",
          "text": [
            "16505it [06:43, 19.35it/s]"
          ]
        },
        {
          "output_type": "stream",
          "name": "stdout",
          "text": [
            "money: able, forced, much, it, fact, man, well, so, taken, them\n",
            "lion: behavior, former, lives, battle, africa, spain, seen, provided, addition, charge\n",
            "africa: america, europe, india, west, end, germany, east, nine, france, addition\n",
            "musician: actor, actress, singer, writer, author, nine, variety, poet, introduction, able\n",
            "dance: music, largest, addition, lack, forms, order, science, culture, one, jazz\n",
            "\n",
            "\n"
          ]
        },
        {
          "output_type": "stream",
          "name": "stderr",
          "text": [
            "16999it [06:53, 48.54it/s]"
          ]
        },
        {
          "output_type": "stream",
          "name": "stdout",
          "text": [
            "| epoch   5 | 17000/32580 batches | loss    1.329 \n"
          ]
        },
        {
          "output_type": "stream",
          "name": "stderr",
          "text": [
            "17008it [06:54, 29.65it/s]"
          ]
        },
        {
          "output_type": "stream",
          "name": "stdout",
          "text": [
            "money: able, forced, much, it, fact, man, well, so, taken, them\n",
            "lion: behavior, former, lives, battle, africa, spain, seen, provided, addition, charge\n",
            "africa: america, europe, india, west, end, germany, east, nine, france, addition\n",
            "musician: actor, actress, singer, writer, author, nine, variety, poet, introduction, able\n",
            "dance: music, largest, addition, lack, forms, order, science, culture, one, jazz\n",
            "\n",
            "\n"
          ]
        },
        {
          "output_type": "stream",
          "name": "stderr",
          "text": [
            "17497it [07:06, 49.66it/s]"
          ]
        },
        {
          "output_type": "stream",
          "name": "stdout",
          "text": [
            "| epoch   5 | 17500/32580 batches | loss    1.329 \n"
          ]
        },
        {
          "output_type": "stream",
          "name": "stderr",
          "text": [
            "17507it [07:07, 31.85it/s]"
          ]
        },
        {
          "output_type": "stream",
          "name": "stdout",
          "text": [
            "money: able, forced, much, it, fact, man, well, so, taken, them\n",
            "lion: behavior, former, lives, battle, africa, spain, seen, provided, addition, charge\n",
            "africa: america, europe, india, west, end, germany, east, nine, france, addition\n",
            "musician: actor, actress, singer, writer, author, nine, variety, poet, introduction, able\n",
            "dance: music, largest, addition, lack, forms, order, science, culture, one, jazz\n",
            "\n",
            "\n"
          ]
        },
        {
          "output_type": "stream",
          "name": "stderr",
          "text": [
            "18000it [07:18, 35.71it/s]"
          ]
        },
        {
          "output_type": "stream",
          "name": "stdout",
          "text": [
            "| epoch   5 | 18000/32580 batches | loss    1.329 \n"
          ]
        },
        {
          "output_type": "stream",
          "name": "stderr",
          "text": [
            "\r18004it [07:19, 16.88it/s]"
          ]
        },
        {
          "output_type": "stream",
          "name": "stdout",
          "text": [
            "money: able, forced, much, it, fact, man, well, so, taken, them\n",
            "lion: behavior, former, lives, battle, africa, spain, seen, provided, addition, charge\n",
            "africa: america, europe, india, west, end, germany, east, nine, france, addition\n",
            "musician: actor, actress, singer, writer, author, nine, variety, poet, introduction, able\n",
            "dance: music, largest, addition, lack, forms, order, science, culture, one, jazz\n",
            "\n",
            "\n"
          ]
        },
        {
          "output_type": "stream",
          "name": "stderr",
          "text": [
            "18498it [07:30, 49.35it/s]"
          ]
        },
        {
          "output_type": "stream",
          "name": "stdout",
          "text": [
            "| epoch   5 | 18500/32580 batches | loss    1.331 \n"
          ]
        },
        {
          "output_type": "stream",
          "name": "stderr",
          "text": [
            "18507it [07:30, 29.45it/s]"
          ]
        },
        {
          "output_type": "stream",
          "name": "stdout",
          "text": [
            "money: able, forced, much, it, fact, man, well, so, taken, them\n",
            "lion: behavior, former, lives, battle, africa, spain, seen, provided, addition, charge\n",
            "africa: america, europe, india, west, end, germany, east, nine, france, addition\n",
            "musician: actor, actress, singer, writer, author, nine, variety, poet, introduction, able\n",
            "dance: music, largest, addition, lack, forms, order, science, culture, one, jazz\n",
            "\n",
            "\n"
          ]
        },
        {
          "output_type": "stream",
          "name": "stderr",
          "text": [
            "19000it [07:46, 35.41it/s]"
          ]
        },
        {
          "output_type": "stream",
          "name": "stdout",
          "text": [
            "| epoch   5 | 19000/32580 batches | loss    1.333 \n"
          ]
        },
        {
          "output_type": "stream",
          "name": "stderr",
          "text": [
            "\r19004it [07:46, 17.18it/s]"
          ]
        },
        {
          "output_type": "stream",
          "name": "stdout",
          "text": [
            "money: able, forced, much, it, fact, man, well, so, taken, them\n",
            "lion: behavior, former, lives, battle, africa, spain, seen, provided, addition, charge\n",
            "africa: america, europe, india, west, end, germany, east, nine, france, addition\n",
            "musician: actor, actress, singer, writer, author, nine, variety, poet, introduction, able\n",
            "dance: music, largest, addition, lack, forms, order, science, culture, one, jazz\n",
            "\n",
            "\n"
          ]
        },
        {
          "output_type": "stream",
          "name": "stderr",
          "text": [
            "19498it [08:00, 37.10it/s]"
          ]
        },
        {
          "output_type": "stream",
          "name": "stdout",
          "text": [
            "| epoch   5 | 19500/32580 batches | loss    1.333 \n"
          ]
        },
        {
          "output_type": "stream",
          "name": "stderr",
          "text": [
            "19506it [08:01, 20.38it/s]"
          ]
        },
        {
          "output_type": "stream",
          "name": "stdout",
          "text": [
            "money: able, forced, much, it, fact, man, well, so, taken, them\n",
            "lion: behavior, former, lives, battle, africa, spain, seen, provided, addition, charge\n",
            "africa: america, europe, india, west, end, germany, east, nine, france, addition\n",
            "musician: actor, actress, singer, writer, author, nine, variety, poet, introduction, able\n",
            "dance: music, largest, addition, lack, forms, order, science, culture, one, jazz\n",
            "\n",
            "\n"
          ]
        },
        {
          "output_type": "stream",
          "name": "stderr",
          "text": [
            "20000it [08:13, 48.66it/s]"
          ]
        },
        {
          "output_type": "stream",
          "name": "stdout",
          "text": [
            "| epoch   5 | 20000/32580 batches | loss    1.332 \n"
          ]
        },
        {
          "output_type": "stream",
          "name": "stderr",
          "text": [
            "\r20005it [08:13, 27.67it/s]"
          ]
        },
        {
          "output_type": "stream",
          "name": "stdout",
          "text": [
            "money: able, forced, much, it, fact, man, well, so, taken, them\n",
            "lion: behavior, former, lives, battle, africa, spain, seen, provided, addition, charge\n",
            "africa: america, europe, india, west, end, germany, east, nine, france, addition\n",
            "musician: actor, actress, singer, writer, author, nine, variety, poet, introduction, able\n",
            "dance: music, largest, addition, lack, forms, order, science, culture, one, jazz\n",
            "\n",
            "\n"
          ]
        },
        {
          "output_type": "stream",
          "name": "stderr",
          "text": [
            "20499it [08:26, 34.96it/s]"
          ]
        },
        {
          "output_type": "stream",
          "name": "stdout",
          "text": [
            "| epoch   5 | 20500/32580 batches | loss    1.332 \n"
          ]
        },
        {
          "output_type": "stream",
          "name": "stderr",
          "text": [
            "\r20503it [08:26, 16.93it/s]"
          ]
        },
        {
          "output_type": "stream",
          "name": "stdout",
          "text": [
            "money: able, forced, much, it, fact, man, well, so, taken, them\n",
            "lion: behavior, former, lives, battle, africa, spain, seen, provided, addition, charge\n",
            "africa: america, europe, india, west, end, germany, east, nine, france, addition\n",
            "musician: actor, actress, singer, writer, author, nine, variety, poet, introduction, able\n",
            "dance: music, largest, addition, lack, forms, order, science, culture, one, jazz\n",
            "\n",
            "\n"
          ]
        },
        {
          "output_type": "stream",
          "name": "stderr",
          "text": [
            "20998it [08:37, 44.90it/s]"
          ]
        },
        {
          "output_type": "stream",
          "name": "stdout",
          "text": [
            "| epoch   5 | 21000/32580 batches | loss    1.332 \n"
          ]
        },
        {
          "output_type": "stream",
          "name": "stderr",
          "text": [
            "21007it [08:37, 24.55it/s]"
          ]
        },
        {
          "output_type": "stream",
          "name": "stdout",
          "text": [
            "money: able, forced, much, it, fact, man, well, so, taken, them\n",
            "lion: behavior, former, lives, battle, africa, spain, seen, provided, addition, charge\n",
            "africa: america, europe, india, west, end, germany, east, nine, france, addition\n",
            "musician: actor, actress, singer, writer, author, nine, variety, poet, introduction, able\n",
            "dance: music, largest, addition, lack, forms, order, science, culture, one, jazz\n",
            "\n",
            "\n"
          ]
        },
        {
          "output_type": "stream",
          "name": "stderr",
          "text": [
            "21500it [08:50, 48.28it/s]"
          ]
        },
        {
          "output_type": "stream",
          "name": "stdout",
          "text": [
            "| epoch   5 | 21500/32580 batches | loss    1.330 \n"
          ]
        },
        {
          "output_type": "stream",
          "name": "stderr",
          "text": [
            "\r21505it [08:50, 27.23it/s]"
          ]
        },
        {
          "output_type": "stream",
          "name": "stdout",
          "text": [
            "money: able, forced, much, it, fact, man, well, so, taken, them\n",
            "lion: behavior, former, lives, battle, africa, spain, seen, provided, addition, charge\n",
            "africa: america, europe, india, west, end, germany, east, nine, france, addition\n",
            "musician: actor, actress, singer, writer, author, nine, variety, poet, introduction, able\n",
            "dance: music, largest, addition, lack, forms, order, science, culture, one, jazz\n",
            "\n",
            "\n"
          ]
        },
        {
          "output_type": "stream",
          "name": "stderr",
          "text": [
            "21997it [09:01, 35.65it/s]"
          ]
        },
        {
          "output_type": "stream",
          "name": "stdout",
          "text": [
            "| epoch   5 | 22000/32580 batches | loss    1.333 \n"
          ]
        },
        {
          "output_type": "stream",
          "name": "stderr",
          "text": [
            "22004it [09:02, 19.28it/s]"
          ]
        },
        {
          "output_type": "stream",
          "name": "stdout",
          "text": [
            "money: able, forced, much, it, fact, man, well, so, taken, them\n",
            "lion: behavior, former, lives, battle, africa, spain, seen, provided, addition, charge\n",
            "africa: america, europe, india, west, end, germany, east, nine, france, addition\n",
            "musician: actor, actress, singer, writer, author, nine, variety, poet, introduction, able\n",
            "dance: music, largest, addition, lack, forms, order, science, culture, one, jazz\n",
            "\n",
            "\n"
          ]
        },
        {
          "output_type": "stream",
          "name": "stderr",
          "text": [
            "22498it [09:13, 49.32it/s]"
          ]
        },
        {
          "output_type": "stream",
          "name": "stdout",
          "text": [
            "| epoch   5 | 22500/32580 batches | loss    1.326 \n"
          ]
        },
        {
          "output_type": "stream",
          "name": "stderr",
          "text": [
            "22508it [09:14, 31.48it/s]"
          ]
        },
        {
          "output_type": "stream",
          "name": "stdout",
          "text": [
            "money: able, forced, much, it, fact, man, well, so, taken, them\n",
            "lion: behavior, former, lives, battle, africa, spain, seen, provided, addition, charge\n",
            "africa: america, europe, india, west, end, germany, east, nine, france, addition\n",
            "musician: actor, actress, singer, writer, author, nine, variety, poet, introduction, able\n",
            "dance: music, largest, addition, lack, forms, order, science, culture, one, jazz\n",
            "\n",
            "\n"
          ]
        },
        {
          "output_type": "stream",
          "name": "stderr",
          "text": [
            "22998it [09:26, 49.06it/s]"
          ]
        },
        {
          "output_type": "stream",
          "name": "stdout",
          "text": [
            "| epoch   5 | 23000/32580 batches | loss    1.326 \n"
          ]
        },
        {
          "output_type": "stream",
          "name": "stderr",
          "text": [
            "23008it [09:27, 31.73it/s]"
          ]
        },
        {
          "output_type": "stream",
          "name": "stdout",
          "text": [
            "money: able, forced, much, it, fact, man, well, so, taken, them\n",
            "lion: behavior, former, lives, battle, africa, spain, seen, provided, addition, charge\n",
            "africa: america, europe, india, west, end, germany, east, nine, france, addition\n",
            "musician: actor, actress, singer, writer, author, nine, variety, poet, introduction, able\n",
            "dance: music, largest, addition, lack, forms, order, science, culture, one, jazz\n",
            "\n",
            "\n"
          ]
        },
        {
          "output_type": "stream",
          "name": "stderr",
          "text": [
            "23498it [09:37, 37.36it/s]"
          ]
        },
        {
          "output_type": "stream",
          "name": "stdout",
          "text": [
            "| epoch   5 | 23500/32580 batches | loss    1.330 \n"
          ]
        },
        {
          "output_type": "stream",
          "name": "stderr",
          "text": [
            "23506it [09:38, 21.43it/s]"
          ]
        },
        {
          "output_type": "stream",
          "name": "stdout",
          "text": [
            "money: able, forced, much, it, fact, man, well, so, taken, them\n",
            "lion: behavior, former, lives, battle, africa, spain, seen, provided, addition, charge\n",
            "africa: america, europe, india, west, end, germany, east, nine, france, addition\n",
            "musician: actor, actress, singer, writer, author, nine, variety, poet, introduction, able\n",
            "dance: music, largest, addition, lack, forms, order, science, culture, one, jazz\n",
            "\n",
            "\n"
          ]
        },
        {
          "output_type": "stream",
          "name": "stderr",
          "text": [
            "23999it [09:50, 47.71it/s]"
          ]
        },
        {
          "output_type": "stream",
          "name": "stdout",
          "text": [
            "| epoch   5 | 24000/32580 batches | loss    1.333 \n"
          ]
        },
        {
          "output_type": "stream",
          "name": "stderr",
          "text": [
            "24009it [09:50, 32.04it/s]"
          ]
        },
        {
          "output_type": "stream",
          "name": "stdout",
          "text": [
            "money: able, forced, much, it, fact, man, well, so, taken, them\n",
            "lion: behavior, former, lives, battle, africa, spain, seen, provided, addition, charge\n",
            "africa: america, europe, india, west, end, germany, east, nine, france, addition\n",
            "musician: actor, actress, singer, writer, author, nine, variety, poet, introduction, able\n",
            "dance: music, largest, addition, lack, forms, order, science, culture, one, jazz\n",
            "\n",
            "\n"
          ]
        },
        {
          "output_type": "stream",
          "name": "stderr",
          "text": [
            "24499it [10:02, 35.12it/s]"
          ]
        },
        {
          "output_type": "stream",
          "name": "stdout",
          "text": [
            "| epoch   5 | 24500/32580 batches | loss    1.330 \n"
          ]
        },
        {
          "output_type": "stream",
          "name": "stderr",
          "text": [
            "\r24503it [10:03, 16.95it/s]"
          ]
        },
        {
          "output_type": "stream",
          "name": "stdout",
          "text": [
            "money: able, forced, much, it, fact, man, well, so, taken, them\n",
            "lion: behavior, former, lives, battle, africa, spain, seen, provided, addition, charge\n",
            "africa: america, europe, india, west, end, germany, east, nine, france, addition\n",
            "musician: actor, actress, singer, writer, author, nine, variety, poet, introduction, able\n",
            "dance: music, largest, addition, lack, forms, order, science, culture, one, jazz\n",
            "\n",
            "\n"
          ]
        },
        {
          "output_type": "stream",
          "name": "stderr",
          "text": [
            "24997it [10:13, 48.69it/s]"
          ]
        },
        {
          "output_type": "stream",
          "name": "stdout",
          "text": [
            "| epoch   5 | 25000/32580 batches | loss    1.335 \n"
          ]
        },
        {
          "output_type": "stream",
          "name": "stderr",
          "text": [
            "25006it [10:14, 26.46it/s]"
          ]
        },
        {
          "output_type": "stream",
          "name": "stdout",
          "text": [
            "money: able, forced, much, it, fact, man, well, so, taken, them\n",
            "lion: behavior, former, lives, battle, africa, spain, seen, provided, addition, charge\n",
            "africa: america, europe, india, west, end, germany, east, nine, france, addition\n",
            "musician: actor, actress, singer, writer, author, nine, variety, poet, introduction, able\n",
            "dance: music, largest, addition, lack, forms, order, science, culture, one, jazz\n",
            "\n",
            "\n"
          ]
        },
        {
          "output_type": "stream",
          "name": "stderr",
          "text": [
            "25496it [10:26, 47.38it/s]"
          ]
        },
        {
          "output_type": "stream",
          "name": "stdout",
          "text": [
            "| epoch   5 | 25500/32580 batches | loss    1.331 \n"
          ]
        },
        {
          "output_type": "stream",
          "name": "stderr",
          "text": [
            "25505it [10:26, 30.46it/s]"
          ]
        },
        {
          "output_type": "stream",
          "name": "stdout",
          "text": [
            "money: able, forced, much, it, fact, man, well, so, taken, them\n",
            "lion: behavior, former, lives, battle, africa, spain, seen, provided, addition, charge\n",
            "africa: america, europe, india, west, end, germany, east, nine, france, addition\n",
            "musician: actor, actress, singer, writer, author, nine, variety, poet, introduction, able\n",
            "dance: music, largest, addition, lack, forms, order, science, culture, one, jazz\n",
            "\n",
            "\n"
          ]
        },
        {
          "output_type": "stream",
          "name": "stderr",
          "text": [
            "26000it [10:40, 32.05it/s]"
          ]
        },
        {
          "output_type": "stream",
          "name": "stdout",
          "text": [
            "| epoch   5 | 26000/32580 batches | loss    1.331 \n"
          ]
        },
        {
          "output_type": "stream",
          "name": "stderr",
          "text": [
            "\r26004it [10:41, 16.12it/s]"
          ]
        },
        {
          "output_type": "stream",
          "name": "stdout",
          "text": [
            "money: able, forced, much, it, fact, man, well, so, taken, them\n",
            "lion: behavior, former, lives, battle, africa, spain, seen, provided, addition, charge\n",
            "africa: america, europe, india, west, end, germany, east, nine, france, addition\n",
            "musician: actor, actress, singer, writer, author, nine, variety, poet, introduction, able\n",
            "dance: music, largest, addition, lack, forms, order, science, culture, one, jazz\n",
            "\n",
            "\n"
          ]
        },
        {
          "output_type": "stream",
          "name": "stderr",
          "text": [
            "26498it [10:52, 48.73it/s]"
          ]
        },
        {
          "output_type": "stream",
          "name": "stdout",
          "text": [
            "| epoch   5 | 26500/32580 batches | loss    1.332 \n"
          ]
        },
        {
          "output_type": "stream",
          "name": "stderr",
          "text": [
            "26508it [10:53, 32.39it/s]"
          ]
        },
        {
          "output_type": "stream",
          "name": "stdout",
          "text": [
            "money: able, forced, much, it, fact, man, well, so, taken, them\n",
            "lion: behavior, former, lives, battle, africa, spain, seen, provided, addition, charge\n",
            "africa: america, europe, india, west, end, germany, east, nine, france, addition\n",
            "musician: actor, actress, singer, writer, author, nine, variety, poet, introduction, able\n",
            "dance: music, largest, addition, lack, forms, order, science, culture, one, jazz\n",
            "\n",
            "\n"
          ]
        },
        {
          "output_type": "stream",
          "name": "stderr",
          "text": [
            "27000it [11:05, 36.49it/s]"
          ]
        },
        {
          "output_type": "stream",
          "name": "stdout",
          "text": [
            "| epoch   5 | 27000/32580 batches | loss    1.328 \n"
          ]
        },
        {
          "output_type": "stream",
          "name": "stderr",
          "text": [
            "\r27004it [11:05, 17.21it/s]"
          ]
        },
        {
          "output_type": "stream",
          "name": "stdout",
          "text": [
            "money: able, forced, much, it, fact, man, well, so, taken, them\n",
            "lion: behavior, former, lives, battle, africa, spain, seen, provided, addition, charge\n",
            "africa: america, europe, india, west, end, germany, east, nine, france, addition\n",
            "musician: actor, actress, singer, writer, author, nine, variety, poet, introduction, able\n",
            "dance: music, largest, addition, lack, forms, order, science, culture, one, jazz\n",
            "\n",
            "\n"
          ]
        },
        {
          "output_type": "stream",
          "name": "stderr",
          "text": [
            "27500it [11:16, 44.30it/s]"
          ]
        },
        {
          "output_type": "stream",
          "name": "stdout",
          "text": [
            "| epoch   5 | 27500/32580 batches | loss    1.328 \n"
          ]
        },
        {
          "output_type": "stream",
          "name": "stderr",
          "text": [
            "\r27505it [11:17, 22.24it/s]"
          ]
        },
        {
          "output_type": "stream",
          "name": "stdout",
          "text": [
            "money: able, forced, much, it, fact, man, well, so, taken, them\n",
            "lion: behavior, former, lives, battle, africa, spain, seen, provided, addition, charge\n",
            "africa: america, europe, india, west, end, germany, east, nine, france, addition\n",
            "musician: actor, actress, singer, writer, author, nine, variety, poet, introduction, able\n",
            "dance: music, largest, addition, lack, forms, order, science, culture, one, jazz\n",
            "\n",
            "\n"
          ]
        },
        {
          "output_type": "stream",
          "name": "stderr",
          "text": [
            "27999it [11:30, 48.99it/s]"
          ]
        },
        {
          "output_type": "stream",
          "name": "stdout",
          "text": [
            "| epoch   5 | 28000/32580 batches | loss    1.333 \n"
          ]
        },
        {
          "output_type": "stream",
          "name": "stderr",
          "text": [
            "28009it [11:31, 31.55it/s]"
          ]
        },
        {
          "output_type": "stream",
          "name": "stdout",
          "text": [
            "money: able, forced, much, it, fact, man, well, so, taken, them\n",
            "lion: behavior, former, lives, battle, africa, spain, seen, provided, addition, charge\n",
            "africa: america, europe, india, west, end, germany, east, nine, france, addition\n",
            "musician: actor, actress, singer, writer, author, nine, variety, poet, introduction, able\n",
            "dance: music, largest, addition, lack, forms, order, science, culture, one, jazz\n",
            "\n",
            "\n"
          ]
        },
        {
          "output_type": "stream",
          "name": "stderr",
          "text": [
            "28499it [11:42, 34.81it/s]"
          ]
        },
        {
          "output_type": "stream",
          "name": "stdout",
          "text": [
            "| epoch   5 | 28500/32580 batches | loss    1.329 \n"
          ]
        },
        {
          "output_type": "stream",
          "name": "stderr",
          "text": [
            "\r28503it [11:42, 16.71it/s]"
          ]
        },
        {
          "output_type": "stream",
          "name": "stdout",
          "text": [
            "money: able, forced, much, it, fact, man, well, so, taken, them\n",
            "lion: behavior, former, lives, battle, africa, spain, seen, provided, addition, charge\n",
            "africa: america, europe, india, west, end, germany, east, nine, france, addition\n",
            "musician: actor, actress, singer, writer, author, nine, variety, poet, introduction, able\n",
            "dance: music, largest, addition, lack, forms, order, science, culture, one, jazz\n",
            "\n",
            "\n"
          ]
        },
        {
          "output_type": "stream",
          "name": "stderr",
          "text": [
            "28998it [11:54, 48.36it/s]"
          ]
        },
        {
          "output_type": "stream",
          "name": "stdout",
          "text": [
            "| epoch   5 | 29000/32580 batches | loss    1.330 \n"
          ]
        },
        {
          "output_type": "stream",
          "name": "stderr",
          "text": [
            "29008it [11:54, 31.18it/s]"
          ]
        },
        {
          "output_type": "stream",
          "name": "stdout",
          "text": [
            "money: able, forced, much, it, fact, man, well, so, taken, them\n",
            "lion: behavior, former, lives, battle, africa, spain, seen, provided, addition, charge\n",
            "africa: america, europe, india, west, end, germany, east, nine, france, addition\n",
            "musician: actor, actress, singer, writer, author, nine, variety, poet, introduction, able\n",
            "dance: music, largest, addition, lack, forms, order, science, culture, one, jazz\n",
            "\n",
            "\n"
          ]
        },
        {
          "output_type": "stream",
          "name": "stderr",
          "text": [
            "29496it [12:07, 48.09it/s]"
          ]
        },
        {
          "output_type": "stream",
          "name": "stdout",
          "text": [
            "| epoch   5 | 29500/32580 batches | loss    1.329 \n"
          ]
        },
        {
          "output_type": "stream",
          "name": "stderr",
          "text": [
            "29505it [12:07, 30.92it/s]"
          ]
        },
        {
          "output_type": "stream",
          "name": "stdout",
          "text": [
            "money: able, forced, much, it, fact, man, well, so, taken, them\n",
            "lion: behavior, former, lives, battle, africa, spain, seen, provided, addition, charge\n",
            "africa: america, europe, india, west, end, germany, east, nine, france, addition\n",
            "musician: actor, actress, singer, writer, author, nine, variety, poet, introduction, able\n",
            "dance: music, largest, addition, lack, forms, order, science, culture, one, jazz\n",
            "\n",
            "\n"
          ]
        },
        {
          "output_type": "stream",
          "name": "stderr",
          "text": [
            "29998it [12:18, 36.58it/s]"
          ]
        },
        {
          "output_type": "stream",
          "name": "stdout",
          "text": [
            "| epoch   5 | 30000/32580 batches | loss    1.328 \n"
          ]
        },
        {
          "output_type": "stream",
          "name": "stderr",
          "text": [
            "30006it [12:19, 20.62it/s]"
          ]
        },
        {
          "output_type": "stream",
          "name": "stdout",
          "text": [
            "money: able, forced, much, it, fact, man, well, so, taken, them\n",
            "lion: behavior, former, lives, battle, africa, spain, seen, provided, addition, charge\n",
            "africa: america, europe, india, west, end, germany, east, nine, france, addition\n",
            "musician: actor, actress, singer, writer, author, nine, variety, poet, introduction, able\n",
            "dance: music, largest, addition, lack, forms, order, science, culture, one, jazz\n",
            "\n",
            "\n"
          ]
        },
        {
          "output_type": "stream",
          "name": "stderr",
          "text": [
            "30500it [12:30, 46.84it/s]"
          ]
        },
        {
          "output_type": "stream",
          "name": "stdout",
          "text": [
            "| epoch   5 | 30500/32580 batches | loss    1.329 \n"
          ]
        },
        {
          "output_type": "stream",
          "name": "stderr",
          "text": [
            "\r30505it [12:31, 27.47it/s]"
          ]
        },
        {
          "output_type": "stream",
          "name": "stdout",
          "text": [
            "money: able, forced, much, it, fact, man, well, so, taken, them\n",
            "lion: behavior, former, lives, battle, africa, spain, seen, provided, addition, charge\n",
            "africa: america, europe, india, west, end, germany, east, nine, france, addition\n",
            "musician: actor, actress, singer, writer, author, nine, variety, poet, introduction, able\n",
            "dance: music, largest, addition, lack, forms, order, science, culture, one, jazz\n",
            "\n",
            "\n"
          ]
        },
        {
          "output_type": "stream",
          "name": "stderr",
          "text": [
            "31000it [12:43, 34.48it/s]"
          ]
        },
        {
          "output_type": "stream",
          "name": "stdout",
          "text": [
            "| epoch   5 | 31000/32580 batches | loss    1.325 \n"
          ]
        },
        {
          "output_type": "stream",
          "name": "stderr",
          "text": [
            "31009it [12:44, 23.02it/s]"
          ]
        },
        {
          "output_type": "stream",
          "name": "stdout",
          "text": [
            "money: able, forced, much, it, fact, man, well, so, taken, them\n",
            "lion: behavior, former, lives, battle, africa, spain, seen, provided, addition, charge\n",
            "africa: america, europe, india, west, end, germany, east, nine, france, addition\n",
            "musician: actor, actress, singer, writer, author, nine, variety, poet, introduction, able\n",
            "dance: music, largest, addition, lack, forms, order, science, culture, one, jazz\n",
            "\n",
            "\n"
          ]
        },
        {
          "output_type": "stream",
          "name": "stderr",
          "text": [
            "31499it [12:54, 41.78it/s]"
          ]
        },
        {
          "output_type": "stream",
          "name": "stdout",
          "text": [
            "| epoch   5 | 31500/32580 batches | loss    1.335 \n"
          ]
        },
        {
          "output_type": "stream",
          "name": "stderr",
          "text": [
            "\r31504it [12:54, 21.32it/s]"
          ]
        },
        {
          "output_type": "stream",
          "name": "stdout",
          "text": [
            "money: able, forced, much, it, fact, man, well, so, taken, them\n",
            "lion: behavior, former, lives, battle, africa, spain, seen, provided, addition, charge\n",
            "africa: america, europe, india, west, end, germany, east, nine, france, addition\n",
            "musician: actor, actress, singer, writer, author, nine, variety, poet, introduction, able\n",
            "dance: music, largest, addition, lack, forms, order, science, culture, one, jazz\n",
            "\n",
            "\n"
          ]
        },
        {
          "output_type": "stream",
          "name": "stderr",
          "text": [
            "31997it [13:07, 49.33it/s]"
          ]
        },
        {
          "output_type": "stream",
          "name": "stdout",
          "text": [
            "| epoch   5 | 32000/32580 batches | loss    1.334 \n"
          ]
        },
        {
          "output_type": "stream",
          "name": "stderr",
          "text": [
            "32006it [13:07, 30.43it/s]"
          ]
        },
        {
          "output_type": "stream",
          "name": "stdout",
          "text": [
            "money: able, forced, much, it, fact, man, well, so, taken, them\n",
            "lion: behavior, former, lives, battle, africa, spain, seen, provided, addition, charge\n",
            "africa: america, europe, india, west, end, germany, east, nine, france, addition\n",
            "musician: actor, actress, singer, writer, author, nine, variety, poet, introduction, able\n",
            "dance: music, largest, addition, lack, forms, order, science, culture, one, jazz\n",
            "\n",
            "\n"
          ]
        },
        {
          "output_type": "stream",
          "name": "stderr",
          "text": [
            "32498it [13:19, 34.54it/s]"
          ]
        },
        {
          "output_type": "stream",
          "name": "stdout",
          "text": [
            "| epoch   5 | 32500/32580 batches | loss    1.330 \n"
          ]
        },
        {
          "output_type": "stream",
          "name": "stderr",
          "text": [
            "32506it [13:19, 20.14it/s]"
          ]
        },
        {
          "output_type": "stream",
          "name": "stdout",
          "text": [
            "money: able, forced, much, it, fact, man, well, so, taken, them\n",
            "lion: behavior, former, lives, battle, africa, spain, seen, provided, addition, charge\n",
            "africa: america, europe, india, west, end, germany, east, nine, france, addition\n",
            "musician: actor, actress, singer, writer, author, nine, variety, poet, introduction, able\n",
            "dance: music, largest, addition, lack, forms, order, science, culture, one, jazz\n",
            "\n",
            "\n"
          ]
        },
        {
          "output_type": "stream",
          "name": "stderr",
          "text": [
            "32580it [13:24, 40.52it/s]\n",
            "0it [00:00, ?it/s]"
          ]
        },
        {
          "output_type": "stream",
          "name": "stdout",
          "text": [
            "| epoch   6 |     0/32580 batches | loss    1.290 \n"
          ]
        },
        {
          "output_type": "stream",
          "name": "stderr",
          "text": [
            "2it [00:02,  1.10it/s]"
          ]
        },
        {
          "output_type": "stream",
          "name": "stdout",
          "text": [
            "money: able, forced, much, it, fact, man, well, so, taken, them\n",
            "lion: behavior, former, lives, battle, africa, spain, seen, provided, addition, charge\n",
            "africa: america, europe, india, west, end, germany, east, nine, france, addition\n",
            "musician: actor, actress, singer, writer, author, nine, variety, poet, introduction, able\n",
            "dance: music, largest, addition, lack, forms, order, science, culture, one, jazz\n",
            "\n",
            "\n"
          ]
        },
        {
          "output_type": "stream",
          "name": "stderr",
          "text": [
            "498it [00:16, 29.61it/s]"
          ]
        },
        {
          "output_type": "stream",
          "name": "stdout",
          "text": [
            "| epoch   6 |   500/32580 batches | loss    1.327 \n"
          ]
        },
        {
          "output_type": "stream",
          "name": "stderr",
          "text": [
            "504it [00:16, 15.14it/s]"
          ]
        },
        {
          "output_type": "stream",
          "name": "stdout",
          "text": [
            "money: able, forced, much, it, fact, man, well, so, taken, them\n",
            "lion: behavior, former, lives, battle, africa, spain, seen, provided, addition, charge\n",
            "africa: america, europe, india, west, end, germany, east, nine, france, addition\n",
            "musician: actor, actress, singer, writer, author, nine, variety, poet, introduction, able\n",
            "dance: music, largest, addition, lack, forms, order, science, culture, one, jazz\n",
            "\n",
            "\n"
          ]
        },
        {
          "output_type": "stream",
          "name": "stderr",
          "text": [
            "996it [00:28, 48.66it/s]"
          ]
        },
        {
          "output_type": "stream",
          "name": "stdout",
          "text": [
            "| epoch   6 |  1000/32580 batches | loss    1.326 \n"
          ]
        },
        {
          "output_type": "stream",
          "name": "stderr",
          "text": [
            "1005it [00:28, 30.77it/s]"
          ]
        },
        {
          "output_type": "stream",
          "name": "stdout",
          "text": [
            "money: able, forced, much, it, fact, man, well, so, taken, them\n",
            "lion: behavior, former, lives, battle, africa, spain, seen, provided, addition, charge\n",
            "africa: america, europe, india, west, end, germany, east, nine, france, addition\n",
            "musician: actor, actress, singer, writer, author, nine, variety, poet, introduction, able\n",
            "dance: music, largest, addition, lack, forms, order, science, culture, one, jazz\n",
            "\n",
            "\n"
          ]
        },
        {
          "output_type": "stream",
          "name": "stderr",
          "text": [
            "1497it [00:41, 46.99it/s]"
          ]
        },
        {
          "output_type": "stream",
          "name": "stdout",
          "text": [
            "| epoch   6 |  1500/32580 batches | loss    1.332 \n"
          ]
        },
        {
          "output_type": "stream",
          "name": "stderr",
          "text": [
            "1507it [00:41, 30.28it/s]"
          ]
        },
        {
          "output_type": "stream",
          "name": "stdout",
          "text": [
            "money: able, forced, much, it, fact, man, well, so, taken, them\n",
            "lion: behavior, former, lives, battle, africa, spain, seen, provided, addition, charge\n",
            "africa: america, europe, india, west, end, germany, east, nine, france, addition\n",
            "musician: actor, actress, singer, writer, author, nine, variety, poet, introduction, able\n",
            "dance: music, largest, addition, lack, forms, order, science, culture, one, jazz\n",
            "\n",
            "\n"
          ]
        },
        {
          "output_type": "stream",
          "name": "stderr",
          "text": [
            "1998it [00:52, 40.44it/s]"
          ]
        },
        {
          "output_type": "stream",
          "name": "stdout",
          "text": [
            "| epoch   6 |  2000/32580 batches | loss    1.331 \n"
          ]
        },
        {
          "output_type": "stream",
          "name": "stderr",
          "text": [
            "2007it [00:52, 23.68it/s]"
          ]
        },
        {
          "output_type": "stream",
          "name": "stdout",
          "text": [
            "money: able, forced, much, it, fact, man, well, so, taken, them\n",
            "lion: behavior, former, lives, battle, africa, spain, seen, provided, addition, charge\n",
            "africa: america, europe, india, west, end, germany, east, nine, france, addition\n",
            "musician: actor, actress, singer, writer, author, nine, variety, poet, introduction, able\n",
            "dance: music, largest, addition, lack, forms, order, science, culture, one, jazz\n",
            "\n",
            "\n"
          ]
        },
        {
          "output_type": "stream",
          "name": "stderr",
          "text": [
            "2500it [01:04, 48.95it/s]"
          ]
        },
        {
          "output_type": "stream",
          "name": "stdout",
          "text": [
            "| epoch   6 |  2500/32580 batches | loss    1.329 \n"
          ]
        },
        {
          "output_type": "stream",
          "name": "stderr",
          "text": [
            "\r2505it [01:05, 26.96it/s]"
          ]
        },
        {
          "output_type": "stream",
          "name": "stdout",
          "text": [
            "money: able, forced, much, it, fact, man, well, so, taken, them\n",
            "lion: behavior, former, lives, battle, africa, spain, seen, provided, addition, charge\n",
            "africa: america, europe, india, west, end, germany, east, nine, france, addition\n",
            "musician: actor, actress, singer, writer, author, nine, variety, poet, introduction, able\n",
            "dance: music, largest, addition, lack, forms, order, science, culture, one, jazz\n",
            "\n",
            "\n"
          ]
        },
        {
          "output_type": "stream",
          "name": "stderr",
          "text": [
            "2999it [01:17, 35.66it/s]"
          ]
        },
        {
          "output_type": "stream",
          "name": "stdout",
          "text": [
            "| epoch   6 |  3000/32580 batches | loss    1.328 \n"
          ]
        },
        {
          "output_type": "stream",
          "name": "stderr",
          "text": [
            "\r3003it [01:17, 17.35it/s]"
          ]
        },
        {
          "output_type": "stream",
          "name": "stdout",
          "text": [
            "money: able, forced, much, it, fact, man, well, so, taken, them\n",
            "lion: behavior, former, lives, battle, africa, spain, seen, provided, addition, charge\n",
            "africa: america, europe, india, west, end, germany, east, nine, france, addition\n",
            "musician: actor, actress, singer, writer, author, nine, variety, poet, introduction, able\n",
            "dance: music, largest, addition, lack, forms, order, science, culture, one, jazz\n",
            "\n",
            "\n"
          ]
        },
        {
          "output_type": "stream",
          "name": "stderr",
          "text": [
            "3500it [01:28, 48.23it/s]"
          ]
        },
        {
          "output_type": "stream",
          "name": "stdout",
          "text": [
            "| epoch   6 |  3500/32580 batches | loss    1.335 \n"
          ]
        },
        {
          "output_type": "stream",
          "name": "stderr",
          "text": [
            "\r3505it [01:28, 27.40it/s]"
          ]
        },
        {
          "output_type": "stream",
          "name": "stdout",
          "text": [
            "money: able, forced, much, it, fact, man, well, so, taken, them\n",
            "lion: behavior, former, lives, battle, africa, spain, seen, provided, addition, charge\n",
            "africa: america, europe, india, west, end, germany, east, nine, france, addition\n",
            "musician: actor, actress, singer, writer, author, nine, variety, poet, introduction, able\n",
            "dance: music, largest, addition, lack, forms, order, science, culture, one, jazz\n",
            "\n",
            "\n"
          ]
        },
        {
          "output_type": "stream",
          "name": "stderr",
          "text": [
            "3996it [01:41, 47.98it/s]"
          ]
        },
        {
          "output_type": "stream",
          "name": "stdout",
          "text": [
            "| epoch   6 |  4000/32580 batches | loss    1.334 \n"
          ]
        },
        {
          "output_type": "stream",
          "name": "stderr",
          "text": [
            "4005it [01:41, 30.26it/s]"
          ]
        },
        {
          "output_type": "stream",
          "name": "stdout",
          "text": [
            "money: able, forced, much, it, fact, man, well, so, taken, them\n",
            "lion: behavior, former, lives, battle, africa, spain, seen, provided, addition, charge\n",
            "africa: america, europe, india, west, end, germany, east, nine, france, addition\n",
            "musician: actor, actress, singer, writer, author, nine, variety, poet, introduction, able\n",
            "dance: music, largest, addition, lack, forms, order, science, culture, one, jazz\n",
            "\n",
            "\n"
          ]
        },
        {
          "output_type": "stream",
          "name": "stderr",
          "text": [
            "4497it [01:52, 34.29it/s]"
          ]
        },
        {
          "output_type": "stream",
          "name": "stdout",
          "text": [
            "| epoch   6 |  4500/32580 batches | loss    1.330 \n"
          ]
        },
        {
          "output_type": "stream",
          "name": "stderr",
          "text": [
            "4504it [01:53, 19.47it/s]"
          ]
        },
        {
          "output_type": "stream",
          "name": "stdout",
          "text": [
            "money: able, forced, much, it, fact, man, well, so, taken, them\n",
            "lion: behavior, former, lives, battle, africa, spain, seen, provided, addition, charge\n",
            "africa: america, europe, india, west, end, germany, east, nine, france, addition\n",
            "musician: actor, actress, singer, writer, author, nine, variety, poet, introduction, able\n",
            "dance: music, largest, addition, lack, forms, order, science, culture, one, jazz\n",
            "\n",
            "\n"
          ]
        },
        {
          "output_type": "stream",
          "name": "stderr",
          "text": [
            "4996it [02:04, 48.17it/s]"
          ]
        },
        {
          "output_type": "stream",
          "name": "stdout",
          "text": [
            "| epoch   6 |  5000/32580 batches | loss    1.334 \n"
          ]
        },
        {
          "output_type": "stream",
          "name": "stderr",
          "text": [
            "5005it [02:05, 30.35it/s]"
          ]
        },
        {
          "output_type": "stream",
          "name": "stdout",
          "text": [
            "money: able, forced, much, it, fact, man, well, so, taken, them\n",
            "lion: behavior, former, lives, battle, africa, spain, seen, provided, addition, charge\n",
            "africa: america, europe, india, west, end, germany, east, nine, france, addition\n",
            "musician: actor, actress, singer, writer, author, nine, variety, poet, introduction, able\n",
            "dance: music, largest, addition, lack, forms, order, science, culture, one, jazz\n",
            "\n",
            "\n"
          ]
        },
        {
          "output_type": "stream",
          "name": "stderr",
          "text": [
            "5497it [02:17, 33.82it/s]"
          ]
        },
        {
          "output_type": "stream",
          "name": "stdout",
          "text": [
            "| epoch   6 |  5500/32580 batches | loss    1.336 \n"
          ]
        },
        {
          "output_type": "stream",
          "name": "stderr",
          "text": [
            "5506it [02:18, 22.26it/s]"
          ]
        },
        {
          "output_type": "stream",
          "name": "stdout",
          "text": [
            "money: able, forced, much, it, fact, man, well, so, taken, them\n",
            "lion: behavior, former, lives, battle, africa, spain, seen, provided, addition, charge\n",
            "africa: america, europe, india, west, end, germany, east, nine, france, addition\n",
            "musician: actor, actress, singer, writer, author, nine, variety, poet, introduction, able\n",
            "dance: music, largest, addition, lack, forms, order, science, culture, one, jazz\n",
            "\n",
            "\n"
          ]
        },
        {
          "output_type": "stream",
          "name": "stderr",
          "text": [
            "6000it [02:28, 42.37it/s]"
          ]
        },
        {
          "output_type": "stream",
          "name": "stdout",
          "text": [
            "| epoch   6 |  6000/32580 batches | loss    1.330 \n"
          ]
        },
        {
          "output_type": "stream",
          "name": "stderr",
          "text": [
            "\r6005it [02:29, 21.63it/s]"
          ]
        },
        {
          "output_type": "stream",
          "name": "stdout",
          "text": [
            "money: able, forced, much, it, fact, man, well, so, taken, them\n",
            "lion: behavior, former, lives, battle, africa, spain, seen, provided, addition, charge\n",
            "africa: america, europe, india, west, end, germany, east, nine, france, addition\n",
            "musician: actor, actress, singer, writer, author, nine, variety, poet, introduction, able\n",
            "dance: music, largest, addition, lack, forms, order, science, culture, one, jazz\n",
            "\n",
            "\n"
          ]
        },
        {
          "output_type": "stream",
          "name": "stderr",
          "text": [
            "6497it [02:41, 48.19it/s]"
          ]
        },
        {
          "output_type": "stream",
          "name": "stdout",
          "text": [
            "| epoch   6 |  6500/32580 batches | loss    1.332 \n"
          ]
        },
        {
          "output_type": "stream",
          "name": "stderr",
          "text": [
            "6507it [02:41, 31.61it/s]"
          ]
        },
        {
          "output_type": "stream",
          "name": "stdout",
          "text": [
            "money: able, forced, much, it, fact, man, well, so, taken, them\n",
            "lion: behavior, former, lives, battle, africa, spain, seen, provided, addition, charge\n",
            "africa: america, europe, india, west, end, germany, east, nine, france, addition\n",
            "musician: actor, actress, singer, writer, author, nine, variety, poet, introduction, able\n",
            "dance: music, largest, addition, lack, forms, order, science, culture, one, jazz\n",
            "\n",
            "\n"
          ]
        },
        {
          "output_type": "stream",
          "name": "stderr",
          "text": [
            "6999it [02:53, 35.90it/s]"
          ]
        },
        {
          "output_type": "stream",
          "name": "stdout",
          "text": [
            "| epoch   6 |  7000/32580 batches | loss    1.333 \n"
          ]
        },
        {
          "output_type": "stream",
          "name": "stderr",
          "text": [
            "7007it [02:54, 19.74it/s]"
          ]
        },
        {
          "output_type": "stream",
          "name": "stdout",
          "text": [
            "money: able, forced, much, it, fact, man, well, so, taken, them\n",
            "lion: behavior, former, lives, battle, africa, spain, seen, provided, addition, charge\n",
            "africa: america, europe, india, west, end, germany, east, nine, france, addition\n",
            "musician: actor, actress, singer, writer, author, nine, variety, poet, introduction, able\n",
            "dance: music, largest, addition, lack, forms, order, science, culture, one, jazz\n",
            "\n",
            "\n"
          ]
        },
        {
          "output_type": "stream",
          "name": "stderr",
          "text": [
            "7498it [03:05, 36.70it/s]"
          ]
        },
        {
          "output_type": "stream",
          "name": "stdout",
          "text": [
            "| epoch   6 |  7500/32580 batches | loss    1.328 \n"
          ]
        },
        {
          "output_type": "stream",
          "name": "stderr",
          "text": [
            "7506it [03:06, 20.09it/s]"
          ]
        },
        {
          "output_type": "stream",
          "name": "stdout",
          "text": [
            "money: able, forced, much, it, fact, man, well, so, taken, them\n",
            "lion: behavior, former, lives, battle, africa, spain, seen, provided, addition, charge\n",
            "africa: america, europe, india, west, end, germany, east, nine, france, addition\n",
            "musician: actor, actress, singer, writer, author, nine, variety, poet, introduction, able\n",
            "dance: music, largest, addition, lack, forms, order, science, culture, one, jazz\n",
            "\n",
            "\n"
          ]
        },
        {
          "output_type": "stream",
          "name": "stderr",
          "text": [
            "7997it [03:20, 49.22it/s]"
          ]
        },
        {
          "output_type": "stream",
          "name": "stdout",
          "text": [
            "| epoch   6 |  8000/32580 batches | loss    1.330 \n"
          ]
        },
        {
          "output_type": "stream",
          "name": "stderr",
          "text": [
            "8006it [03:21, 29.89it/s]"
          ]
        },
        {
          "output_type": "stream",
          "name": "stdout",
          "text": [
            "money: able, forced, much, it, fact, man, well, so, taken, them\n",
            "lion: behavior, former, lives, battle, africa, spain, seen, provided, addition, charge\n",
            "africa: america, europe, india, west, end, germany, east, nine, france, addition\n",
            "musician: actor, actress, singer, writer, author, nine, variety, poet, introduction, able\n",
            "dance: music, largest, addition, lack, forms, order, science, culture, one, jazz\n",
            "\n",
            "\n"
          ]
        },
        {
          "output_type": "stream",
          "name": "stderr",
          "text": [
            "8499it [03:31, 35.65it/s]"
          ]
        },
        {
          "output_type": "stream",
          "name": "stdout",
          "text": [
            "| epoch   6 |  8500/32580 batches | loss    1.326 \n"
          ]
        },
        {
          "output_type": "stream",
          "name": "stderr",
          "text": [
            "8507it [03:32, 21.73it/s]"
          ]
        },
        {
          "output_type": "stream",
          "name": "stdout",
          "text": [
            "money: able, forced, much, it, fact, man, well, so, taken, them\n",
            "lion: behavior, former, lives, battle, africa, spain, seen, provided, addition, charge\n",
            "africa: america, europe, india, west, end, germany, east, nine, france, addition\n",
            "musician: actor, actress, singer, writer, author, nine, variety, poet, introduction, able\n",
            "dance: music, largest, addition, lack, forms, order, science, culture, one, jazz\n",
            "\n",
            "\n"
          ]
        },
        {
          "output_type": "stream",
          "name": "stderr",
          "text": [
            "8999it [03:44, 47.99it/s]"
          ]
        },
        {
          "output_type": "stream",
          "name": "stdout",
          "text": [
            "| epoch   6 |  9000/32580 batches | loss    1.331 \n"
          ]
        },
        {
          "output_type": "stream",
          "name": "stderr",
          "text": [
            "9009it [03:44, 30.98it/s]"
          ]
        },
        {
          "output_type": "stream",
          "name": "stdout",
          "text": [
            "money: able, forced, much, it, fact, man, well, so, taken, them\n",
            "lion: behavior, former, lives, battle, africa, spain, seen, provided, addition, charge\n",
            "africa: america, europe, india, west, end, germany, east, nine, france, addition\n",
            "musician: actor, actress, singer, writer, author, nine, variety, poet, introduction, able\n",
            "dance: music, largest, addition, lack, forms, order, science, culture, one, jazz\n",
            "\n",
            "\n"
          ]
        },
        {
          "output_type": "stream",
          "name": "stderr",
          "text": [
            "9499it [03:57, 35.37it/s]"
          ]
        },
        {
          "output_type": "stream",
          "name": "stdout",
          "text": [
            "| epoch   6 |  9500/32580 batches | loss    1.329 \n"
          ]
        },
        {
          "output_type": "stream",
          "name": "stderr",
          "text": [
            "9507it [03:57, 20.35it/s]"
          ]
        },
        {
          "output_type": "stream",
          "name": "stdout",
          "text": [
            "money: able, forced, much, it, fact, man, well, so, taken, them\n",
            "lion: behavior, former, lives, battle, africa, spain, seen, provided, addition, charge\n",
            "africa: america, europe, india, west, end, germany, east, nine, france, addition\n",
            "musician: actor, actress, singer, writer, author, nine, variety, poet, introduction, able\n",
            "dance: music, largest, addition, lack, forms, order, science, culture, one, jazz\n",
            "\n",
            "\n"
          ]
        },
        {
          "output_type": "stream",
          "name": "stderr",
          "text": [
            "9997it [04:11, 35.36it/s]"
          ]
        },
        {
          "output_type": "stream",
          "name": "stdout",
          "text": [
            "| epoch   6 | 10000/32580 batches | loss    1.328 \n"
          ]
        },
        {
          "output_type": "stream",
          "name": "stderr",
          "text": [
            "10005it [04:12, 20.52it/s]"
          ]
        },
        {
          "output_type": "stream",
          "name": "stdout",
          "text": [
            "money: able, forced, much, it, fact, man, well, so, taken, them\n",
            "lion: behavior, former, lives, battle, africa, spain, seen, provided, addition, charge\n",
            "africa: america, europe, india, west, end, germany, east, nine, france, addition\n",
            "musician: actor, actress, singer, writer, author, nine, variety, poet, introduction, able\n",
            "dance: music, largest, addition, lack, forms, order, science, culture, one, jazz\n",
            "\n",
            "\n"
          ]
        },
        {
          "output_type": "stream",
          "name": "stderr",
          "text": [
            "10497it [04:23, 48.67it/s]"
          ]
        },
        {
          "output_type": "stream",
          "name": "stdout",
          "text": [
            "| epoch   6 | 10500/32580 batches | loss    1.332 \n"
          ]
        },
        {
          "output_type": "stream",
          "name": "stderr",
          "text": [
            "10507it [04:24, 31.25it/s]"
          ]
        },
        {
          "output_type": "stream",
          "name": "stdout",
          "text": [
            "money: able, forced, much, it, fact, man, well, so, taken, them\n",
            "lion: behavior, former, lives, battle, africa, spain, seen, provided, addition, charge\n",
            "africa: america, europe, india, west, end, germany, east, nine, france, addition\n",
            "musician: actor, actress, singer, writer, author, nine, variety, poet, introduction, able\n",
            "dance: music, largest, addition, lack, forms, order, science, culture, one, jazz\n",
            "\n",
            "\n"
          ]
        },
        {
          "output_type": "stream",
          "name": "stderr",
          "text": [
            "10997it [04:36, 44.09it/s]"
          ]
        },
        {
          "output_type": "stream",
          "name": "stdout",
          "text": [
            "| epoch   6 | 11000/32580 batches | loss    1.329 \n"
          ]
        },
        {
          "output_type": "stream",
          "name": "stderr",
          "text": [
            "11007it [04:37, 30.35it/s]"
          ]
        },
        {
          "output_type": "stream",
          "name": "stdout",
          "text": [
            "money: able, forced, much, it, fact, man, well, so, taken, them\n",
            "lion: behavior, former, lives, battle, africa, spain, seen, provided, addition, charge\n",
            "africa: america, europe, india, west, end, germany, east, nine, france, addition\n",
            "musician: actor, actress, singer, writer, author, nine, variety, poet, introduction, able\n",
            "dance: music, largest, addition, lack, forms, order, science, culture, one, jazz\n",
            "\n",
            "\n"
          ]
        },
        {
          "output_type": "stream",
          "name": "stderr",
          "text": [
            "11497it [04:47, 39.55it/s]"
          ]
        },
        {
          "output_type": "stream",
          "name": "stdout",
          "text": [
            "| epoch   6 | 11500/32580 batches | loss    1.331 \n"
          ]
        },
        {
          "output_type": "stream",
          "name": "stderr",
          "text": [
            "11505it [04:48, 22.51it/s]"
          ]
        },
        {
          "output_type": "stream",
          "name": "stdout",
          "text": [
            "money: able, forced, much, it, fact, man, well, so, taken, them\n",
            "lion: behavior, former, lives, battle, africa, spain, seen, provided, addition, charge\n",
            "africa: america, europe, india, west, end, germany, east, nine, france, addition\n",
            "musician: actor, actress, singer, writer, author, nine, variety, poet, introduction, able\n",
            "dance: music, largest, addition, lack, forms, order, science, culture, one, jazz\n",
            "\n",
            "\n"
          ]
        },
        {
          "output_type": "stream",
          "name": "stderr",
          "text": [
            "11995it [05:00, 49.34it/s]"
          ]
        },
        {
          "output_type": "stream",
          "name": "stdout",
          "text": [
            "| epoch   6 | 12000/32580 batches | loss    1.328 \n"
          ]
        },
        {
          "output_type": "stream",
          "name": "stderr",
          "text": [
            "12005it [05:00, 31.90it/s]"
          ]
        },
        {
          "output_type": "stream",
          "name": "stdout",
          "text": [
            "money: able, forced, much, it, fact, man, well, so, taken, them\n",
            "lion: behavior, former, lives, battle, africa, spain, seen, provided, addition, charge\n",
            "africa: america, europe, india, west, end, germany, east, nine, france, addition\n",
            "musician: actor, actress, singer, writer, author, nine, variety, poet, introduction, able\n",
            "dance: music, largest, addition, lack, forms, order, science, culture, one, jazz\n",
            "\n",
            "\n"
          ]
        },
        {
          "output_type": "stream",
          "name": "stderr",
          "text": [
            "12499it [05:12, 36.27it/s]"
          ]
        },
        {
          "output_type": "stream",
          "name": "stdout",
          "text": [
            "| epoch   6 | 12500/32580 batches | loss    1.334 \n"
          ]
        },
        {
          "output_type": "stream",
          "name": "stderr",
          "text": [
            "12507it [05:13, 20.24it/s]"
          ]
        },
        {
          "output_type": "stream",
          "name": "stdout",
          "text": [
            "money: able, forced, much, it, fact, man, well, so, taken, them\n",
            "lion: behavior, former, lives, battle, africa, spain, seen, provided, addition, charge\n",
            "africa: america, europe, india, west, end, germany, east, nine, france, addition\n",
            "musician: actor, actress, singer, writer, author, nine, variety, poet, introduction, able\n",
            "dance: music, largest, addition, lack, forms, order, science, culture, one, jazz\n",
            "\n",
            "\n"
          ]
        },
        {
          "output_type": "stream",
          "name": "stderr",
          "text": [
            "12997it [05:23, 48.03it/s]"
          ]
        },
        {
          "output_type": "stream",
          "name": "stdout",
          "text": [
            "| epoch   6 | 13000/32580 batches | loss    1.335 \n"
          ]
        },
        {
          "output_type": "stream",
          "name": "stderr",
          "text": [
            "13006it [05:24, 29.47it/s]"
          ]
        },
        {
          "output_type": "stream",
          "name": "stdout",
          "text": [
            "money: able, forced, much, it, fact, man, well, so, taken, them\n",
            "lion: behavior, former, lives, battle, africa, spain, seen, provided, addition, charge\n",
            "africa: america, europe, india, west, end, germany, east, nine, france, addition\n",
            "musician: actor, actress, singer, writer, author, nine, variety, poet, introduction, able\n",
            "dance: music, largest, addition, lack, forms, order, science, culture, one, jazz\n",
            "\n",
            "\n"
          ]
        },
        {
          "output_type": "stream",
          "name": "stderr",
          "text": [
            "13500it [05:37, 48.79it/s]"
          ]
        },
        {
          "output_type": "stream",
          "name": "stdout",
          "text": [
            "| epoch   6 | 13500/32580 batches | loss    1.334 \n"
          ]
        },
        {
          "output_type": "stream",
          "name": "stderr",
          "text": [
            "13510it [05:37, 31.52it/s]"
          ]
        },
        {
          "output_type": "stream",
          "name": "stdout",
          "text": [
            "money: able, forced, much, it, fact, man, well, so, taken, them\n",
            "lion: behavior, former, lives, battle, africa, spain, seen, provided, addition, charge\n",
            "africa: america, europe, india, west, end, germany, east, nine, france, addition\n",
            "musician: actor, actress, singer, writer, author, nine, variety, poet, introduction, able\n",
            "dance: music, largest, addition, lack, forms, order, science, culture, one, jazz\n",
            "\n",
            "\n"
          ]
        },
        {
          "output_type": "stream",
          "name": "stderr",
          "text": [
            "13997it [05:48, 35.06it/s]"
          ]
        },
        {
          "output_type": "stream",
          "name": "stdout",
          "text": [
            "| epoch   6 | 14000/32580 batches | loss    1.335 \n"
          ]
        },
        {
          "output_type": "stream",
          "name": "stderr",
          "text": [
            "14004it [05:49, 18.95it/s]"
          ]
        },
        {
          "output_type": "stream",
          "name": "stdout",
          "text": [
            "money: able, forced, much, it, fact, man, well, so, taken, them\n",
            "lion: behavior, former, lives, battle, africa, spain, seen, provided, addition, charge\n",
            "africa: america, europe, india, west, end, germany, east, nine, france, addition\n",
            "musician: actor, actress, singer, writer, author, nine, variety, poet, introduction, able\n",
            "dance: music, largest, addition, lack, forms, order, science, culture, one, jazz\n",
            "\n",
            "\n"
          ]
        },
        {
          "output_type": "stream",
          "name": "stderr",
          "text": [
            "14499it [06:01, 36.49it/s]"
          ]
        },
        {
          "output_type": "stream",
          "name": "stdout",
          "text": [
            "| epoch   6 | 14500/32580 batches | loss    1.329 \n"
          ]
        },
        {
          "output_type": "stream",
          "name": "stderr",
          "text": [
            "14507it [06:02, 20.04it/s]"
          ]
        },
        {
          "output_type": "stream",
          "name": "stdout",
          "text": [
            "money: able, forced, much, it, fact, man, well, so, taken, them\n",
            "lion: behavior, former, lives, battle, africa, spain, seen, provided, addition, charge\n",
            "africa: america, europe, india, west, end, germany, east, nine, france, addition\n",
            "musician: actor, actress, singer, writer, author, nine, variety, poet, introduction, able\n",
            "dance: music, largest, addition, lack, forms, order, science, culture, one, jazz\n",
            "\n",
            "\n"
          ]
        },
        {
          "output_type": "stream",
          "name": "stderr",
          "text": [
            "14998it [06:16, 46.84it/s]"
          ]
        },
        {
          "output_type": "stream",
          "name": "stdout",
          "text": [
            "| epoch   6 | 15000/32580 batches | loss    1.329 \n"
          ]
        },
        {
          "output_type": "stream",
          "name": "stderr",
          "text": [
            "15008it [06:17, 30.43it/s]"
          ]
        },
        {
          "output_type": "stream",
          "name": "stdout",
          "text": [
            "money: able, forced, much, it, fact, man, well, so, taken, them\n",
            "lion: behavior, former, lives, battle, africa, spain, seen, provided, addition, charge\n",
            "africa: america, europe, india, west, end, germany, east, nine, france, addition\n",
            "musician: actor, actress, singer, writer, author, nine, variety, poet, introduction, able\n",
            "dance: music, largest, addition, lack, forms, order, science, culture, one, jazz\n",
            "\n",
            "\n"
          ]
        },
        {
          "output_type": "stream",
          "name": "stderr",
          "text": [
            "15500it [06:27, 37.04it/s]"
          ]
        },
        {
          "output_type": "stream",
          "name": "stdout",
          "text": [
            "| epoch   6 | 15500/32580 batches | loss    1.329 \n"
          ]
        },
        {
          "output_type": "stream",
          "name": "stderr",
          "text": [
            "\r15504it [06:28, 18.38it/s]"
          ]
        },
        {
          "output_type": "stream",
          "name": "stdout",
          "text": [
            "money: able, forced, much, it, fact, man, well, so, taken, them\n",
            "lion: behavior, former, lives, battle, africa, spain, seen, provided, addition, charge\n",
            "africa: america, europe, india, west, end, germany, east, nine, france, addition\n",
            "musician: actor, actress, singer, writer, author, nine, variety, poet, introduction, able\n",
            "dance: music, largest, addition, lack, forms, order, science, culture, one, jazz\n",
            "\n",
            "\n"
          ]
        },
        {
          "output_type": "stream",
          "name": "stderr",
          "text": [
            "15998it [06:40, 48.04it/s]"
          ]
        },
        {
          "output_type": "stream",
          "name": "stdout",
          "text": [
            "| epoch   6 | 16000/32580 batches | loss    1.330 \n"
          ]
        },
        {
          "output_type": "stream",
          "name": "stderr",
          "text": [
            "16008it [06:41, 30.66it/s]"
          ]
        },
        {
          "output_type": "stream",
          "name": "stdout",
          "text": [
            "money: able, forced, much, it, fact, man, well, so, taken, them\n",
            "lion: behavior, former, lives, battle, africa, spain, seen, provided, addition, charge\n",
            "africa: america, europe, india, west, end, germany, east, nine, france, addition\n",
            "musician: actor, actress, singer, writer, author, nine, variety, poet, introduction, able\n",
            "dance: music, largest, addition, lack, forms, order, science, culture, one, jazz\n",
            "\n",
            "\n"
          ]
        },
        {
          "output_type": "stream",
          "name": "stderr",
          "text": [
            "16500it [06:53, 32.97it/s]"
          ]
        },
        {
          "output_type": "stream",
          "name": "stdout",
          "text": [
            "| epoch   6 | 16500/32580 batches | loss    1.331 \n"
          ]
        },
        {
          "output_type": "stream",
          "name": "stderr",
          "text": [
            "\r16504it [06:53, 16.68it/s]"
          ]
        },
        {
          "output_type": "stream",
          "name": "stdout",
          "text": [
            "money: able, forced, much, it, fact, man, well, so, taken, them\n",
            "lion: behavior, former, lives, battle, africa, spain, seen, provided, addition, charge\n",
            "africa: america, europe, india, west, end, germany, east, nine, france, addition\n",
            "musician: actor, actress, singer, writer, author, nine, variety, poet, introduction, able\n",
            "dance: music, largest, addition, lack, forms, order, science, culture, one, jazz\n",
            "\n",
            "\n"
          ]
        },
        {
          "output_type": "stream",
          "name": "stderr",
          "text": [
            "16999it [07:04, 49.52it/s]"
          ]
        },
        {
          "output_type": "stream",
          "name": "stdout",
          "text": [
            "| epoch   6 | 17000/32580 batches | loss    1.326 \n"
          ]
        },
        {
          "output_type": "stream",
          "name": "stderr",
          "text": [
            "17009it [07:05, 32.14it/s]"
          ]
        },
        {
          "output_type": "stream",
          "name": "stdout",
          "text": [
            "money: able, forced, much, it, fact, man, well, so, taken, them\n",
            "lion: behavior, former, lives, battle, africa, spain, seen, provided, addition, charge\n",
            "africa: america, europe, india, west, end, germany, east, nine, france, addition\n",
            "musician: actor, actress, singer, writer, author, nine, variety, poet, introduction, able\n",
            "dance: music, largest, addition, lack, forms, order, science, culture, one, jazz\n",
            "\n",
            "\n"
          ]
        },
        {
          "output_type": "stream",
          "name": "stderr",
          "text": [
            "17496it [07:17, 49.23it/s]"
          ]
        },
        {
          "output_type": "stream",
          "name": "stdout",
          "text": [
            "| epoch   6 | 17500/32580 batches | loss    1.330 \n"
          ]
        },
        {
          "output_type": "stream",
          "name": "stderr",
          "text": [
            "17505it [07:17, 30.01it/s]"
          ]
        },
        {
          "output_type": "stream",
          "name": "stdout",
          "text": [
            "money: able, forced, much, it, fact, man, well, so, taken, them\n",
            "lion: behavior, former, lives, battle, africa, spain, seen, provided, addition, charge\n",
            "africa: america, europe, india, west, end, germany, east, nine, france, addition\n",
            "musician: actor, actress, singer, writer, author, nine, variety, poet, introduction, able\n",
            "dance: music, largest, addition, lack, forms, order, science, culture, one, jazz\n",
            "\n",
            "\n"
          ]
        },
        {
          "output_type": "stream",
          "name": "stderr",
          "text": [
            "18000it [07:28, 36.00it/s]"
          ]
        },
        {
          "output_type": "stream",
          "name": "stdout",
          "text": [
            "| epoch   6 | 18000/32580 batches | loss    1.333 \n"
          ]
        },
        {
          "output_type": "stream",
          "name": "stderr",
          "text": [
            "\r18004it [07:29, 16.61it/s]"
          ]
        },
        {
          "output_type": "stream",
          "name": "stdout",
          "text": [
            "money: able, forced, much, it, fact, man, well, so, taken, them\n",
            "lion: behavior, former, lives, battle, africa, spain, seen, provided, addition, charge\n",
            "africa: america, europe, india, west, end, germany, east, nine, france, addition\n",
            "musician: actor, actress, singer, writer, author, nine, variety, poet, introduction, able\n",
            "dance: music, largest, addition, lack, forms, order, science, culture, one, jazz\n",
            "\n",
            "\n"
          ]
        },
        {
          "output_type": "stream",
          "name": "stderr",
          "text": [
            "18495it [07:40, 47.34it/s]"
          ]
        },
        {
          "output_type": "stream",
          "name": "stdout",
          "text": [
            "| epoch   6 | 18500/32580 batches | loss    1.333 \n"
          ]
        },
        {
          "output_type": "stream",
          "name": "stderr",
          "text": [
            "18506it [07:41, 32.10it/s]"
          ]
        },
        {
          "output_type": "stream",
          "name": "stdout",
          "text": [
            "money: able, forced, much, it, fact, man, well, so, taken, them\n",
            "lion: behavior, former, lives, battle, africa, spain, seen, provided, addition, charge\n",
            "africa: america, europe, india, west, end, germany, east, nine, france, addition\n",
            "musician: actor, actress, singer, writer, author, nine, variety, poet, introduction, able\n",
            "dance: music, largest, addition, lack, forms, order, science, culture, one, jazz\n",
            "\n",
            "\n"
          ]
        },
        {
          "output_type": "stream",
          "name": "stderr",
          "text": [
            "18997it [07:53, 47.22it/s]"
          ]
        },
        {
          "output_type": "stream",
          "name": "stdout",
          "text": [
            "| epoch   6 | 19000/32580 batches | loss    1.329 \n"
          ]
        },
        {
          "output_type": "stream",
          "name": "stderr",
          "text": [
            "19007it [07:54, 30.41it/s]"
          ]
        },
        {
          "output_type": "stream",
          "name": "stdout",
          "text": [
            "money: able, forced, much, it, fact, man, well, so, taken, them\n",
            "lion: behavior, former, lives, battle, africa, spain, seen, provided, addition, charge\n",
            "africa: america, europe, india, west, end, germany, east, nine, france, addition\n",
            "musician: actor, actress, singer, writer, author, nine, variety, poet, introduction, able\n",
            "dance: music, largest, addition, lack, forms, order, science, culture, one, jazz\n",
            "\n",
            "\n"
          ]
        },
        {
          "output_type": "stream",
          "name": "stderr",
          "text": [
            "19498it [08:04, 37.60it/s]"
          ]
        },
        {
          "output_type": "stream",
          "name": "stdout",
          "text": [
            "| epoch   6 | 19500/32580 batches | loss    1.333 \n"
          ]
        },
        {
          "output_type": "stream",
          "name": "stderr",
          "text": [
            "19506it [08:05, 21.65it/s]"
          ]
        },
        {
          "output_type": "stream",
          "name": "stdout",
          "text": [
            "money: able, forced, much, it, fact, man, well, so, taken, them\n",
            "lion: behavior, former, lives, battle, africa, spain, seen, provided, addition, charge\n",
            "africa: america, europe, india, west, end, germany, east, nine, france, addition\n",
            "musician: actor, actress, singer, writer, author, nine, variety, poet, introduction, able\n",
            "dance: music, largest, addition, lack, forms, order, science, culture, one, jazz\n",
            "\n",
            "\n"
          ]
        },
        {
          "output_type": "stream",
          "name": "stderr",
          "text": [
            "19996it [08:17, 47.82it/s]"
          ]
        },
        {
          "output_type": "stream",
          "name": "stdout",
          "text": [
            "| epoch   6 | 20000/32580 batches | loss    1.333 \n"
          ]
        },
        {
          "output_type": "stream",
          "name": "stderr",
          "text": [
            "20005it [08:17, 29.95it/s]"
          ]
        },
        {
          "output_type": "stream",
          "name": "stdout",
          "text": [
            "money: able, forced, much, it, fact, man, well, so, taken, them\n",
            "lion: behavior, former, lives, battle, africa, spain, seen, provided, addition, charge\n",
            "africa: america, europe, india, west, end, germany, east, nine, france, addition\n",
            "musician: actor, actress, singer, writer, author, nine, variety, poet, introduction, able\n",
            "dance: music, largest, addition, lack, forms, order, science, culture, one, jazz\n",
            "\n",
            "\n"
          ]
        },
        {
          "output_type": "stream",
          "name": "stderr",
          "text": [
            "20500it [08:30, 36.61it/s]"
          ]
        },
        {
          "output_type": "stream",
          "name": "stdout",
          "text": [
            "| epoch   6 | 20500/32580 batches | loss    1.330 \n"
          ]
        },
        {
          "output_type": "stream",
          "name": "stderr",
          "text": [
            "\r20504it [08:30, 17.15it/s]"
          ]
        },
        {
          "output_type": "stream",
          "name": "stdout",
          "text": [
            "money: able, forced, much, it, fact, man, well, so, taken, them\n",
            "lion: behavior, former, lives, battle, africa, spain, seen, provided, addition, charge\n",
            "africa: america, europe, india, west, end, germany, east, nine, france, addition\n",
            "musician: actor, actress, singer, writer, author, nine, variety, poet, introduction, able\n",
            "dance: music, largest, addition, lack, forms, order, science, culture, one, jazz\n",
            "\n",
            "\n"
          ]
        },
        {
          "output_type": "stream",
          "name": "stderr",
          "text": [
            "20997it [08:41, 46.89it/s]"
          ]
        },
        {
          "output_type": "stream",
          "name": "stdout",
          "text": [
            "| epoch   6 | 21000/32580 batches | loss    1.334 \n"
          ]
        },
        {
          "output_type": "stream",
          "name": "stderr",
          "text": [
            "21007it [08:41, 31.01it/s]"
          ]
        },
        {
          "output_type": "stream",
          "name": "stdout",
          "text": [
            "money: able, forced, much, it, fact, man, well, so, taken, them\n",
            "lion: behavior, former, lives, battle, africa, spain, seen, provided, addition, charge\n",
            "africa: america, europe, india, west, end, germany, east, nine, france, addition\n",
            "musician: actor, actress, singer, writer, author, nine, variety, poet, introduction, able\n",
            "dance: music, largest, addition, lack, forms, order, science, culture, one, jazz\n",
            "\n",
            "\n"
          ]
        },
        {
          "output_type": "stream",
          "name": "stderr",
          "text": [
            "21496it [08:54, 47.96it/s]"
          ]
        },
        {
          "output_type": "stream",
          "name": "stdout",
          "text": [
            "| epoch   6 | 21500/32580 batches | loss    1.329 \n"
          ]
        },
        {
          "output_type": "stream",
          "name": "stderr",
          "text": [
            "21505it [08:54, 29.93it/s]"
          ]
        },
        {
          "output_type": "stream",
          "name": "stdout",
          "text": [
            "money: able, forced, much, it, fact, man, well, so, taken, them\n",
            "lion: behavior, former, lives, battle, africa, spain, seen, provided, addition, charge\n",
            "africa: america, europe, india, west, end, germany, east, nine, france, addition\n",
            "musician: actor, actress, singer, writer, author, nine, variety, poet, introduction, able\n",
            "dance: music, largest, addition, lack, forms, order, science, culture, one, jazz\n",
            "\n",
            "\n"
          ]
        },
        {
          "output_type": "stream",
          "name": "stderr",
          "text": [
            "21996it [09:12, 42.39it/s]"
          ]
        },
        {
          "output_type": "stream",
          "name": "stdout",
          "text": [
            "| epoch   6 | 22000/32580 batches | loss    1.333 \n"
          ]
        },
        {
          "output_type": "stream",
          "name": "stderr",
          "text": [
            "22005it [09:13, 27.93it/s]"
          ]
        },
        {
          "output_type": "stream",
          "name": "stdout",
          "text": [
            "money: able, forced, much, it, fact, man, well, so, taken, them\n",
            "lion: behavior, former, lives, battle, africa, spain, seen, provided, addition, charge\n",
            "africa: america, europe, india, west, end, germany, east, nine, france, addition\n",
            "musician: actor, actress, singer, writer, author, nine, variety, poet, introduction, able\n",
            "dance: music, largest, addition, lack, forms, order, science, culture, one, jazz\n",
            "\n",
            "\n"
          ]
        },
        {
          "output_type": "stream",
          "name": "stderr",
          "text": [
            "22499it [09:23, 38.43it/s]"
          ]
        },
        {
          "output_type": "stream",
          "name": "stdout",
          "text": [
            "| epoch   6 | 22500/32580 batches | loss    1.331 \n"
          ]
        },
        {
          "output_type": "stream",
          "name": "stderr",
          "text": [
            "22507it [09:24, 23.19it/s]"
          ]
        },
        {
          "output_type": "stream",
          "name": "stdout",
          "text": [
            "money: able, forced, much, it, fact, man, well, so, taken, them\n",
            "lion: behavior, former, lives, battle, africa, spain, seen, provided, addition, charge\n",
            "africa: america, europe, india, west, end, germany, east, nine, france, addition\n",
            "musician: actor, actress, singer, writer, author, nine, variety, poet, introduction, able\n",
            "dance: music, largest, addition, lack, forms, order, science, culture, one, jazz\n",
            "\n",
            "\n"
          ]
        },
        {
          "output_type": "stream",
          "name": "stderr",
          "text": [
            "22996it [09:36, 48.29it/s]"
          ]
        },
        {
          "output_type": "stream",
          "name": "stdout",
          "text": [
            "| epoch   6 | 23000/32580 batches | loss    1.333 \n"
          ]
        },
        {
          "output_type": "stream",
          "name": "stderr",
          "text": [
            "23005it [09:36, 30.81it/s]"
          ]
        },
        {
          "output_type": "stream",
          "name": "stdout",
          "text": [
            "money: able, forced, much, it, fact, man, well, so, taken, them\n",
            "lion: behavior, former, lives, battle, africa, spain, seen, provided, addition, charge\n",
            "africa: america, europe, india, west, end, germany, east, nine, france, addition\n",
            "musician: actor, actress, singer, writer, author, nine, variety, poet, introduction, able\n",
            "dance: music, largest, addition, lack, forms, order, science, culture, one, jazz\n",
            "\n",
            "\n"
          ]
        },
        {
          "output_type": "stream",
          "name": "stderr",
          "text": [
            "23497it [09:48, 34.25it/s]"
          ]
        },
        {
          "output_type": "stream",
          "name": "stdout",
          "text": [
            "| epoch   6 | 23500/32580 batches | loss    1.332 \n"
          ]
        },
        {
          "output_type": "stream",
          "name": "stderr",
          "text": [
            "23504it [09:49, 18.95it/s]"
          ]
        },
        {
          "output_type": "stream",
          "name": "stdout",
          "text": [
            "money: able, forced, much, it, fact, man, well, so, taken, them\n",
            "lion: behavior, former, lives, battle, africa, spain, seen, provided, addition, charge\n",
            "africa: america, europe, india, west, end, germany, east, nine, france, addition\n",
            "musician: actor, actress, singer, writer, author, nine, variety, poet, introduction, able\n",
            "dance: music, largest, addition, lack, forms, order, science, culture, one, jazz\n",
            "\n",
            "\n"
          ]
        },
        {
          "output_type": "stream",
          "name": "stderr",
          "text": [
            "23998it [10:00, 46.97it/s]"
          ]
        },
        {
          "output_type": "stream",
          "name": "stdout",
          "text": [
            "| epoch   6 | 24000/32580 batches | loss    1.332 \n"
          ]
        },
        {
          "output_type": "stream",
          "name": "stderr",
          "text": [
            "24008it [10:00, 31.44it/s]"
          ]
        },
        {
          "output_type": "stream",
          "name": "stdout",
          "text": [
            "money: able, forced, much, it, fact, man, well, so, taken, them\n",
            "lion: behavior, former, lives, battle, africa, spain, seen, provided, addition, charge\n",
            "africa: america, europe, india, west, end, germany, east, nine, france, addition\n",
            "musician: actor, actress, singer, writer, author, nine, variety, poet, introduction, able\n",
            "dance: music, largest, addition, lack, forms, order, science, culture, one, jazz\n",
            "\n",
            "\n"
          ]
        },
        {
          "output_type": "stream",
          "name": "stderr",
          "text": [
            "24496it [10:13, 47.08it/s]"
          ]
        },
        {
          "output_type": "stream",
          "name": "stdout",
          "text": [
            "| epoch   6 | 24500/32580 batches | loss    1.332 \n"
          ]
        },
        {
          "output_type": "stream",
          "name": "stderr",
          "text": [
            "24505it [10:13, 29.58it/s]"
          ]
        },
        {
          "output_type": "stream",
          "name": "stdout",
          "text": [
            "money: able, forced, much, it, fact, man, well, so, taken, them\n",
            "lion: behavior, former, lives, battle, africa, spain, seen, provided, addition, charge\n",
            "africa: america, europe, india, west, end, germany, east, nine, france, addition\n",
            "musician: actor, actress, singer, writer, author, nine, variety, poet, introduction, able\n",
            "dance: music, largest, addition, lack, forms, order, science, culture, one, jazz\n",
            "\n",
            "\n"
          ]
        },
        {
          "output_type": "stream",
          "name": "stderr",
          "text": [
            "24999it [10:24, 34.50it/s]"
          ]
        },
        {
          "output_type": "stream",
          "name": "stdout",
          "text": [
            "| epoch   6 | 25000/32580 batches | loss    1.332 \n"
          ]
        },
        {
          "output_type": "stream",
          "name": "stderr",
          "text": [
            "\r25003it [10:25, 17.53it/s]"
          ]
        },
        {
          "output_type": "stream",
          "name": "stdout",
          "text": [
            "money: able, forced, much, it, fact, man, well, so, taken, them\n",
            "lion: behavior, former, lives, battle, africa, spain, seen, provided, addition, charge\n",
            "africa: america, europe, india, west, end, germany, east, nine, france, addition\n",
            "musician: actor, actress, singer, writer, author, nine, variety, poet, introduction, able\n",
            "dance: music, largest, addition, lack, forms, order, science, culture, one, jazz\n",
            "\n",
            "\n"
          ]
        },
        {
          "output_type": "stream",
          "name": "stderr",
          "text": [
            "25498it [10:37, 47.35it/s]"
          ]
        },
        {
          "output_type": "stream",
          "name": "stdout",
          "text": [
            "| epoch   6 | 25500/32580 batches | loss    1.329 \n"
          ]
        },
        {
          "output_type": "stream",
          "name": "stderr",
          "text": [
            "25508it [10:37, 31.19it/s]"
          ]
        },
        {
          "output_type": "stream",
          "name": "stdout",
          "text": [
            "money: able, forced, much, it, fact, man, well, so, taken, them\n",
            "lion: behavior, former, lives, battle, africa, spain, seen, provided, addition, charge\n",
            "africa: america, europe, india, west, end, germany, east, nine, france, addition\n",
            "musician: actor, actress, singer, writer, author, nine, variety, poet, introduction, able\n",
            "dance: music, largest, addition, lack, forms, order, science, culture, one, jazz\n",
            "\n",
            "\n"
          ]
        },
        {
          "output_type": "stream",
          "name": "stderr",
          "text": [
            "26000it [10:50, 38.65it/s]"
          ]
        },
        {
          "output_type": "stream",
          "name": "stdout",
          "text": [
            "| epoch   6 | 26000/32580 batches | loss    1.332 \n"
          ]
        },
        {
          "output_type": "stream",
          "name": "stderr",
          "text": [
            "26009it [10:51, 27.38it/s]"
          ]
        },
        {
          "output_type": "stream",
          "name": "stdout",
          "text": [
            "money: able, forced, much, it, fact, man, well, so, taken, them\n",
            "lion: behavior, former, lives, battle, africa, spain, seen, provided, addition, charge\n",
            "africa: america, europe, india, west, end, germany, east, nine, france, addition\n",
            "musician: actor, actress, singer, writer, author, nine, variety, poet, introduction, able\n",
            "dance: music, largest, addition, lack, forms, order, science, culture, one, jazz\n",
            "\n",
            "\n"
          ]
        },
        {
          "output_type": "stream",
          "name": "stderr",
          "text": [
            "26496it [11:01, 38.62it/s]"
          ]
        },
        {
          "output_type": "stream",
          "name": "stdout",
          "text": [
            "| epoch   6 | 26500/32580 batches | loss    1.329 \n"
          ]
        },
        {
          "output_type": "stream",
          "name": "stderr",
          "text": [
            "26505it [11:02, 23.42it/s]"
          ]
        },
        {
          "output_type": "stream",
          "name": "stdout",
          "text": [
            "money: able, forced, much, it, fact, man, well, so, taken, them\n",
            "lion: behavior, former, lives, battle, africa, spain, seen, provided, addition, charge\n",
            "africa: america, europe, india, west, end, germany, east, nine, france, addition\n",
            "musician: actor, actress, singer, writer, author, nine, variety, poet, introduction, able\n",
            "dance: music, largest, addition, lack, forms, order, science, culture, one, jazz\n",
            "\n",
            "\n"
          ]
        },
        {
          "output_type": "stream",
          "name": "stderr",
          "text": [
            "26997it [11:14, 48.17it/s]"
          ]
        },
        {
          "output_type": "stream",
          "name": "stdout",
          "text": [
            "| epoch   6 | 27000/32580 batches | loss    1.325 \n"
          ]
        },
        {
          "output_type": "stream",
          "name": "stderr",
          "text": [
            "27006it [11:14, 29.58it/s]"
          ]
        },
        {
          "output_type": "stream",
          "name": "stdout",
          "text": [
            "money: able, forced, much, it, fact, man, well, so, taken, them\n",
            "lion: behavior, former, lives, battle, africa, spain, seen, provided, addition, charge\n",
            "africa: america, europe, india, west, end, germany, east, nine, france, addition\n",
            "musician: actor, actress, singer, writer, author, nine, variety, poet, introduction, able\n",
            "dance: music, largest, addition, lack, forms, order, science, culture, one, jazz\n",
            "\n",
            "\n"
          ]
        },
        {
          "output_type": "stream",
          "name": "stderr",
          "text": [
            "27500it [11:26, 36.41it/s]"
          ]
        },
        {
          "output_type": "stream",
          "name": "stdout",
          "text": [
            "| epoch   6 | 27500/32580 batches | loss    1.330 \n"
          ]
        },
        {
          "output_type": "stream",
          "name": "stderr",
          "text": [
            "\r27504it [11:27, 17.44it/s]"
          ]
        },
        {
          "output_type": "stream",
          "name": "stdout",
          "text": [
            "money: able, forced, much, it, fact, man, well, so, taken, them\n",
            "lion: behavior, former, lives, battle, africa, spain, seen, provided, addition, charge\n",
            "africa: america, europe, india, west, end, germany, east, nine, france, addition\n",
            "musician: actor, actress, singer, writer, author, nine, variety, poet, introduction, able\n",
            "dance: music, largest, addition, lack, forms, order, science, culture, one, jazz\n",
            "\n",
            "\n"
          ]
        },
        {
          "output_type": "stream",
          "name": "stderr",
          "text": [
            "28000it [11:38, 47.23it/s]"
          ]
        },
        {
          "output_type": "stream",
          "name": "stdout",
          "text": [
            "| epoch   6 | 28000/32580 batches | loss    1.332 \n"
          ]
        },
        {
          "output_type": "stream",
          "name": "stderr",
          "text": [
            "\r28005it [11:38, 27.56it/s]"
          ]
        },
        {
          "output_type": "stream",
          "name": "stdout",
          "text": [
            "money: able, forced, much, it, fact, man, well, so, taken, them\n",
            "lion: behavior, former, lives, battle, africa, spain, seen, provided, addition, charge\n",
            "africa: america, europe, india, west, end, germany, east, nine, france, addition\n",
            "musician: actor, actress, singer, writer, author, nine, variety, poet, introduction, able\n",
            "dance: music, largest, addition, lack, forms, order, science, culture, one, jazz\n",
            "\n",
            "\n"
          ]
        },
        {
          "output_type": "stream",
          "name": "stderr",
          "text": [
            "28500it [11:51, 40.76it/s]"
          ]
        },
        {
          "output_type": "stream",
          "name": "stdout",
          "text": [
            "| epoch   6 | 28500/32580 batches | loss    1.333 \n"
          ]
        },
        {
          "output_type": "stream",
          "name": "stderr",
          "text": [
            "\r28505it [11:51, 21.67it/s]"
          ]
        },
        {
          "output_type": "stream",
          "name": "stdout",
          "text": [
            "money: able, forced, much, it, fact, man, well, so, taken, them\n",
            "lion: behavior, former, lives, battle, africa, spain, seen, provided, addition, charge\n",
            "africa: america, europe, india, west, end, germany, east, nine, france, addition\n",
            "musician: actor, actress, singer, writer, author, nine, variety, poet, introduction, able\n",
            "dance: music, largest, addition, lack, forms, order, science, culture, one, jazz\n",
            "\n",
            "\n"
          ]
        },
        {
          "output_type": "stream",
          "name": "stderr",
          "text": [
            "28999it [12:05, 36.47it/s]"
          ]
        },
        {
          "output_type": "stream",
          "name": "stdout",
          "text": [
            "| epoch   6 | 29000/32580 batches | loss    1.335 \n"
          ]
        },
        {
          "output_type": "stream",
          "name": "stderr",
          "text": [
            "29007it [12:06, 20.53it/s]"
          ]
        },
        {
          "output_type": "stream",
          "name": "stdout",
          "text": [
            "money: able, forced, much, it, fact, man, well, so, taken, them\n",
            "lion: behavior, former, lives, battle, africa, spain, seen, provided, addition, charge\n",
            "africa: america, europe, india, west, end, germany, east, nine, france, addition\n",
            "musician: actor, actress, singer, writer, author, nine, variety, poet, introduction, able\n",
            "dance: music, largest, addition, lack, forms, order, science, culture, one, jazz\n",
            "\n",
            "\n"
          ]
        },
        {
          "output_type": "stream",
          "name": "stderr",
          "text": [
            "29499it [12:17, 48.37it/s]"
          ]
        },
        {
          "output_type": "stream",
          "name": "stdout",
          "text": [
            "| epoch   6 | 29500/32580 batches | loss    1.331 \n"
          ]
        },
        {
          "output_type": "stream",
          "name": "stderr",
          "text": [
            "29509it [12:17, 31.58it/s]"
          ]
        },
        {
          "output_type": "stream",
          "name": "stdout",
          "text": [
            "money: able, forced, much, it, fact, man, well, so, taken, them\n",
            "lion: behavior, former, lives, battle, africa, spain, seen, provided, addition, charge\n",
            "africa: america, europe, india, west, end, germany, east, nine, france, addition\n",
            "musician: actor, actress, singer, writer, author, nine, variety, poet, introduction, able\n",
            "dance: music, largest, addition, lack, forms, order, science, culture, one, jazz\n",
            "\n",
            "\n"
          ]
        },
        {
          "output_type": "stream",
          "name": "stderr",
          "text": [
            "29997it [12:30, 46.16it/s]"
          ]
        },
        {
          "output_type": "stream",
          "name": "stdout",
          "text": [
            "| epoch   6 | 30000/32580 batches | loss    1.334 \n"
          ]
        },
        {
          "output_type": "stream",
          "name": "stderr",
          "text": [
            "30007it [12:30, 30.33it/s]"
          ]
        },
        {
          "output_type": "stream",
          "name": "stdout",
          "text": [
            "money: able, forced, much, it, fact, man, well, so, taken, them\n",
            "lion: behavior, former, lives, battle, africa, spain, seen, provided, addition, charge\n",
            "africa: america, europe, india, west, end, germany, east, nine, france, addition\n",
            "musician: actor, actress, singer, writer, author, nine, variety, poet, introduction, able\n",
            "dance: music, largest, addition, lack, forms, order, science, culture, one, jazz\n",
            "\n",
            "\n"
          ]
        },
        {
          "output_type": "stream",
          "name": "stderr",
          "text": [
            "30499it [12:41, 37.63it/s]"
          ]
        },
        {
          "output_type": "stream",
          "name": "stdout",
          "text": [
            "| epoch   6 | 30500/32580 batches | loss    1.327 \n"
          ]
        },
        {
          "output_type": "stream",
          "name": "stderr",
          "text": [
            "\r30503it [12:41, 19.25it/s]"
          ]
        },
        {
          "output_type": "stream",
          "name": "stdout",
          "text": [
            "money: able, forced, much, it, fact, man, well, so, taken, them\n",
            "lion: behavior, former, lives, battle, africa, spain, seen, provided, addition, charge\n",
            "africa: america, europe, india, west, end, germany, east, nine, france, addition\n",
            "musician: actor, actress, singer, writer, author, nine, variety, poet, introduction, able\n",
            "dance: music, largest, addition, lack, forms, order, science, culture, one, jazz\n",
            "\n",
            "\n"
          ]
        },
        {
          "output_type": "stream",
          "name": "stderr",
          "text": [
            "30996it [12:53, 47.26it/s]"
          ]
        },
        {
          "output_type": "stream",
          "name": "stdout",
          "text": [
            "| epoch   6 | 31000/32580 batches | loss    1.334 \n"
          ]
        },
        {
          "output_type": "stream",
          "name": "stderr",
          "text": [
            "31005it [12:54, 29.81it/s]"
          ]
        },
        {
          "output_type": "stream",
          "name": "stdout",
          "text": [
            "money: able, forced, much, it, fact, man, well, so, taken, them\n",
            "lion: behavior, former, lives, battle, africa, spain, seen, provided, addition, charge\n",
            "africa: america, europe, india, west, end, germany, east, nine, france, addition\n",
            "musician: actor, actress, singer, writer, author, nine, variety, poet, introduction, able\n",
            "dance: music, largest, addition, lack, forms, order, science, culture, one, jazz\n",
            "\n",
            "\n"
          ]
        },
        {
          "output_type": "stream",
          "name": "stderr",
          "text": [
            "31500it [13:06, 35.13it/s]"
          ]
        },
        {
          "output_type": "stream",
          "name": "stdout",
          "text": [
            "| epoch   6 | 31500/32580 batches | loss    1.333 \n"
          ]
        },
        {
          "output_type": "stream",
          "name": "stderr",
          "text": [
            "\r31504it [13:07, 16.89it/s]"
          ]
        },
        {
          "output_type": "stream",
          "name": "stdout",
          "text": [
            "money: able, forced, much, it, fact, man, well, so, taken, them\n",
            "lion: behavior, former, lives, battle, africa, spain, seen, provided, addition, charge\n",
            "africa: america, europe, india, west, end, germany, east, nine, france, addition\n",
            "musician: actor, actress, singer, writer, author, nine, variety, poet, introduction, able\n",
            "dance: music, largest, addition, lack, forms, order, science, culture, one, jazz\n",
            "\n",
            "\n"
          ]
        },
        {
          "output_type": "stream",
          "name": "stderr",
          "text": [
            "32000it [13:17, 48.08it/s]"
          ]
        },
        {
          "output_type": "stream",
          "name": "stdout",
          "text": [
            "| epoch   6 | 32000/32580 batches | loss    1.331 \n"
          ]
        },
        {
          "output_type": "stream",
          "name": "stderr",
          "text": [
            "32010it [13:18, 31.28it/s]"
          ]
        },
        {
          "output_type": "stream",
          "name": "stdout",
          "text": [
            "money: able, forced, much, it, fact, man, well, so, taken, them\n",
            "lion: behavior, former, lives, battle, africa, spain, seen, provided, addition, charge\n",
            "africa: america, europe, india, west, end, germany, east, nine, france, addition\n",
            "musician: actor, actress, singer, writer, author, nine, variety, poet, introduction, able\n",
            "dance: music, largest, addition, lack, forms, order, science, culture, one, jazz\n",
            "\n",
            "\n"
          ]
        },
        {
          "output_type": "stream",
          "name": "stderr",
          "text": [
            "32500it [13:30, 48.33it/s]"
          ]
        },
        {
          "output_type": "stream",
          "name": "stdout",
          "text": [
            "| epoch   6 | 32500/32580 batches | loss    1.329 \n"
          ]
        },
        {
          "output_type": "stream",
          "name": "stderr",
          "text": [
            "\r32505it [13:31, 26.61it/s]"
          ]
        },
        {
          "output_type": "stream",
          "name": "stdout",
          "text": [
            "money: able, forced, much, it, fact, man, well, so, taken, them\n",
            "lion: behavior, former, lives, battle, africa, spain, seen, provided, addition, charge\n",
            "africa: america, europe, india, west, end, germany, east, nine, france, addition\n",
            "musician: actor, actress, singer, writer, author, nine, variety, poet, introduction, able\n",
            "dance: music, largest, addition, lack, forms, order, science, culture, one, jazz\n",
            "\n",
            "\n"
          ]
        },
        {
          "output_type": "stream",
          "name": "stderr",
          "text": [
            "32580it [13:34, 39.99it/s]\n",
            "0it [00:00, ?it/s]"
          ]
        },
        {
          "output_type": "stream",
          "name": "stdout",
          "text": [
            "| epoch   7 |     0/32580 batches | loss    1.331 \n"
          ]
        },
        {
          "output_type": "stream",
          "name": "stderr",
          "text": [
            "\r1it [00:01,  1.98s/it]"
          ]
        },
        {
          "output_type": "stream",
          "name": "stdout",
          "text": [
            "money: able, forced, much, it, fact, man, well, so, taken, them\n",
            "lion: behavior, former, lives, battle, africa, spain, seen, provided, addition, charge\n",
            "africa: america, europe, india, west, end, germany, east, nine, france, addition\n",
            "musician: actor, actress, singer, writer, author, nine, variety, poet, introduction, able\n",
            "dance: music, largest, addition, lack, forms, order, science, culture, one, jazz\n",
            "\n",
            "\n"
          ]
        },
        {
          "output_type": "stream",
          "name": "stderr",
          "text": [
            "497it [00:14, 48.80it/s]"
          ]
        },
        {
          "output_type": "stream",
          "name": "stdout",
          "text": [
            "| epoch   7 |   500/32580 batches | loss    1.330 \n"
          ]
        },
        {
          "output_type": "stream",
          "name": "stderr",
          "text": [
            "506it [00:15, 29.65it/s]"
          ]
        },
        {
          "output_type": "stream",
          "name": "stdout",
          "text": [
            "money: able, forced, much, it, fact, man, well, so, taken, them\n",
            "lion: behavior, former, lives, battle, africa, spain, seen, provided, addition, charge\n",
            "africa: america, europe, india, west, end, germany, east, nine, france, addition\n",
            "musician: actor, actress, singer, writer, author, nine, variety, poet, introduction, able\n",
            "dance: music, largest, addition, lack, forms, order, science, culture, one, jazz\n",
            "\n",
            "\n"
          ]
        },
        {
          "output_type": "stream",
          "name": "stderr",
          "text": [
            "999it [00:26, 35.80it/s]"
          ]
        },
        {
          "output_type": "stream",
          "name": "stdout",
          "text": [
            "| epoch   7 |  1000/32580 batches | loss    1.331 \n"
          ]
        },
        {
          "output_type": "stream",
          "name": "stderr",
          "text": [
            "1006it [00:27, 18.46it/s]"
          ]
        },
        {
          "output_type": "stream",
          "name": "stdout",
          "text": [
            "money: able, forced, much, it, fact, man, well, so, taken, them\n",
            "lion: behavior, former, lives, battle, africa, spain, seen, provided, addition, charge\n",
            "africa: america, europe, india, west, end, germany, east, nine, france, addition\n",
            "musician: actor, actress, singer, writer, author, nine, variety, poet, introduction, able\n",
            "dance: music, largest, addition, lack, forms, order, science, culture, one, jazz\n",
            "\n",
            "\n"
          ]
        },
        {
          "output_type": "stream",
          "name": "stderr",
          "text": [
            "1499it [00:38, 48.07it/s]"
          ]
        },
        {
          "output_type": "stream",
          "name": "stdout",
          "text": [
            "| epoch   7 |  1500/32580 batches | loss    1.331 \n"
          ]
        },
        {
          "output_type": "stream",
          "name": "stderr",
          "text": [
            "1509it [00:39, 31.40it/s]"
          ]
        },
        {
          "output_type": "stream",
          "name": "stdout",
          "text": [
            "money: able, forced, much, it, fact, man, well, so, taken, them\n",
            "lion: behavior, former, lives, battle, africa, spain, seen, provided, addition, charge\n",
            "africa: america, europe, india, west, end, germany, east, nine, france, addition\n",
            "musician: actor, actress, singer, writer, author, nine, variety, poet, introduction, able\n",
            "dance: music, largest, addition, lack, forms, order, science, culture, one, jazz\n",
            "\n",
            "\n"
          ]
        },
        {
          "output_type": "stream",
          "name": "stderr",
          "text": [
            "1998it [00:51, 36.24it/s]"
          ]
        },
        {
          "output_type": "stream",
          "name": "stdout",
          "text": [
            "| epoch   7 |  2000/32580 batches | loss    1.326 \n"
          ]
        },
        {
          "output_type": "stream",
          "name": "stderr",
          "text": [
            "2007it [00:52, 24.57it/s]"
          ]
        },
        {
          "output_type": "stream",
          "name": "stdout",
          "text": [
            "money: able, forced, much, it, fact, man, well, so, taken, them\n",
            "lion: behavior, former, lives, battle, africa, spain, seen, provided, addition, charge\n",
            "africa: america, europe, india, west, end, germany, east, nine, france, addition\n",
            "musician: actor, actress, singer, writer, author, nine, variety, poet, introduction, able\n",
            "dance: music, largest, addition, lack, forms, order, science, culture, one, jazz\n",
            "\n",
            "\n"
          ]
        },
        {
          "output_type": "stream",
          "name": "stderr",
          "text": [
            "2497it [01:02, 40.81it/s]"
          ]
        },
        {
          "output_type": "stream",
          "name": "stdout",
          "text": [
            "| epoch   7 |  2500/32580 batches | loss    1.328 \n"
          ]
        },
        {
          "output_type": "stream",
          "name": "stderr",
          "text": [
            "2506it [01:03, 24.25it/s]"
          ]
        },
        {
          "output_type": "stream",
          "name": "stdout",
          "text": [
            "money: able, forced, much, it, fact, man, well, so, taken, them\n",
            "lion: behavior, former, lives, battle, africa, spain, seen, provided, addition, charge\n",
            "africa: america, europe, india, west, end, germany, east, nine, france, addition\n",
            "musician: actor, actress, singer, writer, author, nine, variety, poet, introduction, able\n",
            "dance: music, largest, addition, lack, forms, order, science, culture, one, jazz\n",
            "\n",
            "\n"
          ]
        },
        {
          "output_type": "stream",
          "name": "stderr",
          "text": [
            "2998it [01:15, 48.26it/s]"
          ]
        },
        {
          "output_type": "stream",
          "name": "stdout",
          "text": [
            "| epoch   7 |  3000/32580 batches | loss    1.332 \n"
          ]
        },
        {
          "output_type": "stream",
          "name": "stderr",
          "text": [
            "3008it [01:16, 31.33it/s]"
          ]
        },
        {
          "output_type": "stream",
          "name": "stdout",
          "text": [
            "money: able, forced, much, it, fact, man, well, so, taken, them\n",
            "lion: behavior, former, lives, battle, africa, spain, seen, provided, addition, charge\n",
            "africa: america, europe, india, west, end, germany, east, nine, france, addition\n",
            "musician: actor, actress, singer, writer, author, nine, variety, poet, introduction, able\n",
            "dance: music, largest, addition, lack, forms, order, science, culture, one, jazz\n",
            "\n",
            "\n"
          ]
        },
        {
          "output_type": "stream",
          "name": "stderr",
          "text": [
            "3498it [01:27, 35.55it/s]"
          ]
        },
        {
          "output_type": "stream",
          "name": "stdout",
          "text": [
            "| epoch   7 |  3500/32580 batches | loss    1.330 \n"
          ]
        },
        {
          "output_type": "stream",
          "name": "stderr",
          "text": [
            "3506it [01:28, 20.38it/s]"
          ]
        },
        {
          "output_type": "stream",
          "name": "stdout",
          "text": [
            "money: able, forced, much, it, fact, man, well, so, taken, them\n",
            "lion: behavior, former, lives, battle, africa, spain, seen, provided, addition, charge\n",
            "africa: america, europe, india, west, end, germany, east, nine, france, addition\n",
            "musician: actor, actress, singer, writer, author, nine, variety, poet, introduction, able\n",
            "dance: music, largest, addition, lack, forms, order, science, culture, one, jazz\n",
            "\n",
            "\n"
          ]
        },
        {
          "output_type": "stream",
          "name": "stderr",
          "text": [
            "3996it [01:39, 47.61it/s]"
          ]
        },
        {
          "output_type": "stream",
          "name": "stdout",
          "text": [
            "| epoch   7 |  4000/32580 batches | loss    1.331 \n"
          ]
        },
        {
          "output_type": "stream",
          "name": "stderr",
          "text": [
            "4005it [01:39, 30.03it/s]"
          ]
        },
        {
          "output_type": "stream",
          "name": "stdout",
          "text": [
            "money: able, forced, much, it, fact, man, well, so, taken, them\n",
            "lion: behavior, former, lives, battle, africa, spain, seen, provided, addition, charge\n",
            "africa: america, europe, india, west, end, germany, east, nine, france, addition\n",
            "musician: actor, actress, singer, writer, author, nine, variety, poet, introduction, able\n",
            "dance: music, largest, addition, lack, forms, order, science, culture, one, jazz\n",
            "\n",
            "\n"
          ]
        },
        {
          "output_type": "stream",
          "name": "stderr",
          "text": [
            "4498it [01:54, 28.07it/s]"
          ]
        },
        {
          "output_type": "stream",
          "name": "stdout",
          "text": [
            "| epoch   7 |  4500/32580 batches | loss    1.331 \n"
          ]
        },
        {
          "output_type": "stream",
          "name": "stderr",
          "text": [
            "4504it [01:55, 16.38it/s]"
          ]
        },
        {
          "output_type": "stream",
          "name": "stdout",
          "text": [
            "money: able, forced, much, it, fact, man, well, so, taken, them\n",
            "lion: behavior, former, lives, battle, africa, spain, seen, provided, addition, charge\n",
            "africa: america, europe, india, west, end, germany, east, nine, france, addition\n",
            "musician: actor, actress, singer, writer, author, nine, variety, poet, introduction, able\n",
            "dance: music, largest, addition, lack, forms, order, science, culture, one, jazz\n",
            "\n",
            "\n"
          ]
        },
        {
          "output_type": "stream",
          "name": "stderr",
          "text": [
            "4997it [02:06, 47.48it/s]"
          ]
        },
        {
          "output_type": "stream",
          "name": "stdout",
          "text": [
            "| epoch   7 |  5000/32580 batches | loss    1.334 \n"
          ]
        },
        {
          "output_type": "stream",
          "name": "stderr",
          "text": [
            "5007it [02:06, 30.96it/s]"
          ]
        },
        {
          "output_type": "stream",
          "name": "stdout",
          "text": [
            "money: able, forced, much, it, fact, man, well, so, taken, them\n",
            "lion: behavior, former, lives, battle, africa, spain, seen, provided, addition, charge\n",
            "africa: america, europe, india, west, end, germany, east, nine, france, addition\n",
            "musician: actor, actress, singer, writer, author, nine, variety, poet, introduction, able\n",
            "dance: music, largest, addition, lack, forms, order, science, culture, one, jazz\n",
            "\n",
            "\n"
          ]
        },
        {
          "output_type": "stream",
          "name": "stderr",
          "text": [
            "5500it [02:19, 48.97it/s]"
          ]
        },
        {
          "output_type": "stream",
          "name": "stdout",
          "text": [
            "| epoch   7 |  5500/32580 batches | loss    1.330 \n"
          ]
        },
        {
          "output_type": "stream",
          "name": "stderr",
          "text": [
            "\r5505it [02:20, 27.35it/s]"
          ]
        },
        {
          "output_type": "stream",
          "name": "stdout",
          "text": [
            "money: able, forced, much, it, fact, man, well, so, taken, them\n",
            "lion: behavior, former, lives, battle, africa, spain, seen, provided, addition, charge\n",
            "africa: america, europe, india, west, end, germany, east, nine, france, addition\n",
            "musician: actor, actress, singer, writer, author, nine, variety, poet, introduction, able\n",
            "dance: music, largest, addition, lack, forms, order, science, culture, one, jazz\n",
            "\n",
            "\n"
          ]
        },
        {
          "output_type": "stream",
          "name": "stderr",
          "text": [
            "6000it [02:31, 35.55it/s]"
          ]
        },
        {
          "output_type": "stream",
          "name": "stdout",
          "text": [
            "| epoch   7 |  6000/32580 batches | loss    1.332 \n"
          ]
        },
        {
          "output_type": "stream",
          "name": "stderr",
          "text": [
            "\r6004it [02:31, 16.85it/s]"
          ]
        },
        {
          "output_type": "stream",
          "name": "stdout",
          "text": [
            "money: able, forced, much, it, fact, man, well, so, taken, them\n",
            "lion: behavior, former, lives, battle, africa, spain, seen, provided, addition, charge\n",
            "africa: america, europe, india, west, end, germany, east, nine, france, addition\n",
            "musician: actor, actress, singer, writer, author, nine, variety, poet, introduction, able\n",
            "dance: music, largest, addition, lack, forms, order, science, culture, one, jazz\n",
            "\n",
            "\n"
          ]
        },
        {
          "output_type": "stream",
          "name": "stderr",
          "text": [
            "6497it [02:43, 48.45it/s]"
          ]
        },
        {
          "output_type": "stream",
          "name": "stdout",
          "text": [
            "| epoch   7 |  6500/32580 batches | loss    1.333 \n"
          ]
        },
        {
          "output_type": "stream",
          "name": "stderr",
          "text": [
            "6507it [02:43, 30.37it/s]"
          ]
        },
        {
          "output_type": "stream",
          "name": "stdout",
          "text": [
            "money: able, forced, much, it, fact, man, well, so, taken, them\n",
            "lion: behavior, former, lives, battle, africa, spain, seen, provided, addition, charge\n",
            "africa: america, europe, india, west, end, germany, east, nine, france, addition\n",
            "musician: actor, actress, singer, writer, author, nine, variety, poet, introduction, able\n",
            "dance: music, largest, addition, lack, forms, order, science, culture, one, jazz\n",
            "\n",
            "\n"
          ]
        },
        {
          "output_type": "stream",
          "name": "stderr",
          "text": [
            "6998it [02:56, 35.99it/s]"
          ]
        },
        {
          "output_type": "stream",
          "name": "stdout",
          "text": [
            "| epoch   7 |  7000/32580 batches | loss    1.333 \n"
          ]
        },
        {
          "output_type": "stream",
          "name": "stderr",
          "text": [
            "7007it [02:57, 25.15it/s]"
          ]
        },
        {
          "output_type": "stream",
          "name": "stdout",
          "text": [
            "money: able, forced, much, it, fact, man, well, so, taken, them\n",
            "lion: behavior, former, lives, battle, africa, spain, seen, provided, addition, charge\n",
            "africa: america, europe, india, west, end, germany, east, nine, france, addition\n",
            "musician: actor, actress, singer, writer, author, nine, variety, poet, introduction, able\n",
            "dance: music, largest, addition, lack, forms, order, science, culture, one, jazz\n",
            "\n",
            "\n"
          ]
        },
        {
          "output_type": "stream",
          "name": "stderr",
          "text": [
            "7497it [03:07, 39.34it/s]"
          ]
        },
        {
          "output_type": "stream",
          "name": "stdout",
          "text": [
            "| epoch   7 |  7500/32580 batches | loss    1.330 \n"
          ]
        },
        {
          "output_type": "stream",
          "name": "stderr",
          "text": [
            "7505it [03:07, 24.41it/s]"
          ]
        },
        {
          "output_type": "stream",
          "name": "stdout",
          "text": [
            "money: able, forced, much, it, fact, man, well, so, taken, them\n",
            "lion: behavior, former, lives, battle, africa, spain, seen, provided, addition, charge\n",
            "africa: america, europe, india, west, end, germany, east, nine, france, addition\n",
            "musician: actor, actress, singer, writer, author, nine, variety, poet, introduction, able\n",
            "dance: music, largest, addition, lack, forms, order, science, culture, one, jazz\n",
            "\n",
            "\n"
          ]
        },
        {
          "output_type": "stream",
          "name": "stderr",
          "text": [
            "7996it [03:20, 48.02it/s]"
          ]
        },
        {
          "output_type": "stream",
          "name": "stdout",
          "text": [
            "| epoch   7 |  8000/32580 batches | loss    1.332 \n"
          ]
        },
        {
          "output_type": "stream",
          "name": "stderr",
          "text": [
            "8005it [03:20, 29.98it/s]"
          ]
        },
        {
          "output_type": "stream",
          "name": "stdout",
          "text": [
            "money: able, forced, much, it, fact, man, well, so, taken, them\n",
            "lion: behavior, former, lives, battle, africa, spain, seen, provided, addition, charge\n",
            "africa: america, europe, india, west, end, germany, east, nine, france, addition\n",
            "musician: actor, actress, singer, writer, author, nine, variety, poet, introduction, able\n",
            "dance: music, largest, addition, lack, forms, order, science, culture, one, jazz\n",
            "\n",
            "\n"
          ]
        },
        {
          "output_type": "stream",
          "name": "stderr",
          "text": [
            "8497it [03:32, 33.35it/s]"
          ]
        },
        {
          "output_type": "stream",
          "name": "stdout",
          "text": [
            "| epoch   7 |  8500/32580 batches | loss    1.334 \n"
          ]
        },
        {
          "output_type": "stream",
          "name": "stderr",
          "text": [
            "8504it [03:33, 18.70it/s]"
          ]
        },
        {
          "output_type": "stream",
          "name": "stdout",
          "text": [
            "money: able, forced, much, it, fact, man, well, so, taken, them\n",
            "lion: behavior, former, lives, battle, africa, spain, seen, provided, addition, charge\n",
            "africa: america, europe, india, west, end, germany, east, nine, france, addition\n",
            "musician: actor, actress, singer, writer, author, nine, variety, poet, introduction, able\n",
            "dance: music, largest, addition, lack, forms, order, science, culture, one, jazz\n",
            "\n",
            "\n"
          ]
        },
        {
          "output_type": "stream",
          "name": "stderr",
          "text": [
            "8998it [03:44, 47.14it/s]"
          ]
        },
        {
          "output_type": "stream",
          "name": "stdout",
          "text": [
            "| epoch   7 |  9000/32580 batches | loss    1.329 \n"
          ]
        },
        {
          "output_type": "stream",
          "name": "stderr",
          "text": [
            "9008it [03:44, 30.84it/s]"
          ]
        },
        {
          "output_type": "stream",
          "name": "stdout",
          "text": [
            "money: able, forced, much, it, fact, man, well, so, taken, them\n",
            "lion: behavior, former, lives, battle, africa, spain, seen, provided, addition, charge\n",
            "africa: america, europe, india, west, end, germany, east, nine, france, addition\n",
            "musician: actor, actress, singer, writer, author, nine, variety, poet, introduction, able\n",
            "dance: music, largest, addition, lack, forms, order, science, culture, one, jazz\n",
            "\n",
            "\n"
          ]
        },
        {
          "output_type": "stream",
          "name": "stderr",
          "text": [
            "9498it [03:57, 46.59it/s]"
          ]
        },
        {
          "output_type": "stream",
          "name": "stdout",
          "text": [
            "| epoch   7 |  9500/32580 batches | loss    1.332 \n"
          ]
        },
        {
          "output_type": "stream",
          "name": "stderr",
          "text": [
            "9508it [03:57, 31.07it/s]"
          ]
        },
        {
          "output_type": "stream",
          "name": "stdout",
          "text": [
            "money: able, forced, much, it, fact, man, well, so, taken, them\n",
            "lion: behavior, former, lives, battle, africa, spain, seen, provided, addition, charge\n",
            "africa: america, europe, india, west, end, germany, east, nine, france, addition\n",
            "musician: actor, actress, singer, writer, author, nine, variety, poet, introduction, able\n",
            "dance: music, largest, addition, lack, forms, order, science, culture, one, jazz\n",
            "\n",
            "\n"
          ]
        },
        {
          "output_type": "stream",
          "name": "stderr",
          "text": [
            "9997it [04:08, 35.09it/s]"
          ]
        },
        {
          "output_type": "stream",
          "name": "stdout",
          "text": [
            "| epoch   7 | 10000/32580 batches | loss    1.329 \n"
          ]
        },
        {
          "output_type": "stream",
          "name": "stderr",
          "text": [
            "10004it [04:09, 18.91it/s]"
          ]
        },
        {
          "output_type": "stream",
          "name": "stdout",
          "text": [
            "money: able, forced, much, it, fact, man, well, so, taken, them\n",
            "lion: behavior, former, lives, battle, africa, spain, seen, provided, addition, charge\n",
            "africa: america, europe, india, west, end, germany, east, nine, france, addition\n",
            "musician: actor, actress, singer, writer, author, nine, variety, poet, introduction, able\n",
            "dance: music, largest, addition, lack, forms, order, science, culture, one, jazz\n",
            "\n",
            "\n"
          ]
        },
        {
          "output_type": "stream",
          "name": "stderr",
          "text": [
            "10499it [04:21, 47.94it/s]"
          ]
        },
        {
          "output_type": "stream",
          "name": "stdout",
          "text": [
            "| epoch   7 | 10500/32580 batches | loss    1.338 \n"
          ]
        },
        {
          "output_type": "stream",
          "name": "stderr",
          "text": [
            "10509it [04:21, 31.80it/s]"
          ]
        },
        {
          "output_type": "stream",
          "name": "stdout",
          "text": [
            "money: able, forced, much, it, fact, man, well, so, taken, them\n",
            "lion: behavior, former, lives, battle, africa, spain, seen, provided, addition, charge\n",
            "africa: america, europe, india, west, end, germany, east, nine, france, addition\n",
            "musician: actor, actress, singer, writer, author, nine, variety, poet, introduction, able\n",
            "dance: music, largest, addition, lack, forms, order, science, culture, one, jazz\n",
            "\n",
            "\n"
          ]
        },
        {
          "output_type": "stream",
          "name": "stderr",
          "text": [
            "11000it [04:34, 32.65it/s]"
          ]
        },
        {
          "output_type": "stream",
          "name": "stdout",
          "text": [
            "| epoch   7 | 11000/32580 batches | loss    1.330 \n"
          ]
        },
        {
          "output_type": "stream",
          "name": "stderr",
          "text": [
            "\r11004it [04:34, 16.96it/s]"
          ]
        },
        {
          "output_type": "stream",
          "name": "stdout",
          "text": [
            "money: able, forced, much, it, fact, man, well, so, taken, them\n",
            "lion: behavior, former, lives, battle, africa, spain, seen, provided, addition, charge\n",
            "africa: america, europe, india, west, end, germany, east, nine, france, addition\n",
            "musician: actor, actress, singer, writer, author, nine, variety, poet, introduction, able\n",
            "dance: music, largest, addition, lack, forms, order, science, culture, one, jazz\n",
            "\n",
            "\n"
          ]
        },
        {
          "output_type": "stream",
          "name": "stderr",
          "text": [
            "11498it [04:48, 35.68it/s]"
          ]
        },
        {
          "output_type": "stream",
          "name": "stdout",
          "text": [
            "| epoch   7 | 11500/32580 batches | loss    1.337 \n"
          ]
        },
        {
          "output_type": "stream",
          "name": "stderr",
          "text": [
            "11505it [04:48, 19.52it/s]"
          ]
        },
        {
          "output_type": "stream",
          "name": "stdout",
          "text": [
            "money: able, forced, much, it, fact, man, well, so, taken, them\n",
            "lion: behavior, former, lives, battle, africa, spain, seen, provided, addition, charge\n",
            "africa: america, europe, india, west, end, germany, east, nine, france, addition\n",
            "musician: actor, actress, singer, writer, author, nine, variety, poet, introduction, able\n",
            "dance: music, largest, addition, lack, forms, order, science, culture, one, jazz\n",
            "\n",
            "\n"
          ]
        },
        {
          "output_type": "stream",
          "name": "stderr",
          "text": [
            "11996it [05:03, 46.04it/s]"
          ]
        },
        {
          "output_type": "stream",
          "name": "stdout",
          "text": [
            "| epoch   7 | 12000/32580 batches | loss    1.327 \n"
          ]
        },
        {
          "output_type": "stream",
          "name": "stderr",
          "text": [
            "12005it [05:04, 28.13it/s]"
          ]
        },
        {
          "output_type": "stream",
          "name": "stdout",
          "text": [
            "money: able, forced, much, it, fact, man, well, so, taken, them\n",
            "lion: behavior, former, lives, battle, africa, spain, seen, provided, addition, charge\n",
            "africa: america, europe, india, west, end, germany, east, nine, france, addition\n",
            "musician: actor, actress, singer, writer, author, nine, variety, poet, introduction, able\n",
            "dance: music, largest, addition, lack, forms, order, science, culture, one, jazz\n",
            "\n",
            "\n"
          ]
        },
        {
          "output_type": "stream",
          "name": "stderr",
          "text": [
            "12500it [05:17, 47.20it/s]"
          ]
        },
        {
          "output_type": "stream",
          "name": "stdout",
          "text": [
            "| epoch   7 | 12500/32580 batches | loss    1.331 \n"
          ]
        },
        {
          "output_type": "stream",
          "name": "stderr",
          "text": [
            "\r12505it [05:17, 25.58it/s]"
          ]
        },
        {
          "output_type": "stream",
          "name": "stdout",
          "text": [
            "money: able, forced, much, it, fact, man, well, so, taken, them\n",
            "lion: behavior, former, lives, battle, africa, spain, seen, provided, addition, charge\n",
            "africa: america, europe, india, west, end, germany, east, nine, france, addition\n",
            "musician: actor, actress, singer, writer, author, nine, variety, poet, introduction, able\n",
            "dance: music, largest, addition, lack, forms, order, science, culture, one, jazz\n",
            "\n",
            "\n"
          ]
        },
        {
          "output_type": "stream",
          "name": "stderr",
          "text": [
            "12998it [05:29, 33.78it/s]"
          ]
        },
        {
          "output_type": "stream",
          "name": "stdout",
          "text": [
            "| epoch   7 | 13000/32580 batches | loss    1.329 \n"
          ]
        },
        {
          "output_type": "stream",
          "name": "stderr",
          "text": [
            "13005it [05:29, 19.04it/s]"
          ]
        },
        {
          "output_type": "stream",
          "name": "stdout",
          "text": [
            "money: able, forced, much, it, fact, man, well, so, taken, them\n",
            "lion: behavior, former, lives, battle, africa, spain, seen, provided, addition, charge\n",
            "africa: america, europe, india, west, end, germany, east, nine, france, addition\n",
            "musician: actor, actress, singer, writer, author, nine, variety, poet, introduction, able\n",
            "dance: music, largest, addition, lack, forms, order, science, culture, one, jazz\n",
            "\n",
            "\n"
          ]
        },
        {
          "output_type": "stream",
          "name": "stderr",
          "text": [
            "13496it [05:41, 44.60it/s]"
          ]
        },
        {
          "output_type": "stream",
          "name": "stdout",
          "text": [
            "| epoch   7 | 13500/32580 batches | loss    1.330 \n"
          ]
        },
        {
          "output_type": "stream",
          "name": "stderr",
          "text": [
            "13505it [05:42, 28.27it/s]"
          ]
        },
        {
          "output_type": "stream",
          "name": "stdout",
          "text": [
            "money: able, forced, much, it, fact, man, well, so, taken, them\n",
            "lion: behavior, former, lives, battle, africa, spain, seen, provided, addition, charge\n",
            "africa: america, europe, india, west, end, germany, east, nine, france, addition\n",
            "musician: actor, actress, singer, writer, author, nine, variety, poet, introduction, able\n",
            "dance: music, largest, addition, lack, forms, order, science, culture, one, jazz\n",
            "\n",
            "\n"
          ]
        },
        {
          "output_type": "stream",
          "name": "stderr",
          "text": [
            "13997it [05:55, 42.65it/s]"
          ]
        },
        {
          "output_type": "stream",
          "name": "stdout",
          "text": [
            "| epoch   7 | 14000/32580 batches | loss    1.331 \n"
          ]
        },
        {
          "output_type": "stream",
          "name": "stderr",
          "text": [
            "14007it [05:55, 29.65it/s]"
          ]
        },
        {
          "output_type": "stream",
          "name": "stdout",
          "text": [
            "money: able, forced, much, it, fact, man, well, so, taken, them\n",
            "lion: behavior, former, lives, battle, africa, spain, seen, provided, addition, charge\n",
            "africa: america, europe, india, west, end, germany, east, nine, france, addition\n",
            "musician: actor, actress, singer, writer, author, nine, variety, poet, introduction, able\n",
            "dance: music, largest, addition, lack, forms, order, science, culture, one, jazz\n",
            "\n",
            "\n"
          ]
        },
        {
          "output_type": "stream",
          "name": "stderr",
          "text": [
            "14500it [06:06, 36.81it/s]"
          ]
        },
        {
          "output_type": "stream",
          "name": "stdout",
          "text": [
            "| epoch   7 | 14500/32580 batches | loss    1.335 \n"
          ]
        },
        {
          "output_type": "stream",
          "name": "stderr",
          "text": [
            "\r14504it [06:07, 18.61it/s]"
          ]
        },
        {
          "output_type": "stream",
          "name": "stdout",
          "text": [
            "money: able, forced, much, it, fact, man, well, so, taken, them\n",
            "lion: behavior, former, lives, battle, africa, spain, seen, provided, addition, charge\n",
            "africa: america, europe, india, west, end, germany, east, nine, france, addition\n",
            "musician: actor, actress, singer, writer, author, nine, variety, poet, introduction, able\n",
            "dance: music, largest, addition, lack, forms, order, science, culture, one, jazz\n",
            "\n",
            "\n"
          ]
        },
        {
          "output_type": "stream",
          "name": "stderr",
          "text": [
            "14996it [06:19, 45.86it/s]"
          ]
        },
        {
          "output_type": "stream",
          "name": "stdout",
          "text": [
            "| epoch   7 | 15000/32580 batches | loss    1.331 \n"
          ]
        },
        {
          "output_type": "stream",
          "name": "stderr",
          "text": [
            "15005it [06:20, 28.47it/s]"
          ]
        },
        {
          "output_type": "stream",
          "name": "stdout",
          "text": [
            "money: able, forced, much, it, fact, man, well, so, taken, them\n",
            "lion: behavior, former, lives, battle, africa, spain, seen, provided, addition, charge\n",
            "africa: america, europe, india, west, end, germany, east, nine, france, addition\n",
            "musician: actor, actress, singer, writer, author, nine, variety, poet, introduction, able\n",
            "dance: music, largest, addition, lack, forms, order, science, culture, one, jazz\n",
            "\n",
            "\n"
          ]
        },
        {
          "output_type": "stream",
          "name": "stderr",
          "text": [
            "15500it [06:32, 36.00it/s]"
          ]
        },
        {
          "output_type": "stream",
          "name": "stdout",
          "text": [
            "| epoch   7 | 15500/32580 batches | loss    1.331 \n"
          ]
        },
        {
          "output_type": "stream",
          "name": "stderr",
          "text": [
            "\r15504it [06:33, 16.92it/s]"
          ]
        },
        {
          "output_type": "stream",
          "name": "stdout",
          "text": [
            "money: able, forced, much, it, fact, man, well, so, taken, them\n",
            "lion: behavior, former, lives, battle, africa, spain, seen, provided, addition, charge\n",
            "africa: america, europe, india, west, end, germany, east, nine, france, addition\n",
            "musician: actor, actress, singer, writer, author, nine, variety, poet, introduction, able\n",
            "dance: music, largest, addition, lack, forms, order, science, culture, one, jazz\n",
            "\n",
            "\n"
          ]
        },
        {
          "output_type": "stream",
          "name": "stderr",
          "text": [
            "15999it [06:44, 48.46it/s]"
          ]
        },
        {
          "output_type": "stream",
          "name": "stdout",
          "text": [
            "| epoch   7 | 16000/32580 batches | loss    1.329 \n"
          ]
        },
        {
          "output_type": "stream",
          "name": "stderr",
          "text": [
            "16009it [06:44, 31.27it/s]"
          ]
        },
        {
          "output_type": "stream",
          "name": "stdout",
          "text": [
            "money: able, forced, much, it, fact, man, well, so, taken, them\n",
            "lion: behavior, former, lives, battle, africa, spain, seen, provided, addition, charge\n",
            "africa: america, europe, india, west, end, germany, east, nine, france, addition\n",
            "musician: actor, actress, singer, writer, author, nine, variety, poet, introduction, able\n",
            "dance: music, largest, addition, lack, forms, order, science, culture, one, jazz\n",
            "\n",
            "\n"
          ]
        },
        {
          "output_type": "stream",
          "name": "stderr",
          "text": [
            "16500it [06:57, 48.14it/s]"
          ]
        },
        {
          "output_type": "stream",
          "name": "stdout",
          "text": [
            "| epoch   7 | 16500/32580 batches | loss    1.331 \n"
          ]
        },
        {
          "output_type": "stream",
          "name": "stderr",
          "text": [
            "\r16505it [06:57, 26.92it/s]"
          ]
        },
        {
          "output_type": "stream",
          "name": "stdout",
          "text": [
            "money: able, forced, much, it, fact, man, well, so, taken, them\n",
            "lion: behavior, former, lives, battle, africa, spain, seen, provided, addition, charge\n",
            "africa: america, europe, india, west, end, germany, east, nine, france, addition\n",
            "musician: actor, actress, singer, writer, author, nine, variety, poet, introduction, able\n",
            "dance: music, largest, addition, lack, forms, order, science, culture, one, jazz\n",
            "\n",
            "\n"
          ]
        },
        {
          "output_type": "stream",
          "name": "stderr",
          "text": [
            "17000it [07:09, 32.44it/s]"
          ]
        },
        {
          "output_type": "stream",
          "name": "stdout",
          "text": [
            "| epoch   7 | 17000/32580 batches | loss    1.332 \n"
          ]
        },
        {
          "output_type": "stream",
          "name": "stderr",
          "text": [
            "\r17004it [07:09, 16.04it/s]"
          ]
        },
        {
          "output_type": "stream",
          "name": "stdout",
          "text": [
            "money: able, forced, much, it, fact, man, well, so, taken, them\n",
            "lion: behavior, former, lives, battle, africa, spain, seen, provided, addition, charge\n",
            "africa: america, europe, india, west, end, germany, east, nine, france, addition\n",
            "musician: actor, actress, singer, writer, author, nine, variety, poet, introduction, able\n",
            "dance: music, largest, addition, lack, forms, order, science, culture, one, jazz\n",
            "\n",
            "\n"
          ]
        },
        {
          "output_type": "stream",
          "name": "stderr",
          "text": [
            "17496it [07:21, 48.60it/s]"
          ]
        },
        {
          "output_type": "stream",
          "name": "stdout",
          "text": [
            "| epoch   7 | 17500/32580 batches | loss    1.327 \n"
          ]
        },
        {
          "output_type": "stream",
          "name": "stderr",
          "text": [
            "17505it [07:21, 29.18it/s]"
          ]
        },
        {
          "output_type": "stream",
          "name": "stdout",
          "text": [
            "money: able, forced, much, it, fact, man, well, so, taken, them\n",
            "lion: behavior, former, lives, battle, africa, spain, seen, provided, addition, charge\n",
            "africa: america, europe, india, west, end, germany, east, nine, france, addition\n",
            "musician: actor, actress, singer, writer, author, nine, variety, poet, introduction, able\n",
            "dance: music, largest, addition, lack, forms, order, science, culture, one, jazz\n",
            "\n",
            "\n"
          ]
        },
        {
          "output_type": "stream",
          "name": "stderr",
          "text": [
            "17998it [07:37, 28.28it/s]"
          ]
        },
        {
          "output_type": "stream",
          "name": "stdout",
          "text": [
            "| epoch   7 | 18000/32580 batches | loss    1.328 \n"
          ]
        },
        {
          "output_type": "stream",
          "name": "stderr",
          "text": [
            "18004it [07:38, 16.44it/s]"
          ]
        },
        {
          "output_type": "stream",
          "name": "stdout",
          "text": [
            "money: able, forced, much, it, fact, man, well, so, taken, them\n",
            "lion: behavior, former, lives, battle, africa, spain, seen, provided, addition, charge\n",
            "africa: america, europe, india, west, end, germany, east, nine, france, addition\n",
            "musician: actor, actress, singer, writer, author, nine, variety, poet, introduction, able\n",
            "dance: music, largest, addition, lack, forms, order, science, culture, one, jazz\n",
            "\n",
            "\n"
          ]
        },
        {
          "output_type": "stream",
          "name": "stderr",
          "text": [
            "18499it [07:49, 47.70it/s]"
          ]
        },
        {
          "output_type": "stream",
          "name": "stdout",
          "text": [
            "| epoch   7 | 18500/32580 batches | loss    1.330 \n"
          ]
        },
        {
          "output_type": "stream",
          "name": "stderr",
          "text": [
            "18509it [07:49, 30.44it/s]"
          ]
        },
        {
          "output_type": "stream",
          "name": "stdout",
          "text": [
            "money: able, forced, much, it, fact, man, well, so, taken, them\n",
            "lion: behavior, former, lives, battle, africa, spain, seen, provided, addition, charge\n",
            "africa: america, europe, india, west, end, germany, east, nine, france, addition\n",
            "musician: actor, actress, singer, writer, author, nine, variety, poet, introduction, able\n",
            "dance: music, largest, addition, lack, forms, order, science, culture, one, jazz\n",
            "\n",
            "\n"
          ]
        },
        {
          "output_type": "stream",
          "name": "stderr",
          "text": [
            "18999it [08:02, 46.74it/s]"
          ]
        },
        {
          "output_type": "stream",
          "name": "stdout",
          "text": [
            "| epoch   7 | 19000/32580 batches | loss    1.329 \n"
          ]
        },
        {
          "output_type": "stream",
          "name": "stderr",
          "text": [
            "19009it [08:03, 30.48it/s]"
          ]
        },
        {
          "output_type": "stream",
          "name": "stdout",
          "text": [
            "money: able, forced, much, it, fact, man, well, so, taken, them\n",
            "lion: behavior, former, lives, battle, africa, spain, seen, provided, addition, charge\n",
            "africa: america, europe, india, west, end, germany, east, nine, france, addition\n",
            "musician: actor, actress, singer, writer, author, nine, variety, poet, introduction, able\n",
            "dance: music, largest, addition, lack, forms, order, science, culture, one, jazz\n",
            "\n",
            "\n"
          ]
        },
        {
          "output_type": "stream",
          "name": "stderr",
          "text": [
            "19498it [08:14, 36.30it/s]"
          ]
        },
        {
          "output_type": "stream",
          "name": "stdout",
          "text": [
            "| epoch   7 | 19500/32580 batches | loss    1.329 \n"
          ]
        },
        {
          "output_type": "stream",
          "name": "stderr",
          "text": [
            "19506it [08:15, 20.22it/s]"
          ]
        },
        {
          "output_type": "stream",
          "name": "stdout",
          "text": [
            "money: able, forced, much, it, fact, man, well, so, taken, them\n",
            "lion: behavior, former, lives, battle, africa, spain, seen, provided, addition, charge\n",
            "africa: america, europe, india, west, end, germany, east, nine, france, addition\n",
            "musician: actor, actress, singer, writer, author, nine, variety, poet, introduction, able\n",
            "dance: music, largest, addition, lack, forms, order, science, culture, one, jazz\n",
            "\n",
            "\n"
          ]
        },
        {
          "output_type": "stream",
          "name": "stderr",
          "text": [
            "19998it [08:26, 47.05it/s]"
          ]
        },
        {
          "output_type": "stream",
          "name": "stdout",
          "text": [
            "| epoch   7 | 20000/32580 batches | loss    1.335 \n"
          ]
        },
        {
          "output_type": "stream",
          "name": "stderr",
          "text": [
            "20008it [08:27, 30.85it/s]"
          ]
        },
        {
          "output_type": "stream",
          "name": "stdout",
          "text": [
            "money: able, forced, much, it, fact, man, well, so, taken, them\n",
            "lion: behavior, former, lives, battle, africa, spain, seen, provided, addition, charge\n",
            "africa: america, europe, india, west, end, germany, east, nine, france, addition\n",
            "musician: actor, actress, singer, writer, author, nine, variety, poet, introduction, able\n",
            "dance: music, largest, addition, lack, forms, order, science, culture, one, jazz\n",
            "\n",
            "\n"
          ]
        },
        {
          "output_type": "stream",
          "name": "stderr",
          "text": [
            "20500it [08:39, 44.60it/s]"
          ]
        },
        {
          "output_type": "stream",
          "name": "stdout",
          "text": [
            "| epoch   7 | 20500/32580 batches | loss    1.337 \n"
          ]
        },
        {
          "output_type": "stream",
          "name": "stderr",
          "text": [
            "\r20505it [08:40, 25.48it/s]"
          ]
        },
        {
          "output_type": "stream",
          "name": "stdout",
          "text": [
            "money: able, forced, much, it, fact, man, well, so, taken, them\n",
            "lion: behavior, former, lives, battle, africa, spain, seen, provided, addition, charge\n",
            "africa: america, europe, india, west, end, germany, east, nine, france, addition\n",
            "musician: actor, actress, singer, writer, author, nine, variety, poet, introduction, able\n",
            "dance: music, largest, addition, lack, forms, order, science, culture, one, jazz\n",
            "\n",
            "\n"
          ]
        },
        {
          "output_type": "stream",
          "name": "stderr",
          "text": [
            "20999it [08:51, 37.84it/s]"
          ]
        },
        {
          "output_type": "stream",
          "name": "stdout",
          "text": [
            "| epoch   7 | 21000/32580 batches | loss    1.327 \n"
          ]
        },
        {
          "output_type": "stream",
          "name": "stderr",
          "text": [
            "21007it [08:51, 22.30it/s]"
          ]
        },
        {
          "output_type": "stream",
          "name": "stdout",
          "text": [
            "money: able, forced, much, it, fact, man, well, so, taken, them\n",
            "lion: behavior, former, lives, battle, africa, spain, seen, provided, addition, charge\n",
            "africa: america, europe, india, west, end, germany, east, nine, france, addition\n",
            "musician: actor, actress, singer, writer, author, nine, variety, poet, introduction, able\n",
            "dance: music, largest, addition, lack, forms, order, science, culture, one, jazz\n",
            "\n",
            "\n"
          ]
        },
        {
          "output_type": "stream",
          "name": "stderr",
          "text": [
            "21500it [09:03, 47.67it/s]"
          ]
        },
        {
          "output_type": "stream",
          "name": "stdout",
          "text": [
            "| epoch   7 | 21500/32580 batches | loss    1.331 \n"
          ]
        },
        {
          "output_type": "stream",
          "name": "stderr",
          "text": [
            "\r21505it [09:04, 27.02it/s]"
          ]
        },
        {
          "output_type": "stream",
          "name": "stdout",
          "text": [
            "money: able, forced, much, it, fact, man, well, so, taken, them\n",
            "lion: behavior, former, lives, battle, africa, spain, seen, provided, addition, charge\n",
            "africa: america, europe, india, west, end, germany, east, nine, france, addition\n",
            "musician: actor, actress, singer, writer, author, nine, variety, poet, introduction, able\n",
            "dance: music, largest, addition, lack, forms, order, science, culture, one, jazz\n",
            "\n",
            "\n"
          ]
        },
        {
          "output_type": "stream",
          "name": "stderr",
          "text": [
            "21999it [09:16, 34.86it/s]"
          ]
        },
        {
          "output_type": "stream",
          "name": "stdout",
          "text": [
            "| epoch   7 | 22000/32580 batches | loss    1.327 \n"
          ]
        },
        {
          "output_type": "stream",
          "name": "stderr",
          "text": [
            "22007it [09:17, 20.17it/s]"
          ]
        },
        {
          "output_type": "stream",
          "name": "stdout",
          "text": [
            "money: able, forced, much, it, fact, man, well, so, taken, them\n",
            "lion: behavior, former, lives, battle, africa, spain, seen, provided, addition, charge\n",
            "africa: america, europe, india, west, end, germany, east, nine, france, addition\n",
            "musician: actor, actress, singer, writer, author, nine, variety, poet, introduction, able\n",
            "dance: music, largest, addition, lack, forms, order, science, culture, one, jazz\n",
            "\n",
            "\n"
          ]
        },
        {
          "output_type": "stream",
          "name": "stderr",
          "text": [
            "22498it [09:27, 47.20it/s]"
          ]
        },
        {
          "output_type": "stream",
          "name": "stdout",
          "text": [
            "| epoch   7 | 22500/32580 batches | loss    1.334 \n"
          ]
        },
        {
          "output_type": "stream",
          "name": "stderr",
          "text": [
            "22508it [09:28, 30.97it/s]"
          ]
        },
        {
          "output_type": "stream",
          "name": "stdout",
          "text": [
            "money: able, forced, much, it, fact, man, well, so, taken, them\n",
            "lion: behavior, former, lives, battle, africa, spain, seen, provided, addition, charge\n",
            "africa: america, europe, india, west, end, germany, east, nine, france, addition\n",
            "musician: actor, actress, singer, writer, author, nine, variety, poet, introduction, able\n",
            "dance: music, largest, addition, lack, forms, order, science, culture, one, jazz\n",
            "\n",
            "\n"
          ]
        },
        {
          "output_type": "stream",
          "name": "stderr",
          "text": [
            "22999it [09:41, 48.22it/s]"
          ]
        },
        {
          "output_type": "stream",
          "name": "stdout",
          "text": [
            "| epoch   7 | 23000/32580 batches | loss    1.328 \n"
          ]
        },
        {
          "output_type": "stream",
          "name": "stderr",
          "text": [
            "23009it [09:41, 30.47it/s]"
          ]
        },
        {
          "output_type": "stream",
          "name": "stdout",
          "text": [
            "money: able, forced, much, it, fact, man, well, so, taken, them\n",
            "lion: behavior, former, lives, battle, africa, spain, seen, provided, addition, charge\n",
            "africa: america, europe, india, west, end, germany, east, nine, france, addition\n",
            "musician: actor, actress, singer, writer, author, nine, variety, poet, introduction, able\n",
            "dance: music, largest, addition, lack, forms, order, science, culture, one, jazz\n",
            "\n",
            "\n"
          ]
        },
        {
          "output_type": "stream",
          "name": "stderr",
          "text": [
            "23497it [09:52, 36.12it/s]"
          ]
        },
        {
          "output_type": "stream",
          "name": "stdout",
          "text": [
            "| epoch   7 | 23500/32580 batches | loss    1.330 \n"
          ]
        },
        {
          "output_type": "stream",
          "name": "stderr",
          "text": [
            "23504it [09:53, 19.02it/s]"
          ]
        },
        {
          "output_type": "stream",
          "name": "stdout",
          "text": [
            "money: able, forced, much, it, fact, man, well, so, taken, them\n",
            "lion: behavior, former, lives, battle, africa, spain, seen, provided, addition, charge\n",
            "africa: america, europe, india, west, end, germany, east, nine, france, addition\n",
            "musician: actor, actress, singer, writer, author, nine, variety, poet, introduction, able\n",
            "dance: music, largest, addition, lack, forms, order, science, culture, one, jazz\n",
            "\n",
            "\n"
          ]
        },
        {
          "output_type": "stream",
          "name": "stderr",
          "text": [
            "23997it [10:05, 48.10it/s]"
          ]
        },
        {
          "output_type": "stream",
          "name": "stdout",
          "text": [
            "| epoch   7 | 24000/32580 batches | loss    1.333 \n"
          ]
        },
        {
          "output_type": "stream",
          "name": "stderr",
          "text": [
            "24007it [10:05, 30.37it/s]"
          ]
        },
        {
          "output_type": "stream",
          "name": "stdout",
          "text": [
            "money: able, forced, much, it, fact, man, well, so, taken, them\n",
            "lion: behavior, former, lives, battle, africa, spain, seen, provided, addition, charge\n",
            "africa: america, europe, india, west, end, germany, east, nine, france, addition\n",
            "musician: actor, actress, singer, writer, author, nine, variety, poet, introduction, able\n",
            "dance: music, largest, addition, lack, forms, order, science, culture, one, jazz\n",
            "\n",
            "\n"
          ]
        },
        {
          "output_type": "stream",
          "name": "stderr",
          "text": [
            "24497it [10:19, 28.76it/s]"
          ]
        },
        {
          "output_type": "stream",
          "name": "stdout",
          "text": [
            "| epoch   7 | 24500/32580 batches | loss    1.329 \n"
          ]
        },
        {
          "output_type": "stream",
          "name": "stderr",
          "text": [
            "24504it [10:20, 15.49it/s]"
          ]
        },
        {
          "output_type": "stream",
          "name": "stdout",
          "text": [
            "money: able, forced, much, it, fact, man, well, so, taken, them\n",
            "lion: behavior, former, lives, battle, africa, spain, seen, provided, addition, charge\n",
            "africa: america, europe, india, west, end, germany, east, nine, france, addition\n",
            "musician: actor, actress, singer, writer, author, nine, variety, poet, introduction, able\n",
            "dance: music, largest, addition, lack, forms, order, science, culture, one, jazz\n",
            "\n",
            "\n"
          ]
        },
        {
          "output_type": "stream",
          "name": "stderr",
          "text": [
            "24999it [10:32, 47.75it/s]"
          ]
        },
        {
          "output_type": "stream",
          "name": "stdout",
          "text": [
            "| epoch   7 | 25000/32580 batches | loss    1.332 \n"
          ]
        },
        {
          "output_type": "stream",
          "name": "stderr",
          "text": [
            "25009it [10:33, 29.97it/s]"
          ]
        },
        {
          "output_type": "stream",
          "name": "stdout",
          "text": [
            "money: able, forced, much, it, fact, man, well, so, taken, them\n",
            "lion: behavior, former, lives, battle, africa, spain, seen, provided, addition, charge\n",
            "africa: america, europe, india, west, end, germany, east, nine, france, addition\n",
            "musician: actor, actress, singer, writer, author, nine, variety, poet, introduction, able\n",
            "dance: music, largest, addition, lack, forms, order, science, culture, one, jazz\n",
            "\n",
            "\n"
          ]
        },
        {
          "output_type": "stream",
          "name": "stderr",
          "text": [
            "25499it [10:46, 44.87it/s]"
          ]
        },
        {
          "output_type": "stream",
          "name": "stdout",
          "text": [
            "| epoch   7 | 25500/32580 batches | loss    1.332 \n"
          ]
        },
        {
          "output_type": "stream",
          "name": "stderr",
          "text": [
            "25509it [10:46, 30.45it/s]"
          ]
        },
        {
          "output_type": "stream",
          "name": "stdout",
          "text": [
            "money: able, forced, much, it, fact, man, well, so, taken, them\n",
            "lion: behavior, former, lives, battle, africa, spain, seen, provided, addition, charge\n",
            "africa: america, europe, india, west, end, germany, east, nine, france, addition\n",
            "musician: actor, actress, singer, writer, author, nine, variety, poet, introduction, able\n",
            "dance: music, largest, addition, lack, forms, order, science, culture, one, jazz\n",
            "\n",
            "\n"
          ]
        },
        {
          "output_type": "stream",
          "name": "stderr",
          "text": [
            "25999it [10:57, 39.55it/s]"
          ]
        },
        {
          "output_type": "stream",
          "name": "stdout",
          "text": [
            "| epoch   7 | 26000/32580 batches | loss    1.331 \n"
          ]
        },
        {
          "output_type": "stream",
          "name": "stderr",
          "text": [
            "\r26003it [10:57, 20.35it/s]"
          ]
        },
        {
          "output_type": "stream",
          "name": "stdout",
          "text": [
            "money: able, forced, much, it, fact, man, well, so, taken, them\n",
            "lion: behavior, former, lives, battle, africa, spain, seen, provided, addition, charge\n",
            "africa: america, europe, india, west, end, germany, east, nine, france, addition\n",
            "musician: actor, actress, singer, writer, author, nine, variety, poet, introduction, able\n",
            "dance: music, largest, addition, lack, forms, order, science, culture, one, jazz\n",
            "\n",
            "\n"
          ]
        },
        {
          "output_type": "stream",
          "name": "stderr",
          "text": [
            "26500it [11:09, 48.59it/s]"
          ]
        },
        {
          "output_type": "stream",
          "name": "stdout",
          "text": [
            "| epoch   7 | 26500/32580 batches | loss    1.332 \n"
          ]
        },
        {
          "output_type": "stream",
          "name": "stderr",
          "text": [
            "26510it [11:10, 31.49it/s]"
          ]
        },
        {
          "output_type": "stream",
          "name": "stdout",
          "text": [
            "money: able, forced, much, it, fact, man, well, so, taken, them\n",
            "lion: behavior, former, lives, battle, africa, spain, seen, provided, addition, charge\n",
            "africa: america, europe, india, west, end, germany, east, nine, france, addition\n",
            "musician: actor, actress, singer, writer, author, nine, variety, poet, introduction, able\n",
            "dance: music, largest, addition, lack, forms, order, science, culture, one, jazz\n",
            "\n",
            "\n"
          ]
        },
        {
          "output_type": "stream",
          "name": "stderr",
          "text": [
            "26997it [11:22, 34.87it/s]"
          ]
        },
        {
          "output_type": "stream",
          "name": "stdout",
          "text": [
            "| epoch   7 | 27000/32580 batches | loss    1.334 \n"
          ]
        },
        {
          "output_type": "stream",
          "name": "stderr",
          "text": [
            "27005it [11:22, 19.64it/s]"
          ]
        },
        {
          "output_type": "stream",
          "name": "stdout",
          "text": [
            "money: able, forced, much, it, fact, man, well, so, taken, them\n",
            "lion: behavior, former, lives, battle, africa, spain, seen, provided, addition, charge\n",
            "africa: america, europe, india, west, end, germany, east, nine, france, addition\n",
            "musician: actor, actress, singer, writer, author, nine, variety, poet, introduction, able\n",
            "dance: music, largest, addition, lack, forms, order, science, culture, one, jazz\n",
            "\n",
            "\n"
          ]
        },
        {
          "output_type": "stream",
          "name": "stderr",
          "text": [
            "27497it [11:33, 48.02it/s]"
          ]
        },
        {
          "output_type": "stream",
          "name": "stdout",
          "text": [
            "| epoch   7 | 27500/32580 batches | loss    1.332 \n"
          ]
        },
        {
          "output_type": "stream",
          "name": "stderr",
          "text": [
            "27507it [11:34, 30.68it/s]"
          ]
        },
        {
          "output_type": "stream",
          "name": "stdout",
          "text": [
            "money: able, forced, much, it, fact, man, well, so, taken, them\n",
            "lion: behavior, former, lives, battle, africa, spain, seen, provided, addition, charge\n",
            "africa: america, europe, india, west, end, germany, east, nine, france, addition\n",
            "musician: actor, actress, singer, writer, author, nine, variety, poet, introduction, able\n",
            "dance: music, largest, addition, lack, forms, order, science, culture, one, jazz\n",
            "\n",
            "\n"
          ]
        },
        {
          "output_type": "stream",
          "name": "stderr",
          "text": [
            "27997it [11:46, 48.14it/s]"
          ]
        },
        {
          "output_type": "stream",
          "name": "stdout",
          "text": [
            "| epoch   7 | 28000/32580 batches | loss    1.331 \n"
          ]
        },
        {
          "output_type": "stream",
          "name": "stderr",
          "text": [
            "28007it [11:47, 30.42it/s]"
          ]
        },
        {
          "output_type": "stream",
          "name": "stdout",
          "text": [
            "money: able, forced, much, it, fact, man, well, so, taken, them\n",
            "lion: behavior, former, lives, battle, africa, spain, seen, provided, addition, charge\n",
            "africa: america, europe, india, west, end, germany, east, nine, france, addition\n",
            "musician: actor, actress, singer, writer, author, nine, variety, poet, introduction, able\n",
            "dance: music, largest, addition, lack, forms, order, science, culture, one, jazz\n",
            "\n",
            "\n"
          ]
        },
        {
          "output_type": "stream",
          "name": "stderr",
          "text": [
            "28498it [11:58, 34.48it/s]"
          ]
        },
        {
          "output_type": "stream",
          "name": "stdout",
          "text": [
            "| epoch   7 | 28500/32580 batches | loss    1.330 \n"
          ]
        },
        {
          "output_type": "stream",
          "name": "stderr",
          "text": [
            "28505it [11:59, 18.61it/s]"
          ]
        },
        {
          "output_type": "stream",
          "name": "stdout",
          "text": [
            "money: able, forced, much, it, fact, man, well, so, taken, them\n",
            "lion: behavior, former, lives, battle, africa, spain, seen, provided, addition, charge\n",
            "africa: america, europe, india, west, end, germany, east, nine, france, addition\n",
            "musician: actor, actress, singer, writer, author, nine, variety, poet, introduction, able\n",
            "dance: music, largest, addition, lack, forms, order, science, culture, one, jazz\n",
            "\n",
            "\n"
          ]
        },
        {
          "output_type": "stream",
          "name": "stderr",
          "text": [
            "28996it [12:11, 47.64it/s]"
          ]
        },
        {
          "output_type": "stream",
          "name": "stdout",
          "text": [
            "| epoch   7 | 29000/32580 batches | loss    1.328 \n"
          ]
        },
        {
          "output_type": "stream",
          "name": "stderr",
          "text": [
            "29005it [12:11, 30.34it/s]"
          ]
        },
        {
          "output_type": "stream",
          "name": "stdout",
          "text": [
            "money: able, forced, much, it, fact, man, well, so, taken, them\n",
            "lion: behavior, former, lives, battle, africa, spain, seen, provided, addition, charge\n",
            "africa: america, europe, india, west, end, germany, east, nine, france, addition\n",
            "musician: actor, actress, singer, writer, author, nine, variety, poet, introduction, able\n",
            "dance: music, largest, addition, lack, forms, order, science, culture, one, jazz\n",
            "\n",
            "\n"
          ]
        },
        {
          "output_type": "stream",
          "name": "stderr",
          "text": [
            "29500it [12:24, 46.59it/s]"
          ]
        },
        {
          "output_type": "stream",
          "name": "stdout",
          "text": [
            "| epoch   7 | 29500/32580 batches | loss    1.332 \n"
          ]
        },
        {
          "output_type": "stream",
          "name": "stderr",
          "text": [
            "\r29505it [12:24, 26.74it/s]"
          ]
        },
        {
          "output_type": "stream",
          "name": "stdout",
          "text": [
            "money: able, forced, much, it, fact, man, well, so, taken, them\n",
            "lion: behavior, former, lives, battle, africa, spain, seen, provided, addition, charge\n",
            "africa: america, europe, india, west, end, germany, east, nine, france, addition\n",
            "musician: actor, actress, singer, writer, author, nine, variety, poet, introduction, able\n",
            "dance: music, largest, addition, lack, forms, order, science, culture, one, jazz\n",
            "\n",
            "\n"
          ]
        },
        {
          "output_type": "stream",
          "name": "stderr",
          "text": [
            "29997it [12:35, 36.78it/s]"
          ]
        },
        {
          "output_type": "stream",
          "name": "stdout",
          "text": [
            "| epoch   7 | 30000/32580 batches | loss    1.330 \n"
          ]
        },
        {
          "output_type": "stream",
          "name": "stderr",
          "text": [
            "30004it [12:35, 20.90it/s]"
          ]
        },
        {
          "output_type": "stream",
          "name": "stdout",
          "text": [
            "money: able, forced, much, it, fact, man, well, so, taken, them\n",
            "lion: behavior, former, lives, battle, africa, spain, seen, provided, addition, charge\n",
            "africa: america, europe, india, west, end, germany, east, nine, france, addition\n",
            "musician: actor, actress, singer, writer, author, nine, variety, poet, introduction, able\n",
            "dance: music, largest, addition, lack, forms, order, science, culture, one, jazz\n",
            "\n",
            "\n"
          ]
        },
        {
          "output_type": "stream",
          "name": "stderr",
          "text": [
            "30500it [12:48, 47.53it/s]"
          ]
        },
        {
          "output_type": "stream",
          "name": "stdout",
          "text": [
            "| epoch   7 | 30500/32580 batches | loss    1.333 \n"
          ]
        },
        {
          "output_type": "stream",
          "name": "stderr",
          "text": [
            "\r30505it [12:48, 26.84it/s]"
          ]
        },
        {
          "output_type": "stream",
          "name": "stdout",
          "text": [
            "money: able, forced, much, it, fact, man, well, so, taken, them\n",
            "lion: behavior, former, lives, battle, africa, spain, seen, provided, addition, charge\n",
            "africa: america, europe, india, west, end, germany, east, nine, france, addition\n",
            "musician: actor, actress, singer, writer, author, nine, variety, poet, introduction, able\n",
            "dance: music, largest, addition, lack, forms, order, science, culture, one, jazz\n",
            "\n",
            "\n"
          ]
        },
        {
          "output_type": "stream",
          "name": "stderr",
          "text": [
            "30998it [13:00, 33.27it/s]"
          ]
        },
        {
          "output_type": "stream",
          "name": "stdout",
          "text": [
            "| epoch   7 | 31000/32580 batches | loss    1.333 \n"
          ]
        },
        {
          "output_type": "stream",
          "name": "stderr",
          "text": [
            "31006it [13:01, 19.60it/s]"
          ]
        },
        {
          "output_type": "stream",
          "name": "stdout",
          "text": [
            "money: able, forced, much, it, fact, man, well, so, taken, them\n",
            "lion: behavior, former, lives, battle, africa, spain, seen, provided, addition, charge\n",
            "africa: america, europe, india, west, end, germany, east, nine, france, addition\n",
            "musician: actor, actress, singer, writer, author, nine, variety, poet, introduction, able\n",
            "dance: music, largest, addition, lack, forms, order, science, culture, one, jazz\n",
            "\n",
            "\n"
          ]
        },
        {
          "output_type": "stream",
          "name": "stderr",
          "text": [
            "31500it [13:15, 35.11it/s]"
          ]
        },
        {
          "output_type": "stream",
          "name": "stdout",
          "text": [
            "| epoch   7 | 31500/32580 batches | loss    1.329 \n"
          ]
        },
        {
          "output_type": "stream",
          "name": "stderr",
          "text": [
            "\r31504it [13:15, 17.46it/s]"
          ]
        },
        {
          "output_type": "stream",
          "name": "stdout",
          "text": [
            "money: able, forced, much, it, fact, man, well, so, taken, them\n",
            "lion: behavior, former, lives, battle, africa, spain, seen, provided, addition, charge\n",
            "africa: america, europe, india, west, end, germany, east, nine, france, addition\n",
            "musician: actor, actress, singer, writer, author, nine, variety, poet, introduction, able\n",
            "dance: music, largest, addition, lack, forms, order, science, culture, one, jazz\n",
            "\n",
            "\n"
          ]
        },
        {
          "output_type": "stream",
          "name": "stderr",
          "text": [
            "32000it [13:27, 48.39it/s]"
          ]
        },
        {
          "output_type": "stream",
          "name": "stdout",
          "text": [
            "| epoch   7 | 32000/32580 batches | loss    1.325 \n"
          ]
        },
        {
          "output_type": "stream",
          "name": "stderr",
          "text": [
            "\r32005it [13:28, 26.94it/s]"
          ]
        },
        {
          "output_type": "stream",
          "name": "stdout",
          "text": [
            "money: able, forced, much, it, fact, man, well, so, taken, them\n",
            "lion: behavior, former, lives, battle, africa, spain, seen, provided, addition, charge\n",
            "africa: america, europe, india, west, end, germany, east, nine, france, addition\n",
            "musician: actor, actress, singer, writer, author, nine, variety, poet, introduction, able\n",
            "dance: music, largest, addition, lack, forms, order, science, culture, one, jazz\n",
            "\n",
            "\n"
          ]
        },
        {
          "output_type": "stream",
          "name": "stderr",
          "text": [
            "32497it [13:40, 33.64it/s]"
          ]
        },
        {
          "output_type": "stream",
          "name": "stdout",
          "text": [
            "| epoch   7 | 32500/32580 batches | loss    1.332 \n"
          ]
        },
        {
          "output_type": "stream",
          "name": "stderr",
          "text": [
            "32504it [13:40, 18.85it/s]"
          ]
        },
        {
          "output_type": "stream",
          "name": "stdout",
          "text": [
            "money: able, forced, much, it, fact, man, well, so, taken, them\n",
            "lion: behavior, former, lives, battle, africa, spain, seen, provided, addition, charge\n",
            "africa: america, europe, india, west, end, germany, east, nine, france, addition\n",
            "musician: actor, actress, singer, writer, author, nine, variety, poet, introduction, able\n",
            "dance: music, largest, addition, lack, forms, order, science, culture, one, jazz\n",
            "\n",
            "\n"
          ]
        },
        {
          "output_type": "stream",
          "name": "stderr",
          "text": [
            "32580it [13:44, 39.50it/s]\n",
            "0it [00:00, ?it/s]"
          ]
        },
        {
          "output_type": "stream",
          "name": "stdout",
          "text": [
            "| epoch   8 |     0/32580 batches | loss    1.253 \n"
          ]
        },
        {
          "output_type": "stream",
          "name": "stderr",
          "text": [
            "2it [00:02,  1.10it/s]"
          ]
        },
        {
          "output_type": "stream",
          "name": "stdout",
          "text": [
            "money: able, forced, much, it, fact, man, well, so, taken, them\n",
            "lion: behavior, former, lives, battle, africa, spain, seen, provided, addition, charge\n",
            "africa: america, europe, india, west, end, germany, east, nine, france, addition\n",
            "musician: actor, actress, singer, writer, author, nine, variety, poet, introduction, able\n",
            "dance: music, largest, addition, lack, forms, order, science, culture, one, jazz\n",
            "\n",
            "\n"
          ]
        },
        {
          "output_type": "stream",
          "name": "stderr",
          "text": [
            "498it [00:14, 34.66it/s]"
          ]
        },
        {
          "output_type": "stream",
          "name": "stdout",
          "text": [
            "| epoch   8 |   500/32580 batches | loss    1.333 \n"
          ]
        },
        {
          "output_type": "stream",
          "name": "stderr",
          "text": [
            "506it [00:14, 20.37it/s]"
          ]
        },
        {
          "output_type": "stream",
          "name": "stdout",
          "text": [
            "money: able, forced, much, it, fact, man, well, so, taken, them\n",
            "lion: behavior, former, lives, battle, africa, spain, seen, provided, addition, charge\n",
            "africa: america, europe, india, west, end, germany, east, nine, france, addition\n",
            "musician: actor, actress, singer, writer, author, nine, variety, poet, introduction, able\n",
            "dance: music, largest, addition, lack, forms, order, science, culture, one, jazz\n",
            "\n",
            "\n"
          ]
        },
        {
          "output_type": "stream",
          "name": "stderr",
          "text": [
            "999it [00:25, 48.61it/s]"
          ]
        },
        {
          "output_type": "stream",
          "name": "stdout",
          "text": [
            "| epoch   8 |  1000/32580 batches | loss    1.330 \n"
          ]
        },
        {
          "output_type": "stream",
          "name": "stderr",
          "text": [
            "1009it [00:26, 31.53it/s]"
          ]
        },
        {
          "output_type": "stream",
          "name": "stdout",
          "text": [
            "money: able, forced, much, it, fact, man, well, so, taken, them\n",
            "lion: behavior, former, lives, battle, africa, spain, seen, provided, addition, charge\n",
            "africa: america, europe, india, west, end, germany, east, nine, france, addition\n",
            "musician: actor, actress, singer, writer, author, nine, variety, poet, introduction, able\n",
            "dance: music, largest, addition, lack, forms, order, science, culture, one, jazz\n",
            "\n",
            "\n"
          ]
        },
        {
          "output_type": "stream",
          "name": "stderr",
          "text": [
            "1500it [00:38, 47.64it/s]"
          ]
        },
        {
          "output_type": "stream",
          "name": "stdout",
          "text": [
            "| epoch   8 |  1500/32580 batches | loss    1.329 \n"
          ]
        },
        {
          "output_type": "stream",
          "name": "stderr",
          "text": [
            "\r1505it [00:39, 26.95it/s]"
          ]
        },
        {
          "output_type": "stream",
          "name": "stdout",
          "text": [
            "money: able, forced, much, it, fact, man, well, so, taken, them\n",
            "lion: behavior, former, lives, battle, africa, spain, seen, provided, addition, charge\n",
            "africa: america, europe, india, west, end, germany, east, nine, france, addition\n",
            "musician: actor, actress, singer, writer, author, nine, variety, poet, introduction, able\n",
            "dance: music, largest, addition, lack, forms, order, science, culture, one, jazz\n",
            "\n",
            "\n"
          ]
        },
        {
          "output_type": "stream",
          "name": "stderr",
          "text": [
            "1998it [00:50, 36.28it/s]"
          ]
        },
        {
          "output_type": "stream",
          "name": "stdout",
          "text": [
            "| epoch   8 |  2000/32580 batches | loss    1.334 \n"
          ]
        },
        {
          "output_type": "stream",
          "name": "stderr",
          "text": [
            "2006it [00:50, 19.92it/s]"
          ]
        },
        {
          "output_type": "stream",
          "name": "stdout",
          "text": [
            "money: able, forced, much, it, fact, man, well, so, taken, them\n",
            "lion: behavior, former, lives, battle, africa, spain, seen, provided, addition, charge\n",
            "africa: america, europe, india, west, end, germany, east, nine, france, addition\n",
            "musician: actor, actress, singer, writer, author, nine, variety, poet, introduction, able\n",
            "dance: music, largest, addition, lack, forms, order, science, culture, one, jazz\n",
            "\n",
            "\n"
          ]
        },
        {
          "output_type": "stream",
          "name": "stderr",
          "text": [
            "2496it [01:05, 48.02it/s]"
          ]
        },
        {
          "output_type": "stream",
          "name": "stdout",
          "text": [
            "| epoch   8 |  2500/32580 batches | loss    1.335 \n"
          ]
        },
        {
          "output_type": "stream",
          "name": "stderr",
          "text": [
            "2505it [01:05, 31.06it/s]"
          ]
        },
        {
          "output_type": "stream",
          "name": "stdout",
          "text": [
            "money: able, forced, much, it, fact, man, well, so, taken, them\n",
            "lion: behavior, former, lives, battle, africa, spain, seen, provided, addition, charge\n",
            "africa: america, europe, india, west, end, germany, east, nine, france, addition\n",
            "musician: actor, actress, singer, writer, author, nine, variety, poet, introduction, able\n",
            "dance: music, largest, addition, lack, forms, order, science, culture, one, jazz\n",
            "\n",
            "\n"
          ]
        },
        {
          "output_type": "stream",
          "name": "stderr",
          "text": [
            "2998it [01:18, 47.61it/s]"
          ]
        },
        {
          "output_type": "stream",
          "name": "stdout",
          "text": [
            "| epoch   8 |  3000/32580 batches | loss    1.331 \n"
          ]
        },
        {
          "output_type": "stream",
          "name": "stderr",
          "text": [
            "3008it [01:19, 30.71it/s]"
          ]
        },
        {
          "output_type": "stream",
          "name": "stdout",
          "text": [
            "money: able, forced, much, it, fact, man, well, so, taken, them\n",
            "lion: behavior, former, lives, battle, africa, spain, seen, provided, addition, charge\n",
            "africa: america, europe, india, west, end, germany, east, nine, france, addition\n",
            "musician: actor, actress, singer, writer, author, nine, variety, poet, introduction, able\n",
            "dance: music, largest, addition, lack, forms, order, science, culture, one, jazz\n",
            "\n",
            "\n"
          ]
        },
        {
          "output_type": "stream",
          "name": "stderr",
          "text": [
            "3498it [01:30, 34.51it/s]"
          ]
        },
        {
          "output_type": "stream",
          "name": "stdout",
          "text": [
            "| epoch   8 |  3500/32580 batches | loss    1.330 \n"
          ]
        },
        {
          "output_type": "stream",
          "name": "stderr",
          "text": [
            "3506it [01:31, 18.95it/s]"
          ]
        },
        {
          "output_type": "stream",
          "name": "stdout",
          "text": [
            "money: able, forced, much, it, fact, man, well, so, taken, them\n",
            "lion: behavior, former, lives, battle, africa, spain, seen, provided, addition, charge\n",
            "africa: america, europe, india, west, end, germany, east, nine, france, addition\n",
            "musician: actor, actress, singer, writer, author, nine, variety, poet, introduction, able\n",
            "dance: music, largest, addition, lack, forms, order, science, culture, one, jazz\n",
            "\n",
            "\n"
          ]
        },
        {
          "output_type": "stream",
          "name": "stderr",
          "text": [
            "3996it [01:42, 49.19it/s]"
          ]
        },
        {
          "output_type": "stream",
          "name": "stdout",
          "text": [
            "| epoch   8 |  4000/32580 batches | loss    1.328 \n"
          ]
        },
        {
          "output_type": "stream",
          "name": "stderr",
          "text": [
            "4006it [01:42, 31.50it/s]"
          ]
        },
        {
          "output_type": "stream",
          "name": "stdout",
          "text": [
            "money: able, forced, much, it, fact, man, well, so, taken, them\n",
            "lion: behavior, former, lives, battle, africa, spain, seen, provided, addition, charge\n",
            "africa: america, europe, india, west, end, germany, east, nine, france, addition\n",
            "musician: actor, actress, singer, writer, author, nine, variety, poet, introduction, able\n",
            "dance: music, largest, addition, lack, forms, order, science, culture, one, jazz\n",
            "\n",
            "\n"
          ]
        },
        {
          "output_type": "stream",
          "name": "stderr",
          "text": [
            "4499it [01:55, 47.46it/s]"
          ]
        },
        {
          "output_type": "stream",
          "name": "stdout",
          "text": [
            "| epoch   8 |  4500/32580 batches | loss    1.331 \n"
          ]
        },
        {
          "output_type": "stream",
          "name": "stderr",
          "text": [
            "4508it [01:56, 29.57it/s]"
          ]
        },
        {
          "output_type": "stream",
          "name": "stdout",
          "text": [
            "money: able, forced, much, it, fact, man, well, so, taken, them\n",
            "lion: behavior, former, lives, battle, africa, spain, seen, provided, addition, charge\n",
            "africa: america, europe, india, west, end, germany, east, nine, france, addition\n",
            "musician: actor, actress, singer, writer, author, nine, variety, poet, introduction, able\n",
            "dance: music, largest, addition, lack, forms, order, science, culture, one, jazz\n",
            "\n",
            "\n"
          ]
        },
        {
          "output_type": "stream",
          "name": "stderr",
          "text": [
            "4997it [02:07, 33.24it/s]"
          ]
        },
        {
          "output_type": "stream",
          "name": "stdout",
          "text": [
            "| epoch   8 |  5000/32580 batches | loss    1.330 \n"
          ]
        },
        {
          "output_type": "stream",
          "name": "stderr",
          "text": [
            "5004it [02:08, 17.74it/s]"
          ]
        },
        {
          "output_type": "stream",
          "name": "stdout",
          "text": [
            "money: able, forced, much, it, fact, man, well, so, taken, them\n",
            "lion: behavior, former, lives, battle, africa, spain, seen, provided, addition, charge\n",
            "africa: america, europe, india, west, end, germany, east, nine, france, addition\n",
            "musician: actor, actress, singer, writer, author, nine, variety, poet, introduction, able\n",
            "dance: music, largest, addition, lack, forms, order, science, culture, one, jazz\n",
            "\n",
            "\n"
          ]
        },
        {
          "output_type": "stream",
          "name": "stderr",
          "text": [
            "5496it [02:22, 44.60it/s]"
          ]
        },
        {
          "output_type": "stream",
          "name": "stdout",
          "text": [
            "| epoch   8 |  5500/32580 batches | loss    1.327 \n"
          ]
        },
        {
          "output_type": "stream",
          "name": "stderr",
          "text": [
            "5505it [02:23, 29.10it/s]"
          ]
        },
        {
          "output_type": "stream",
          "name": "stdout",
          "text": [
            "money: able, forced, much, it, fact, man, well, so, taken, them\n",
            "lion: behavior, former, lives, battle, africa, spain, seen, provided, addition, charge\n",
            "africa: america, europe, india, west, end, germany, east, nine, france, addition\n",
            "musician: actor, actress, singer, writer, author, nine, variety, poet, introduction, able\n",
            "dance: music, largest, addition, lack, forms, order, science, culture, one, jazz\n",
            "\n",
            "\n"
          ]
        },
        {
          "output_type": "stream",
          "name": "stderr",
          "text": [
            "6000it [02:34, 40.31it/s]"
          ]
        },
        {
          "output_type": "stream",
          "name": "stdout",
          "text": [
            "| epoch   8 |  6000/32580 batches | loss    1.332 \n"
          ]
        },
        {
          "output_type": "stream",
          "name": "stderr",
          "text": [
            "\r6005it [02:34, 20.86it/s]"
          ]
        },
        {
          "output_type": "stream",
          "name": "stdout",
          "text": [
            "money: able, forced, much, it, fact, man, well, so, taken, them\n",
            "lion: behavior, former, lives, battle, africa, spain, seen, provided, addition, charge\n",
            "africa: america, europe, india, west, end, germany, east, nine, france, addition\n",
            "musician: actor, actress, singer, writer, author, nine, variety, poet, introduction, able\n",
            "dance: music, largest, addition, lack, forms, order, science, culture, one, jazz\n",
            "\n",
            "\n"
          ]
        },
        {
          "output_type": "stream",
          "name": "stderr",
          "text": [
            "6500it [02:46, 46.25it/s]"
          ]
        },
        {
          "output_type": "stream",
          "name": "stdout",
          "text": [
            "| epoch   8 |  6500/32580 batches | loss    1.330 \n"
          ]
        },
        {
          "output_type": "stream",
          "name": "stderr",
          "text": [
            "\r6505it [02:47, 26.69it/s]"
          ]
        },
        {
          "output_type": "stream",
          "name": "stdout",
          "text": [
            "money: able, forced, much, it, fact, man, well, so, taken, them\n",
            "lion: behavior, former, lives, battle, africa, spain, seen, provided, addition, charge\n",
            "africa: america, europe, india, west, end, germany, east, nine, france, addition\n",
            "musician: actor, actress, singer, writer, author, nine, variety, poet, introduction, able\n",
            "dance: music, largest, addition, lack, forms, order, science, culture, one, jazz\n",
            "\n",
            "\n"
          ]
        },
        {
          "output_type": "stream",
          "name": "stderr",
          "text": [
            "7000it [02:59, 36.84it/s]"
          ]
        },
        {
          "output_type": "stream",
          "name": "stdout",
          "text": [
            "| epoch   8 |  7000/32580 batches | loss    1.330 \n"
          ]
        },
        {
          "output_type": "stream",
          "name": "stderr",
          "text": [
            "\r7004it [02:59, 17.32it/s]"
          ]
        },
        {
          "output_type": "stream",
          "name": "stdout",
          "text": [
            "money: able, forced, much, it, fact, man, well, so, taken, them\n",
            "lion: behavior, former, lives, battle, africa, spain, seen, provided, addition, charge\n",
            "africa: america, europe, india, west, end, germany, east, nine, france, addition\n",
            "musician: actor, actress, singer, writer, author, nine, variety, poet, introduction, able\n",
            "dance: music, largest, addition, lack, forms, order, science, culture, one, jazz\n",
            "\n",
            "\n"
          ]
        },
        {
          "output_type": "stream",
          "name": "stderr",
          "text": [
            "7498it [03:10, 47.95it/s]"
          ]
        },
        {
          "output_type": "stream",
          "name": "stdout",
          "text": [
            "| epoch   8 |  7500/32580 batches | loss    1.330 \n"
          ]
        },
        {
          "output_type": "stream",
          "name": "stderr",
          "text": [
            "7508it [03:11, 31.45it/s]"
          ]
        },
        {
          "output_type": "stream",
          "name": "stdout",
          "text": [
            "money: able, forced, much, it, fact, man, well, so, taken, them\n",
            "lion: behavior, former, lives, battle, africa, spain, seen, provided, addition, charge\n",
            "africa: america, europe, india, west, end, germany, east, nine, france, addition\n",
            "musician: actor, actress, singer, writer, author, nine, variety, poet, introduction, able\n",
            "dance: music, largest, addition, lack, forms, order, science, culture, one, jazz\n",
            "\n",
            "\n"
          ]
        },
        {
          "output_type": "stream",
          "name": "stderr",
          "text": [
            "7997it [03:23, 47.73it/s]"
          ]
        },
        {
          "output_type": "stream",
          "name": "stdout",
          "text": [
            "| epoch   8 |  8000/32580 batches | loss    1.332 \n"
          ]
        },
        {
          "output_type": "stream",
          "name": "stderr",
          "text": [
            "8007it [03:24, 31.14it/s]"
          ]
        },
        {
          "output_type": "stream",
          "name": "stdout",
          "text": [
            "money: able, forced, much, it, fact, man, well, so, taken, them\n",
            "lion: behavior, former, lives, battle, africa, spain, seen, provided, addition, charge\n",
            "africa: america, europe, india, west, end, germany, east, nine, france, addition\n",
            "musician: actor, actress, singer, writer, author, nine, variety, poet, introduction, able\n",
            "dance: music, largest, addition, lack, forms, order, science, culture, one, jazz\n",
            "\n",
            "\n"
          ]
        },
        {
          "output_type": "stream",
          "name": "stderr",
          "text": [
            "8499it [03:35, 33.03it/s]"
          ]
        },
        {
          "output_type": "stream",
          "name": "stdout",
          "text": [
            "| epoch   8 |  8500/32580 batches | loss    1.335 \n"
          ]
        },
        {
          "output_type": "stream",
          "name": "stderr",
          "text": [
            "\r8503it [03:36, 16.64it/s]"
          ]
        },
        {
          "output_type": "stream",
          "name": "stdout",
          "text": [
            "money: able, forced, much, it, fact, man, well, so, taken, them\n",
            "lion: behavior, former, lives, battle, africa, spain, seen, provided, addition, charge\n",
            "africa: america, europe, india, west, end, germany, east, nine, france, addition\n",
            "musician: actor, actress, singer, writer, author, nine, variety, poet, introduction, able\n",
            "dance: music, largest, addition, lack, forms, order, science, culture, one, jazz\n",
            "\n",
            "\n"
          ]
        },
        {
          "output_type": "stream",
          "name": "stderr",
          "text": [
            "8997it [03:47, 47.28it/s]"
          ]
        },
        {
          "output_type": "stream",
          "name": "stdout",
          "text": [
            "| epoch   8 |  9000/32580 batches | loss    1.332 \n"
          ]
        },
        {
          "output_type": "stream",
          "name": "stderr",
          "text": [
            "9007it [03:48, 30.66it/s]"
          ]
        },
        {
          "output_type": "stream",
          "name": "stdout",
          "text": [
            "money: able, forced, much, it, fact, man, well, so, taken, them\n",
            "lion: behavior, former, lives, battle, africa, spain, seen, provided, addition, charge\n",
            "africa: america, europe, india, west, end, germany, east, nine, france, addition\n",
            "musician: actor, actress, singer, writer, author, nine, variety, poet, introduction, able\n",
            "dance: music, largest, addition, lack, forms, order, science, culture, one, jazz\n",
            "\n",
            "\n"
          ]
        },
        {
          "output_type": "stream",
          "name": "stderr",
          "text": [
            "9496it [04:01, 47.36it/s]"
          ]
        },
        {
          "output_type": "stream",
          "name": "stdout",
          "text": [
            "| epoch   8 |  9500/32580 batches | loss    1.334 \n"
          ]
        },
        {
          "output_type": "stream",
          "name": "stderr",
          "text": [
            "9505it [04:01, 29.75it/s]"
          ]
        },
        {
          "output_type": "stream",
          "name": "stdout",
          "text": [
            "money: able, forced, much, it, fact, man, well, so, taken, them\n",
            "lion: behavior, former, lives, battle, africa, spain, seen, provided, addition, charge\n",
            "africa: america, europe, india, west, end, germany, east, nine, france, addition\n",
            "musician: actor, actress, singer, writer, author, nine, variety, poet, introduction, able\n",
            "dance: music, largest, addition, lack, forms, order, science, culture, one, jazz\n",
            "\n",
            "\n"
          ]
        },
        {
          "output_type": "stream",
          "name": "stderr",
          "text": [
            "9998it [04:12, 37.04it/s]"
          ]
        },
        {
          "output_type": "stream",
          "name": "stdout",
          "text": [
            "| epoch   8 | 10000/32580 batches | loss    1.330 \n"
          ]
        },
        {
          "output_type": "stream",
          "name": "stderr",
          "text": [
            "10006it [04:13, 21.58it/s]"
          ]
        },
        {
          "output_type": "stream",
          "name": "stdout",
          "text": [
            "money: able, forced, much, it, fact, man, well, so, taken, them\n",
            "lion: behavior, former, lives, battle, africa, spain, seen, provided, addition, charge\n",
            "africa: america, europe, india, west, end, germany, east, nine, france, addition\n",
            "musician: actor, actress, singer, writer, author, nine, variety, poet, introduction, able\n",
            "dance: music, largest, addition, lack, forms, order, science, culture, one, jazz\n",
            "\n",
            "\n"
          ]
        },
        {
          "output_type": "stream",
          "name": "stderr",
          "text": [
            "10496it [04:25, 48.48it/s]"
          ]
        },
        {
          "output_type": "stream",
          "name": "stdout",
          "text": [
            "| epoch   8 | 10500/32580 batches | loss    1.333 \n"
          ]
        },
        {
          "output_type": "stream",
          "name": "stderr",
          "text": [
            "10505it [04:25, 29.41it/s]"
          ]
        },
        {
          "output_type": "stream",
          "name": "stdout",
          "text": [
            "money: able, forced, much, it, fact, man, well, so, taken, them\n",
            "lion: behavior, former, lives, battle, africa, spain, seen, provided, addition, charge\n",
            "africa: america, europe, india, west, end, germany, east, nine, france, addition\n",
            "musician: actor, actress, singer, writer, author, nine, variety, poet, introduction, able\n",
            "dance: music, largest, addition, lack, forms, order, science, culture, one, jazz\n",
            "\n",
            "\n"
          ]
        },
        {
          "output_type": "stream",
          "name": "stderr",
          "text": [
            "11000it [04:37, 36.37it/s]"
          ]
        },
        {
          "output_type": "stream",
          "name": "stdout",
          "text": [
            "| epoch   8 | 11000/32580 batches | loss    1.332 \n"
          ]
        },
        {
          "output_type": "stream",
          "name": "stderr",
          "text": [
            "\r11004it [04:38, 17.61it/s]"
          ]
        },
        {
          "output_type": "stream",
          "name": "stdout",
          "text": [
            "money: able, forced, much, it, fact, man, well, so, taken, them\n",
            "lion: behavior, former, lives, battle, africa, spain, seen, provided, addition, charge\n",
            "africa: america, europe, india, west, end, germany, east, nine, france, addition\n",
            "musician: actor, actress, singer, writer, author, nine, variety, poet, introduction, able\n",
            "dance: music, largest, addition, lack, forms, order, science, culture, one, jazz\n",
            "\n",
            "\n"
          ]
        },
        {
          "output_type": "stream",
          "name": "stderr",
          "text": [
            "11499it [04:49, 48.74it/s]"
          ]
        },
        {
          "output_type": "stream",
          "name": "stdout",
          "text": [
            "| epoch   8 | 11500/32580 batches | loss    1.333 \n"
          ]
        },
        {
          "output_type": "stream",
          "name": "stderr",
          "text": [
            "\r11504it [04:49, 25.41it/s]"
          ]
        },
        {
          "output_type": "stream",
          "name": "stdout",
          "text": [
            "money: able, forced, much, it, fact, man, well, so, taken, them\n",
            "lion: behavior, former, lives, battle, africa, spain, seen, provided, addition, charge\n",
            "africa: america, europe, india, west, end, germany, east, nine, france, addition\n",
            "musician: actor, actress, singer, writer, author, nine, variety, poet, introduction, able\n",
            "dance: music, largest, addition, lack, forms, order, science, culture, one, jazz\n",
            "\n",
            "\n"
          ]
        },
        {
          "output_type": "stream",
          "name": "stderr",
          "text": [
            "12000it [05:04, 30.29it/s]"
          ]
        },
        {
          "output_type": "stream",
          "name": "stdout",
          "text": [
            "| epoch   8 | 12000/32580 batches | loss    1.330 \n"
          ]
        },
        {
          "output_type": "stream",
          "name": "stderr",
          "text": [
            "\r12004it [05:04, 15.38it/s]"
          ]
        },
        {
          "output_type": "stream",
          "name": "stdout",
          "text": [
            "money: able, forced, much, it, fact, man, well, so, taken, them\n",
            "lion: behavior, former, lives, battle, africa, spain, seen, provided, addition, charge\n",
            "africa: america, europe, india, west, end, germany, east, nine, france, addition\n",
            "musician: actor, actress, singer, writer, author, nine, variety, poet, introduction, able\n",
            "dance: music, largest, addition, lack, forms, order, science, culture, one, jazz\n",
            "\n",
            "\n"
          ]
        },
        {
          "output_type": "stream",
          "name": "stderr",
          "text": [
            "12496it [05:15, 47.73it/s]"
          ]
        },
        {
          "output_type": "stream",
          "name": "stdout",
          "text": [
            "| epoch   8 | 12500/32580 batches | loss    1.332 \n"
          ]
        },
        {
          "output_type": "stream",
          "name": "stderr",
          "text": [
            "12505it [05:16, 29.39it/s]"
          ]
        },
        {
          "output_type": "stream",
          "name": "stdout",
          "text": [
            "money: able, forced, much, it, fact, man, well, so, taken, them\n",
            "lion: behavior, former, lives, battle, africa, spain, seen, provided, addition, charge\n",
            "africa: america, europe, india, west, end, germany, east, nine, france, addition\n",
            "musician: actor, actress, singer, writer, author, nine, variety, poet, introduction, able\n",
            "dance: music, largest, addition, lack, forms, order, science, culture, one, jazz\n",
            "\n",
            "\n"
          ]
        },
        {
          "output_type": "stream",
          "name": "stderr",
          "text": [
            "12996it [05:28, 47.06it/s]"
          ]
        },
        {
          "output_type": "stream",
          "name": "stdout",
          "text": [
            "| epoch   8 | 13000/32580 batches | loss    1.334 \n"
          ]
        },
        {
          "output_type": "stream",
          "name": "stderr",
          "text": [
            "13005it [05:29, 29.40it/s]"
          ]
        },
        {
          "output_type": "stream",
          "name": "stdout",
          "text": [
            "money: able, forced, much, it, fact, man, well, so, taken, them\n",
            "lion: behavior, former, lives, battle, africa, spain, seen, provided, addition, charge\n",
            "africa: america, europe, india, west, end, germany, east, nine, france, addition\n",
            "musician: actor, actress, singer, writer, author, nine, variety, poet, introduction, able\n",
            "dance: music, largest, addition, lack, forms, order, science, culture, one, jazz\n",
            "\n",
            "\n"
          ]
        },
        {
          "output_type": "stream",
          "name": "stderr",
          "text": [
            "13498it [05:40, 37.04it/s]"
          ]
        },
        {
          "output_type": "stream",
          "name": "stdout",
          "text": [
            "| epoch   8 | 13500/32580 batches | loss    1.331 \n"
          ]
        },
        {
          "output_type": "stream",
          "name": "stderr",
          "text": [
            "13506it [05:41, 20.40it/s]"
          ]
        },
        {
          "output_type": "stream",
          "name": "stdout",
          "text": [
            "money: able, forced, much, it, fact, man, well, so, taken, them\n",
            "lion: behavior, former, lives, battle, africa, spain, seen, provided, addition, charge\n",
            "africa: america, europe, india, west, end, germany, east, nine, france, addition\n",
            "musician: actor, actress, singer, writer, author, nine, variety, poet, introduction, able\n",
            "dance: music, largest, addition, lack, forms, order, science, culture, one, jazz\n",
            "\n",
            "\n"
          ]
        },
        {
          "output_type": "stream",
          "name": "stderr",
          "text": [
            "14000it [05:52, 47.70it/s]"
          ]
        },
        {
          "output_type": "stream",
          "name": "stdout",
          "text": [
            "| epoch   8 | 14000/32580 batches | loss    1.327 \n"
          ]
        },
        {
          "output_type": "stream",
          "name": "stderr",
          "text": [
            "14010it [05:53, 31.47it/s]"
          ]
        },
        {
          "output_type": "stream",
          "name": "stdout",
          "text": [
            "money: able, forced, much, it, fact, man, well, so, taken, them\n",
            "lion: behavior, former, lives, battle, africa, spain, seen, provided, addition, charge\n",
            "africa: america, europe, india, west, end, germany, east, nine, france, addition\n",
            "musician: actor, actress, singer, writer, author, nine, variety, poet, introduction, able\n",
            "dance: music, largest, addition, lack, forms, order, science, culture, one, jazz\n",
            "\n",
            "\n"
          ]
        },
        {
          "output_type": "stream",
          "name": "stderr",
          "text": [
            "14499it [06:05, 34.89it/s]"
          ]
        },
        {
          "output_type": "stream",
          "name": "stdout",
          "text": [
            "| epoch   8 | 14500/32580 batches | loss    1.334 \n"
          ]
        },
        {
          "output_type": "stream",
          "name": "stderr",
          "text": [
            "\r14503it [06:06, 16.93it/s]"
          ]
        },
        {
          "output_type": "stream",
          "name": "stdout",
          "text": [
            "money: able, forced, much, it, fact, man, well, so, taken, them\n",
            "lion: behavior, former, lives, battle, africa, spain, seen, provided, addition, charge\n",
            "africa: america, europe, india, west, end, germany, east, nine, france, addition\n",
            "musician: actor, actress, singer, writer, author, nine, variety, poet, introduction, able\n",
            "dance: music, largest, addition, lack, forms, order, science, culture, one, jazz\n",
            "\n",
            "\n"
          ]
        },
        {
          "output_type": "stream",
          "name": "stderr",
          "text": [
            "15000it [06:16, 41.61it/s]"
          ]
        },
        {
          "output_type": "stream",
          "name": "stdout",
          "text": [
            "| epoch   8 | 15000/32580 batches | loss    1.334 \n"
          ]
        },
        {
          "output_type": "stream",
          "name": "stderr",
          "text": [
            "\r15005it [06:17, 21.05it/s]"
          ]
        },
        {
          "output_type": "stream",
          "name": "stdout",
          "text": [
            "money: able, forced, much, it, fact, man, well, so, taken, them\n",
            "lion: behavior, former, lives, battle, africa, spain, seen, provided, addition, charge\n",
            "africa: america, europe, india, west, end, germany, east, nine, france, addition\n",
            "musician: actor, actress, singer, writer, author, nine, variety, poet, introduction, able\n",
            "dance: music, largest, addition, lack, forms, order, science, culture, one, jazz\n",
            "\n",
            "\n"
          ]
        },
        {
          "output_type": "stream",
          "name": "stderr",
          "text": [
            "15499it [06:29, 48.15it/s]"
          ]
        },
        {
          "output_type": "stream",
          "name": "stdout",
          "text": [
            "| epoch   8 | 15500/32580 batches | loss    1.330 \n"
          ]
        },
        {
          "output_type": "stream",
          "name": "stderr",
          "text": [
            "15509it [06:30, 30.93it/s]"
          ]
        },
        {
          "output_type": "stream",
          "name": "stdout",
          "text": [
            "money: able, forced, much, it, fact, man, well, so, taken, them\n",
            "lion: behavior, former, lives, battle, africa, spain, seen, provided, addition, charge\n",
            "africa: america, europe, india, west, end, germany, east, nine, france, addition\n",
            "musician: actor, actress, singer, writer, author, nine, variety, poet, introduction, able\n",
            "dance: music, largest, addition, lack, forms, order, science, culture, one, jazz\n",
            "\n",
            "\n"
          ]
        },
        {
          "output_type": "stream",
          "name": "stderr",
          "text": [
            "15998it [06:41, 34.18it/s]"
          ]
        },
        {
          "output_type": "stream",
          "name": "stdout",
          "text": [
            "| epoch   8 | 16000/32580 batches | loss    1.336 \n"
          ]
        },
        {
          "output_type": "stream",
          "name": "stderr",
          "text": [
            "16006it [06:42, 19.72it/s]"
          ]
        },
        {
          "output_type": "stream",
          "name": "stdout",
          "text": [
            "money: able, forced, much, it, fact, man, well, so, taken, them\n",
            "lion: behavior, former, lives, battle, africa, spain, seen, provided, addition, charge\n",
            "africa: america, europe, india, west, end, germany, east, nine, france, addition\n",
            "musician: actor, actress, singer, writer, author, nine, variety, poet, introduction, able\n",
            "dance: music, largest, addition, lack, forms, order, science, culture, one, jazz\n",
            "\n",
            "\n"
          ]
        },
        {
          "output_type": "stream",
          "name": "stderr",
          "text": [
            "16496it [06:53, 48.38it/s]"
          ]
        },
        {
          "output_type": "stream",
          "name": "stdout",
          "text": [
            "| epoch   8 | 16500/32580 batches | loss    1.335 \n"
          ]
        },
        {
          "output_type": "stream",
          "name": "stderr",
          "text": [
            "16505it [06:54, 29.70it/s]"
          ]
        },
        {
          "output_type": "stream",
          "name": "stdout",
          "text": [
            "money: able, forced, much, it, fact, man, well, so, taken, them\n",
            "lion: behavior, former, lives, battle, africa, spain, seen, provided, addition, charge\n",
            "africa: america, europe, india, west, end, germany, east, nine, france, addition\n",
            "musician: actor, actress, singer, writer, author, nine, variety, poet, introduction, able\n",
            "dance: music, largest, addition, lack, forms, order, science, culture, one, jazz\n",
            "\n",
            "\n"
          ]
        },
        {
          "output_type": "stream",
          "name": "stderr",
          "text": [
            "16999it [07:07, 47.67it/s]"
          ]
        },
        {
          "output_type": "stream",
          "name": "stdout",
          "text": [
            "| epoch   8 | 17000/32580 batches | loss    1.330 \n"
          ]
        },
        {
          "output_type": "stream",
          "name": "stderr",
          "text": [
            "17009it [07:07, 30.57it/s]"
          ]
        },
        {
          "output_type": "stream",
          "name": "stdout",
          "text": [
            "money: able, forced, much, it, fact, man, well, so, taken, them\n",
            "lion: behavior, former, lives, battle, africa, spain, seen, provided, addition, charge\n",
            "africa: america, europe, india, west, end, germany, east, nine, france, addition\n",
            "musician: actor, actress, singer, writer, author, nine, variety, poet, introduction, able\n",
            "dance: music, largest, addition, lack, forms, order, science, culture, one, jazz\n",
            "\n",
            "\n"
          ]
        },
        {
          "output_type": "stream",
          "name": "stderr",
          "text": [
            "17498it [07:18, 35.03it/s]"
          ]
        },
        {
          "output_type": "stream",
          "name": "stdout",
          "text": [
            "| epoch   8 | 17500/32580 batches | loss    1.330 \n"
          ]
        },
        {
          "output_type": "stream",
          "name": "stderr",
          "text": [
            "17506it [07:18, 21.45it/s]"
          ]
        },
        {
          "output_type": "stream",
          "name": "stdout",
          "text": [
            "money: able, forced, much, it, fact, man, well, so, taken, them\n",
            "lion: behavior, former, lives, battle, africa, spain, seen, provided, addition, charge\n",
            "africa: america, europe, india, west, end, germany, east, nine, france, addition\n",
            "musician: actor, actress, singer, writer, author, nine, variety, poet, introduction, able\n",
            "dance: music, largest, addition, lack, forms, order, science, culture, one, jazz\n",
            "\n",
            "\n"
          ]
        },
        {
          "output_type": "stream",
          "name": "stderr",
          "text": [
            "17999it [07:31, 48.53it/s]"
          ]
        },
        {
          "output_type": "stream",
          "name": "stdout",
          "text": [
            "| epoch   8 | 18000/32580 batches | loss    1.331 \n"
          ]
        },
        {
          "output_type": "stream",
          "name": "stderr",
          "text": [
            "18009it [07:31, 30.19it/s]"
          ]
        },
        {
          "output_type": "stream",
          "name": "stdout",
          "text": [
            "money: able, forced, much, it, fact, man, well, so, taken, them\n",
            "lion: behavior, former, lives, battle, africa, spain, seen, provided, addition, charge\n",
            "africa: america, europe, india, west, end, germany, east, nine, france, addition\n",
            "musician: actor, actress, singer, writer, author, nine, variety, poet, introduction, able\n",
            "dance: music, largest, addition, lack, forms, order, science, culture, one, jazz\n",
            "\n",
            "\n"
          ]
        },
        {
          "output_type": "stream",
          "name": "stderr",
          "text": [
            "18499it [07:46, 32.16it/s]"
          ]
        },
        {
          "output_type": "stream",
          "name": "stdout",
          "text": [
            "| epoch   8 | 18500/32580 batches | loss    1.334 \n"
          ]
        },
        {
          "output_type": "stream",
          "name": "stderr",
          "text": [
            "\r18503it [07:46, 16.46it/s]"
          ]
        },
        {
          "output_type": "stream",
          "name": "stdout",
          "text": [
            "money: able, forced, much, it, fact, man, well, so, taken, them\n",
            "lion: behavior, former, lives, battle, africa, spain, seen, provided, addition, charge\n",
            "africa: america, europe, india, west, end, germany, east, nine, france, addition\n",
            "musician: actor, actress, singer, writer, author, nine, variety, poet, introduction, able\n",
            "dance: music, largest, addition, lack, forms, order, science, culture, one, jazz\n",
            "\n",
            "\n"
          ]
        },
        {
          "output_type": "stream",
          "name": "stderr",
          "text": [
            "18996it [07:57, 48.40it/s]"
          ]
        },
        {
          "output_type": "stream",
          "name": "stdout",
          "text": [
            "| epoch   8 | 19000/32580 batches | loss    1.337 \n"
          ]
        },
        {
          "output_type": "stream",
          "name": "stderr",
          "text": [
            "19005it [07:58, 30.35it/s]"
          ]
        },
        {
          "output_type": "stream",
          "name": "stdout",
          "text": [
            "money: able, forced, much, it, fact, man, well, so, taken, them\n",
            "lion: behavior, former, lives, battle, africa, spain, seen, provided, addition, charge\n",
            "africa: america, europe, india, west, end, germany, east, nine, france, addition\n",
            "musician: actor, actress, singer, writer, author, nine, variety, poet, introduction, able\n",
            "dance: music, largest, addition, lack, forms, order, science, culture, one, jazz\n",
            "\n",
            "\n"
          ]
        },
        {
          "output_type": "stream",
          "name": "stderr",
          "text": [
            "19497it [08:10, 48.28it/s]"
          ]
        },
        {
          "output_type": "stream",
          "name": "stdout",
          "text": [
            "| epoch   8 | 19500/32580 batches | loss    1.328 \n"
          ]
        },
        {
          "output_type": "stream",
          "name": "stderr",
          "text": [
            "19506it [08:11, 29.57it/s]"
          ]
        },
        {
          "output_type": "stream",
          "name": "stdout",
          "text": [
            "money: able, forced, much, it, fact, man, well, so, taken, them\n",
            "lion: behavior, former, lives, battle, africa, spain, seen, provided, addition, charge\n",
            "africa: america, europe, india, west, end, germany, east, nine, france, addition\n",
            "musician: actor, actress, singer, writer, author, nine, variety, poet, introduction, able\n",
            "dance: music, largest, addition, lack, forms, order, science, culture, one, jazz\n",
            "\n",
            "\n"
          ]
        },
        {
          "output_type": "stream",
          "name": "stderr",
          "text": [
            "19997it [08:22, 37.89it/s]"
          ]
        },
        {
          "output_type": "stream",
          "name": "stdout",
          "text": [
            "| epoch   8 | 20000/32580 batches | loss    1.333 \n"
          ]
        },
        {
          "output_type": "stream",
          "name": "stderr",
          "text": [
            "20004it [08:23, 19.93it/s]"
          ]
        },
        {
          "output_type": "stream",
          "name": "stdout",
          "text": [
            "money: able, forced, much, it, fact, man, well, so, taken, them\n",
            "lion: behavior, former, lives, battle, africa, spain, seen, provided, addition, charge\n",
            "africa: america, europe, india, west, end, germany, east, nine, france, addition\n",
            "musician: actor, actress, singer, writer, author, nine, variety, poet, introduction, able\n",
            "dance: music, largest, addition, lack, forms, order, science, culture, one, jazz\n",
            "\n",
            "\n"
          ]
        },
        {
          "output_type": "stream",
          "name": "stderr",
          "text": [
            "20500it [08:35, 47.77it/s]"
          ]
        },
        {
          "output_type": "stream",
          "name": "stdout",
          "text": [
            "| epoch   8 | 20500/32580 batches | loss    1.330 \n"
          ]
        },
        {
          "output_type": "stream",
          "name": "stderr",
          "text": [
            "\r20505it [08:35, 26.82it/s]"
          ]
        },
        {
          "output_type": "stream",
          "name": "stdout",
          "text": [
            "money: able, forced, much, it, fact, man, well, so, taken, them\n",
            "lion: behavior, former, lives, battle, africa, spain, seen, provided, addition, charge\n",
            "africa: america, europe, india, west, end, germany, east, nine, france, addition\n",
            "musician: actor, actress, singer, writer, author, nine, variety, poet, introduction, able\n",
            "dance: music, largest, addition, lack, forms, order, science, culture, one, jazz\n",
            "\n",
            "\n"
          ]
        },
        {
          "output_type": "stream",
          "name": "stderr",
          "text": [
            "20997it [08:47, 36.45it/s]"
          ]
        },
        {
          "output_type": "stream",
          "name": "stdout",
          "text": [
            "| epoch   8 | 21000/32580 batches | loss    1.331 \n"
          ]
        },
        {
          "output_type": "stream",
          "name": "stderr",
          "text": [
            "21004it [08:48, 19.18it/s]"
          ]
        },
        {
          "output_type": "stream",
          "name": "stdout",
          "text": [
            "money: able, forced, much, it, fact, man, well, so, taken, them\n",
            "lion: behavior, former, lives, battle, africa, spain, seen, provided, addition, charge\n",
            "africa: america, europe, india, west, end, germany, east, nine, france, addition\n",
            "musician: actor, actress, singer, writer, author, nine, variety, poet, introduction, able\n",
            "dance: music, largest, addition, lack, forms, order, science, culture, one, jazz\n",
            "\n",
            "\n"
          ]
        },
        {
          "output_type": "stream",
          "name": "stderr",
          "text": [
            "21496it [08:58, 48.41it/s]"
          ]
        },
        {
          "output_type": "stream",
          "name": "stdout",
          "text": [
            "| epoch   8 | 21500/32580 batches | loss    1.331 \n"
          ]
        },
        {
          "output_type": "stream",
          "name": "stderr",
          "text": [
            "21505it [08:59, 26.41it/s]"
          ]
        },
        {
          "output_type": "stream",
          "name": "stdout",
          "text": [
            "money: able, forced, much, it, fact, man, well, so, taken, them\n",
            "lion: behavior, former, lives, battle, africa, spain, seen, provided, addition, charge\n",
            "africa: america, europe, india, west, end, germany, east, nine, france, addition\n",
            "musician: actor, actress, singer, writer, author, nine, variety, poet, introduction, able\n",
            "dance: music, largest, addition, lack, forms, order, science, culture, one, jazz\n",
            "\n",
            "\n"
          ]
        },
        {
          "output_type": "stream",
          "name": "stderr",
          "text": [
            "21998it [09:12, 46.03it/s]"
          ]
        },
        {
          "output_type": "stream",
          "name": "stdout",
          "text": [
            "| epoch   8 | 22000/32580 batches | loss    1.332 \n"
          ]
        },
        {
          "output_type": "stream",
          "name": "stderr",
          "text": [
            "22008it [09:12, 30.80it/s]"
          ]
        },
        {
          "output_type": "stream",
          "name": "stdout",
          "text": [
            "money: able, forced, much, it, fact, man, well, so, taken, them\n",
            "lion: behavior, former, lives, battle, africa, spain, seen, provided, addition, charge\n",
            "africa: america, europe, india, west, end, germany, east, nine, france, addition\n",
            "musician: actor, actress, singer, writer, author, nine, variety, poet, introduction, able\n",
            "dance: music, largest, addition, lack, forms, order, science, culture, one, jazz\n",
            "\n",
            "\n"
          ]
        },
        {
          "output_type": "stream",
          "name": "stderr",
          "text": [
            "22497it [09:24, 34.28it/s]"
          ]
        },
        {
          "output_type": "stream",
          "name": "stdout",
          "text": [
            "| epoch   8 | 22500/32580 batches | loss    1.331 \n"
          ]
        },
        {
          "output_type": "stream",
          "name": "stderr",
          "text": [
            "22504it [09:24, 19.44it/s]"
          ]
        },
        {
          "output_type": "stream",
          "name": "stdout",
          "text": [
            "money: able, forced, much, it, fact, man, well, so, taken, them\n",
            "lion: behavior, former, lives, battle, africa, spain, seen, provided, addition, charge\n",
            "africa: america, europe, india, west, end, germany, east, nine, france, addition\n",
            "musician: actor, actress, singer, writer, author, nine, variety, poet, introduction, able\n",
            "dance: music, largest, addition, lack, forms, order, science, culture, one, jazz\n",
            "\n",
            "\n"
          ]
        },
        {
          "output_type": "stream",
          "name": "stderr",
          "text": [
            "22996it [09:39, 44.57it/s]"
          ]
        },
        {
          "output_type": "stream",
          "name": "stdout",
          "text": [
            "| epoch   8 | 23000/32580 batches | loss    1.327 \n"
          ]
        },
        {
          "output_type": "stream",
          "name": "stderr",
          "text": [
            "23005it [09:39, 25.22it/s]"
          ]
        },
        {
          "output_type": "stream",
          "name": "stdout",
          "text": [
            "money: able, forced, much, it, fact, man, well, so, taken, them\n",
            "lion: behavior, former, lives, battle, africa, spain, seen, provided, addition, charge\n",
            "africa: america, europe, india, west, end, germany, east, nine, france, addition\n",
            "musician: actor, actress, singer, writer, author, nine, variety, poet, introduction, able\n",
            "dance: music, largest, addition, lack, forms, order, science, culture, one, jazz\n",
            "\n",
            "\n"
          ]
        },
        {
          "output_type": "stream",
          "name": "stderr",
          "text": [
            "23498it [09:52, 47.29it/s]"
          ]
        },
        {
          "output_type": "stream",
          "name": "stdout",
          "text": [
            "| epoch   8 | 23500/32580 batches | loss    1.332 \n"
          ]
        },
        {
          "output_type": "stream",
          "name": "stderr",
          "text": [
            "23508it [09:52, 31.13it/s]"
          ]
        },
        {
          "output_type": "stream",
          "name": "stdout",
          "text": [
            "money: able, forced, much, it, fact, man, well, so, taken, them\n",
            "lion: behavior, former, lives, battle, africa, spain, seen, provided, addition, charge\n",
            "africa: america, europe, india, west, end, germany, east, nine, france, addition\n",
            "musician: actor, actress, singer, writer, author, nine, variety, poet, introduction, able\n",
            "dance: music, largest, addition, lack, forms, order, science, culture, one, jazz\n",
            "\n",
            "\n"
          ]
        },
        {
          "output_type": "stream",
          "name": "stderr",
          "text": [
            "23999it [10:04, 35.91it/s]"
          ]
        },
        {
          "output_type": "stream",
          "name": "stdout",
          "text": [
            "| epoch   8 | 24000/32580 batches | loss    1.335 \n"
          ]
        },
        {
          "output_type": "stream",
          "name": "stderr",
          "text": [
            "24007it [10:05, 20.11it/s]"
          ]
        },
        {
          "output_type": "stream",
          "name": "stdout",
          "text": [
            "money: able, forced, much, it, fact, man, well, so, taken, them\n",
            "lion: behavior, former, lives, battle, africa, spain, seen, provided, addition, charge\n",
            "africa: america, europe, india, west, end, germany, east, nine, france, addition\n",
            "musician: actor, actress, singer, writer, author, nine, variety, poet, introduction, able\n",
            "dance: music, largest, addition, lack, forms, order, science, culture, one, jazz\n",
            "\n",
            "\n"
          ]
        },
        {
          "output_type": "stream",
          "name": "stderr",
          "text": [
            "24498it [10:17, 36.36it/s]"
          ]
        },
        {
          "output_type": "stream",
          "name": "stdout",
          "text": [
            "| epoch   8 | 24500/32580 batches | loss    1.333 \n"
          ]
        },
        {
          "output_type": "stream",
          "name": "stderr",
          "text": [
            "24506it [10:17, 20.18it/s]"
          ]
        },
        {
          "output_type": "stream",
          "name": "stdout",
          "text": [
            "money: able, forced, much, it, fact, man, well, so, taken, them\n",
            "lion: behavior, former, lives, battle, africa, spain, seen, provided, addition, charge\n",
            "africa: america, europe, india, west, end, germany, east, nine, france, addition\n",
            "musician: actor, actress, singer, writer, author, nine, variety, poet, introduction, able\n",
            "dance: music, largest, addition, lack, forms, order, science, culture, one, jazz\n",
            "\n",
            "\n"
          ]
        },
        {
          "output_type": "stream",
          "name": "stderr",
          "text": [
            "24996it [10:32, 40.15it/s]"
          ]
        },
        {
          "output_type": "stream",
          "name": "stdout",
          "text": [
            "| epoch   8 | 25000/32580 batches | loss    1.328 \n"
          ]
        },
        {
          "output_type": "stream",
          "name": "stderr",
          "text": [
            "25005it [10:32, 28.37it/s]"
          ]
        },
        {
          "output_type": "stream",
          "name": "stdout",
          "text": [
            "money: able, forced, much, it, fact, man, well, so, taken, them\n",
            "lion: behavior, former, lives, battle, africa, spain, seen, provided, addition, charge\n",
            "africa: america, europe, india, west, end, germany, east, nine, france, addition\n",
            "musician: actor, actress, singer, writer, author, nine, variety, poet, introduction, able\n",
            "dance: music, largest, addition, lack, forms, order, science, culture, one, jazz\n",
            "\n",
            "\n"
          ]
        },
        {
          "output_type": "stream",
          "name": "stderr",
          "text": [
            "25497it [10:43, 37.01it/s]"
          ]
        },
        {
          "output_type": "stream",
          "name": "stdout",
          "text": [
            "| epoch   8 | 25500/32580 batches | loss    1.330 \n"
          ]
        },
        {
          "output_type": "stream",
          "name": "stderr",
          "text": [
            "25505it [10:43, 23.34it/s]"
          ]
        },
        {
          "output_type": "stream",
          "name": "stdout",
          "text": [
            "money: able, forced, much, it, fact, man, well, so, taken, them\n",
            "lion: behavior, former, lives, battle, africa, spain, seen, provided, addition, charge\n",
            "africa: america, europe, india, west, end, germany, east, nine, france, addition\n",
            "musician: actor, actress, singer, writer, author, nine, variety, poet, introduction, able\n",
            "dance: music, largest, addition, lack, forms, order, science, culture, one, jazz\n",
            "\n",
            "\n"
          ]
        },
        {
          "output_type": "stream",
          "name": "stderr",
          "text": [
            "25996it [10:56, 46.72it/s]"
          ]
        },
        {
          "output_type": "stream",
          "name": "stdout",
          "text": [
            "| epoch   8 | 26000/32580 batches | loss    1.329 \n"
          ]
        },
        {
          "output_type": "stream",
          "name": "stderr",
          "text": [
            "26005it [10:56, 29.73it/s]"
          ]
        },
        {
          "output_type": "stream",
          "name": "stdout",
          "text": [
            "money: able, forced, much, it, fact, man, well, so, taken, them\n",
            "lion: behavior, former, lives, battle, africa, spain, seen, provided, addition, charge\n",
            "africa: america, europe, india, west, end, germany, east, nine, france, addition\n",
            "musician: actor, actress, singer, writer, author, nine, variety, poet, introduction, able\n",
            "dance: music, largest, addition, lack, forms, order, science, culture, one, jazz\n",
            "\n",
            "\n"
          ]
        },
        {
          "output_type": "stream",
          "name": "stderr",
          "text": [
            "26498it [11:08, 35.33it/s]"
          ]
        },
        {
          "output_type": "stream",
          "name": "stdout",
          "text": [
            "| epoch   8 | 26500/32580 batches | loss    1.327 \n"
          ]
        },
        {
          "output_type": "stream",
          "name": "stderr",
          "text": [
            "26505it [11:09, 19.87it/s]"
          ]
        },
        {
          "output_type": "stream",
          "name": "stdout",
          "text": [
            "money: able, forced, much, it, fact, man, well, so, taken, them\n",
            "lion: behavior, former, lives, battle, africa, spain, seen, provided, addition, charge\n",
            "africa: america, europe, india, west, end, germany, east, nine, france, addition\n",
            "musician: actor, actress, singer, writer, author, nine, variety, poet, introduction, able\n",
            "dance: music, largest, addition, lack, forms, order, science, culture, one, jazz\n",
            "\n",
            "\n"
          ]
        },
        {
          "output_type": "stream",
          "name": "stderr",
          "text": [
            "26999it [11:20, 46.61it/s]"
          ]
        },
        {
          "output_type": "stream",
          "name": "stdout",
          "text": [
            "| epoch   8 | 27000/32580 batches | loss    1.326 \n"
          ]
        },
        {
          "output_type": "stream",
          "name": "stderr",
          "text": [
            "27009it [11:20, 31.33it/s]"
          ]
        },
        {
          "output_type": "stream",
          "name": "stdout",
          "text": [
            "money: able, forced, much, it, fact, man, well, so, taken, them\n",
            "lion: behavior, former, lives, battle, africa, spain, seen, provided, addition, charge\n",
            "africa: america, europe, india, west, end, germany, east, nine, france, addition\n",
            "musician: actor, actress, singer, writer, author, nine, variety, poet, introduction, able\n",
            "dance: music, largest, addition, lack, forms, order, science, culture, one, jazz\n",
            "\n",
            "\n"
          ]
        },
        {
          "output_type": "stream",
          "name": "stderr",
          "text": [
            "27496it [11:33, 47.91it/s]"
          ]
        },
        {
          "output_type": "stream",
          "name": "stdout",
          "text": [
            "| epoch   8 | 27500/32580 batches | loss    1.332 \n"
          ]
        },
        {
          "output_type": "stream",
          "name": "stderr",
          "text": [
            "27505it [11:33, 29.89it/s]"
          ]
        },
        {
          "output_type": "stream",
          "name": "stdout",
          "text": [
            "money: able, forced, much, it, fact, man, well, so, taken, them\n",
            "lion: behavior, former, lives, battle, africa, spain, seen, provided, addition, charge\n",
            "africa: america, europe, india, west, end, germany, east, nine, france, addition\n",
            "musician: actor, actress, singer, writer, author, nine, variety, poet, introduction, able\n",
            "dance: music, largest, addition, lack, forms, order, science, culture, one, jazz\n",
            "\n",
            "\n"
          ]
        },
        {
          "output_type": "stream",
          "name": "stderr",
          "text": [
            "27999it [11:44, 36.70it/s]"
          ]
        },
        {
          "output_type": "stream",
          "name": "stdout",
          "text": [
            "| epoch   8 | 28000/32580 batches | loss    1.328 \n"
          ]
        },
        {
          "output_type": "stream",
          "name": "stderr",
          "text": [
            "\r28003it [11:45, 17.36it/s]"
          ]
        },
        {
          "output_type": "stream",
          "name": "stdout",
          "text": [
            "money: able, forced, much, it, fact, man, well, so, taken, them\n",
            "lion: behavior, former, lives, battle, africa, spain, seen, provided, addition, charge\n",
            "africa: america, europe, india, west, end, germany, east, nine, france, addition\n",
            "musician: actor, actress, singer, writer, author, nine, variety, poet, introduction, able\n",
            "dance: music, largest, addition, lack, forms, order, science, culture, one, jazz\n",
            "\n",
            "\n"
          ]
        },
        {
          "output_type": "stream",
          "name": "stderr",
          "text": [
            "28499it [11:57, 47.96it/s]"
          ]
        },
        {
          "output_type": "stream",
          "name": "stdout",
          "text": [
            "| epoch   8 | 28500/32580 batches | loss    1.332 \n"
          ]
        },
        {
          "output_type": "stream",
          "name": "stderr",
          "text": [
            "28509it [11:57, 31.27it/s]"
          ]
        },
        {
          "output_type": "stream",
          "name": "stdout",
          "text": [
            "money: able, forced, much, it, fact, man, well, so, taken, them\n",
            "lion: behavior, former, lives, battle, africa, spain, seen, provided, addition, charge\n",
            "africa: america, europe, india, west, end, germany, east, nine, france, addition\n",
            "musician: actor, actress, singer, writer, author, nine, variety, poet, introduction, able\n",
            "dance: music, largest, addition, lack, forms, order, science, culture, one, jazz\n",
            "\n",
            "\n"
          ]
        },
        {
          "output_type": "stream",
          "name": "stderr",
          "text": [
            "28999it [12:10, 34.79it/s]"
          ]
        },
        {
          "output_type": "stream",
          "name": "stdout",
          "text": [
            "| epoch   8 | 29000/32580 batches | loss    1.332 \n"
          ]
        },
        {
          "output_type": "stream",
          "name": "stderr",
          "text": [
            "29007it [12:11, 22.22it/s]"
          ]
        },
        {
          "output_type": "stream",
          "name": "stdout",
          "text": [
            "money: able, forced, much, it, fact, man, well, so, taken, them\n",
            "lion: behavior, former, lives, battle, africa, spain, seen, provided, addition, charge\n",
            "africa: america, europe, india, west, end, germany, east, nine, france, addition\n",
            "musician: actor, actress, singer, writer, author, nine, variety, poet, introduction, able\n",
            "dance: music, largest, addition, lack, forms, order, science, culture, one, jazz\n",
            "\n",
            "\n"
          ]
        },
        {
          "output_type": "stream",
          "name": "stderr",
          "text": [
            "29497it [12:21, 39.87it/s]"
          ]
        },
        {
          "output_type": "stream",
          "name": "stdout",
          "text": [
            "| epoch   8 | 29500/32580 batches | loss    1.333 \n"
          ]
        },
        {
          "output_type": "stream",
          "name": "stderr",
          "text": [
            "29506it [12:22, 23.83it/s]"
          ]
        },
        {
          "output_type": "stream",
          "name": "stdout",
          "text": [
            "money: able, forced, much, it, fact, man, well, so, taken, them\n",
            "lion: behavior, former, lives, battle, africa, spain, seen, provided, addition, charge\n",
            "africa: america, europe, india, west, end, germany, east, nine, france, addition\n",
            "musician: actor, actress, singer, writer, author, nine, variety, poet, introduction, able\n",
            "dance: music, largest, addition, lack, forms, order, science, culture, one, jazz\n",
            "\n",
            "\n"
          ]
        },
        {
          "output_type": "stream",
          "name": "stderr",
          "text": [
            "29998it [12:34, 47.80it/s]"
          ]
        },
        {
          "output_type": "stream",
          "name": "stdout",
          "text": [
            "| epoch   8 | 30000/32580 batches | loss    1.330 \n"
          ]
        },
        {
          "output_type": "stream",
          "name": "stderr",
          "text": [
            "30008it [12:35, 30.78it/s]"
          ]
        },
        {
          "output_type": "stream",
          "name": "stdout",
          "text": [
            "money: able, forced, much, it, fact, man, well, so, taken, them\n",
            "lion: behavior, former, lives, battle, africa, spain, seen, provided, addition, charge\n",
            "africa: america, europe, india, west, end, germany, east, nine, france, addition\n",
            "musician: actor, actress, singer, writer, author, nine, variety, poet, introduction, able\n",
            "dance: music, largest, addition, lack, forms, order, science, culture, one, jazz\n",
            "\n",
            "\n"
          ]
        },
        {
          "output_type": "stream",
          "name": "stderr",
          "text": [
            "30499it [12:46, 36.36it/s]"
          ]
        },
        {
          "output_type": "stream",
          "name": "stdout",
          "text": [
            "| epoch   8 | 30500/32580 batches | loss    1.330 \n"
          ]
        },
        {
          "output_type": "stream",
          "name": "stderr",
          "text": [
            "\r30503it [12:47, 17.40it/s]"
          ]
        },
        {
          "output_type": "stream",
          "name": "stdout",
          "text": [
            "money: able, forced, much, it, fact, man, well, so, taken, them\n",
            "lion: behavior, former, lives, battle, africa, spain, seen, provided, addition, charge\n",
            "africa: america, europe, india, west, end, germany, east, nine, france, addition\n",
            "musician: actor, actress, singer, writer, author, nine, variety, poet, introduction, able\n",
            "dance: music, largest, addition, lack, forms, order, science, culture, one, jazz\n",
            "\n",
            "\n"
          ]
        },
        {
          "output_type": "stream",
          "name": "stderr",
          "text": [
            "31000it [12:59, 37.23it/s]"
          ]
        },
        {
          "output_type": "stream",
          "name": "stdout",
          "text": [
            "| epoch   8 | 31000/32580 batches | loss    1.330 \n"
          ]
        },
        {
          "output_type": "stream",
          "name": "stderr",
          "text": [
            "\r31004it [13:00, 17.26it/s]"
          ]
        },
        {
          "output_type": "stream",
          "name": "stdout",
          "text": [
            "money: able, forced, much, it, fact, man, well, so, taken, them\n",
            "lion: behavior, former, lives, battle, africa, spain, seen, provided, addition, charge\n",
            "africa: america, europe, india, west, end, germany, east, nine, france, addition\n",
            "musician: actor, actress, singer, writer, author, nine, variety, poet, introduction, able\n",
            "dance: music, largest, addition, lack, forms, order, science, culture, one, jazz\n",
            "\n",
            "\n"
          ]
        },
        {
          "output_type": "stream",
          "name": "stderr",
          "text": [
            "31496it [13:14, 42.16it/s]"
          ]
        },
        {
          "output_type": "stream",
          "name": "stdout",
          "text": [
            "| epoch   8 | 31500/32580 batches | loss    1.331 \n"
          ]
        },
        {
          "output_type": "stream",
          "name": "stderr",
          "text": [
            "31505it [13:15, 28.49it/s]"
          ]
        },
        {
          "output_type": "stream",
          "name": "stdout",
          "text": [
            "money: able, forced, much, it, fact, man, well, so, taken, them\n",
            "lion: behavior, former, lives, battle, africa, spain, seen, provided, addition, charge\n",
            "africa: america, europe, india, west, end, germany, east, nine, france, addition\n",
            "musician: actor, actress, singer, writer, author, nine, variety, poet, introduction, able\n",
            "dance: music, largest, addition, lack, forms, order, science, culture, one, jazz\n",
            "\n",
            "\n"
          ]
        },
        {
          "output_type": "stream",
          "name": "stderr",
          "text": [
            "31997it [13:25, 40.43it/s]"
          ]
        },
        {
          "output_type": "stream",
          "name": "stdout",
          "text": [
            "| epoch   8 | 32000/32580 batches | loss    1.330 \n"
          ]
        },
        {
          "output_type": "stream",
          "name": "stderr",
          "text": [
            "32006it [13:26, 23.31it/s]"
          ]
        },
        {
          "output_type": "stream",
          "name": "stdout",
          "text": [
            "money: able, forced, much, it, fact, man, well, so, taken, them\n",
            "lion: behavior, former, lives, battle, africa, spain, seen, provided, addition, charge\n",
            "africa: america, europe, india, west, end, germany, east, nine, france, addition\n",
            "musician: actor, actress, singer, writer, author, nine, variety, poet, introduction, able\n",
            "dance: music, largest, addition, lack, forms, order, science, culture, one, jazz\n",
            "\n",
            "\n"
          ]
        },
        {
          "output_type": "stream",
          "name": "stderr",
          "text": [
            "32499it [13:38, 48.30it/s]"
          ]
        },
        {
          "output_type": "stream",
          "name": "stdout",
          "text": [
            "| epoch   8 | 32500/32580 batches | loss    1.331 \n"
          ]
        },
        {
          "output_type": "stream",
          "name": "stderr",
          "text": [
            "32509it [13:39, 31.48it/s]"
          ]
        },
        {
          "output_type": "stream",
          "name": "stdout",
          "text": [
            "money: able, forced, much, it, fact, man, well, so, taken, them\n",
            "lion: behavior, former, lives, battle, africa, spain, seen, provided, addition, charge\n",
            "africa: america, europe, india, west, end, germany, east, nine, france, addition\n",
            "musician: actor, actress, singer, writer, author, nine, variety, poet, introduction, able\n",
            "dance: music, largest, addition, lack, forms, order, science, culture, one, jazz\n",
            "\n",
            "\n"
          ]
        },
        {
          "output_type": "stream",
          "name": "stderr",
          "text": [
            "32580it [13:42, 39.61it/s]\n",
            "0it [00:00, ?it/s]"
          ]
        },
        {
          "output_type": "stream",
          "name": "stdout",
          "text": [
            "| epoch   9 |     0/32580 batches | loss    1.331 \n"
          ]
        },
        {
          "output_type": "stream",
          "name": "stderr",
          "text": [
            "\r1it [00:02,  2.37s/it]"
          ]
        },
        {
          "output_type": "stream",
          "name": "stdout",
          "text": [
            "money: able, forced, much, it, fact, man, well, so, taken, them\n",
            "lion: behavior, former, lives, battle, africa, spain, seen, provided, addition, charge\n",
            "africa: america, europe, india, west, end, germany, east, nine, france, addition\n",
            "musician: actor, actress, singer, writer, author, nine, variety, poet, introduction, able\n",
            "dance: music, largest, addition, lack, forms, order, science, culture, one, jazz\n",
            "\n",
            "\n"
          ]
        },
        {
          "output_type": "stream",
          "name": "stderr",
          "text": [
            "496it [00:15, 47.94it/s]"
          ]
        },
        {
          "output_type": "stream",
          "name": "stdout",
          "text": [
            "| epoch   9 |   500/32580 batches | loss    1.327 \n"
          ]
        },
        {
          "output_type": "stream",
          "name": "stderr",
          "text": [
            "505it [00:15, 29.20it/s]"
          ]
        },
        {
          "output_type": "stream",
          "name": "stdout",
          "text": [
            "money: able, forced, much, it, fact, man, well, so, taken, them\n",
            "lion: behavior, former, lives, battle, africa, spain, seen, provided, addition, charge\n",
            "africa: america, europe, india, west, end, germany, east, nine, france, addition\n",
            "musician: actor, actress, singer, writer, author, nine, variety, poet, introduction, able\n",
            "dance: music, largest, addition, lack, forms, order, science, culture, one, jazz\n",
            "\n",
            "\n"
          ]
        },
        {
          "output_type": "stream",
          "name": "stderr",
          "text": [
            "998it [00:27, 37.05it/s]"
          ]
        },
        {
          "output_type": "stream",
          "name": "stdout",
          "text": [
            "| epoch   9 |  1000/32580 batches | loss    1.330 \n"
          ]
        },
        {
          "output_type": "stream",
          "name": "stderr",
          "text": [
            "1005it [00:27, 20.05it/s]"
          ]
        },
        {
          "output_type": "stream",
          "name": "stdout",
          "text": [
            "money: able, forced, much, it, fact, man, well, so, taken, them\n",
            "lion: behavior, former, lives, battle, africa, spain, seen, provided, addition, charge\n",
            "africa: america, europe, india, west, end, germany, east, nine, france, addition\n",
            "musician: actor, actress, singer, writer, author, nine, variety, poet, introduction, able\n",
            "dance: music, largest, addition, lack, forms, order, science, culture, one, jazz\n",
            "\n",
            "\n"
          ]
        },
        {
          "output_type": "stream",
          "name": "stderr",
          "text": [
            "1499it [00:39, 48.09it/s]"
          ]
        },
        {
          "output_type": "stream",
          "name": "stdout",
          "text": [
            "| epoch   9 |  1500/32580 batches | loss    1.327 \n"
          ]
        },
        {
          "output_type": "stream",
          "name": "stderr",
          "text": [
            "1509it [00:39, 31.09it/s]"
          ]
        },
        {
          "output_type": "stream",
          "name": "stdout",
          "text": [
            "money: able, forced, much, it, fact, man, well, so, taken, them\n",
            "lion: behavior, former, lives, battle, africa, spain, seen, provided, addition, charge\n",
            "africa: america, europe, india, west, end, germany, east, nine, france, addition\n",
            "musician: actor, actress, singer, writer, author, nine, variety, poet, introduction, able\n",
            "dance: music, largest, addition, lack, forms, order, science, culture, one, jazz\n",
            "\n",
            "\n"
          ]
        },
        {
          "output_type": "stream",
          "name": "stderr",
          "text": [
            "1998it [00:52, 48.46it/s]"
          ]
        },
        {
          "output_type": "stream",
          "name": "stdout",
          "text": [
            "| epoch   9 |  2000/32580 batches | loss    1.328 \n"
          ]
        },
        {
          "output_type": "stream",
          "name": "stderr",
          "text": [
            "2008it [00:52, 31.40it/s]"
          ]
        },
        {
          "output_type": "stream",
          "name": "stdout",
          "text": [
            "money: able, forced, much, it, fact, man, well, so, taken, them\n",
            "lion: behavior, former, lives, battle, africa, spain, seen, provided, addition, charge\n",
            "africa: america, europe, india, west, end, germany, east, nine, france, addition\n",
            "musician: actor, actress, singer, writer, author, nine, variety, poet, introduction, able\n",
            "dance: music, largest, addition, lack, forms, order, science, culture, one, jazz\n",
            "\n",
            "\n"
          ]
        },
        {
          "output_type": "stream",
          "name": "stderr",
          "text": [
            "2499it [01:03, 35.26it/s]"
          ]
        },
        {
          "output_type": "stream",
          "name": "stdout",
          "text": [
            "| epoch   9 |  2500/32580 batches | loss    1.334 \n"
          ]
        },
        {
          "output_type": "stream",
          "name": "stderr",
          "text": [
            "\r2503it [01:03, 17.65it/s]"
          ]
        },
        {
          "output_type": "stream",
          "name": "stdout",
          "text": [
            "money: able, forced, much, it, fact, man, well, so, taken, them\n",
            "lion: behavior, former, lives, battle, africa, spain, seen, provided, addition, charge\n",
            "africa: america, europe, india, west, end, germany, east, nine, france, addition\n",
            "musician: actor, actress, singer, writer, author, nine, variety, poet, introduction, able\n",
            "dance: music, largest, addition, lack, forms, order, science, culture, one, jazz\n",
            "\n",
            "\n"
          ]
        },
        {
          "output_type": "stream",
          "name": "stderr",
          "text": [
            "2997it [01:16, 48.14it/s]"
          ]
        },
        {
          "output_type": "stream",
          "name": "stdout",
          "text": [
            "| epoch   9 |  3000/32580 batches | loss    1.331 \n"
          ]
        },
        {
          "output_type": "stream",
          "name": "stderr",
          "text": [
            "3006it [01:16, 29.16it/s]"
          ]
        },
        {
          "output_type": "stream",
          "name": "stdout",
          "text": [
            "money: able, forced, much, it, fact, man, well, so, taken, them\n",
            "lion: behavior, former, lives, battle, africa, spain, seen, provided, addition, charge\n",
            "africa: america, europe, india, west, end, germany, east, nine, france, addition\n",
            "musician: actor, actress, singer, writer, author, nine, variety, poet, introduction, able\n",
            "dance: music, largest, addition, lack, forms, order, science, culture, one, jazz\n",
            "\n",
            "\n"
          ]
        },
        {
          "output_type": "stream",
          "name": "stderr",
          "text": [
            "3500it [01:28, 36.51it/s]"
          ]
        },
        {
          "output_type": "stream",
          "name": "stdout",
          "text": [
            "| epoch   9 |  3500/32580 batches | loss    1.333 \n"
          ]
        },
        {
          "output_type": "stream",
          "name": "stderr",
          "text": [
            "\r3504it [01:29, 18.02it/s]"
          ]
        },
        {
          "output_type": "stream",
          "name": "stdout",
          "text": [
            "money: able, forced, much, it, fact, man, well, so, taken, them\n",
            "lion: behavior, former, lives, battle, africa, spain, seen, provided, addition, charge\n",
            "africa: america, europe, india, west, end, germany, east, nine, france, addition\n",
            "musician: actor, actress, singer, writer, author, nine, variety, poet, introduction, able\n",
            "dance: music, largest, addition, lack, forms, order, science, culture, one, jazz\n",
            "\n",
            "\n"
          ]
        },
        {
          "output_type": "stream",
          "name": "stderr",
          "text": [
            "3996it [01:39, 48.08it/s]"
          ]
        },
        {
          "output_type": "stream",
          "name": "stdout",
          "text": [
            "| epoch   9 |  4000/32580 batches | loss    1.329 \n"
          ]
        },
        {
          "output_type": "stream",
          "name": "stderr",
          "text": [
            "4005it [01:40, 30.03it/s]"
          ]
        },
        {
          "output_type": "stream",
          "name": "stdout",
          "text": [
            "money: able, forced, much, it, fact, man, well, so, taken, them\n",
            "lion: behavior, former, lives, battle, africa, spain, seen, provided, addition, charge\n",
            "africa: america, europe, india, west, end, germany, east, nine, france, addition\n",
            "musician: actor, actress, singer, writer, author, nine, variety, poet, introduction, able\n",
            "dance: music, largest, addition, lack, forms, order, science, culture, one, jazz\n",
            "\n",
            "\n"
          ]
        },
        {
          "output_type": "stream",
          "name": "stderr",
          "text": [
            "4500it [01:53, 49.01it/s]"
          ]
        },
        {
          "output_type": "stream",
          "name": "stdout",
          "text": [
            "| epoch   9 |  4500/32580 batches | loss    1.333 \n"
          ]
        },
        {
          "output_type": "stream",
          "name": "stderr",
          "text": [
            "\r4505it [01:53, 27.73it/s]"
          ]
        },
        {
          "output_type": "stream",
          "name": "stdout",
          "text": [
            "money: able, forced, much, it, fact, man, well, so, taken, them\n",
            "lion: behavior, former, lives, battle, africa, spain, seen, provided, addition, charge\n",
            "africa: america, europe, india, west, end, germany, east, nine, france, addition\n",
            "musician: actor, actress, singer, writer, author, nine, variety, poet, introduction, able\n",
            "dance: music, largest, addition, lack, forms, order, science, culture, one, jazz\n",
            "\n",
            "\n"
          ]
        },
        {
          "output_type": "stream",
          "name": "stderr",
          "text": [
            "4997it [02:07, 32.48it/s]"
          ]
        },
        {
          "output_type": "stream",
          "name": "stdout",
          "text": [
            "| epoch   9 |  5000/32580 batches | loss    1.331 \n"
          ]
        },
        {
          "output_type": "stream",
          "name": "stderr",
          "text": [
            "5004it [02:08, 18.68it/s]"
          ]
        },
        {
          "output_type": "stream",
          "name": "stdout",
          "text": [
            "money: able, forced, much, it, fact, man, well, so, taken, them\n",
            "lion: behavior, former, lives, battle, africa, spain, seen, provided, addition, charge\n",
            "africa: america, europe, india, west, end, germany, east, nine, france, addition\n",
            "musician: actor, actress, singer, writer, author, nine, variety, poet, introduction, able\n",
            "dance: music, largest, addition, lack, forms, order, science, culture, one, jazz\n",
            "\n",
            "\n"
          ]
        },
        {
          "output_type": "stream",
          "name": "stderr",
          "text": [
            "5500it [02:20, 46.38it/s]"
          ]
        },
        {
          "output_type": "stream",
          "name": "stdout",
          "text": [
            "| epoch   9 |  5500/32580 batches | loss    1.329 \n"
          ]
        },
        {
          "output_type": "stream",
          "name": "stderr",
          "text": [
            "\r5505it [02:20, 26.70it/s]"
          ]
        },
        {
          "output_type": "stream",
          "name": "stdout",
          "text": [
            "money: able, forced, much, it, fact, man, well, so, taken, them\n",
            "lion: behavior, former, lives, battle, africa, spain, seen, provided, addition, charge\n",
            "africa: america, europe, india, west, end, germany, east, nine, france, addition\n",
            "musician: actor, actress, singer, writer, author, nine, variety, poet, introduction, able\n",
            "dance: music, largest, addition, lack, forms, order, science, culture, one, jazz\n",
            "\n",
            "\n"
          ]
        },
        {
          "output_type": "stream",
          "name": "stderr",
          "text": [
            "5997it [02:33, 36.57it/s]"
          ]
        },
        {
          "output_type": "stream",
          "name": "stdout",
          "text": [
            "| epoch   9 |  6000/32580 batches | loss    1.334 \n"
          ]
        },
        {
          "output_type": "stream",
          "name": "stderr",
          "text": [
            "6005it [02:33, 26.10it/s]"
          ]
        },
        {
          "output_type": "stream",
          "name": "stdout",
          "text": [
            "money: able, forced, much, it, fact, man, well, so, taken, them\n",
            "lion: behavior, former, lives, battle, africa, spain, seen, provided, addition, charge\n",
            "africa: america, europe, india, west, end, germany, east, nine, france, addition\n",
            "musician: actor, actress, singer, writer, author, nine, variety, poet, introduction, able\n",
            "dance: music, largest, addition, lack, forms, order, science, culture, one, jazz\n",
            "\n",
            "\n"
          ]
        },
        {
          "output_type": "stream",
          "name": "stderr",
          "text": [
            "6500it [02:44, 40.08it/s]"
          ]
        },
        {
          "output_type": "stream",
          "name": "stdout",
          "text": [
            "| epoch   9 |  6500/32580 batches | loss    1.334 \n"
          ]
        },
        {
          "output_type": "stream",
          "name": "stderr",
          "text": [
            "\r6505it [02:44, 21.40it/s]"
          ]
        },
        {
          "output_type": "stream",
          "name": "stdout",
          "text": [
            "money: able, forced, much, it, fact, man, well, so, taken, them\n",
            "lion: behavior, former, lives, battle, africa, spain, seen, provided, addition, charge\n",
            "africa: america, europe, india, west, end, germany, east, nine, france, addition\n",
            "musician: actor, actress, singer, writer, author, nine, variety, poet, introduction, able\n",
            "dance: music, largest, addition, lack, forms, order, science, culture, one, jazz\n",
            "\n",
            "\n"
          ]
        },
        {
          "output_type": "stream",
          "name": "stderr",
          "text": [
            "6999it [02:57, 48.88it/s]"
          ]
        },
        {
          "output_type": "stream",
          "name": "stdout",
          "text": [
            "| epoch   9 |  7000/32580 batches | loss    1.333 \n"
          ]
        },
        {
          "output_type": "stream",
          "name": "stderr",
          "text": [
            "7009it [02:57, 30.61it/s]"
          ]
        },
        {
          "output_type": "stream",
          "name": "stdout",
          "text": [
            "money: able, forced, much, it, fact, man, well, so, taken, them\n",
            "lion: behavior, former, lives, battle, africa, spain, seen, provided, addition, charge\n",
            "africa: america, europe, india, west, end, germany, east, nine, france, addition\n",
            "musician: actor, actress, singer, writer, author, nine, variety, poet, introduction, able\n",
            "dance: music, largest, addition, lack, forms, order, science, culture, one, jazz\n",
            "\n",
            "\n"
          ]
        },
        {
          "output_type": "stream",
          "name": "stderr",
          "text": [
            "7498it [03:09, 34.40it/s]"
          ]
        },
        {
          "output_type": "stream",
          "name": "stdout",
          "text": [
            "| epoch   9 |  7500/32580 batches | loss    1.332 \n"
          ]
        },
        {
          "output_type": "stream",
          "name": "stderr",
          "text": [
            "7506it [03:10, 20.59it/s]"
          ]
        },
        {
          "output_type": "stream",
          "name": "stdout",
          "text": [
            "money: able, forced, much, it, fact, man, well, so, taken, them\n",
            "lion: behavior, former, lives, battle, africa, spain, seen, provided, addition, charge\n",
            "africa: america, europe, india, west, end, germany, east, nine, france, addition\n",
            "musician: actor, actress, singer, writer, author, nine, variety, poet, introduction, able\n",
            "dance: music, largest, addition, lack, forms, order, science, culture, one, jazz\n",
            "\n",
            "\n"
          ]
        },
        {
          "output_type": "stream",
          "name": "stderr",
          "text": [
            "7998it [03:21, 47.89it/s]"
          ]
        },
        {
          "output_type": "stream",
          "name": "stdout",
          "text": [
            "| epoch   9 |  8000/32580 batches | loss    1.328 \n"
          ]
        },
        {
          "output_type": "stream",
          "name": "stderr",
          "text": [
            "8007it [03:21, 29.48it/s]"
          ]
        },
        {
          "output_type": "stream",
          "name": "stdout",
          "text": [
            "money: able, forced, much, it, fact, man, well, so, taken, them\n",
            "lion: behavior, former, lives, battle, africa, spain, seen, provided, addition, charge\n",
            "africa: america, europe, india, west, end, germany, east, nine, france, addition\n",
            "musician: actor, actress, singer, writer, author, nine, variety, poet, introduction, able\n",
            "dance: music, largest, addition, lack, forms, order, science, culture, one, jazz\n",
            "\n",
            "\n"
          ]
        },
        {
          "output_type": "stream",
          "name": "stderr",
          "text": [
            "8498it [03:34, 48.24it/s]"
          ]
        },
        {
          "output_type": "stream",
          "name": "stdout",
          "text": [
            "| epoch   9 |  8500/32580 batches | loss    1.334 \n"
          ]
        },
        {
          "output_type": "stream",
          "name": "stderr",
          "text": [
            "8508it [03:34, 31.12it/s]"
          ]
        },
        {
          "output_type": "stream",
          "name": "stdout",
          "text": [
            "money: able, forced, much, it, fact, man, well, so, taken, them\n",
            "lion: behavior, former, lives, battle, africa, spain, seen, provided, addition, charge\n",
            "africa: america, europe, india, west, end, germany, east, nine, france, addition\n",
            "musician: actor, actress, singer, writer, author, nine, variety, poet, introduction, able\n",
            "dance: music, largest, addition, lack, forms, order, science, culture, one, jazz\n",
            "\n",
            "\n"
          ]
        },
        {
          "output_type": "stream",
          "name": "stderr",
          "text": [
            "8998it [03:46, 34.27it/s]"
          ]
        },
        {
          "output_type": "stream",
          "name": "stdout",
          "text": [
            "| epoch   9 |  9000/32580 batches | loss    1.331 \n"
          ]
        },
        {
          "output_type": "stream",
          "name": "stderr",
          "text": [
            "9006it [03:46, 19.63it/s]"
          ]
        },
        {
          "output_type": "stream",
          "name": "stdout",
          "text": [
            "money: able, forced, much, it, fact, man, well, so, taken, them\n",
            "lion: behavior, former, lives, battle, africa, spain, seen, provided, addition, charge\n",
            "africa: america, europe, india, west, end, germany, east, nine, france, addition\n",
            "musician: actor, actress, singer, writer, author, nine, variety, poet, introduction, able\n",
            "dance: music, largest, addition, lack, forms, order, science, culture, one, jazz\n",
            "\n",
            "\n"
          ]
        },
        {
          "output_type": "stream",
          "name": "stderr",
          "text": [
            "9498it [03:58, 47.99it/s]"
          ]
        },
        {
          "output_type": "stream",
          "name": "stdout",
          "text": [
            "| epoch   9 |  9500/32580 batches | loss    1.332 \n"
          ]
        },
        {
          "output_type": "stream",
          "name": "stderr",
          "text": [
            "9508it [03:58, 30.16it/s]"
          ]
        },
        {
          "output_type": "stream",
          "name": "stdout",
          "text": [
            "money: able, forced, much, it, fact, man, well, so, taken, them\n",
            "lion: behavior, former, lives, battle, africa, spain, seen, provided, addition, charge\n",
            "africa: america, europe, india, west, end, germany, east, nine, france, addition\n",
            "musician: actor, actress, singer, writer, author, nine, variety, poet, introduction, able\n",
            "dance: music, largest, addition, lack, forms, order, science, culture, one, jazz\n",
            "\n",
            "\n"
          ]
        },
        {
          "output_type": "stream",
          "name": "stderr",
          "text": [
            "9996it [04:11, 41.13it/s]"
          ]
        },
        {
          "output_type": "stream",
          "name": "stdout",
          "text": [
            "| epoch   9 | 10000/32580 batches | loss    1.332 \n"
          ]
        },
        {
          "output_type": "stream",
          "name": "stderr",
          "text": [
            "10005it [04:12, 27.15it/s]"
          ]
        },
        {
          "output_type": "stream",
          "name": "stdout",
          "text": [
            "money: able, forced, much, it, fact, man, well, so, taken, them\n",
            "lion: behavior, former, lives, battle, africa, spain, seen, provided, addition, charge\n",
            "africa: america, europe, india, west, end, germany, east, nine, france, addition\n",
            "musician: actor, actress, singer, writer, author, nine, variety, poet, introduction, able\n",
            "dance: music, largest, addition, lack, forms, order, science, culture, one, jazz\n",
            "\n",
            "\n"
          ]
        },
        {
          "output_type": "stream",
          "name": "stderr",
          "text": [
            "10498it [04:22, 38.57it/s]"
          ]
        },
        {
          "output_type": "stream",
          "name": "stdout",
          "text": [
            "| epoch   9 | 10500/32580 batches | loss    1.329 \n"
          ]
        },
        {
          "output_type": "stream",
          "name": "stderr",
          "text": [
            "10505it [04:23, 21.51it/s]"
          ]
        },
        {
          "output_type": "stream",
          "name": "stdout",
          "text": [
            "money: able, forced, much, it, fact, man, well, so, taken, them\n",
            "lion: behavior, former, lives, battle, africa, spain, seen, provided, addition, charge\n",
            "africa: america, europe, india, west, end, germany, east, nine, france, addition\n",
            "musician: actor, actress, singer, writer, author, nine, variety, poet, introduction, able\n",
            "dance: music, largest, addition, lack, forms, order, science, culture, one, jazz\n",
            "\n",
            "\n"
          ]
        },
        {
          "output_type": "stream",
          "name": "stderr",
          "text": [
            "11000it [04:35, 40.72it/s]"
          ]
        },
        {
          "output_type": "stream",
          "name": "stdout",
          "text": [
            "| epoch   9 | 11000/32580 batches | loss    1.329 \n"
          ]
        },
        {
          "output_type": "stream",
          "name": "stderr",
          "text": [
            "\r11005it [04:36, 21.21it/s]"
          ]
        },
        {
          "output_type": "stream",
          "name": "stdout",
          "text": [
            "money: able, forced, much, it, fact, man, well, so, taken, them\n",
            "lion: behavior, former, lives, battle, africa, spain, seen, provided, addition, charge\n",
            "africa: america, europe, india, west, end, germany, east, nine, france, addition\n",
            "musician: actor, actress, singer, writer, author, nine, variety, poet, introduction, able\n",
            "dance: music, largest, addition, lack, forms, order, science, culture, one, jazz\n",
            "\n",
            "\n"
          ]
        },
        {
          "output_type": "stream",
          "name": "stderr",
          "text": [
            "11497it [04:54, 46.65it/s]"
          ]
        },
        {
          "output_type": "stream",
          "name": "stdout",
          "text": [
            "| epoch   9 | 11500/32580 batches | loss    1.332 \n"
          ]
        },
        {
          "output_type": "stream",
          "name": "stderr",
          "text": [
            "11506it [04:54, 28.83it/s]"
          ]
        },
        {
          "output_type": "stream",
          "name": "stdout",
          "text": [
            "money: able, forced, much, it, fact, man, well, so, taken, them\n",
            "lion: behavior, former, lives, battle, africa, spain, seen, provided, addition, charge\n",
            "africa: america, europe, india, west, end, germany, east, nine, france, addition\n",
            "musician: actor, actress, singer, writer, author, nine, variety, poet, introduction, able\n",
            "dance: music, largest, addition, lack, forms, order, science, culture, one, jazz\n",
            "\n",
            "\n"
          ]
        },
        {
          "output_type": "stream",
          "name": "stderr",
          "text": [
            "11999it [05:05, 37.37it/s]"
          ]
        },
        {
          "output_type": "stream",
          "name": "stdout",
          "text": [
            "| epoch   9 | 12000/32580 batches | loss    1.332 \n"
          ]
        },
        {
          "output_type": "stream",
          "name": "stderr",
          "text": [
            "\r12003it [05:06, 18.13it/s]"
          ]
        },
        {
          "output_type": "stream",
          "name": "stdout",
          "text": [
            "money: able, forced, much, it, fact, man, well, so, taken, them\n",
            "lion: behavior, former, lives, battle, africa, spain, seen, provided, addition, charge\n",
            "africa: america, europe, india, west, end, germany, east, nine, france, addition\n",
            "musician: actor, actress, singer, writer, author, nine, variety, poet, introduction, able\n",
            "dance: music, largest, addition, lack, forms, order, science, culture, one, jazz\n",
            "\n",
            "\n"
          ]
        },
        {
          "output_type": "stream",
          "name": "stderr",
          "text": [
            "12498it [05:18, 48.65it/s]"
          ]
        },
        {
          "output_type": "stream",
          "name": "stdout",
          "text": [
            "| epoch   9 | 12500/32580 batches | loss    1.332 \n"
          ]
        },
        {
          "output_type": "stream",
          "name": "stderr",
          "text": [
            "12508it [05:19, 30.62it/s]"
          ]
        },
        {
          "output_type": "stream",
          "name": "stdout",
          "text": [
            "money: able, forced, much, it, fact, man, well, so, taken, them\n",
            "lion: behavior, former, lives, battle, africa, spain, seen, provided, addition, charge\n",
            "africa: america, europe, india, west, end, germany, east, nine, france, addition\n",
            "musician: actor, actress, singer, writer, author, nine, variety, poet, introduction, able\n",
            "dance: music, largest, addition, lack, forms, order, science, culture, one, jazz\n",
            "\n",
            "\n"
          ]
        },
        {
          "output_type": "stream",
          "name": "stderr",
          "text": [
            "12997it [05:31, 36.61it/s]"
          ]
        },
        {
          "output_type": "stream",
          "name": "stdout",
          "text": [
            "| epoch   9 | 13000/32580 batches | loss    1.332 \n"
          ]
        },
        {
          "output_type": "stream",
          "name": "stderr",
          "text": [
            "13005it [05:31, 20.84it/s]"
          ]
        },
        {
          "output_type": "stream",
          "name": "stdout",
          "text": [
            "money: able, forced, much, it, fact, man, well, so, taken, them\n",
            "lion: behavior, former, lives, battle, africa, spain, seen, provided, addition, charge\n",
            "africa: america, europe, india, west, end, germany, east, nine, france, addition\n",
            "musician: actor, actress, singer, writer, author, nine, variety, poet, introduction, able\n",
            "dance: music, largest, addition, lack, forms, order, science, culture, one, jazz\n",
            "\n",
            "\n"
          ]
        },
        {
          "output_type": "stream",
          "name": "stderr",
          "text": [
            "13497it [05:42, 47.33it/s]"
          ]
        },
        {
          "output_type": "stream",
          "name": "stdout",
          "text": [
            "| epoch   9 | 13500/32580 batches | loss    1.326 \n"
          ]
        },
        {
          "output_type": "stream",
          "name": "stderr",
          "text": [
            "13507it [05:42, 30.36it/s]"
          ]
        },
        {
          "output_type": "stream",
          "name": "stdout",
          "text": [
            "money: able, forced, much, it, fact, man, well, so, taken, them\n",
            "lion: behavior, former, lives, battle, africa, spain, seen, provided, addition, charge\n",
            "africa: america, europe, india, west, end, germany, east, nine, france, addition\n",
            "musician: actor, actress, singer, writer, author, nine, variety, poet, introduction, able\n",
            "dance: music, largest, addition, lack, forms, order, science, culture, one, jazz\n",
            "\n",
            "\n"
          ]
        },
        {
          "output_type": "stream",
          "name": "stderr",
          "text": [
            "13998it [05:56, 34.60it/s]"
          ]
        },
        {
          "output_type": "stream",
          "name": "stdout",
          "text": [
            "| epoch   9 | 14000/32580 batches | loss    1.330 \n"
          ]
        },
        {
          "output_type": "stream",
          "name": "stderr",
          "text": [
            "14005it [05:57, 19.22it/s]"
          ]
        },
        {
          "output_type": "stream",
          "name": "stdout",
          "text": [
            "money: able, forced, much, it, fact, man, well, so, taken, them\n",
            "lion: behavior, former, lives, battle, africa, spain, seen, provided, addition, charge\n",
            "africa: america, europe, india, west, end, germany, east, nine, france, addition\n",
            "musician: actor, actress, singer, writer, author, nine, variety, poet, introduction, able\n",
            "dance: music, largest, addition, lack, forms, order, science, culture, one, jazz\n",
            "\n",
            "\n"
          ]
        },
        {
          "output_type": "stream",
          "name": "stderr",
          "text": [
            "14498it [06:10, 33.64it/s]"
          ]
        },
        {
          "output_type": "stream",
          "name": "stdout",
          "text": [
            "| epoch   9 | 14500/32580 batches | loss    1.332 \n"
          ]
        },
        {
          "output_type": "stream",
          "name": "stderr",
          "text": [
            "14506it [06:11, 19.74it/s]"
          ]
        },
        {
          "output_type": "stream",
          "name": "stdout",
          "text": [
            "money: able, forced, much, it, fact, man, well, so, taken, them\n",
            "lion: behavior, former, lives, battle, africa, spain, seen, provided, addition, charge\n",
            "africa: america, europe, india, west, end, germany, east, nine, france, addition\n",
            "musician: actor, actress, singer, writer, author, nine, variety, poet, introduction, able\n",
            "dance: music, largest, addition, lack, forms, order, science, culture, one, jazz\n",
            "\n",
            "\n"
          ]
        },
        {
          "output_type": "stream",
          "name": "stderr",
          "text": [
            "15000it [06:22, 48.02it/s]"
          ]
        },
        {
          "output_type": "stream",
          "name": "stdout",
          "text": [
            "| epoch   9 | 15000/32580 batches | loss    1.332 \n"
          ]
        },
        {
          "output_type": "stream",
          "name": "stderr",
          "text": [
            "15010it [06:23, 30.96it/s]"
          ]
        },
        {
          "output_type": "stream",
          "name": "stdout",
          "text": [
            "money: able, forced, much, it, fact, man, well, so, taken, them\n",
            "lion: behavior, former, lives, battle, africa, spain, seen, provided, addition, charge\n",
            "africa: america, europe, india, west, end, germany, east, nine, france, addition\n",
            "musician: actor, actress, singer, writer, author, nine, variety, poet, introduction, able\n",
            "dance: music, largest, addition, lack, forms, order, science, culture, one, jazz\n",
            "\n",
            "\n"
          ]
        },
        {
          "output_type": "stream",
          "name": "stderr",
          "text": [
            "15498it [06:35, 48.26it/s]"
          ]
        },
        {
          "output_type": "stream",
          "name": "stdout",
          "text": [
            "| epoch   9 | 15500/32580 batches | loss    1.333 \n"
          ]
        },
        {
          "output_type": "stream",
          "name": "stderr",
          "text": [
            "15508it [06:36, 30.99it/s]"
          ]
        },
        {
          "output_type": "stream",
          "name": "stdout",
          "text": [
            "money: able, forced, much, it, fact, man, well, so, taken, them\n",
            "lion: behavior, former, lives, battle, africa, spain, seen, provided, addition, charge\n",
            "africa: america, europe, india, west, end, germany, east, nine, france, addition\n",
            "musician: actor, actress, singer, writer, author, nine, variety, poet, introduction, able\n",
            "dance: music, largest, addition, lack, forms, order, science, culture, one, jazz\n",
            "\n",
            "\n"
          ]
        },
        {
          "output_type": "stream",
          "name": "stderr",
          "text": [
            "15999it [06:47, 36.33it/s]"
          ]
        },
        {
          "output_type": "stream",
          "name": "stdout",
          "text": [
            "| epoch   9 | 16000/32580 batches | loss    1.327 \n"
          ]
        },
        {
          "output_type": "stream",
          "name": "stderr",
          "text": [
            "16006it [06:47, 20.41it/s]"
          ]
        },
        {
          "output_type": "stream",
          "name": "stdout",
          "text": [
            "money: able, forced, much, it, fact, man, well, so, taken, them\n",
            "lion: behavior, former, lives, battle, africa, spain, seen, provided, addition, charge\n",
            "africa: america, europe, india, west, end, germany, east, nine, france, addition\n",
            "musician: actor, actress, singer, writer, author, nine, variety, poet, introduction, able\n",
            "dance: music, largest, addition, lack, forms, order, science, culture, one, jazz\n",
            "\n",
            "\n"
          ]
        },
        {
          "output_type": "stream",
          "name": "stderr",
          "text": [
            "16500it [06:59, 47.22it/s]"
          ]
        },
        {
          "output_type": "stream",
          "name": "stdout",
          "text": [
            "| epoch   9 | 16500/32580 batches | loss    1.329 \n"
          ]
        },
        {
          "output_type": "stream",
          "name": "stderr",
          "text": [
            "\r16505it [07:00, 26.57it/s]"
          ]
        },
        {
          "output_type": "stream",
          "name": "stdout",
          "text": [
            "money: able, forced, much, it, fact, man, well, so, taken, them\n",
            "lion: behavior, former, lives, battle, africa, spain, seen, provided, addition, charge\n",
            "africa: america, europe, india, west, end, germany, east, nine, france, addition\n",
            "musician: actor, actress, singer, writer, author, nine, variety, poet, introduction, able\n",
            "dance: music, largest, addition, lack, forms, order, science, culture, one, jazz\n",
            "\n",
            "\n"
          ]
        },
        {
          "output_type": "stream",
          "name": "stderr",
          "text": [
            "16998it [07:12, 36.09it/s]"
          ]
        },
        {
          "output_type": "stream",
          "name": "stdout",
          "text": [
            "| epoch   9 | 17000/32580 batches | loss    1.327 \n"
          ]
        },
        {
          "output_type": "stream",
          "name": "stderr",
          "text": [
            "17006it [07:13, 20.16it/s]"
          ]
        },
        {
          "output_type": "stream",
          "name": "stdout",
          "text": [
            "money: able, forced, much, it, fact, man, well, so, taken, them\n",
            "lion: behavior, former, lives, battle, africa, spain, seen, provided, addition, charge\n",
            "africa: america, europe, india, west, end, germany, east, nine, france, addition\n",
            "musician: actor, actress, singer, writer, author, nine, variety, poet, introduction, able\n",
            "dance: music, largest, addition, lack, forms, order, science, culture, one, jazz\n",
            "\n",
            "\n"
          ]
        },
        {
          "output_type": "stream",
          "name": "stderr",
          "text": [
            "17500it [07:23, 48.27it/s]"
          ]
        },
        {
          "output_type": "stream",
          "name": "stdout",
          "text": [
            "| epoch   9 | 17500/32580 batches | loss    1.327 \n"
          ]
        },
        {
          "output_type": "stream",
          "name": "stderr",
          "text": [
            "\r17505it [07:24, 25.08it/s]"
          ]
        },
        {
          "output_type": "stream",
          "name": "stdout",
          "text": [
            "money: able, forced, much, it, fact, man, well, so, taken, them\n",
            "lion: behavior, former, lives, battle, africa, spain, seen, provided, addition, charge\n",
            "africa: america, europe, india, west, end, germany, east, nine, france, addition\n",
            "musician: actor, actress, singer, writer, author, nine, variety, poet, introduction, able\n",
            "dance: music, largest, addition, lack, forms, order, science, culture, one, jazz\n",
            "\n",
            "\n"
          ]
        },
        {
          "output_type": "stream",
          "name": "stderr",
          "text": [
            "17997it [07:37, 47.65it/s]"
          ]
        },
        {
          "output_type": "stream",
          "name": "stdout",
          "text": [
            "| epoch   9 | 18000/32580 batches | loss    1.327 \n"
          ]
        },
        {
          "output_type": "stream",
          "name": "stderr",
          "text": [
            "18007it [07:37, 31.18it/s]"
          ]
        },
        {
          "output_type": "stream",
          "name": "stdout",
          "text": [
            "money: able, forced, much, it, fact, man, well, so, taken, them\n",
            "lion: behavior, former, lives, battle, africa, spain, seen, provided, addition, charge\n",
            "africa: america, europe, india, west, end, germany, east, nine, france, addition\n",
            "musician: actor, actress, singer, writer, author, nine, variety, poet, introduction, able\n",
            "dance: music, largest, addition, lack, forms, order, science, culture, one, jazz\n",
            "\n",
            "\n"
          ]
        },
        {
          "output_type": "stream",
          "name": "stderr",
          "text": [
            "18497it [07:48, 35.89it/s]"
          ]
        },
        {
          "output_type": "stream",
          "name": "stdout",
          "text": [
            "| epoch   9 | 18500/32580 batches | loss    1.332 \n"
          ]
        },
        {
          "output_type": "stream",
          "name": "stderr",
          "text": [
            "18504it [07:49, 19.38it/s]"
          ]
        },
        {
          "output_type": "stream",
          "name": "stdout",
          "text": [
            "money: able, forced, much, it, fact, man, well, so, taken, them\n",
            "lion: behavior, former, lives, battle, africa, spain, seen, provided, addition, charge\n",
            "africa: america, europe, india, west, end, germany, east, nine, france, addition\n",
            "musician: actor, actress, singer, writer, author, nine, variety, poet, introduction, able\n",
            "dance: music, largest, addition, lack, forms, order, science, culture, one, jazz\n",
            "\n",
            "\n"
          ]
        },
        {
          "output_type": "stream",
          "name": "stderr",
          "text": [
            "18996it [08:00, 47.53it/s]"
          ]
        },
        {
          "output_type": "stream",
          "name": "stdout",
          "text": [
            "| epoch   9 | 19000/32580 batches | loss    1.329 \n"
          ]
        },
        {
          "output_type": "stream",
          "name": "stderr",
          "text": [
            "19006it [08:01, 31.43it/s]"
          ]
        },
        {
          "output_type": "stream",
          "name": "stdout",
          "text": [
            "money: able, forced, much, it, fact, man, well, so, taken, them\n",
            "lion: behavior, former, lives, battle, africa, spain, seen, provided, addition, charge\n",
            "africa: america, europe, india, west, end, germany, east, nine, france, addition\n",
            "musician: actor, actress, singer, writer, author, nine, variety, poet, introduction, able\n",
            "dance: music, largest, addition, lack, forms, order, science, culture, one, jazz\n",
            "\n",
            "\n"
          ]
        },
        {
          "output_type": "stream",
          "name": "stderr",
          "text": [
            "19499it [08:14, 47.41it/s]"
          ]
        },
        {
          "output_type": "stream",
          "name": "stdout",
          "text": [
            "| epoch   9 | 19500/32580 batches | loss    1.327 \n"
          ]
        },
        {
          "output_type": "stream",
          "name": "stderr",
          "text": [
            "19509it [08:14, 29.84it/s]"
          ]
        },
        {
          "output_type": "stream",
          "name": "stdout",
          "text": [
            "money: able, forced, much, it, fact, man, well, so, taken, them\n",
            "lion: behavior, former, lives, battle, africa, spain, seen, provided, addition, charge\n",
            "africa: america, europe, india, west, end, germany, east, nine, france, addition\n",
            "musician: actor, actress, singer, writer, author, nine, variety, poet, introduction, able\n",
            "dance: music, largest, addition, lack, forms, order, science, culture, one, jazz\n",
            "\n",
            "\n"
          ]
        },
        {
          "output_type": "stream",
          "name": "stderr",
          "text": [
            "19999it [08:25, 37.57it/s]"
          ]
        },
        {
          "output_type": "stream",
          "name": "stdout",
          "text": [
            "| epoch   9 | 20000/32580 batches | loss    1.327 \n"
          ]
        },
        {
          "output_type": "stream",
          "name": "stderr",
          "text": [
            "\r20003it [08:25, 18.18it/s]"
          ]
        },
        {
          "output_type": "stream",
          "name": "stdout",
          "text": [
            "money: able, forced, much, it, fact, man, well, so, taken, them\n",
            "lion: behavior, former, lives, battle, africa, spain, seen, provided, addition, charge\n",
            "africa: america, europe, india, west, end, germany, east, nine, france, addition\n",
            "musician: actor, actress, singer, writer, author, nine, variety, poet, introduction, able\n",
            "dance: music, largest, addition, lack, forms, order, science, culture, one, jazz\n",
            "\n",
            "\n"
          ]
        },
        {
          "output_type": "stream",
          "name": "stderr",
          "text": [
            "20499it [08:38, 48.69it/s]"
          ]
        },
        {
          "output_type": "stream",
          "name": "stdout",
          "text": [
            "| epoch   9 | 20500/32580 batches | loss    1.333 \n"
          ]
        },
        {
          "output_type": "stream",
          "name": "stderr",
          "text": [
            "\r20504it [08:38, 26.14it/s]"
          ]
        },
        {
          "output_type": "stream",
          "name": "stdout",
          "text": [
            "money: able, forced, much, it, fact, man, well, so, taken, them\n",
            "lion: behavior, former, lives, battle, africa, spain, seen, provided, addition, charge\n",
            "africa: america, europe, india, west, end, germany, east, nine, france, addition\n",
            "musician: actor, actress, singer, writer, author, nine, variety, poet, introduction, able\n",
            "dance: music, largest, addition, lack, forms, order, science, culture, one, jazz\n",
            "\n",
            "\n"
          ]
        },
        {
          "output_type": "stream",
          "name": "stderr",
          "text": [
            "20999it [08:50, 34.54it/s]"
          ]
        },
        {
          "output_type": "stream",
          "name": "stdout",
          "text": [
            "| epoch   9 | 21000/32580 batches | loss    1.327 \n"
          ]
        },
        {
          "output_type": "stream",
          "name": "stderr",
          "text": [
            "21006it [08:51, 18.77it/s]"
          ]
        },
        {
          "output_type": "stream",
          "name": "stdout",
          "text": [
            "money: able, forced, much, it, fact, man, well, so, taken, them\n",
            "lion: behavior, former, lives, battle, africa, spain, seen, provided, addition, charge\n",
            "africa: america, europe, india, west, end, germany, east, nine, france, addition\n",
            "musician: actor, actress, singer, writer, author, nine, variety, poet, introduction, able\n",
            "dance: music, largest, addition, lack, forms, order, science, culture, one, jazz\n",
            "\n",
            "\n"
          ]
        },
        {
          "output_type": "stream",
          "name": "stderr",
          "text": [
            "21497it [09:05, 36.81it/s]"
          ]
        },
        {
          "output_type": "stream",
          "name": "stdout",
          "text": [
            "| epoch   9 | 21500/32580 batches | loss    1.333 \n"
          ]
        },
        {
          "output_type": "stream",
          "name": "stderr",
          "text": [
            "21504it [09:05, 19.60it/s]"
          ]
        },
        {
          "output_type": "stream",
          "name": "stdout",
          "text": [
            "money: able, forced, much, it, fact, man, well, so, taken, them\n",
            "lion: behavior, former, lives, battle, africa, spain, seen, provided, addition, charge\n",
            "africa: america, europe, india, west, end, germany, east, nine, france, addition\n",
            "musician: actor, actress, singer, writer, author, nine, variety, poet, introduction, able\n",
            "dance: music, largest, addition, lack, forms, order, science, culture, one, jazz\n",
            "\n",
            "\n"
          ]
        },
        {
          "output_type": "stream",
          "name": "stderr",
          "text": [
            "21998it [09:18, 48.17it/s]"
          ]
        },
        {
          "output_type": "stream",
          "name": "stdout",
          "text": [
            "| epoch   9 | 22000/32580 batches | loss    1.329 \n"
          ]
        },
        {
          "output_type": "stream",
          "name": "stderr",
          "text": [
            "22008it [09:18, 31.29it/s]"
          ]
        },
        {
          "output_type": "stream",
          "name": "stdout",
          "text": [
            "money: able, forced, much, it, fact, man, well, so, taken, them\n",
            "lion: behavior, former, lives, battle, africa, spain, seen, provided, addition, charge\n",
            "africa: america, europe, india, west, end, germany, east, nine, france, addition\n",
            "musician: actor, actress, singer, writer, author, nine, variety, poet, introduction, able\n",
            "dance: music, largest, addition, lack, forms, order, science, culture, one, jazz\n",
            "\n",
            "\n"
          ]
        },
        {
          "output_type": "stream",
          "name": "stderr",
          "text": [
            "22499it [09:30, 36.39it/s]"
          ]
        },
        {
          "output_type": "stream",
          "name": "stdout",
          "text": [
            "| epoch   9 | 22500/32580 batches | loss    1.331 \n"
          ]
        },
        {
          "output_type": "stream",
          "name": "stderr",
          "text": [
            "22507it [09:31, 20.30it/s]"
          ]
        },
        {
          "output_type": "stream",
          "name": "stdout",
          "text": [
            "money: able, forced, much, it, fact, man, well, so, taken, them\n",
            "lion: behavior, former, lives, battle, africa, spain, seen, provided, addition, charge\n",
            "africa: america, europe, india, west, end, germany, east, nine, france, addition\n",
            "musician: actor, actress, singer, writer, author, nine, variety, poet, introduction, able\n",
            "dance: music, largest, addition, lack, forms, order, science, culture, one, jazz\n",
            "\n",
            "\n"
          ]
        },
        {
          "output_type": "stream",
          "name": "stderr",
          "text": [
            "22996it [09:42, 47.84it/s]"
          ]
        },
        {
          "output_type": "stream",
          "name": "stdout",
          "text": [
            "| epoch   9 | 23000/32580 batches | loss    1.327 \n"
          ]
        },
        {
          "output_type": "stream",
          "name": "stderr",
          "text": [
            "23005it [09:42, 30.54it/s]"
          ]
        },
        {
          "output_type": "stream",
          "name": "stdout",
          "text": [
            "money: able, forced, much, it, fact, man, well, so, taken, them\n",
            "lion: behavior, former, lives, battle, africa, spain, seen, provided, addition, charge\n",
            "africa: america, europe, india, west, end, germany, east, nine, france, addition\n",
            "musician: actor, actress, singer, writer, author, nine, variety, poet, introduction, able\n",
            "dance: music, largest, addition, lack, forms, order, science, culture, one, jazz\n",
            "\n",
            "\n"
          ]
        },
        {
          "output_type": "stream",
          "name": "stderr",
          "text": [
            "23499it [09:55, 47.52it/s]"
          ]
        },
        {
          "output_type": "stream",
          "name": "stdout",
          "text": [
            "| epoch   9 | 23500/32580 batches | loss    1.327 \n"
          ]
        },
        {
          "output_type": "stream",
          "name": "stderr",
          "text": [
            "23509it [09:55, 30.55it/s]"
          ]
        },
        {
          "output_type": "stream",
          "name": "stdout",
          "text": [
            "money: able, forced, much, it, fact, man, well, so, taken, them\n",
            "lion: behavior, former, lives, battle, africa, spain, seen, provided, addition, charge\n",
            "africa: america, europe, india, west, end, germany, east, nine, france, addition\n",
            "musician: actor, actress, singer, writer, author, nine, variety, poet, introduction, able\n",
            "dance: music, largest, addition, lack, forms, order, science, culture, one, jazz\n",
            "\n",
            "\n"
          ]
        },
        {
          "output_type": "stream",
          "name": "stderr",
          "text": [
            "23999it [10:06, 34.51it/s]"
          ]
        },
        {
          "output_type": "stream",
          "name": "stdout",
          "text": [
            "| epoch   9 | 24000/32580 batches | loss    1.332 \n"
          ]
        },
        {
          "output_type": "stream",
          "name": "stderr",
          "text": [
            "24007it [10:07, 20.53it/s]"
          ]
        },
        {
          "output_type": "stream",
          "name": "stdout",
          "text": [
            "money: able, forced, much, it, fact, man, well, so, taken, them\n",
            "lion: behavior, former, lives, battle, africa, spain, seen, provided, addition, charge\n",
            "africa: america, europe, india, west, end, germany, east, nine, france, addition\n",
            "musician: actor, actress, singer, writer, author, nine, variety, poet, introduction, able\n",
            "dance: music, largest, addition, lack, forms, order, science, culture, one, jazz\n",
            "\n",
            "\n"
          ]
        },
        {
          "output_type": "stream",
          "name": "stderr",
          "text": [
            "24497it [10:19, 47.76it/s]"
          ]
        },
        {
          "output_type": "stream",
          "name": "stdout",
          "text": [
            "| epoch   9 | 24500/32580 batches | loss    1.329 \n"
          ]
        },
        {
          "output_type": "stream",
          "name": "stderr",
          "text": [
            "24507it [10:19, 31.09it/s]"
          ]
        },
        {
          "output_type": "stream",
          "name": "stdout",
          "text": [
            "money: able, forced, much, it, fact, man, well, so, taken, them\n",
            "lion: behavior, former, lives, battle, africa, spain, seen, provided, addition, charge\n",
            "africa: america, europe, india, west, end, germany, east, nine, france, addition\n",
            "musician: actor, actress, singer, writer, author, nine, variety, poet, introduction, able\n",
            "dance: music, largest, addition, lack, forms, order, science, culture, one, jazz\n",
            "\n",
            "\n"
          ]
        },
        {
          "output_type": "stream",
          "name": "stderr",
          "text": [
            "24997it [10:32, 35.89it/s]"
          ]
        },
        {
          "output_type": "stream",
          "name": "stdout",
          "text": [
            "| epoch   9 | 25000/32580 batches | loss    1.333 \n"
          ]
        },
        {
          "output_type": "stream",
          "name": "stderr",
          "text": [
            "25005it [10:32, 20.78it/s]"
          ]
        },
        {
          "output_type": "stream",
          "name": "stdout",
          "text": [
            "money: able, forced, much, it, fact, man, well, so, taken, them\n",
            "lion: behavior, former, lives, battle, africa, spain, seen, provided, addition, charge\n",
            "africa: america, europe, india, west, end, germany, east, nine, france, addition\n",
            "musician: actor, actress, singer, writer, author, nine, variety, poet, introduction, able\n",
            "dance: music, largest, addition, lack, forms, order, science, culture, one, jazz\n",
            "\n",
            "\n"
          ]
        },
        {
          "output_type": "stream",
          "name": "stderr",
          "text": [
            "25497it [10:43, 47.71it/s]"
          ]
        },
        {
          "output_type": "stream",
          "name": "stdout",
          "text": [
            "| epoch   9 | 25500/32580 batches | loss    1.333 \n"
          ]
        },
        {
          "output_type": "stream",
          "name": "stderr",
          "text": [
            "25506it [10:44, 24.99it/s]"
          ]
        },
        {
          "output_type": "stream",
          "name": "stdout",
          "text": [
            "money: able, forced, much, it, fact, man, well, so, taken, them\n",
            "lion: behavior, former, lives, battle, africa, spain, seen, provided, addition, charge\n",
            "africa: america, europe, india, west, end, germany, east, nine, france, addition\n",
            "musician: actor, actress, singer, writer, author, nine, variety, poet, introduction, able\n",
            "dance: music, largest, addition, lack, forms, order, science, culture, one, jazz\n",
            "\n",
            "\n"
          ]
        },
        {
          "output_type": "stream",
          "name": "stderr",
          "text": [
            "25998it [10:56, 48.40it/s]"
          ]
        },
        {
          "output_type": "stream",
          "name": "stdout",
          "text": [
            "| epoch   9 | 26000/32580 batches | loss    1.333 \n"
          ]
        },
        {
          "output_type": "stream",
          "name": "stderr",
          "text": [
            "26008it [10:57, 31.12it/s]"
          ]
        },
        {
          "output_type": "stream",
          "name": "stdout",
          "text": [
            "money: able, forced, much, it, fact, man, well, so, taken, them\n",
            "lion: behavior, former, lives, battle, africa, spain, seen, provided, addition, charge\n",
            "africa: america, europe, india, west, end, germany, east, nine, france, addition\n",
            "musician: actor, actress, singer, writer, author, nine, variety, poet, introduction, able\n",
            "dance: music, largest, addition, lack, forms, order, science, culture, one, jazz\n",
            "\n",
            "\n"
          ]
        },
        {
          "output_type": "stream",
          "name": "stderr",
          "text": [
            "26498it [11:08, 35.09it/s]"
          ]
        },
        {
          "output_type": "stream",
          "name": "stdout",
          "text": [
            "| epoch   9 | 26500/32580 batches | loss    1.337 \n"
          ]
        },
        {
          "output_type": "stream",
          "name": "stderr",
          "text": [
            "26506it [11:09, 19.97it/s]"
          ]
        },
        {
          "output_type": "stream",
          "name": "stdout",
          "text": [
            "money: able, forced, much, it, fact, man, well, so, taken, them\n",
            "lion: behavior, former, lives, battle, africa, spain, seen, provided, addition, charge\n",
            "africa: america, europe, india, west, end, germany, east, nine, france, addition\n",
            "musician: actor, actress, singer, writer, author, nine, variety, poet, introduction, able\n",
            "dance: music, largest, addition, lack, forms, order, science, culture, one, jazz\n",
            "\n",
            "\n"
          ]
        },
        {
          "output_type": "stream",
          "name": "stderr",
          "text": [
            "26997it [11:20, 48.33it/s]"
          ]
        },
        {
          "output_type": "stream",
          "name": "stdout",
          "text": [
            "| epoch   9 | 27000/32580 batches | loss    1.328 \n"
          ]
        },
        {
          "output_type": "stream",
          "name": "stderr",
          "text": [
            "27007it [11:21, 30.85it/s]"
          ]
        },
        {
          "output_type": "stream",
          "name": "stdout",
          "text": [
            "money: able, forced, much, it, fact, man, well, so, taken, them\n",
            "lion: behavior, former, lives, battle, africa, spain, seen, provided, addition, charge\n",
            "africa: america, europe, india, west, end, germany, east, nine, france, addition\n",
            "musician: actor, actress, singer, writer, author, nine, variety, poet, introduction, able\n",
            "dance: music, largest, addition, lack, forms, order, science, culture, one, jazz\n",
            "\n",
            "\n"
          ]
        },
        {
          "output_type": "stream",
          "name": "stderr",
          "text": [
            "27498it [11:34, 35.18it/s]"
          ]
        },
        {
          "output_type": "stream",
          "name": "stdout",
          "text": [
            "| epoch   9 | 27500/32580 batches | loss    1.333 \n"
          ]
        },
        {
          "output_type": "stream",
          "name": "stderr",
          "text": [
            "27506it [11:34, 20.55it/s]"
          ]
        },
        {
          "output_type": "stream",
          "name": "stdout",
          "text": [
            "money: able, forced, much, it, fact, man, well, so, taken, them\n",
            "lion: behavior, former, lives, battle, africa, spain, seen, provided, addition, charge\n",
            "africa: america, europe, india, west, end, germany, east, nine, france, addition\n",
            "musician: actor, actress, singer, writer, author, nine, variety, poet, introduction, able\n",
            "dance: music, largest, addition, lack, forms, order, science, culture, one, jazz\n",
            "\n",
            "\n"
          ]
        },
        {
          "output_type": "stream",
          "name": "stderr",
          "text": [
            "27997it [11:47, 38.84it/s]"
          ]
        },
        {
          "output_type": "stream",
          "name": "stdout",
          "text": [
            "| epoch   9 | 28000/32580 batches | loss    1.332 \n"
          ]
        },
        {
          "output_type": "stream",
          "name": "stderr",
          "text": [
            "28004it [11:48, 21.12it/s]"
          ]
        },
        {
          "output_type": "stream",
          "name": "stdout",
          "text": [
            "money: able, forced, much, it, fact, man, well, so, taken, them\n",
            "lion: behavior, former, lives, battle, africa, spain, seen, provided, addition, charge\n",
            "africa: america, europe, india, west, end, germany, east, nine, france, addition\n",
            "musician: actor, actress, singer, writer, author, nine, variety, poet, introduction, able\n",
            "dance: music, largest, addition, lack, forms, order, science, culture, one, jazz\n",
            "\n",
            "\n"
          ]
        },
        {
          "output_type": "stream",
          "name": "stderr",
          "text": [
            "28496it [12:00, 48.08it/s]"
          ]
        },
        {
          "output_type": "stream",
          "name": "stdout",
          "text": [
            "| epoch   9 | 28500/32580 batches | loss    1.326 \n"
          ]
        },
        {
          "output_type": "stream",
          "name": "stderr",
          "text": [
            "28505it [12:01, 28.71it/s]"
          ]
        },
        {
          "output_type": "stream",
          "name": "stdout",
          "text": [
            "money: able, forced, much, it, fact, man, well, so, taken, them\n",
            "lion: behavior, former, lives, battle, africa, spain, seen, provided, addition, charge\n",
            "africa: america, europe, india, west, end, germany, east, nine, france, addition\n",
            "musician: actor, actress, singer, writer, author, nine, variety, poet, introduction, able\n",
            "dance: music, largest, addition, lack, forms, order, science, culture, one, jazz\n",
            "\n",
            "\n"
          ]
        },
        {
          "output_type": "stream",
          "name": "stderr",
          "text": [
            "29000it [12:13, 36.68it/s]"
          ]
        },
        {
          "output_type": "stream",
          "name": "stdout",
          "text": [
            "| epoch   9 | 29000/32580 batches | loss    1.332 \n"
          ]
        },
        {
          "output_type": "stream",
          "name": "stderr",
          "text": [
            "\r29004it [12:13, 18.72it/s]"
          ]
        },
        {
          "output_type": "stream",
          "name": "stdout",
          "text": [
            "money: able, forced, much, it, fact, man, well, so, taken, them\n",
            "lion: behavior, former, lives, battle, africa, spain, seen, provided, addition, charge\n",
            "africa: america, europe, india, west, end, germany, east, nine, france, addition\n",
            "musician: actor, actress, singer, writer, author, nine, variety, poet, introduction, able\n",
            "dance: music, largest, addition, lack, forms, order, science, culture, one, jazz\n",
            "\n",
            "\n"
          ]
        },
        {
          "output_type": "stream",
          "name": "stderr",
          "text": [
            "29500it [12:24, 46.70it/s]"
          ]
        },
        {
          "output_type": "stream",
          "name": "stdout",
          "text": [
            "| epoch   9 | 29500/32580 batches | loss    1.327 \n"
          ]
        },
        {
          "output_type": "stream",
          "name": "stderr",
          "text": [
            "\r29505it [12:25, 24.99it/s]"
          ]
        },
        {
          "output_type": "stream",
          "name": "stdout",
          "text": [
            "money: able, forced, much, it, fact, man, well, so, taken, them\n",
            "lion: behavior, former, lives, battle, africa, spain, seen, provided, addition, charge\n",
            "africa: america, europe, india, west, end, germany, east, nine, france, addition\n",
            "musician: actor, actress, singer, writer, author, nine, variety, poet, introduction, able\n",
            "dance: music, largest, addition, lack, forms, order, science, culture, one, jazz\n",
            "\n",
            "\n"
          ]
        },
        {
          "output_type": "stream",
          "name": "stderr",
          "text": [
            "30000it [12:38, 48.29it/s]"
          ]
        },
        {
          "output_type": "stream",
          "name": "stdout",
          "text": [
            "| epoch   9 | 30000/32580 batches | loss    1.329 \n"
          ]
        },
        {
          "output_type": "stream",
          "name": "stderr",
          "text": [
            "\r30005it [12:38, 27.21it/s]"
          ]
        },
        {
          "output_type": "stream",
          "name": "stdout",
          "text": [
            "money: able, forced, much, it, fact, man, well, so, taken, them\n",
            "lion: behavior, former, lives, battle, africa, spain, seen, provided, addition, charge\n",
            "africa: america, europe, india, west, end, germany, east, nine, france, addition\n",
            "musician: actor, actress, singer, writer, author, nine, variety, poet, introduction, able\n",
            "dance: music, largest, addition, lack, forms, order, science, culture, one, jazz\n",
            "\n",
            "\n"
          ]
        },
        {
          "output_type": "stream",
          "name": "stderr",
          "text": [
            "30499it [12:49, 34.82it/s]"
          ]
        },
        {
          "output_type": "stream",
          "name": "stdout",
          "text": [
            "| epoch   9 | 30500/32580 batches | loss    1.330 \n"
          ]
        },
        {
          "output_type": "stream",
          "name": "stderr",
          "text": [
            "\r30503it [12:50, 17.11it/s]"
          ]
        },
        {
          "output_type": "stream",
          "name": "stdout",
          "text": [
            "money: able, forced, much, it, fact, man, well, so, taken, them\n",
            "lion: behavior, former, lives, battle, africa, spain, seen, provided, addition, charge\n",
            "africa: america, europe, india, west, end, germany, east, nine, france, addition\n",
            "musician: actor, actress, singer, writer, author, nine, variety, poet, introduction, able\n",
            "dance: music, largest, addition, lack, forms, order, science, culture, one, jazz\n",
            "\n",
            "\n"
          ]
        },
        {
          "output_type": "stream",
          "name": "stderr",
          "text": [
            "30998it [13:01, 48.05it/s]"
          ]
        },
        {
          "output_type": "stream",
          "name": "stdout",
          "text": [
            "| epoch   9 | 31000/32580 batches | loss    1.329 \n"
          ]
        },
        {
          "output_type": "stream",
          "name": "stderr",
          "text": [
            "31008it [13:02, 31.56it/s]"
          ]
        },
        {
          "output_type": "stream",
          "name": "stdout",
          "text": [
            "money: able, forced, much, it, fact, man, well, so, taken, them\n",
            "lion: behavior, former, lives, battle, africa, spain, seen, provided, addition, charge\n",
            "africa: america, europe, india, west, end, germany, east, nine, france, addition\n",
            "musician: actor, actress, singer, writer, author, nine, variety, poet, introduction, able\n",
            "dance: music, largest, addition, lack, forms, order, science, culture, one, jazz\n",
            "\n",
            "\n"
          ]
        },
        {
          "output_type": "stream",
          "name": "stderr",
          "text": [
            "31498it [13:15, 44.66it/s]"
          ]
        },
        {
          "output_type": "stream",
          "name": "stdout",
          "text": [
            "| epoch   9 | 31500/32580 batches | loss    1.331 \n"
          ]
        },
        {
          "output_type": "stream",
          "name": "stderr",
          "text": [
            "31508it [13:15, 30.09it/s]"
          ]
        },
        {
          "output_type": "stream",
          "name": "stdout",
          "text": [
            "money: able, forced, much, it, fact, man, well, so, taken, them\n",
            "lion: behavior, former, lives, battle, africa, spain, seen, provided, addition, charge\n",
            "africa: america, europe, india, west, end, germany, east, nine, france, addition\n",
            "musician: actor, actress, singer, writer, author, nine, variety, poet, introduction, able\n",
            "dance: music, largest, addition, lack, forms, order, science, culture, one, jazz\n",
            "\n",
            "\n"
          ]
        },
        {
          "output_type": "stream",
          "name": "stderr",
          "text": [
            "32000it [13:26, 35.69it/s]"
          ]
        },
        {
          "output_type": "stream",
          "name": "stdout",
          "text": [
            "| epoch   9 | 32000/32580 batches | loss    1.334 \n"
          ]
        },
        {
          "output_type": "stream",
          "name": "stderr",
          "text": [
            "\r32004it [13:27, 18.65it/s]"
          ]
        },
        {
          "output_type": "stream",
          "name": "stdout",
          "text": [
            "money: able, forced, much, it, fact, man, well, so, taken, them\n",
            "lion: behavior, former, lives, battle, africa, spain, seen, provided, addition, charge\n",
            "africa: america, europe, india, west, end, germany, east, nine, france, addition\n",
            "musician: actor, actress, singer, writer, author, nine, variety, poet, introduction, able\n",
            "dance: music, largest, addition, lack, forms, order, science, culture, one, jazz\n",
            "\n",
            "\n"
          ]
        },
        {
          "output_type": "stream",
          "name": "stderr",
          "text": [
            "32497it [13:39, 47.27it/s]"
          ]
        },
        {
          "output_type": "stream",
          "name": "stdout",
          "text": [
            "| epoch   9 | 32500/32580 batches | loss    1.331 \n"
          ]
        },
        {
          "output_type": "stream",
          "name": "stderr",
          "text": [
            "32506it [13:39, 28.78it/s]"
          ]
        },
        {
          "output_type": "stream",
          "name": "stdout",
          "text": [
            "money: able, forced, much, it, fact, man, well, so, taken, them\n",
            "lion: behavior, former, lives, battle, africa, spain, seen, provided, addition, charge\n",
            "africa: america, europe, india, west, end, germany, east, nine, france, addition\n",
            "musician: actor, actress, singer, writer, author, nine, variety, poet, introduction, able\n",
            "dance: music, largest, addition, lack, forms, order, science, culture, one, jazz\n",
            "\n",
            "\n"
          ]
        },
        {
          "output_type": "stream",
          "name": "stderr",
          "text": [
            "32580it [13:43, 39.56it/s]\n",
            "0it [00:00, ?it/s]"
          ]
        },
        {
          "output_type": "stream",
          "name": "stdout",
          "text": [
            "| epoch  10 |     0/32580 batches | loss    1.318 \n"
          ]
        },
        {
          "output_type": "stream",
          "name": "stderr",
          "text": [
            "4it [00:02,  1.85it/s]"
          ]
        },
        {
          "output_type": "stream",
          "name": "stdout",
          "text": [
            "money: able, forced, much, it, fact, man, well, so, taken, them\n",
            "lion: behavior, former, lives, battle, africa, spain, seen, provided, addition, charge\n",
            "africa: america, europe, india, west, end, germany, east, nine, france, addition\n",
            "musician: actor, actress, singer, writer, author, nine, variety, poet, introduction, able\n",
            "dance: music, largest, addition, lack, forms, order, science, culture, one, jazz\n",
            "\n",
            "\n"
          ]
        },
        {
          "output_type": "stream",
          "name": "stderr",
          "text": [
            "500it [00:15, 46.91it/s]"
          ]
        },
        {
          "output_type": "stream",
          "name": "stdout",
          "text": [
            "| epoch  10 |   500/32580 batches | loss    1.329 \n"
          ]
        },
        {
          "output_type": "stream",
          "name": "stderr",
          "text": [
            "\r505it [00:15, 26.66it/s]"
          ]
        },
        {
          "output_type": "stream",
          "name": "stdout",
          "text": [
            "money: able, forced, much, it, fact, man, well, so, taken, them\n",
            "lion: behavior, former, lives, battle, africa, spain, seen, provided, addition, charge\n",
            "africa: america, europe, india, west, end, germany, east, nine, france, addition\n",
            "musician: actor, actress, singer, writer, author, nine, variety, poet, introduction, able\n",
            "dance: music, largest, addition, lack, forms, order, science, culture, one, jazz\n",
            "\n",
            "\n"
          ]
        },
        {
          "output_type": "stream",
          "name": "stderr",
          "text": [
            "1000it [00:28, 31.83it/s]"
          ]
        },
        {
          "output_type": "stream",
          "name": "stdout",
          "text": [
            "| epoch  10 |  1000/32580 batches | loss    1.334 \n"
          ]
        },
        {
          "output_type": "stream",
          "name": "stderr",
          "text": [
            "\r1004it [00:29, 15.38it/s]"
          ]
        },
        {
          "output_type": "stream",
          "name": "stdout",
          "text": [
            "money: able, forced, much, it, fact, man, well, so, taken, them\n",
            "lion: behavior, former, lives, battle, africa, spain, seen, provided, addition, charge\n",
            "africa: america, europe, india, west, end, germany, east, nine, france, addition\n",
            "musician: actor, actress, singer, writer, author, nine, variety, poet, introduction, able\n",
            "dance: music, largest, addition, lack, forms, order, science, culture, one, jazz\n",
            "\n",
            "\n"
          ]
        },
        {
          "output_type": "stream",
          "name": "stderr",
          "text": [
            "1496it [00:42, 48.43it/s]"
          ]
        },
        {
          "output_type": "stream",
          "name": "stdout",
          "text": [
            "| epoch  10 |  1500/32580 batches | loss    1.333 \n"
          ]
        },
        {
          "output_type": "stream",
          "name": "stderr",
          "text": [
            "1505it [00:43, 28.88it/s]"
          ]
        },
        {
          "output_type": "stream",
          "name": "stdout",
          "text": [
            "money: able, forced, much, it, fact, man, well, so, taken, them\n",
            "lion: behavior, former, lives, battle, africa, spain, seen, provided, addition, charge\n",
            "africa: america, europe, india, west, end, germany, east, nine, france, addition\n",
            "musician: actor, actress, singer, writer, author, nine, variety, poet, introduction, able\n",
            "dance: music, largest, addition, lack, forms, order, science, culture, one, jazz\n",
            "\n",
            "\n"
          ]
        },
        {
          "output_type": "stream",
          "name": "stderr",
          "text": [
            "1997it [00:58, 32.85it/s]"
          ]
        },
        {
          "output_type": "stream",
          "name": "stdout",
          "text": [
            "| epoch  10 |  2000/32580 batches | loss    1.329 \n"
          ]
        },
        {
          "output_type": "stream",
          "name": "stderr",
          "text": [
            "2006it [00:59, 24.82it/s]"
          ]
        },
        {
          "output_type": "stream",
          "name": "stdout",
          "text": [
            "money: able, forced, much, it, fact, man, well, so, taken, them\n",
            "lion: behavior, former, lives, battle, africa, spain, seen, provided, addition, charge\n",
            "africa: america, europe, india, west, end, germany, east, nine, france, addition\n",
            "musician: actor, actress, singer, writer, author, nine, variety, poet, introduction, able\n",
            "dance: music, largest, addition, lack, forms, order, science, culture, one, jazz\n",
            "\n",
            "\n"
          ]
        },
        {
          "output_type": "stream",
          "name": "stderr",
          "text": [
            "2500it [01:10, 33.49it/s]"
          ]
        },
        {
          "output_type": "stream",
          "name": "stdout",
          "text": [
            "| epoch  10 |  2500/32580 batches | loss    1.335 \n"
          ]
        },
        {
          "output_type": "stream",
          "name": "stderr",
          "text": [
            "\r2504it [01:11, 17.11it/s]"
          ]
        },
        {
          "output_type": "stream",
          "name": "stdout",
          "text": [
            "money: able, forced, much, it, fact, man, well, so, taken, them\n",
            "lion: behavior, former, lives, battle, africa, spain, seen, provided, addition, charge\n",
            "africa: america, europe, india, west, end, germany, east, nine, france, addition\n",
            "musician: actor, actress, singer, writer, author, nine, variety, poet, introduction, able\n",
            "dance: music, largest, addition, lack, forms, order, science, culture, one, jazz\n",
            "\n",
            "\n"
          ]
        },
        {
          "output_type": "stream",
          "name": "stderr",
          "text": [
            "3000it [01:23, 47.68it/s]"
          ]
        },
        {
          "output_type": "stream",
          "name": "stdout",
          "text": [
            "| epoch  10 |  3000/32580 batches | loss    1.327 \n"
          ]
        },
        {
          "output_type": "stream",
          "name": "stderr",
          "text": [
            "\r3005it [01:23, 26.78it/s]"
          ]
        },
        {
          "output_type": "stream",
          "name": "stdout",
          "text": [
            "money: able, forced, much, it, fact, man, well, so, taken, them\n",
            "lion: behavior, former, lives, battle, africa, spain, seen, provided, addition, charge\n",
            "africa: america, europe, india, west, end, germany, east, nine, france, addition\n",
            "musician: actor, actress, singer, writer, author, nine, variety, poet, introduction, able\n",
            "dance: music, largest, addition, lack, forms, order, science, culture, one, jazz\n",
            "\n",
            "\n"
          ]
        },
        {
          "output_type": "stream",
          "name": "stderr",
          "text": [
            "3499it [01:36, 44.83it/s]"
          ]
        },
        {
          "output_type": "stream",
          "name": "stdout",
          "text": [
            "| epoch  10 |  3500/32580 batches | loss    1.329 \n"
          ]
        },
        {
          "output_type": "stream",
          "name": "stderr",
          "text": [
            "3509it [01:36, 30.39it/s]"
          ]
        },
        {
          "output_type": "stream",
          "name": "stdout",
          "text": [
            "money: able, forced, much, it, fact, man, well, so, taken, them\n",
            "lion: behavior, former, lives, battle, africa, spain, seen, provided, addition, charge\n",
            "africa: america, europe, india, west, end, germany, east, nine, france, addition\n",
            "musician: actor, actress, singer, writer, author, nine, variety, poet, introduction, able\n",
            "dance: music, largest, addition, lack, forms, order, science, culture, one, jazz\n",
            "\n",
            "\n"
          ]
        },
        {
          "output_type": "stream",
          "name": "stderr",
          "text": [
            "3998it [01:47, 40.47it/s]"
          ]
        },
        {
          "output_type": "stream",
          "name": "stdout",
          "text": [
            "| epoch  10 |  4000/32580 batches | loss    1.335 \n"
          ]
        },
        {
          "output_type": "stream",
          "name": "stderr",
          "text": [
            "4007it [01:47, 23.75it/s]"
          ]
        },
        {
          "output_type": "stream",
          "name": "stdout",
          "text": [
            "money: able, forced, much, it, fact, man, well, so, taken, them\n",
            "lion: behavior, former, lives, battle, africa, spain, seen, provided, addition, charge\n",
            "africa: america, europe, india, west, end, germany, east, nine, france, addition\n",
            "musician: actor, actress, singer, writer, author, nine, variety, poet, introduction, able\n",
            "dance: music, largest, addition, lack, forms, order, science, culture, one, jazz\n",
            "\n",
            "\n"
          ]
        },
        {
          "output_type": "stream",
          "name": "stderr",
          "text": [
            "4496it [02:00, 47.46it/s]"
          ]
        },
        {
          "output_type": "stream",
          "name": "stdout",
          "text": [
            "| epoch  10 |  4500/32580 batches | loss    1.334 \n"
          ]
        },
        {
          "output_type": "stream",
          "name": "stderr",
          "text": [
            "4505it [02:00, 29.88it/s]"
          ]
        },
        {
          "output_type": "stream",
          "name": "stdout",
          "text": [
            "money: able, forced, much, it, fact, man, well, so, taken, them\n",
            "lion: behavior, former, lives, battle, africa, spain, seen, provided, addition, charge\n",
            "africa: america, europe, india, west, end, germany, east, nine, france, addition\n",
            "musician: actor, actress, singer, writer, author, nine, variety, poet, introduction, able\n",
            "dance: music, largest, addition, lack, forms, order, science, culture, one, jazz\n",
            "\n",
            "\n"
          ]
        },
        {
          "output_type": "stream",
          "name": "stderr",
          "text": [
            "4998it [02:12, 36.02it/s]"
          ]
        },
        {
          "output_type": "stream",
          "name": "stdout",
          "text": [
            "| epoch  10 |  5000/32580 batches | loss    1.329 \n"
          ]
        },
        {
          "output_type": "stream",
          "name": "stderr",
          "text": [
            "5005it [02:13, 19.73it/s]"
          ]
        },
        {
          "output_type": "stream",
          "name": "stdout",
          "text": [
            "money: able, forced, much, it, fact, man, well, so, taken, them\n",
            "lion: behavior, former, lives, battle, africa, spain, seen, provided, addition, charge\n",
            "africa: america, europe, india, west, end, germany, east, nine, france, addition\n",
            "musician: actor, actress, singer, writer, author, nine, variety, poet, introduction, able\n",
            "dance: music, largest, addition, lack, forms, order, science, culture, one, jazz\n",
            "\n",
            "\n"
          ]
        },
        {
          "output_type": "stream",
          "name": "stderr",
          "text": [
            "5500it [02:24, 47.37it/s]"
          ]
        },
        {
          "output_type": "stream",
          "name": "stdout",
          "text": [
            "| epoch  10 |  5500/32580 batches | loss    1.329 \n"
          ]
        },
        {
          "output_type": "stream",
          "name": "stderr",
          "text": [
            "\r5505it [02:24, 27.01it/s]"
          ]
        },
        {
          "output_type": "stream",
          "name": "stdout",
          "text": [
            "money: able, forced, much, it, fact, man, well, so, taken, them\n",
            "lion: behavior, former, lives, battle, africa, spain, seen, provided, addition, charge\n",
            "africa: america, europe, india, west, end, germany, east, nine, france, addition\n",
            "musician: actor, actress, singer, writer, author, nine, variety, poet, introduction, able\n",
            "dance: music, largest, addition, lack, forms, order, science, culture, one, jazz\n",
            "\n",
            "\n"
          ]
        },
        {
          "output_type": "stream",
          "name": "stderr",
          "text": [
            "5999it [02:37, 47.89it/s]"
          ]
        },
        {
          "output_type": "stream",
          "name": "stdout",
          "text": [
            "| epoch  10 |  6000/32580 batches | loss    1.331 \n"
          ]
        },
        {
          "output_type": "stream",
          "name": "stderr",
          "text": [
            "6009it [02:37, 31.84it/s]"
          ]
        },
        {
          "output_type": "stream",
          "name": "stdout",
          "text": [
            "money: able, forced, much, it, fact, man, well, so, taken, them\n",
            "lion: behavior, former, lives, battle, africa, spain, seen, provided, addition, charge\n",
            "africa: america, europe, india, west, end, germany, east, nine, france, addition\n",
            "musician: actor, actress, singer, writer, author, nine, variety, poet, introduction, able\n",
            "dance: music, largest, addition, lack, forms, order, science, culture, one, jazz\n",
            "\n",
            "\n"
          ]
        },
        {
          "output_type": "stream",
          "name": "stderr",
          "text": [
            "6499it [02:48, 35.20it/s]"
          ]
        },
        {
          "output_type": "stream",
          "name": "stdout",
          "text": [
            "| epoch  10 |  6500/32580 batches | loss    1.329 \n"
          ]
        },
        {
          "output_type": "stream",
          "name": "stderr",
          "text": [
            "6507it [02:49, 19.75it/s]"
          ]
        },
        {
          "output_type": "stream",
          "name": "stdout",
          "text": [
            "money: able, forced, much, it, fact, man, well, so, taken, them\n",
            "lion: behavior, former, lives, battle, africa, spain, seen, provided, addition, charge\n",
            "africa: america, europe, india, west, end, germany, east, nine, france, addition\n",
            "musician: actor, actress, singer, writer, author, nine, variety, poet, introduction, able\n",
            "dance: music, largest, addition, lack, forms, order, science, culture, one, jazz\n",
            "\n",
            "\n"
          ]
        },
        {
          "output_type": "stream",
          "name": "stderr",
          "text": [
            "6997it [03:02, 35.07it/s]"
          ]
        },
        {
          "output_type": "stream",
          "name": "stdout",
          "text": [
            "| epoch  10 |  7000/32580 batches | loss    1.332 \n"
          ]
        },
        {
          "output_type": "stream",
          "name": "stderr",
          "text": [
            "7004it [03:03, 18.94it/s]"
          ]
        },
        {
          "output_type": "stream",
          "name": "stdout",
          "text": [
            "money: able, forced, much, it, fact, man, well, so, taken, them\n",
            "lion: behavior, former, lives, battle, africa, spain, seen, provided, addition, charge\n",
            "africa: america, europe, india, west, end, germany, east, nine, france, addition\n",
            "musician: actor, actress, singer, writer, author, nine, variety, poet, introduction, able\n",
            "dance: music, largest, addition, lack, forms, order, science, culture, one, jazz\n",
            "\n",
            "\n"
          ]
        },
        {
          "output_type": "stream",
          "name": "stderr",
          "text": [
            "7498it [03:17, 36.47it/s]"
          ]
        },
        {
          "output_type": "stream",
          "name": "stdout",
          "text": [
            "| epoch  10 |  7500/32580 batches | loss    1.333 \n"
          ]
        },
        {
          "output_type": "stream",
          "name": "stderr",
          "text": [
            "7507it [03:18, 23.39it/s]"
          ]
        },
        {
          "output_type": "stream",
          "name": "stdout",
          "text": [
            "money: able, forced, much, it, fact, man, well, so, taken, them\n",
            "lion: behavior, former, lives, battle, africa, spain, seen, provided, addition, charge\n",
            "africa: america, europe, india, west, end, germany, east, nine, france, addition\n",
            "musician: actor, actress, singer, writer, author, nine, variety, poet, introduction, able\n",
            "dance: music, largest, addition, lack, forms, order, science, culture, one, jazz\n",
            "\n",
            "\n"
          ]
        },
        {
          "output_type": "stream",
          "name": "stderr",
          "text": [
            "7998it [03:28, 38.24it/s]"
          ]
        },
        {
          "output_type": "stream",
          "name": "stdout",
          "text": [
            "| epoch  10 |  8000/32580 batches | loss    1.332 \n"
          ]
        },
        {
          "output_type": "stream",
          "name": "stderr",
          "text": [
            "8006it [03:29, 24.20it/s]"
          ]
        },
        {
          "output_type": "stream",
          "name": "stdout",
          "text": [
            "money: able, forced, much, it, fact, man, well, so, taken, them\n",
            "lion: behavior, former, lives, battle, africa, spain, seen, provided, addition, charge\n",
            "africa: america, europe, india, west, end, germany, east, nine, france, addition\n",
            "musician: actor, actress, singer, writer, author, nine, variety, poet, introduction, able\n",
            "dance: music, largest, addition, lack, forms, order, science, culture, one, jazz\n",
            "\n",
            "\n"
          ]
        },
        {
          "output_type": "stream",
          "name": "stderr",
          "text": [
            "8497it [03:41, 48.80it/s]"
          ]
        },
        {
          "output_type": "stream",
          "name": "stdout",
          "text": [
            "| epoch  10 |  8500/32580 batches | loss    1.329 \n"
          ]
        },
        {
          "output_type": "stream",
          "name": "stderr",
          "text": [
            "8507it [03:42, 31.25it/s]"
          ]
        },
        {
          "output_type": "stream",
          "name": "stdout",
          "text": [
            "money: able, forced, much, it, fact, man, well, so, taken, them\n",
            "lion: behavior, former, lives, battle, africa, spain, seen, provided, addition, charge\n",
            "africa: america, europe, india, west, end, germany, east, nine, france, addition\n",
            "musician: actor, actress, singer, writer, author, nine, variety, poet, introduction, able\n",
            "dance: music, largest, addition, lack, forms, order, science, culture, one, jazz\n",
            "\n",
            "\n"
          ]
        },
        {
          "output_type": "stream",
          "name": "stderr",
          "text": [
            "9000it [03:53, 37.03it/s]"
          ]
        },
        {
          "output_type": "stream",
          "name": "stdout",
          "text": [
            "| epoch  10 |  9000/32580 batches | loss    1.332 \n"
          ]
        },
        {
          "output_type": "stream",
          "name": "stderr",
          "text": [
            "\r9004it [03:54, 17.80it/s]"
          ]
        },
        {
          "output_type": "stream",
          "name": "stdout",
          "text": [
            "money: able, forced, much, it, fact, man, well, so, taken, them\n",
            "lion: behavior, former, lives, battle, africa, spain, seen, provided, addition, charge\n",
            "africa: america, europe, india, west, end, germany, east, nine, france, addition\n",
            "musician: actor, actress, singer, writer, author, nine, variety, poet, introduction, able\n",
            "dance: music, largest, addition, lack, forms, order, science, culture, one, jazz\n",
            "\n",
            "\n"
          ]
        },
        {
          "output_type": "stream",
          "name": "stderr",
          "text": [
            "9499it [04:05, 47.95it/s]"
          ]
        },
        {
          "output_type": "stream",
          "name": "stdout",
          "text": [
            "| epoch  10 |  9500/32580 batches | loss    1.334 \n"
          ]
        },
        {
          "output_type": "stream",
          "name": "stderr",
          "text": [
            "9509it [04:06, 31.20it/s]"
          ]
        },
        {
          "output_type": "stream",
          "name": "stdout",
          "text": [
            "money: able, forced, much, it, fact, man, well, so, taken, them\n",
            "lion: behavior, former, lives, battle, africa, spain, seen, provided, addition, charge\n",
            "africa: america, europe, india, west, end, germany, east, nine, france, addition\n",
            "musician: actor, actress, singer, writer, author, nine, variety, poet, introduction, able\n",
            "dance: music, largest, addition, lack, forms, order, science, culture, one, jazz\n",
            "\n",
            "\n"
          ]
        },
        {
          "output_type": "stream",
          "name": "stderr",
          "text": [
            "9996it [04:19, 36.78it/s]"
          ]
        },
        {
          "output_type": "stream",
          "name": "stdout",
          "text": [
            "| epoch  10 | 10000/32580 batches | loss    1.330 \n"
          ]
        },
        {
          "output_type": "stream",
          "name": "stderr",
          "text": [
            "10006it [04:19, 27.39it/s]"
          ]
        },
        {
          "output_type": "stream",
          "name": "stdout",
          "text": [
            "money: able, forced, much, it, fact, man, well, so, taken, them\n",
            "lion: behavior, former, lives, battle, africa, spain, seen, provided, addition, charge\n",
            "africa: america, europe, india, west, end, germany, east, nine, france, addition\n",
            "musician: actor, actress, singer, writer, author, nine, variety, poet, introduction, able\n",
            "dance: music, largest, addition, lack, forms, order, science, culture, one, jazz\n",
            "\n",
            "\n"
          ]
        },
        {
          "output_type": "stream",
          "name": "stderr",
          "text": [
            "10498it [04:30, 40.09it/s]"
          ]
        },
        {
          "output_type": "stream",
          "name": "stdout",
          "text": [
            "| epoch  10 | 10500/32580 batches | loss    1.326 \n"
          ]
        },
        {
          "output_type": "stream",
          "name": "stderr",
          "text": [
            "10507it [04:30, 23.72it/s]"
          ]
        },
        {
          "output_type": "stream",
          "name": "stdout",
          "text": [
            "money: able, forced, much, it, fact, man, well, so, taken, them\n",
            "lion: behavior, former, lives, battle, africa, spain, seen, provided, addition, charge\n",
            "africa: america, europe, india, west, end, germany, east, nine, france, addition\n",
            "musician: actor, actress, singer, writer, author, nine, variety, poet, introduction, able\n",
            "dance: music, largest, addition, lack, forms, order, science, culture, one, jazz\n",
            "\n",
            "\n"
          ]
        },
        {
          "output_type": "stream",
          "name": "stderr",
          "text": [
            "10997it [04:43, 47.69it/s]"
          ]
        },
        {
          "output_type": "stream",
          "name": "stdout",
          "text": [
            "| epoch  10 | 11000/32580 batches | loss    1.335 \n"
          ]
        },
        {
          "output_type": "stream",
          "name": "stderr",
          "text": [
            "11007it [04:43, 30.74it/s]"
          ]
        },
        {
          "output_type": "stream",
          "name": "stdout",
          "text": [
            "money: able, forced, much, it, fact, man, well, so, taken, them\n",
            "lion: behavior, former, lives, battle, africa, spain, seen, provided, addition, charge\n",
            "africa: america, europe, india, west, end, germany, east, nine, france, addition\n",
            "musician: actor, actress, singer, writer, author, nine, variety, poet, introduction, able\n",
            "dance: music, largest, addition, lack, forms, order, science, culture, one, jazz\n",
            "\n",
            "\n"
          ]
        },
        {
          "output_type": "stream",
          "name": "stderr",
          "text": [
            "11497it [04:55, 36.11it/s]"
          ]
        },
        {
          "output_type": "stream",
          "name": "stdout",
          "text": [
            "| epoch  10 | 11500/32580 batches | loss    1.327 \n"
          ]
        },
        {
          "output_type": "stream",
          "name": "stderr",
          "text": [
            "11504it [04:56, 19.69it/s]"
          ]
        },
        {
          "output_type": "stream",
          "name": "stdout",
          "text": [
            "money: able, forced, much, it, fact, man, well, so, taken, them\n",
            "lion: behavior, former, lives, battle, africa, spain, seen, provided, addition, charge\n",
            "africa: america, europe, india, west, end, germany, east, nine, france, addition\n",
            "musician: actor, actress, singer, writer, author, nine, variety, poet, introduction, able\n",
            "dance: music, largest, addition, lack, forms, order, science, culture, one, jazz\n",
            "\n",
            "\n"
          ]
        },
        {
          "output_type": "stream",
          "name": "stderr",
          "text": [
            "11998it [05:07, 45.25it/s]"
          ]
        },
        {
          "output_type": "stream",
          "name": "stdout",
          "text": [
            "| epoch  10 | 12000/32580 batches | loss    1.328 \n"
          ]
        },
        {
          "output_type": "stream",
          "name": "stderr",
          "text": [
            "12008it [05:07, 30.58it/s]"
          ]
        },
        {
          "output_type": "stream",
          "name": "stdout",
          "text": [
            "money: able, forced, much, it, fact, man, well, so, taken, them\n",
            "lion: behavior, former, lives, battle, africa, spain, seen, provided, addition, charge\n",
            "africa: america, europe, india, west, end, germany, east, nine, france, addition\n",
            "musician: actor, actress, singer, writer, author, nine, variety, poet, introduction, able\n",
            "dance: music, largest, addition, lack, forms, order, science, culture, one, jazz\n",
            "\n",
            "\n"
          ]
        },
        {
          "output_type": "stream",
          "name": "stderr",
          "text": [
            "12496it [05:20, 48.06it/s]"
          ]
        },
        {
          "output_type": "stream",
          "name": "stdout",
          "text": [
            "| epoch  10 | 12500/32580 batches | loss    1.329 \n"
          ]
        },
        {
          "output_type": "stream",
          "name": "stderr",
          "text": [
            "12505it [05:20, 29.49it/s]"
          ]
        },
        {
          "output_type": "stream",
          "name": "stdout",
          "text": [
            "money: able, forced, much, it, fact, man, well, so, taken, them\n",
            "lion: behavior, former, lives, battle, africa, spain, seen, provided, addition, charge\n",
            "africa: america, europe, india, west, end, germany, east, nine, france, addition\n",
            "musician: actor, actress, singer, writer, author, nine, variety, poet, introduction, able\n",
            "dance: music, largest, addition, lack, forms, order, science, culture, one, jazz\n",
            "\n",
            "\n"
          ]
        },
        {
          "output_type": "stream",
          "name": "stderr",
          "text": [
            "13000it [05:32, 33.83it/s]"
          ]
        },
        {
          "output_type": "stream",
          "name": "stdout",
          "text": [
            "| epoch  10 | 13000/32580 batches | loss    1.332 \n"
          ]
        },
        {
          "output_type": "stream",
          "name": "stderr",
          "text": [
            "\r13004it [05:32, 16.04it/s]"
          ]
        },
        {
          "output_type": "stream",
          "name": "stdout",
          "text": [
            "money: able, forced, much, it, fact, man, well, so, taken, them\n",
            "lion: behavior, former, lives, battle, africa, spain, seen, provided, addition, charge\n",
            "africa: america, europe, india, west, end, germany, east, nine, france, addition\n",
            "musician: actor, actress, singer, writer, author, nine, variety, poet, introduction, able\n",
            "dance: music, largest, addition, lack, forms, order, science, culture, one, jazz\n",
            "\n",
            "\n"
          ]
        },
        {
          "output_type": "stream",
          "name": "stderr",
          "text": [
            "13500it [05:47, 43.79it/s]"
          ]
        },
        {
          "output_type": "stream",
          "name": "stdout",
          "text": [
            "| epoch  10 | 13500/32580 batches | loss    1.331 \n"
          ]
        },
        {
          "output_type": "stream",
          "name": "stderr",
          "text": [
            "13510it [05:48, 29.73it/s]"
          ]
        },
        {
          "output_type": "stream",
          "name": "stdout",
          "text": [
            "money: able, forced, much, it, fact, man, well, so, taken, them\n",
            "lion: behavior, former, lives, battle, africa, spain, seen, provided, addition, charge\n",
            "africa: america, europe, india, west, end, germany, east, nine, france, addition\n",
            "musician: actor, actress, singer, writer, author, nine, variety, poet, introduction, able\n",
            "dance: music, largest, addition, lack, forms, order, science, culture, one, jazz\n",
            "\n",
            "\n"
          ]
        },
        {
          "output_type": "stream",
          "name": "stderr",
          "text": [
            "13997it [05:59, 36.06it/s]"
          ]
        },
        {
          "output_type": "stream",
          "name": "stdout",
          "text": [
            "| epoch  10 | 14000/32580 batches | loss    1.329 \n"
          ]
        },
        {
          "output_type": "stream",
          "name": "stderr",
          "text": [
            "14004it [06:00, 19.59it/s]"
          ]
        },
        {
          "output_type": "stream",
          "name": "stdout",
          "text": [
            "money: able, forced, much, it, fact, man, well, so, taken, them\n",
            "lion: behavior, former, lives, battle, africa, spain, seen, provided, addition, charge\n",
            "africa: america, europe, india, west, end, germany, east, nine, france, addition\n",
            "musician: actor, actress, singer, writer, author, nine, variety, poet, introduction, able\n",
            "dance: music, largest, addition, lack, forms, order, science, culture, one, jazz\n",
            "\n",
            "\n"
          ]
        },
        {
          "output_type": "stream",
          "name": "stderr",
          "text": [
            "14496it [06:12, 47.37it/s]"
          ]
        },
        {
          "output_type": "stream",
          "name": "stdout",
          "text": [
            "| epoch  10 | 14500/32580 batches | loss    1.339 \n"
          ]
        },
        {
          "output_type": "stream",
          "name": "stderr",
          "text": [
            "14505it [06:12, 29.15it/s]"
          ]
        },
        {
          "output_type": "stream",
          "name": "stdout",
          "text": [
            "money: able, forced, much, it, fact, man, well, so, taken, them\n",
            "lion: behavior, former, lives, battle, africa, spain, seen, provided, addition, charge\n",
            "africa: america, europe, india, west, end, germany, east, nine, france, addition\n",
            "musician: actor, actress, singer, writer, author, nine, variety, poet, introduction, able\n",
            "dance: music, largest, addition, lack, forms, order, science, culture, one, jazz\n",
            "\n",
            "\n"
          ]
        },
        {
          "output_type": "stream",
          "name": "stderr",
          "text": [
            "15000it [06:28, 46.67it/s]"
          ]
        },
        {
          "output_type": "stream",
          "name": "stdout",
          "text": [
            "| epoch  10 | 15000/32580 batches | loss    1.331 \n"
          ]
        },
        {
          "output_type": "stream",
          "name": "stderr",
          "text": [
            "\r15005it [06:28, 25.30it/s]"
          ]
        },
        {
          "output_type": "stream",
          "name": "stdout",
          "text": [
            "money: able, forced, much, it, fact, man, well, so, taken, them\n",
            "lion: behavior, former, lives, battle, africa, spain, seen, provided, addition, charge\n",
            "africa: america, europe, india, west, end, germany, east, nine, france, addition\n",
            "musician: actor, actress, singer, writer, author, nine, variety, poet, introduction, able\n",
            "dance: music, largest, addition, lack, forms, order, science, culture, one, jazz\n",
            "\n",
            "\n"
          ]
        },
        {
          "output_type": "stream",
          "name": "stderr",
          "text": [
            "15497it [06:40, 35.83it/s]"
          ]
        },
        {
          "output_type": "stream",
          "name": "stdout",
          "text": [
            "| epoch  10 | 15500/32580 batches | loss    1.328 \n"
          ]
        },
        {
          "output_type": "stream",
          "name": "stderr",
          "text": [
            "15504it [06:40, 19.67it/s]"
          ]
        },
        {
          "output_type": "stream",
          "name": "stdout",
          "text": [
            "money: able, forced, much, it, fact, man, well, so, taken, them\n",
            "lion: behavior, former, lives, battle, africa, spain, seen, provided, addition, charge\n",
            "africa: america, europe, india, west, end, germany, east, nine, france, addition\n",
            "musician: actor, actress, singer, writer, author, nine, variety, poet, introduction, able\n",
            "dance: music, largest, addition, lack, forms, order, science, culture, one, jazz\n",
            "\n",
            "\n"
          ]
        },
        {
          "output_type": "stream",
          "name": "stderr",
          "text": [
            "15998it [06:52, 47.95it/s]"
          ]
        },
        {
          "output_type": "stream",
          "name": "stdout",
          "text": [
            "| epoch  10 | 16000/32580 batches | loss    1.333 \n"
          ]
        },
        {
          "output_type": "stream",
          "name": "stderr",
          "text": [
            "16008it [06:52, 31.93it/s]"
          ]
        },
        {
          "output_type": "stream",
          "name": "stdout",
          "text": [
            "money: able, forced, much, it, fact, man, well, so, taken, them\n",
            "lion: behavior, former, lives, battle, africa, spain, seen, provided, addition, charge\n",
            "africa: america, europe, india, west, end, germany, east, nine, france, addition\n",
            "musician: actor, actress, singer, writer, author, nine, variety, poet, introduction, able\n",
            "dance: music, largest, addition, lack, forms, order, science, culture, one, jazz\n",
            "\n",
            "\n"
          ]
        },
        {
          "output_type": "stream",
          "name": "stderr",
          "text": [
            "16499it [07:05, 43.66it/s]"
          ]
        },
        {
          "output_type": "stream",
          "name": "stdout",
          "text": [
            "| epoch  10 | 16500/32580 batches | loss    1.331 \n"
          ]
        },
        {
          "output_type": "stream",
          "name": "stderr",
          "text": [
            "16509it [07:06, 30.05it/s]"
          ]
        },
        {
          "output_type": "stream",
          "name": "stdout",
          "text": [
            "money: able, forced, much, it, fact, man, well, so, taken, them\n",
            "lion: behavior, former, lives, battle, africa, spain, seen, provided, addition, charge\n",
            "africa: america, europe, india, west, end, germany, east, nine, france, addition\n",
            "musician: actor, actress, singer, writer, author, nine, variety, poet, introduction, able\n",
            "dance: music, largest, addition, lack, forms, order, science, culture, one, jazz\n",
            "\n",
            "\n"
          ]
        },
        {
          "output_type": "stream",
          "name": "stderr",
          "text": [
            "16998it [07:16, 39.88it/s]"
          ]
        },
        {
          "output_type": "stream",
          "name": "stdout",
          "text": [
            "| epoch  10 | 17000/32580 batches | loss    1.333 \n"
          ]
        },
        {
          "output_type": "stream",
          "name": "stderr",
          "text": [
            "17006it [07:17, 23.40it/s]"
          ]
        },
        {
          "output_type": "stream",
          "name": "stdout",
          "text": [
            "money: able, forced, much, it, fact, man, well, so, taken, them\n",
            "lion: behavior, former, lives, battle, africa, spain, seen, provided, addition, charge\n",
            "africa: america, europe, india, west, end, germany, east, nine, france, addition\n",
            "musician: actor, actress, singer, writer, author, nine, variety, poet, introduction, able\n",
            "dance: music, largest, addition, lack, forms, order, science, culture, one, jazz\n",
            "\n",
            "\n"
          ]
        },
        {
          "output_type": "stream",
          "name": "stderr",
          "text": [
            "17498it [07:29, 37.00it/s]"
          ]
        },
        {
          "output_type": "stream",
          "name": "stdout",
          "text": [
            "| epoch  10 | 17500/32580 batches | loss    1.330 \n"
          ]
        },
        {
          "output_type": "stream",
          "name": "stderr",
          "text": [
            "17506it [07:30, 21.85it/s]"
          ]
        },
        {
          "output_type": "stream",
          "name": "stdout",
          "text": [
            "money: able, forced, much, it, fact, man, well, so, taken, them\n",
            "lion: behavior, former, lives, battle, africa, spain, seen, provided, addition, charge\n",
            "africa: america, europe, india, west, end, germany, east, nine, france, addition\n",
            "musician: actor, actress, singer, writer, author, nine, variety, poet, introduction, able\n",
            "dance: music, largest, addition, lack, forms, order, science, culture, one, jazz\n",
            "\n",
            "\n"
          ]
        },
        {
          "output_type": "stream",
          "name": "stderr",
          "text": [
            "17999it [07:44, 35.59it/s]"
          ]
        },
        {
          "output_type": "stream",
          "name": "stdout",
          "text": [
            "| epoch  10 | 18000/32580 batches | loss    1.334 \n"
          ]
        },
        {
          "output_type": "stream",
          "name": "stderr",
          "text": [
            "\r18003it [07:44, 17.01it/s]"
          ]
        },
        {
          "output_type": "stream",
          "name": "stdout",
          "text": [
            "money: able, forced, much, it, fact, man, well, so, taken, them\n",
            "lion: behavior, former, lives, battle, africa, spain, seen, provided, addition, charge\n",
            "africa: america, europe, india, west, end, germany, east, nine, france, addition\n",
            "musician: actor, actress, singer, writer, author, nine, variety, poet, introduction, able\n",
            "dance: music, largest, addition, lack, forms, order, science, culture, one, jazz\n",
            "\n",
            "\n"
          ]
        },
        {
          "output_type": "stream",
          "name": "stderr",
          "text": [
            "18497it [07:56, 46.91it/s]"
          ]
        },
        {
          "output_type": "stream",
          "name": "stdout",
          "text": [
            "| epoch  10 | 18500/32580 batches | loss    1.330 \n"
          ]
        },
        {
          "output_type": "stream",
          "name": "stderr",
          "text": [
            "18507it [07:56, 31.44it/s]"
          ]
        },
        {
          "output_type": "stream",
          "name": "stdout",
          "text": [
            "money: able, forced, much, it, fact, man, well, so, taken, them\n",
            "lion: behavior, former, lives, battle, africa, spain, seen, provided, addition, charge\n",
            "africa: america, europe, india, west, end, germany, east, nine, france, addition\n",
            "musician: actor, actress, singer, writer, author, nine, variety, poet, introduction, able\n",
            "dance: music, largest, addition, lack, forms, order, science, culture, one, jazz\n",
            "\n",
            "\n"
          ]
        },
        {
          "output_type": "stream",
          "name": "stderr",
          "text": [
            "18998it [08:09, 46.28it/s]"
          ]
        },
        {
          "output_type": "stream",
          "name": "stdout",
          "text": [
            "| epoch  10 | 19000/32580 batches | loss    1.328 \n"
          ]
        },
        {
          "output_type": "stream",
          "name": "stderr",
          "text": [
            "19008it [08:09, 30.37it/s]"
          ]
        },
        {
          "output_type": "stream",
          "name": "stdout",
          "text": [
            "money: able, forced, much, it, fact, man, well, so, taken, them\n",
            "lion: behavior, former, lives, battle, africa, spain, seen, provided, addition, charge\n",
            "africa: america, europe, india, west, end, germany, east, nine, france, addition\n",
            "musician: actor, actress, singer, writer, author, nine, variety, poet, introduction, able\n",
            "dance: music, largest, addition, lack, forms, order, science, culture, one, jazz\n",
            "\n",
            "\n"
          ]
        },
        {
          "output_type": "stream",
          "name": "stderr",
          "text": [
            "19498it [08:20, 36.24it/s]"
          ]
        },
        {
          "output_type": "stream",
          "name": "stdout",
          "text": [
            "| epoch  10 | 19500/32580 batches | loss    1.331 \n"
          ]
        },
        {
          "output_type": "stream",
          "name": "stderr",
          "text": [
            "19505it [08:21, 18.81it/s]"
          ]
        },
        {
          "output_type": "stream",
          "name": "stdout",
          "text": [
            "money: able, forced, much, it, fact, man, well, so, taken, them\n",
            "lion: behavior, former, lives, battle, africa, spain, seen, provided, addition, charge\n",
            "africa: america, europe, india, west, end, germany, east, nine, france, addition\n",
            "musician: actor, actress, singer, writer, author, nine, variety, poet, introduction, able\n",
            "dance: music, largest, addition, lack, forms, order, science, culture, one, jazz\n",
            "\n",
            "\n"
          ]
        },
        {
          "output_type": "stream",
          "name": "stderr",
          "text": [
            "20000it [08:33, 47.72it/s]"
          ]
        },
        {
          "output_type": "stream",
          "name": "stdout",
          "text": [
            "| epoch  10 | 20000/32580 batches | loss    1.332 \n"
          ]
        },
        {
          "output_type": "stream",
          "name": "stderr",
          "text": [
            "\r20005it [08:34, 27.02it/s]"
          ]
        },
        {
          "output_type": "stream",
          "name": "stdout",
          "text": [
            "money: able, forced, much, it, fact, man, well, so, taken, them\n",
            "lion: behavior, former, lives, battle, africa, spain, seen, provided, addition, charge\n",
            "africa: america, europe, india, west, end, germany, east, nine, france, addition\n",
            "musician: actor, actress, singer, writer, author, nine, variety, poet, introduction, able\n",
            "dance: music, largest, addition, lack, forms, order, science, culture, one, jazz\n",
            "\n",
            "\n"
          ]
        },
        {
          "output_type": "stream",
          "name": "stderr",
          "text": [
            "20497it [08:46, 33.35it/s]"
          ]
        },
        {
          "output_type": "stream",
          "name": "stdout",
          "text": [
            "| epoch  10 | 20500/32580 batches | loss    1.329 \n"
          ]
        },
        {
          "output_type": "stream",
          "name": "stderr",
          "text": [
            "20505it [08:47, 20.07it/s]"
          ]
        },
        {
          "output_type": "stream",
          "name": "stdout",
          "text": [
            "money: able, forced, much, it, fact, man, well, so, taken, them\n",
            "lion: behavior, former, lives, battle, africa, spain, seen, provided, addition, charge\n",
            "africa: america, europe, india, west, end, germany, east, nine, france, addition\n",
            "musician: actor, actress, singer, writer, author, nine, variety, poet, introduction, able\n",
            "dance: music, largest, addition, lack, forms, order, science, culture, one, jazz\n",
            "\n",
            "\n"
          ]
        },
        {
          "output_type": "stream",
          "name": "stderr",
          "text": [
            "20997it [08:58, 47.11it/s]"
          ]
        },
        {
          "output_type": "stream",
          "name": "stdout",
          "text": [
            "| epoch  10 | 21000/32580 batches | loss    1.330 \n"
          ]
        },
        {
          "output_type": "stream",
          "name": "stderr",
          "text": [
            "21006it [08:58, 29.34it/s]"
          ]
        },
        {
          "output_type": "stream",
          "name": "stdout",
          "text": [
            "money: able, forced, much, it, fact, man, well, so, taken, them\n",
            "lion: behavior, former, lives, battle, africa, spain, seen, provided, addition, charge\n",
            "africa: america, europe, india, west, end, germany, east, nine, france, addition\n",
            "musician: actor, actress, singer, writer, author, nine, variety, poet, introduction, able\n",
            "dance: music, largest, addition, lack, forms, order, science, culture, one, jazz\n",
            "\n",
            "\n"
          ]
        },
        {
          "output_type": "stream",
          "name": "stderr",
          "text": [
            "21497it [09:11, 47.91it/s]"
          ]
        },
        {
          "output_type": "stream",
          "name": "stdout",
          "text": [
            "| epoch  10 | 21500/32580 batches | loss    1.330 \n"
          ]
        },
        {
          "output_type": "stream",
          "name": "stderr",
          "text": [
            "21506it [09:11, 29.70it/s]"
          ]
        },
        {
          "output_type": "stream",
          "name": "stdout",
          "text": [
            "money: able, forced, much, it, fact, man, well, so, taken, them\n",
            "lion: behavior, former, lives, battle, africa, spain, seen, provided, addition, charge\n",
            "africa: america, europe, india, west, end, germany, east, nine, france, addition\n",
            "musician: actor, actress, singer, writer, author, nine, variety, poet, introduction, able\n",
            "dance: music, largest, addition, lack, forms, order, science, culture, one, jazz\n",
            "\n",
            "\n"
          ]
        },
        {
          "output_type": "stream",
          "name": "stderr",
          "text": [
            "21998it [09:23, 33.56it/s]"
          ]
        },
        {
          "output_type": "stream",
          "name": "stdout",
          "text": [
            "| epoch  10 | 22000/32580 batches | loss    1.333 \n"
          ]
        },
        {
          "output_type": "stream",
          "name": "stderr",
          "text": [
            "22006it [09:24, 19.88it/s]"
          ]
        },
        {
          "output_type": "stream",
          "name": "stdout",
          "text": [
            "money: able, forced, much, it, fact, man, well, so, taken, them\n",
            "lion: behavior, former, lives, battle, africa, spain, seen, provided, addition, charge\n",
            "africa: america, europe, india, west, end, germany, east, nine, france, addition\n",
            "musician: actor, actress, singer, writer, author, nine, variety, poet, introduction, able\n",
            "dance: music, largest, addition, lack, forms, order, science, culture, one, jazz\n",
            "\n",
            "\n"
          ]
        },
        {
          "output_type": "stream",
          "name": "stderr",
          "text": [
            "22498it [09:35, 48.02it/s]"
          ]
        },
        {
          "output_type": "stream",
          "name": "stdout",
          "text": [
            "| epoch  10 | 22500/32580 batches | loss    1.332 \n"
          ]
        },
        {
          "output_type": "stream",
          "name": "stderr",
          "text": [
            "22508it [09:36, 30.20it/s]"
          ]
        },
        {
          "output_type": "stream",
          "name": "stdout",
          "text": [
            "money: able, forced, much, it, fact, man, well, so, taken, them\n",
            "lion: behavior, former, lives, battle, africa, spain, seen, provided, addition, charge\n",
            "africa: america, europe, india, west, end, germany, east, nine, france, addition\n",
            "musician: actor, actress, singer, writer, author, nine, variety, poet, introduction, able\n",
            "dance: music, largest, addition, lack, forms, order, science, culture, one, jazz\n",
            "\n",
            "\n"
          ]
        },
        {
          "output_type": "stream",
          "name": "stderr",
          "text": [
            "22997it [09:48, 41.91it/s]"
          ]
        },
        {
          "output_type": "stream",
          "name": "stdout",
          "text": [
            "| epoch  10 | 23000/32580 batches | loss    1.334 \n"
          ]
        },
        {
          "output_type": "stream",
          "name": "stderr",
          "text": [
            "23007it [09:49, 29.23it/s]"
          ]
        },
        {
          "output_type": "stream",
          "name": "stdout",
          "text": [
            "money: able, forced, much, it, fact, man, well, so, taken, them\n",
            "lion: behavior, former, lives, battle, africa, spain, seen, provided, addition, charge\n",
            "africa: america, europe, india, west, end, germany, east, nine, france, addition\n",
            "musician: actor, actress, singer, writer, author, nine, variety, poet, introduction, able\n",
            "dance: music, largest, addition, lack, forms, order, science, culture, one, jazz\n",
            "\n",
            "\n"
          ]
        },
        {
          "output_type": "stream",
          "name": "stderr",
          "text": [
            "23500it [10:00, 32.52it/s]"
          ]
        },
        {
          "output_type": "stream",
          "name": "stdout",
          "text": [
            "| epoch  10 | 23500/32580 batches | loss    1.329 \n"
          ]
        },
        {
          "output_type": "stream",
          "name": "stderr",
          "text": [
            "\r23504it [10:00, 16.85it/s]"
          ]
        },
        {
          "output_type": "stream",
          "name": "stdout",
          "text": [
            "money: able, forced, much, it, fact, man, well, so, taken, them\n",
            "lion: behavior, former, lives, battle, africa, spain, seen, provided, addition, charge\n",
            "africa: america, europe, india, west, end, germany, east, nine, france, addition\n",
            "musician: actor, actress, singer, writer, author, nine, variety, poet, introduction, able\n",
            "dance: music, largest, addition, lack, forms, order, science, culture, one, jazz\n",
            "\n",
            "\n"
          ]
        },
        {
          "output_type": "stream",
          "name": "stderr",
          "text": [
            "24000it [10:16, 41.67it/s]"
          ]
        },
        {
          "output_type": "stream",
          "name": "stdout",
          "text": [
            "| epoch  10 | 24000/32580 batches | loss    1.331 \n"
          ]
        },
        {
          "output_type": "stream",
          "name": "stderr",
          "text": [
            "\r24005it [10:16, 25.47it/s]"
          ]
        },
        {
          "output_type": "stream",
          "name": "stdout",
          "text": [
            "money: able, forced, much, it, fact, man, well, so, taken, them\n",
            "lion: behavior, former, lives, battle, africa, spain, seen, provided, addition, charge\n",
            "africa: america, europe, india, west, end, germany, east, nine, france, addition\n",
            "musician: actor, actress, singer, writer, author, nine, variety, poet, introduction, able\n",
            "dance: music, largest, addition, lack, forms, order, science, culture, one, jazz\n",
            "\n",
            "\n"
          ]
        },
        {
          "output_type": "stream",
          "name": "stderr",
          "text": [
            "24497it [10:28, 36.38it/s]"
          ]
        },
        {
          "output_type": "stream",
          "name": "stdout",
          "text": [
            "| epoch  10 | 24500/32580 batches | loss    1.330 \n"
          ]
        },
        {
          "output_type": "stream",
          "name": "stderr",
          "text": [
            "24504it [10:28, 20.04it/s]"
          ]
        },
        {
          "output_type": "stream",
          "name": "stdout",
          "text": [
            "money: able, forced, much, it, fact, man, well, so, taken, them\n",
            "lion: behavior, former, lives, battle, africa, spain, seen, provided, addition, charge\n",
            "africa: america, europe, india, west, end, germany, east, nine, france, addition\n",
            "musician: actor, actress, singer, writer, author, nine, variety, poet, introduction, able\n",
            "dance: music, largest, addition, lack, forms, order, science, culture, one, jazz\n",
            "\n",
            "\n"
          ]
        },
        {
          "output_type": "stream",
          "name": "stderr",
          "text": [
            "24998it [10:40, 48.65it/s]"
          ]
        },
        {
          "output_type": "stream",
          "name": "stdout",
          "text": [
            "| epoch  10 | 25000/32580 batches | loss    1.335 \n"
          ]
        },
        {
          "output_type": "stream",
          "name": "stderr",
          "text": [
            "25008it [10:41, 31.03it/s]"
          ]
        },
        {
          "output_type": "stream",
          "name": "stdout",
          "text": [
            "money: able, forced, much, it, fact, man, well, so, taken, them\n",
            "lion: behavior, former, lives, battle, africa, spain, seen, provided, addition, charge\n",
            "africa: america, europe, india, west, end, germany, east, nine, france, addition\n",
            "musician: actor, actress, singer, writer, author, nine, variety, poet, introduction, able\n",
            "dance: music, largest, addition, lack, forms, order, science, culture, one, jazz\n",
            "\n",
            "\n"
          ]
        },
        {
          "output_type": "stream",
          "name": "stderr",
          "text": [
            "25500it [10:53, 36.48it/s]"
          ]
        },
        {
          "output_type": "stream",
          "name": "stdout",
          "text": [
            "| epoch  10 | 25500/32580 batches | loss    1.329 \n"
          ]
        },
        {
          "output_type": "stream",
          "name": "stderr",
          "text": [
            "\r25504it [10:54, 17.11it/s]"
          ]
        },
        {
          "output_type": "stream",
          "name": "stdout",
          "text": [
            "money: able, forced, much, it, fact, man, well, so, taken, them\n",
            "lion: behavior, former, lives, battle, africa, spain, seen, provided, addition, charge\n",
            "africa: america, europe, india, west, end, germany, east, nine, france, addition\n",
            "musician: actor, actress, singer, writer, author, nine, variety, poet, introduction, able\n",
            "dance: music, largest, addition, lack, forms, order, science, culture, one, jazz\n",
            "\n",
            "\n"
          ]
        },
        {
          "output_type": "stream",
          "name": "stderr",
          "text": [
            "26000it [11:04, 47.93it/s]"
          ]
        },
        {
          "output_type": "stream",
          "name": "stdout",
          "text": [
            "| epoch  10 | 26000/32580 batches | loss    1.330 \n"
          ]
        },
        {
          "output_type": "stream",
          "name": "stderr",
          "text": [
            "\r26005it [11:05, 26.15it/s]"
          ]
        },
        {
          "output_type": "stream",
          "name": "stdout",
          "text": [
            "money: able, forced, much, it, fact, man, well, so, taken, them\n",
            "lion: behavior, former, lives, battle, africa, spain, seen, provided, addition, charge\n",
            "africa: america, europe, india, west, end, germany, east, nine, france, addition\n",
            "musician: actor, actress, singer, writer, author, nine, variety, poet, introduction, able\n",
            "dance: music, largest, addition, lack, forms, order, science, culture, one, jazz\n",
            "\n",
            "\n"
          ]
        },
        {
          "output_type": "stream",
          "name": "stderr",
          "text": [
            "26499it [11:18, 46.79it/s]"
          ]
        },
        {
          "output_type": "stream",
          "name": "stdout",
          "text": [
            "| epoch  10 | 26500/32580 batches | loss    1.329 \n"
          ]
        },
        {
          "output_type": "stream",
          "name": "stderr",
          "text": [
            "26509it [11:18, 31.16it/s]"
          ]
        },
        {
          "output_type": "stream",
          "name": "stdout",
          "text": [
            "money: able, forced, much, it, fact, man, well, so, taken, them\n",
            "lion: behavior, former, lives, battle, africa, spain, seen, provided, addition, charge\n",
            "africa: america, europe, india, west, end, germany, east, nine, france, addition\n",
            "musician: actor, actress, singer, writer, author, nine, variety, poet, introduction, able\n",
            "dance: music, largest, addition, lack, forms, order, science, culture, one, jazz\n",
            "\n",
            "\n"
          ]
        },
        {
          "output_type": "stream",
          "name": "stderr",
          "text": [
            "26997it [11:30, 36.37it/s]"
          ]
        },
        {
          "output_type": "stream",
          "name": "stdout",
          "text": [
            "| epoch  10 | 27000/32580 batches | loss    1.332 \n"
          ]
        },
        {
          "output_type": "stream",
          "name": "stderr",
          "text": [
            "27004it [11:30, 19.38it/s]"
          ]
        },
        {
          "output_type": "stream",
          "name": "stdout",
          "text": [
            "money: able, forced, much, it, fact, man, well, so, taken, them\n",
            "lion: behavior, former, lives, battle, africa, spain, seen, provided, addition, charge\n",
            "africa: america, europe, india, west, end, germany, east, nine, france, addition\n",
            "musician: actor, actress, singer, writer, author, nine, variety, poet, introduction, able\n",
            "dance: music, largest, addition, lack, forms, order, science, culture, one, jazz\n",
            "\n",
            "\n"
          ]
        },
        {
          "output_type": "stream",
          "name": "stderr",
          "text": [
            "27496it [11:42, 47.39it/s]"
          ]
        },
        {
          "output_type": "stream",
          "name": "stdout",
          "text": [
            "| epoch  10 | 27500/32580 batches | loss    1.333 \n"
          ]
        },
        {
          "output_type": "stream",
          "name": "stderr",
          "text": [
            "27505it [11:42, 30.48it/s]"
          ]
        },
        {
          "output_type": "stream",
          "name": "stdout",
          "text": [
            "money: able, forced, much, it, fact, man, well, so, taken, them\n",
            "lion: behavior, former, lives, battle, africa, spain, seen, provided, addition, charge\n",
            "africa: america, europe, india, west, end, germany, east, nine, france, addition\n",
            "musician: actor, actress, singer, writer, author, nine, variety, poet, introduction, able\n",
            "dance: music, largest, addition, lack, forms, order, science, culture, one, jazz\n",
            "\n",
            "\n"
          ]
        },
        {
          "output_type": "stream",
          "name": "stderr",
          "text": [
            "27999it [11:55, 45.71it/s]"
          ]
        },
        {
          "output_type": "stream",
          "name": "stdout",
          "text": [
            "| epoch  10 | 28000/32580 batches | loss    1.330 \n"
          ]
        },
        {
          "output_type": "stream",
          "name": "stderr",
          "text": [
            "28009it [11:56, 30.90it/s]"
          ]
        },
        {
          "output_type": "stream",
          "name": "stdout",
          "text": [
            "money: able, forced, much, it, fact, man, well, so, taken, them\n",
            "lion: behavior, former, lives, battle, africa, spain, seen, provided, addition, charge\n",
            "africa: america, europe, india, west, end, germany, east, nine, france, addition\n",
            "musician: actor, actress, singer, writer, author, nine, variety, poet, introduction, able\n",
            "dance: music, largest, addition, lack, forms, order, science, culture, one, jazz\n",
            "\n",
            "\n"
          ]
        },
        {
          "output_type": "stream",
          "name": "stderr",
          "text": [
            "28497it [12:06, 35.63it/s]"
          ]
        },
        {
          "output_type": "stream",
          "name": "stdout",
          "text": [
            "| epoch  10 | 28500/32580 batches | loss    1.330 \n"
          ]
        },
        {
          "output_type": "stream",
          "name": "stderr",
          "text": [
            "28504it [12:07, 19.23it/s]"
          ]
        },
        {
          "output_type": "stream",
          "name": "stdout",
          "text": [
            "money: able, forced, much, it, fact, man, well, so, taken, them\n",
            "lion: behavior, former, lives, battle, africa, spain, seen, provided, addition, charge\n",
            "africa: america, europe, india, west, end, germany, east, nine, france, addition\n",
            "musician: actor, actress, singer, writer, author, nine, variety, poet, introduction, able\n",
            "dance: music, largest, addition, lack, forms, order, science, culture, one, jazz\n",
            "\n",
            "\n"
          ]
        },
        {
          "output_type": "stream",
          "name": "stderr",
          "text": [
            "28996it [12:19, 46.06it/s]"
          ]
        },
        {
          "output_type": "stream",
          "name": "stdout",
          "text": [
            "| epoch  10 | 29000/32580 batches | loss    1.327 \n"
          ]
        },
        {
          "output_type": "stream",
          "name": "stderr",
          "text": [
            "29005it [12:20, 29.46it/s]"
          ]
        },
        {
          "output_type": "stream",
          "name": "stdout",
          "text": [
            "money: able, forced, much, it, fact, man, well, so, taken, them\n",
            "lion: behavior, former, lives, battle, africa, spain, seen, provided, addition, charge\n",
            "africa: america, europe, india, west, end, germany, east, nine, france, addition\n",
            "musician: actor, actress, singer, writer, author, nine, variety, poet, introduction, able\n",
            "dance: music, largest, addition, lack, forms, order, science, culture, one, jazz\n",
            "\n",
            "\n"
          ]
        },
        {
          "output_type": "stream",
          "name": "stderr",
          "text": [
            "29499it [12:32, 32.86it/s]"
          ]
        },
        {
          "output_type": "stream",
          "name": "stdout",
          "text": [
            "| epoch  10 | 29500/32580 batches | loss    1.333 \n"
          ]
        },
        {
          "output_type": "stream",
          "name": "stderr",
          "text": [
            "\r29503it [12:33, 15.82it/s]"
          ]
        },
        {
          "output_type": "stream",
          "name": "stdout",
          "text": [
            "money: able, forced, much, it, fact, man, well, so, taken, them\n",
            "lion: behavior, former, lives, battle, africa, spain, seen, provided, addition, charge\n",
            "africa: america, europe, india, west, end, germany, east, nine, france, addition\n",
            "musician: actor, actress, singer, writer, author, nine, variety, poet, introduction, able\n",
            "dance: music, largest, addition, lack, forms, order, science, culture, one, jazz\n",
            "\n",
            "\n"
          ]
        },
        {
          "output_type": "stream",
          "name": "stderr",
          "text": [
            "29999it [12:46, 41.41it/s]"
          ]
        },
        {
          "output_type": "stream",
          "name": "stdout",
          "text": [
            "| epoch  10 | 30000/32580 batches | loss    1.333 \n"
          ]
        },
        {
          "output_type": "stream",
          "name": "stderr",
          "text": [
            "\r30004it [12:47, 21.61it/s]"
          ]
        },
        {
          "output_type": "stream",
          "name": "stdout",
          "text": [
            "money: able, forced, much, it, fact, man, well, so, taken, them\n",
            "lion: behavior, former, lives, battle, africa, spain, seen, provided, addition, charge\n",
            "africa: america, europe, india, west, end, germany, east, nine, france, addition\n",
            "musician: actor, actress, singer, writer, author, nine, variety, poet, introduction, able\n",
            "dance: music, largest, addition, lack, forms, order, science, culture, one, jazz\n",
            "\n",
            "\n"
          ]
        },
        {
          "output_type": "stream",
          "name": "stderr",
          "text": [
            "30496it [12:59, 47.70it/s]"
          ]
        },
        {
          "output_type": "stream",
          "name": "stdout",
          "text": [
            "| epoch  10 | 30500/32580 batches | loss    1.331 \n"
          ]
        },
        {
          "output_type": "stream",
          "name": "stderr",
          "text": [
            "30505it [13:00, 29.37it/s]"
          ]
        },
        {
          "output_type": "stream",
          "name": "stdout",
          "text": [
            "money: able, forced, much, it, fact, man, well, so, taken, them\n",
            "lion: behavior, former, lives, battle, africa, spain, seen, provided, addition, charge\n",
            "africa: america, europe, india, west, end, germany, east, nine, france, addition\n",
            "musician: actor, actress, singer, writer, author, nine, variety, poet, introduction, able\n",
            "dance: music, largest, addition, lack, forms, order, science, culture, one, jazz\n",
            "\n",
            "\n"
          ]
        },
        {
          "output_type": "stream",
          "name": "stderr",
          "text": [
            "30999it [13:12, 33.72it/s]"
          ]
        },
        {
          "output_type": "stream",
          "name": "stdout",
          "text": [
            "| epoch  10 | 31000/32580 batches | loss    1.331 \n"
          ]
        },
        {
          "output_type": "stream",
          "name": "stderr",
          "text": [
            "31006it [13:12, 18.82it/s]"
          ]
        },
        {
          "output_type": "stream",
          "name": "stdout",
          "text": [
            "money: able, forced, much, it, fact, man, well, so, taken, them\n",
            "lion: behavior, former, lives, battle, africa, spain, seen, provided, addition, charge\n",
            "africa: america, europe, india, west, end, germany, east, nine, france, addition\n",
            "musician: actor, actress, singer, writer, author, nine, variety, poet, introduction, able\n",
            "dance: music, largest, addition, lack, forms, order, science, culture, one, jazz\n",
            "\n",
            "\n"
          ]
        },
        {
          "output_type": "stream",
          "name": "stderr",
          "text": [
            "31500it [13:23, 48.61it/s]"
          ]
        },
        {
          "output_type": "stream",
          "name": "stdout",
          "text": [
            "| epoch  10 | 31500/32580 batches | loss    1.333 \n"
          ]
        },
        {
          "output_type": "stream",
          "name": "stderr",
          "text": [
            "31510it [13:24, 31.16it/s]"
          ]
        },
        {
          "output_type": "stream",
          "name": "stdout",
          "text": [
            "money: able, forced, much, it, fact, man, well, so, taken, them\n",
            "lion: behavior, former, lives, battle, africa, spain, seen, provided, addition, charge\n",
            "africa: america, europe, india, west, end, germany, east, nine, france, addition\n",
            "musician: actor, actress, singer, writer, author, nine, variety, poet, introduction, able\n",
            "dance: music, largest, addition, lack, forms, order, science, culture, one, jazz\n",
            "\n",
            "\n"
          ]
        },
        {
          "output_type": "stream",
          "name": "stderr",
          "text": [
            "31997it [13:37, 46.71it/s]"
          ]
        },
        {
          "output_type": "stream",
          "name": "stdout",
          "text": [
            "| epoch  10 | 32000/32580 batches | loss    1.330 \n"
          ]
        },
        {
          "output_type": "stream",
          "name": "stderr",
          "text": [
            "32006it [13:37, 30.25it/s]"
          ]
        },
        {
          "output_type": "stream",
          "name": "stdout",
          "text": [
            "money: able, forced, much, it, fact, man, well, so, taken, them\n",
            "lion: behavior, former, lives, battle, africa, spain, seen, provided, addition, charge\n",
            "africa: america, europe, india, west, end, germany, east, nine, france, addition\n",
            "musician: actor, actress, singer, writer, author, nine, variety, poet, introduction, able\n",
            "dance: music, largest, addition, lack, forms, order, science, culture, one, jazz\n",
            "\n",
            "\n"
          ]
        },
        {
          "output_type": "stream",
          "name": "stderr",
          "text": [
            "32498it [13:48, 35.22it/s]"
          ]
        },
        {
          "output_type": "stream",
          "name": "stdout",
          "text": [
            "| epoch  10 | 32500/32580 batches | loss    1.334 \n"
          ]
        },
        {
          "output_type": "stream",
          "name": "stderr",
          "text": [
            "32506it [13:49, 20.90it/s]"
          ]
        },
        {
          "output_type": "stream",
          "name": "stdout",
          "text": [
            "money: able, forced, much, it, fact, man, well, so, taken, them\n",
            "lion: behavior, former, lives, battle, africa, spain, seen, provided, addition, charge\n",
            "africa: america, europe, india, west, end, germany, east, nine, france, addition\n",
            "musician: actor, actress, singer, writer, author, nine, variety, poet, introduction, able\n",
            "dance: music, largest, addition, lack, forms, order, science, culture, one, jazz\n",
            "\n",
            "\n"
          ]
        },
        {
          "output_type": "stream",
          "name": "stderr",
          "text": [
            "32580it [13:54, 39.03it/s]\n"
          ]
        }
      ],
      "source": [
        "for epoch in range(1, NUM_EPOCHS + 1):\n",
        "    epoch_start_time = time.time()\n",
        "\n",
        "    train(train_dl, model, optimizer, epoch)\n",
        "    # We have a learning rate scheduler here\n",
        "\n",
        "    # Basically, given the state of the optimizer, this lowers the learning rate in a smart way\n",
        "    scheduler.step()"
      ]
    },
    {
      "cell_type": "code",
      "execution_count": null,
      "id": "b0227888",
      "metadata": {
        "id": "b0227888"
      },
      "outputs": [],
      "source": []
    }
  ],
  "metadata": {
    "colab": {
      "provenance": [],
      "gpuType": "T4"
    },
    "kernelspec": {
      "display_name": "Python 3",
      "name": "python3"
    },
    "language_info": {
      "codemirror_mode": {
        "name": "ipython",
        "version": 3
      },
      "file_extension": ".py",
      "mimetype": "text/x-python",
      "name": "python",
      "nbconvert_exporter": "python",
      "pygments_lexer": "ipython3",
      "version": "3.8.15"
    },
    "accelerator": "GPU"
  },
  "nbformat": 4,
  "nbformat_minor": 5
}